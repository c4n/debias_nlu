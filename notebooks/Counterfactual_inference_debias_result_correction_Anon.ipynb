{
 "cells": [
  {
   "cell_type": "code",
   "execution_count": 1,
   "id": "0bf3e0f0",
   "metadata": {},
   "outputs": [],
   "source": [
    "import sys\n",
    "# setting path\n",
    "sys.path.append('../counterfactual')\n",
    "\n",
    "import cma\n",
    "import cma_clean\n",
    "import cma\n",
    "import glob\n",
    "import numpy as np\n",
    "import os\n",
    "import fuse, causal_utils\n",
    "from causal_utils import get_heur, print_results\n",
    "from ASD import ASD\n",
    "import pickle"
   ]
  },
  {
   "cell_type": "code",
   "execution_count": 2,
   "id": "0c94c4a2",
   "metadata": {
    "scrolled": true
   },
   "outputs": [],
   "source": [
    "# Load data (deserialize)\n",
    "method_figs = ['Baseline','Reweighting','PoE','Conf-Reg']\n",
    "methods = ['baseline','reweight','poe','distill']\n",
    "test_sets = ['mnli_dev_mm','mnli_hans','qqp_dev', 'qqp_paws']\n",
    "headers = [['Method', 'MNLI-dev-mm']]\n"
   ]
  },
  {
   "cell_type": "code",
   "execution_count": 3,
   "id": "aad71679",
   "metadata": {},
   "outputs": [],
   "source": [
    "\n",
    "factual_acc = {}\n",
    "tie_acc = {}\n",
    "te_model_acc = {}\n",
    "\n",
    "for method in methods:\n",
    "\n",
    "    factual_acc[method] = {}\n",
    "    tie_acc[method]  = {}\n",
    "    te_model_acc[method] = {}\n",
    "\n",
    "    for test_set in test_sets:\n",
    "\n",
    "        factual_acc[method][test_set]  = None\n",
    "        tie_acc[method][test_set]  =  None\n",
    "        te_model_acc[method][test_set] = None"
   ]
  },
  {
   "cell_type": "markdown",
   "id": "0133afa0",
   "metadata": {},
   "source": [
    "# MNLI"
   ]
  },
  {
   "cell_type": "code",
   "execution_count": null,
   "id": "a8f77992",
   "metadata": {},
   "outputs": [],
   "source": []
  },
  {
   "cell_type": "markdown",
   "id": "ba715095",
   "metadata": {},
   "source": [
    "## MNLI: baseline"
   ]
  },
  {
   "cell_type": "code",
   "execution_count": 4,
   "id": "642e3619",
   "metadata": {},
   "outputs": [
    {
     "data": {
      "text/plain": [
       "'nli_models/baseline/'"
      ]
     },
     "execution_count": 4,
     "metadata": {},
     "output_type": "execute_result"
    }
   ],
   "source": [
    "'nli_models/baseline/'"
   ]
  },
  {
   "cell_type": "code",
   "execution_count": 5,
   "id": "09653900",
   "metadata": {
    "scrolled": false
   },
   "outputs": [
    {
     "name": "stdout",
     "output_type": "stream",
     "text": [
      "factual  score avg : 0.8483319772172498 , std : 0.002704304252701676\n",
      "TIE acc  avg : 0.8482099267697315 std : 0.0028533597632382245\n",
      "TE_model avg :  0.8477624084621643 , std : 0.0029205810409174177\n",
      "The minimal epsilon for which Algorithm A is almost stochastically greater than algorithm B is  0.911515832080009\n",
      "since epsilon > 0.5 we will claim that A is not better than B with significance level alpha= 0.05\n",
      "None\n",
      "TIE F1: {'contradiction': [0.8667697063369397, 0.8616612927990174, 0.863093415007657, 0.8672347017815647, 0.8664404688463911], 'entailment': [0.8672436555669649, 0.857649667405765, 0.8595530560899807, 0.8645161290322582, 0.8589573179737113], '-': [0.0, 0.0, 0.0, 0.0, 0.0], 'neutral': [0.800305576776165, 0.7927982911199267, 0.7932773109243697, 0.7985359158151594, 0.7948912878211951], 'MAF1': array([0.63357973, 0.62802731, 0.62898095, 0.63257169, 0.63007227])} {'contradiction_mean_sd': [0.865039916954314, 0.0022349392993846026], 'entailment_mean_sd': [0.861583965213736, 0.0036642119585900156], '-_mean_sd': [0.0, 0.0], 'neutral_mean_sd': [0.7959616764913632, 0.0029615784707207196], 'MAF1_mean_sd': [0.6306463896648533, 0.0021106474866586936]}\n",
      "checking ASD.......\n",
      "TIE_MAF1:\n",
      "[0.63357973 0.62802731 0.62898095 0.63257169 0.63007227]\n",
      "factual_MAF1:\n",
      "[0.6333521  0.62804104 0.62906036 0.6325048  0.63073231]\n",
      "The minimal epsilon for which Algorithm A is almost stochastically greater than algorithm B is  0.9072075930946664\n",
      "since epsilon > 0.5 we will claim that A is not better than B with significance level alpha= 0.05\n",
      "None\n",
      "The minimal epsilon for which Algorithm A is almost stochastically greater than algorithm B is  0.980968391247552\n",
      "since epsilon > 0.5 we will claim that A is not better than B with significance level alpha= 0.05\n",
      "None\n",
      "TE_model F1: {'contradiction': [0.8664192949907236, 0.8607828089025327, 0.8636572302983934, 0.8667388949079089, 0.8668826160728058], 'entailment': [0.8663729809104257, 0.8559597752144336, 0.8599377501111605, 0.8649919200822683, 0.8580711859400384], '-': [0.0, 0.0, 0.0, 0.0, 0.0], 'neutral': [0.7985962770826975, 0.7914569031273838, 0.793587786259542, 0.7985984156002437, 0.7944664031620552], 'MAF1': array([0.63284714, 0.62704987, 0.62929569, 0.63258231, 0.62985505])} {'contradiction_mean_sd': [0.8648961690344729, 0.0023713381844912068], 'entailment_mean_sd': [0.8610667224516654, 0.003997306165217812], '-_mean_sd': [0.0, 0.0], 'neutral_mean_sd': [0.7953411570463844, 0.0028331068359336432], 'MAF1_mean_sd': [0.6303260121331307, 0.002166259730954294]}\n",
      "checking ASD.......\n",
      "TE_model_MAF1:\n",
      "[0.63284714 0.62704987 0.62929569 0.63258231 0.62985505]\n",
      "factual_MAF1:\n",
      "[0.6333521  0.62804104 0.62906036 0.6325048  0.63073231]\n",
      "The minimal epsilon for which Algorithm A is almost stochastically greater than algorithm B is  0.9785493604382273\n",
      "since epsilon > 0.5 we will claim that A is not better than B with significance level alpha= 0.05\n",
      "None\n"
     ]
    }
   ],
   "source": [
    "\"\"\"\n",
    "raw_factual_correct: bool\n",
    "raw_tie : tie scores\n",
    "\n",
    "\"\"\"\n",
    "data_path='../data/'\n",
    "task='nli'\n",
    "model_path='nli_models/baseline/'\n",
    "\n",
    "method = model_path.split(\"/\")[-2]\n",
    "DEBUG = False\n",
    "\n",
    "fusion = fuse.sum_fuse\n",
    "test_set='mnli_dev_mm'\n",
    "correction = True\n",
    "#raw_factual_correct, raw_TIE = \n",
    "\n",
    "bias_val_pred_file = \"dev_prob_korn_lr_overlapping_sample_weight_3class.jsonl\"\n",
    "model_val_pred_file = \"raw_m.jsonl\"\n",
    "\n",
    "factual_acc[method][test_set], tie_acc[method][test_set], te_model_acc[method][test_set] = cma_clean.report_CMA(model_path,\n",
    "                                                                                            task,data_path,\n",
    "                                                                                            test_set,\n",
    "                                                                                            fusion,\n",
    "                                                                                            correction=correction,\n",
    "                                                                                            DEBUG = DEBUG,\n",
    "                                                                                            bias_val_pred_file = bias_val_pred_file,\n",
    "                                                                                            model_val_pred_file = model_val_pred_file,\n",
    "                                                                                            return_raw=True)"
   ]
  },
  {
   "cell_type": "code",
   "execution_count": 6,
   "id": "ce1a569b",
   "metadata": {
    "scrolled": false
   },
   "outputs": [
    {
     "name": "stdout",
     "output_type": "stream",
     "text": [
      "factual  score avg : 0.6554599999999999 , std : 0.020700439072101274\n",
      "TIE acc  avg : 0.6666133333333335 std : 0.020644090895190537\n",
      "TE_model avg :  0.6807799999999999 , std : 0.020246202387388865\n",
      "The minimal epsilon for which Algorithm A is almost stochastically greater than algorithm B is  0.003356554718597541\n",
      "since epsilon <= 0.5 we will claim that A is better than B with significance level alpha= 0.05\n",
      "None\n",
      "TIE F1: {'non-entailment': [0.4148007989067592, 0.5695094269699356, 0.5367071589763288, 0.5060858424087123, 0.512424346799193], 'entailment': [0.7282667057158199, 0.7580766927862963, 0.753682383274194, 0.7475759941572016, 0.7502583360637145], 'MAF1': array([0.57153375, 0.66379306, 0.64519477, 0.62683092, 0.63134134])} {'non-entailment_mean_sd': [0.5079055148121858, 0.0516077433602955], 'entailment_mean_sd': [0.7475720223994452, 0.010272255439666696], 'MAF1_mean_sd': [0.6277387686058156, 0.03091093826769885]}\n",
      "checking ASD.......\n",
      "TIE_MAF1:\n",
      "[0.57153375 0.66379306 0.64519477 0.62683092 0.63134134]\n",
      "factual_MAF1:\n",
      "[0.555254   0.64892968 0.63183937 0.60792735 0.61238286]\n",
      "The minimal epsilon for which Algorithm A is almost stochastically greater than algorithm B is  0.003284447415530792\n",
      "since epsilon <= 0.5 we will claim that A is better than B with significance level alpha= 0.05\n",
      "None\n",
      "The minimal epsilon for which Algorithm A is almost stochastically greater than algorithm B is  0.0001277875388743106\n",
      "since epsilon <= 0.5 we will claim that A is better than B with significance level alpha= 0.05\n",
      "None\n",
      "TE_model F1: {'non-entailment': [0.4508889685914843, 0.5970729063149336, 0.5657124115635103, 0.5443413374150962, 0.5466059006956105], 'entailment': [0.7352715954845245, 0.7644075854418678, 0.760224538893344, 0.7563308947664603, 0.758625973694292], 'MAF1': array([0.59308028, 0.68074025, 0.66296848, 0.65033612, 0.65261594])} {'non-entailment_mean_sd': [0.540924304916127, 0.048820967010078965], 'entailment_mean_sd': [0.7549721176560977, 0.010197288798557424], 'MAF1_mean_sd': [0.6479482112861124, 0.029458123755902076]}\n",
      "checking ASD.......\n",
      "TE_model_MAF1:\n",
      "[0.59308028 0.68074025 0.66296848 0.65033612 0.65261594]\n",
      "factual_MAF1:\n",
      "[0.555254   0.64892968 0.63183937 0.60792735 0.61238286]\n",
      "The minimal epsilon for which Algorithm A is almost stochastically greater than algorithm B is  0.00013409982282292467\n",
      "since epsilon <= 0.5 we will claim that A is better than B with significance level alpha= 0.05\n",
      "None\n"
     ]
    }
   ],
   "source": [
    "\"\"\"\n",
    "bugs\n",
    "raw_factual_correct: bool\n",
    "raw_tie : tie scores\n",
    "\n",
    "\"\"\"\n",
    "data_path='../data/'\n",
    "task='nli'\n",
    "model_path='nli_models/baseline/'\n",
    "method = model_path.split(\"/\")[-2]\n",
    "\n",
    "DEBUG = False\n",
    "\n",
    "fusion = fuse.sum_fuse\n",
    "test_set='mnli_hans'\n",
    "correction = True\n",
    "method = model_path.split(\"/\")[-2]\n",
    "\n",
    "bias_val_pred_file = \"dev_prob_korn_lr_overlapping_sample_weight_3class.jsonl\"\n",
    "model_val_pred_file = \"raw_m.jsonl\"\n",
    "\n",
    "factual_acc[method][test_set], tie_acc[method][test_set], te_model_acc[method][test_set] = cma_clean.report_CMA(model_path,\n",
    "                                                                                            task,data_path,\n",
    "                                                                                            test_set,\n",
    "                                                                                            fusion,\n",
    "                                                                                            bias_val_pred_file = bias_val_pred_file,\n",
    "                                                                                            model_val_pred_file = model_val_pred_file,\n",
    "                                                                                            return_raw=True)\n",
    "\n"
   ]
  },
  {
   "cell_type": "code",
   "execution_count": null,
   "id": "9fd8e799",
   "metadata": {},
   "outputs": [],
   "source": []
  },
  {
   "cell_type": "markdown",
   "id": "47f75f15",
   "metadata": {},
   "source": [
    "## MNLI: reweight"
   ]
  },
  {
   "cell_type": "code",
   "execution_count": 7,
   "id": "89400e93",
   "metadata": {},
   "outputs": [
    {
     "name": "stdout",
     "output_type": "stream",
     "text": [
      "factual  score avg : 0.8484133441822621 , std : 0.0009683181639879358\n",
      "TIE acc  avg : 0.848433685923515 std : 0.0009263871063251353\n",
      "TE_model avg :  0.8480268510984541 , std : 0.0014010720388708306\n",
      "The minimal epsilon for which Algorithm A is almost stochastically greater than algorithm B is  0.6378118998287381\n",
      "since epsilon > 0.5 we will claim that A is not better than B with significance level alpha= 0.05\n",
      "None\n",
      "TIE F1: {'contradiction': [0.863803680981595, 0.8646662584200857, 0.8660339194025206, 0.8655241624208738, 0.8664706792511216], 'entailment': [0.8587453874538744, 0.8618556701030928, 0.8646903434106252, 0.859499263622975, 0.862860506180106], '-': [0.0, 0.0, 0.0, 0.0, 0.0], 'neutral': [0.7970016827290806, 0.7978494623655914, 0.7962372932787135, 0.7954303122619956, 0.7956792940818499], 'MAF1': array([0.62988769, 0.63109285, 0.63174039, 0.63011343, 0.63125262])} {'contradiction_mean_sd': [0.8652997400952394, 0.0009591637030804838], 'entailment_mean_sd': [0.8615302341541347, 0.002179083989905065], '-_mean_sd': [0.0, 0.0], 'neutral_mean_sd': [0.7964396089434461, 0.0008878404947488682], 'MAF1_mean_sd': [0.6308173957982051, 0.0007038648500065195]}\n",
      "checking ASD.......\n",
      "TIE_MAF1:\n",
      "[0.62988769 0.63109285 0.63174039 0.63011343 0.63125262]\n",
      "factual_MAF1:\n",
      "[0.62944836 0.63147289 0.63108341 0.6307796  0.63123644]\n",
      "The minimal epsilon for which Algorithm A is almost stochastically greater than algorithm B is  0.627932030585006\n",
      "since epsilon > 0.5 we will claim that A is not better than B with significance level alpha= 0.05\n",
      "None\n",
      "The minimal epsilon for which Algorithm A is almost stochastically greater than algorithm B is  0.7638153045474854\n",
      "since epsilon > 0.5 we will claim that A is not better than B with significance level alpha= 0.05\n",
      "None\n",
      "TE_model F1: {'contradiction': [0.8638871857755978, 0.864178647904558, 0.8677544677544679, 0.8645978076269878, 0.8663366336633663], 'entailment': [0.8580292509971931, 0.8594164456233422, 0.8651586368977673, 0.8594164456233422, 0.8624338624338623], '-': [0.0, 0.0, 0.0, 0.0, 0.0], 'neutral': [0.7964520568894325, 0.7956361401352181, 0.7970860525117619, 0.795250418632973, 0.7946374162096284], 'MAF1': array([0.62959212, 0.62980781, 0.63249979, 0.62981617, 0.63085198])} {'contradiction_mean_sd': [0.8653509485449955, 0.001471909726980763], 'entailment_mean_sd': [0.8608909283151014, 0.0025741553072735394], '-_mean_sd': [0.0, 0.0], 'neutral_mean_sd': [0.7958124168758027, 0.0008670443079735402], 'MAF1_mean_sd': [0.6305135734339748, 0.0010856445007741402]}\n",
      "checking ASD.......\n",
      "TE_model_MAF1:\n",
      "[0.62959212 0.62980781 0.63249979 0.62981617 0.63085198]\n",
      "factual_MAF1:\n",
      "[0.62944836 0.63147289 0.63108341 0.6307796  0.63123644]\n",
      "The minimal epsilon for which Algorithm A is almost stochastically greater than algorithm B is  0.7220201092967427\n",
      "since epsilon > 0.5 we will claim that A is not better than B with significance level alpha= 0.05\n",
      "None\n"
     ]
    }
   ],
   "source": [
    "\n",
    "data_path = '../data/'\n",
    "model_path= 'nli_models/korn_reweight/nli/ps/'\n",
    "task= 'nli'\n",
    "\n",
    "fusion = fuse.sum_fuse\n",
    "test_set='mnli_dev_mm'\n",
    "\n",
    "correction = True\n",
    "DEBUG = False\n",
    "\n",
    "method = 'reweight'\n",
    "\n",
    "bias_val_pred_file = \"dev_prob_korn_lr_overlapping_sample_weight_3class.jsonl\"\n",
    "model_val_pred_file = \"raw_m.jsonl\"\n",
    "\n",
    "factual_acc[method][test_set], tie_acc[method][test_set], te_model_acc[method][test_set] = cma_clean.report_CMA(model_path,\n",
    "                                                                                            task,data_path,\n",
    "                                                                                            test_set,\n",
    "                                                                                            fusion,\n",
    "                                                                                            bias_val_pred_file = bias_val_pred_file,\n",
    "                                                                                            model_val_pred_file = model_val_pred_file,\n",
    "                                                                                            return_raw=True)"
   ]
  },
  {
   "cell_type": "code",
   "execution_count": 8,
   "id": "70be4dcc",
   "metadata": {},
   "outputs": [
    {
     "name": "stdout",
     "output_type": "stream",
     "text": [
      "factual  score avg : 0.66964 , std : 0.017088948995704158\n",
      "TIE acc  avg : 0.6817599999999999 std : 0.01663528245093006\n",
      "TE_model avg :  0.6946866666666666 , std : 0.015999022192343847\n",
      "The minimal epsilon for which Algorithm A is almost stochastically greater than algorithm B is  0.0004047758736017261\n",
      "since epsilon <= 0.5 we will claim that A is better than B with significance level alpha= 0.05\n",
      "None\n",
      "TIE F1: {'non-entailment': [0.5702841524904575, 0.5881697981906749, 0.5053821577783238, 0.5414523958283269, 0.4968228752978555], 'entailment': [0.764846953247892, 0.769098712446352, 0.746236287983861, 0.7565636720843006, 0.7456844640706544], 'MAF1': array([0.66756555, 0.67863426, 0.62580922, 0.64900803, 0.62125367])} {'non-entailment_mean_sd': [0.5404222759171278, 0.03550024314372014], 'entailment_mean_sd': [0.756486017966612, 0.009494439027826679], 'MAF1_mean_sd': [0.64845414694187, 0.022490220620213327]}\n",
      "checking ASD.......\n",
      "TIE_MAF1:\n",
      "[0.66756555 0.67863426 0.62580922 0.64900803 0.62125367]\n",
      "factual_MAF1:\n",
      "[0.64768073 0.66405917 0.60605662 0.63527517 0.60303001]\n",
      "The minimal epsilon for which Algorithm A is almost stochastically greater than algorithm B is  0.0002911319784040809\n",
      "since epsilon <= 0.5 we will claim that A is better than B with significance level alpha= 0.05\n",
      "None\n",
      "The minimal epsilon for which Algorithm A is almost stochastically greater than algorithm B is  0.0\n",
      "since epsilon = 0, algorithm A is stochatically dominant over B\n",
      "None\n",
      "TE_model F1: {'non-entailment': [0.6008832459287884, 0.6125266839260571, 0.5374664622460713, 0.5635077793493635, 0.5317851959361393], 'entailment': [0.7732476085933825, 0.7753995208382698, 0.7532713146595789, 0.7613302397525136, 0.7539282990083904], 'MAF1': array([0.68706543, 0.6939631 , 0.64536889, 0.66241901, 0.64285675])} {'non-entailment_mean_sd': [0.5692338734772839, 0.03261996392702747], 'entailment_mean_sd': [0.7634353965704269, 0.009354623719341539], 'MAF1_mean_sd': [0.6663346350238555, 0.02097238093952259]}\n",
      "checking ASD.......\n",
      "TE_model_MAF1:\n",
      "[0.68706543 0.6939631  0.64536889 0.66241901 0.64285675]\n",
      "factual_MAF1:\n",
      "[0.64768073 0.66405917 0.60605662 0.63527517 0.60303001]\n",
      "The minimal epsilon for which Algorithm A is almost stochastically greater than algorithm B is  0.0\n",
      "since epsilon = 0, algorithm A is stochatically dominant over B\n",
      "None\n"
     ]
    }
   ],
   "source": [
    "data_path = '../data/'\n",
    "model_path= 'nli_models/korn_reweight/nli/ps/'\n",
    "task= 'nli'\n",
    "fusion = fuse.sum_fuse\n",
    "correction = True\n",
    "DEBUG = False\n",
    "test_set='mnli_hans'\n",
    "\n",
    "method = 'reweight'\n",
    "\n",
    "bias_val_pred_file = \"dev_prob_korn_lr_overlapping_sample_weight_3class.jsonl\"\n",
    "model_val_pred_file = \"raw_m.jsonl\"\n",
    "\n",
    "\n",
    "factual_acc[method][test_set], tie_acc[method][test_set], te_model_acc[method][test_set] = cma_clean.report_CMA(model_path,\n",
    "                                                                                            task,data_path,\n",
    "                                                                                            test_set,\n",
    "                                                                                            fusion,\n",
    "                                                                                            correction=correction,\n",
    "                                                                                            DEBUG = DEBUG,\n",
    "                                                                                            bias_val_pred_file = bias_val_pred_file,\n",
    "                                                                                            model_val_pred_file = model_val_pred_file,\n",
    "                                                                                            return_raw=True)"
   ]
  },
  {
   "cell_type": "code",
   "execution_count": null,
   "id": "e24d8d66",
   "metadata": {},
   "outputs": [],
   "source": []
  },
  {
   "cell_type": "markdown",
   "id": "763d2e66",
   "metadata": {},
   "source": [
    "## MNLI: PoE"
   ]
  },
  {
   "cell_type": "code",
   "execution_count": null,
   "id": "f1dbd630",
   "metadata": {},
   "outputs": [],
   "source": []
  },
  {
   "cell_type": "code",
   "execution_count": 9,
   "id": "d1b74654",
   "metadata": {
    "scrolled": true
   },
   "outputs": [
    {
     "name": "stdout",
     "output_type": "stream",
     "text": [
      "factual  score avg : 0.84206672091131 , std : 0.001463192067400687\n",
      "TIE acc  avg : 0.8412733930024411 std : 0.0021417834724515765\n",
      "TE_model avg :  0.8394019528071602 , std : 0.0020372231014734623\n",
      "The minimal epsilon for which Algorithm A is almost stochastically greater than algorithm B is  1.0\n",
      "since epsilon > 0.5 we will claim that A is not better than B with significance level alpha= 0.05\n",
      "None\n",
      "TIE F1: {'contradiction': [0.8584658126254052, 0.8655757761125554, 0.8649899706835366, 0.8622976098689283, 0.8592135697764071], 'entailment': [0.8522204069508392, 0.8543776057176892, 0.8585251429409179, 0.8512090194333186, 0.8534825504343984], '-': [0.0, 0.0, 0.0, 0.0, 0.0], 'neutral': [0.7876132930513595, 0.788809487608332, 0.7868300153139357, 0.7856494096276112, 0.7818791946308724], 'MAF1': array([0.62457488, 0.62719072, 0.62758628, 0.62478901, 0.62364383])} {'contradiction_mean_sd': [0.8621085478133665, 0.002898635257509219], 'entailment_mean_sd': [0.8539629450954326, 0.002523367487353503], '-_mean_sd': [0.0, 0.0], 'neutral_mean_sd': [0.7861562800464221, 0.0023734655568260444], 'MAF1_mean_sd': [0.6255569432388053, 0.0015492976170990219]}\n",
      "checking ASD.......\n",
      "TIE_MAF1:\n",
      "[0.62457488 0.62719072 0.62758628 0.62478901 0.62364383]\n",
      "factual_MAF1:\n",
      "[0.62537222 0.62772054 0.62708949 0.62555504 0.62497915]\n",
      "The minimal epsilon for which Algorithm A is almost stochastically greater than algorithm B is  1.0\n",
      "since epsilon > 0.5 we will claim that A is not better than B with significance level alpha= 0.05\n",
      "None\n",
      "The minimal epsilon for which Algorithm A is almost stochastically greater than algorithm B is  1.0\n",
      "since epsilon > 0.5 we will claim that A is not better than B with significance level alpha= 0.05\n",
      "None\n",
      "TE_model F1: {'contradiction': [0.8578923005708995, 0.865137614678899, 0.863313792039494, 0.8606658446362515, 0.8600956347370045], 'entailment': [0.8494495685807796, 0.8519457283435217, 0.8555914294100382, 0.8476840855106889, 0.8515406162464987], '-': [0.0, 0.0, 0.0, 0.0, 0.0], 'neutral': [0.7853371549253281, 0.7869400151860289, 0.7848837209302326, 0.7832929782082325, 0.7800791958574476], 'MAF1': array([0.62316976, 0.62600584, 0.62594724, 0.62291073, 0.62292886])} {'contradiction_mean_sd': [0.8614210373325097, 0.0025367088415464128], 'entailment_mean_sd': [0.8512422856183054, 0.0026598310824194624], '-_mean_sd': [0.0, 0.0], 'neutral_mean_sd': [0.7841066130214539, 0.002325011334489077], 'MAF1_mean_sd': [0.6241924839930673, 0.0014596592829520937]}\n",
      "checking ASD.......\n",
      "TE_model_MAF1:\n",
      "[0.62316976 0.62600584 0.62594724 0.62291073 0.62292886]\n",
      "factual_MAF1:\n",
      "[0.62537222 0.62772054 0.62708949 0.62555504 0.62497915]\n",
      "The minimal epsilon for which Algorithm A is almost stochastically greater than algorithm B is  1.0\n",
      "since epsilon > 0.5 we will claim that A is not better than B with significance level alpha= 0.05\n",
      "None\n"
     ]
    }
   ],
   "source": [
    "data_path = '../data/'\n",
    "model_path= 'nli_models/poe3/'\n",
    "task= 'nli'\n",
    "fusion = fuse.sum_fuse\n",
    "test_set='mnli_dev_mm'\n",
    "\n",
    "correction = True\n",
    "DEBUG = False\n",
    "\n",
    "method = 'poe'\n",
    "\n",
    "bias_val_pred_file = \"dev_prob_korn_lr_overlapping_sample_weight_3class.jsonl\"\n",
    "model_val_pred_file = \"raw_m.jsonl\"\n",
    "\n",
    "\n",
    "factual_acc[method][test_set], tie_acc[method][test_set], te_model_acc[method][test_set] = cma_clean.report_CMA(model_path,\n",
    "                                                                                            task,data_path,\n",
    "                                                                                            test_set,\n",
    "                                                                                            fusion,\n",
    "                                                                                            correction=correction,\n",
    "                                                                                            DEBUG = DEBUG,\n",
    "                                                                                            bias_val_pred_file = bias_val_pred_file,\n",
    "                                                                                            model_val_pred_file = model_val_pred_file,\n",
    "                                                                                            return_raw=True)"
   ]
  },
  {
   "cell_type": "code",
   "execution_count": 10,
   "id": "614a55de",
   "metadata": {},
   "outputs": [
    {
     "name": "stdout",
     "output_type": "stream",
     "text": [
      "factual  score avg : 0.6985600000000001 , std : 0.015111811421680877\n",
      "TIE acc  avg : 0.70944 std : 0.016385866538643046\n",
      "TE_model avg :  0.7224133333333334 , std : 0.01789523338148395\n",
      "The minimal epsilon for which Algorithm A is almost stochastically greater than algorithm B is  0.0011499461115161386\n",
      "since epsilon <= 0.5 we will claim that A is better than B with significance level alpha= 0.05\n",
      "None\n",
      "TIE F1: {'non-entailment': [0.6405568527247897, 0.5651951435083966, 0.577045199850579, 0.604200035593522, 0.6483725761772853], 'entailment': [0.7812659178038123, 0.7572396956081344, 0.7652394775036284, 0.7629250612941052, 0.7798135299219427], 'MAF1': array([0.71091139, 0.66121742, 0.67114234, 0.68356255, 0.71409305])} {'non-entailment_mean_sd': [0.6070739615709144, 0.033137594818337335], 'entailment_mean_sd': [0.7692967364263247, 0.009552968915730008], 'MAF1_mean_sd': [0.6881853489986196, 0.0211034857671983]}\n",
      "checking ASD.......\n",
      "TIE_MAF1:\n",
      "[0.71091139 0.66121742 0.67114234 0.68356255 0.71409305]\n",
      "factual_MAF1:\n",
      "[0.69435079 0.648215   0.65654168 0.66856304 0.69812063]\n",
      "The minimal epsilon for which Algorithm A is almost stochastically greater than algorithm B is  0.0005017121183033467\n",
      "since epsilon <= 0.5 we will claim that A is better than B with significance level alpha= 0.05\n",
      "None\n",
      "The minimal epsilon for which Algorithm A is almost stochastically greater than algorithm B is  0.0\n",
      "since epsilon = 0, algorithm A is stochatically dominant over B\n",
      "None\n",
      "TE_model F1: {'non-entailment': [0.6728350317656591, 0.5928100442597778, 0.6051435841512177, 0.632792668760487, 0.6778445111778445], 'entailment': [0.7900511669904505, 0.7618469015795868, 0.7712676352916404, 0.7677993307397231, 0.7855873861869865], 'MAF1': array([0.7314431 , 0.67732847, 0.68820561, 0.700296  , 0.73171595])} {'non-entailment_mean_sd': [0.6362851680229971, 0.034453312544480995], 'entailment_mean_sd': [0.7753104841576774, 0.010741811338458324], 'MAF1_mean_sd': [0.7057978260903373, 0.02226966259512592]}\n",
      "checking ASD.......\n",
      "TE_model_MAF1:\n",
      "[0.7314431  0.67732847 0.68820561 0.700296   0.73171595]\n",
      "factual_MAF1:\n",
      "[0.69435079 0.648215   0.65654168 0.66856304 0.69812063]\n",
      "The minimal epsilon for which Algorithm A is almost stochastically greater than algorithm B is  0.0\n",
      "since epsilon = 0, algorithm A is stochatically dominant over B\n",
      "None\n"
     ]
    }
   ],
   "source": [
    "data_path = '../data/'\n",
    "model_path= 'nli_models/poe3/'\n",
    "task= 'nli'\n",
    "fusion = fuse.sum_fuse\n",
    "test_set='mnli_hans'\n",
    "\n",
    "correction = True\n",
    "DEBUG = False\n",
    "\n",
    "method = 'poe'\n",
    "\n",
    "bias_val_pred_file = \"dev_prob_korn_lr_overlapping_sample_weight_3class.jsonl\"\n",
    "model_val_pred_file = \"raw_m.jsonl\"\n",
    "\n",
    "\n",
    "factual_acc[method][test_set], tie_acc[method][test_set], te_model_acc[method][test_set] = cma_clean.report_CMA(model_path,\n",
    "                                                                                            task,data_path,\n",
    "                                                                                            test_set,\n",
    "                                                                                            fusion,\n",
    "                                                                                            correction=correction,\n",
    "                                                                                            DEBUG = DEBUG,\n",
    "                                                                                            bias_val_pred_file = bias_val_pred_file,\n",
    "                                                                                            model_val_pred_file = model_val_pred_file,\n",
    "                                                                                            return_raw=True)"
   ]
  },
  {
   "cell_type": "code",
   "execution_count": null,
   "id": "445be569",
   "metadata": {},
   "outputs": [],
   "source": []
  },
  {
   "cell_type": "markdown",
   "id": "55dc6720",
   "metadata": {},
   "source": [
    "## MNLI: Confidence-Reg"
   ]
  },
  {
   "cell_type": "code",
   "execution_count": 11,
   "id": "c4184e8c",
   "metadata": {
    "scrolled": true
   },
   "outputs": [
    {
     "name": "stdout",
     "output_type": "stream",
     "text": [
      "factual  score avg : 0.8509560618388934 , std : 0.0012249039232973536\n",
      "TIE acc  avg : 0.8503051261187957 std : 0.0010577705451586446\n",
      "TE_model avg :  0.8491863303498779 , std : 0.0010597246767803964\n",
      "The minimal epsilon for which Algorithm A is almost stochastically greater than algorithm B is  0.9633049314923187\n",
      "since epsilon > 0.5 we will claim that A is not better than B with significance level alpha= 0.05\n",
      "None\n",
      "TIE F1: {'contradiction': [0.868023435090965, 0.8631190402952937, 0.8660618176226357, 0.8643755753298559, 0.8654646324549238], 'entailment': [0.8651519622307466, 0.8657197247034706, 0.8613612874649342, 0.8649677797305214, 0.8631734317343174], '-': [0.0, 0.0, 0.0, 0.0, 0.0], 'neutral': [0.8014616321559074, 0.798338717120443, 0.7986577181208053, 0.799568300955905, 0.7975030450669914], 'MAF1': array([0.63365926, 0.63179437, 0.63152021, 0.63222791, 0.63153528])} {'contradiction_mean_sd': [0.8654089001587348, 0.0016478117982059318], 'entailment_mean_sd': [0.864074837172798, 0.0016024408614352433], '-_mean_sd': [0.0, 0.0], 'neutral_mean_sd': [0.7991058826840104, 0.001350693831828101], 'MAF1_mean_sd': [0.6321474050038859, 0.0007981092358205137]}\n",
      "checking ASD.......\n",
      "TIE_MAF1:\n",
      "[0.63365926 0.63179437 0.63152021 0.63222791 0.63153528]\n",
      "factual_MAF1:\n",
      "[0.63358681 0.63257056 0.63122341 0.63354093 0.63228788]\n",
      "The minimal epsilon for which Algorithm A is almost stochastically greater than algorithm B is  0.9683957781293929\n",
      "since epsilon > 0.5 we will claim that A is not better than B with significance level alpha= 0.05\n",
      "None\n",
      "The minimal epsilon for which Algorithm A is almost stochastically greater than algorithm B is  1.0\n",
      "since epsilon > 0.5 we will claim that A is not better than B with significance level alpha= 0.05\n",
      "None\n",
      "TE_model F1: {'contradiction': [0.8677036808871093, 0.8632452366318377, 0.8652220685415706, 0.8645833333333334, 0.8654053222581142], 'entailment': [0.8639787328311918, 0.8663635030071879, 0.8594650509827102, 0.8627335589230544, 0.8607782216304186], '-': [0.0, 0.0, 0.0, 0.0, 0.0], 'neutral': [0.7981120584652863, 0.7979099431381589, 0.7974992375724307, 0.7979099431381589, 0.795800365185636], 'MAF1': array([0.63244862, 0.63187967, 0.63054659, 0.63130671, 0.63049598])} {'contradiction_mean_sd': [0.865231928330393, 0.0014496442837164415], 'entailment_mean_sd': [0.8626638134749125, 0.0024169864733516663], '-_mean_sd': [0.0, 0.0], 'neutral_mean_sd': [0.7974463094999342, 0.0008467665619854208], 'MAF1_mean_sd': [0.63133551282631, 0.0007567246537754561]}\n",
      "checking ASD.......\n",
      "TE_model_MAF1:\n",
      "[0.63244862 0.63187967 0.63054659 0.63130671 0.63049598]\n",
      "factual_MAF1:\n",
      "[0.63358681 0.63257056 0.63122341 0.63354093 0.63228788]\n",
      "The minimal epsilon for which Algorithm A is almost stochastically greater than algorithm B is  1.0\n",
      "since epsilon > 0.5 we will claim that A is not better than B with significance level alpha= 0.05\n",
      "None\n"
     ]
    }
   ],
   "source": [
    "data_path = '../data/'\n",
    "model_path= 'nli_models/distill/'\n",
    "task= 'nli'\n",
    "fusion = fuse.sum_fuse\n",
    "test_set='mnli_dev_mm'\n",
    "correction = True\n",
    "DEBUG = False\n",
    "\n",
    "method = model_path.split(\"/\")[1]\n",
    "\n",
    "bias_val_pred_file = \"dev_prob_korn_lr_overlapping_sample_weight_3class.jsonl\"\n",
    "model_val_pred_file = \"raw_m.jsonl\"\n",
    "\n",
    "\n",
    "factual_acc[method][test_set], tie_acc[method][test_set], te_model_acc[method][test_set] = cma_clean.report_CMA(model_path,\n",
    "                                                                                            task,data_path,\n",
    "                                                                                            test_set,\n",
    "                                                                                            fusion,\n",
    "                                                                                            correction=correction,\n",
    "                                                                                            DEBUG = DEBUG,\n",
    "                                                                                            bias_val_pred_file = bias_val_pred_file,\n",
    "                                                                                            model_val_pred_file = model_val_pred_file,\n",
    "                                                                                            return_raw=True)"
   ]
  },
  {
   "cell_type": "code",
   "execution_count": 12,
   "id": "4270c8dd",
   "metadata": {},
   "outputs": [
    {
     "name": "stdout",
     "output_type": "stream",
     "text": [
      "factual  score avg : 0.6632 , std : 0.009256901329398645\n",
      "TIE acc  avg : 0.6822466666666667 std : 0.009753144222363501\n",
      "TE_model avg :  0.7099066666666667 , std : 0.010001830943493425\n",
      "The minimal epsilon for which Algorithm A is almost stochastically greater than algorithm B is  5.3367238260609134e-06\n",
      "since epsilon <= 0.5 we will claim that A is better than B with significance level alpha= 0.05\n",
      "None\n",
      "TIE F1: {'non-entailment': [0.5503798194066217, 0.5628363705032575, 0.5696185098471285, 0.5637995786388202, 0.5139417288706958], 'entailment': [0.7591184826844813, 0.7614508733061981, 0.7546903210613078, 0.7504585232929832, 0.7427551930674144], 'MAF1': array([0.65474915, 0.66214362, 0.66215442, 0.65712905, 0.62834846])} {'non-entailment_mean_sd': [0.5521152014533047, 0.020090094577196536], 'entailment_mean_sd': [0.753694678682477, 0.006643983080454561], 'MAF1_mean_sd': [0.6529049400678909, 0.012610875701115725]}\n",
      "checking ASD.......\n",
      "TIE_MAF1:\n",
      "[0.65474915 0.66214362 0.66215442 0.65712905 0.62834846]\n",
      "factual_MAF1:\n",
      "[0.62499267 0.63255787 0.63658805 0.6311174  0.60044438]\n",
      "The minimal epsilon for which Algorithm A is almost stochastically greater than algorithm B is  0.0\n",
      "since epsilon = 0, algorithm A is stochatically dominant over B\n",
      "None\n",
      "The minimal epsilon for which Algorithm A is almost stochastically greater than algorithm B is  0.0\n",
      "since epsilon = 0, algorithm A is stochatically dominant over B\n",
      "None\n",
      "TE_model F1: {'non-entailment': [0.6193194588034342, 0.6294577754209201, 0.6255385145614337, 0.6295494118146685, 0.5851841880917127], 'entailment': [0.7756734564140597, 0.7756281608734046, 0.7637273023812112, 0.7607055660713795, 0.7548590671651685], 'MAF1': array([0.69749646, 0.70254297, 0.69463291, 0.69512749, 0.67002163])} {'non-entailment_mean_sd': [0.6178098697384338, 0.01673282084889591], 'entailment_mean_sd': [0.7661187105810446, 0.008288828014982756], 'MAF1_mean_sd': [0.6919642901597393, 0.011323613326526151]}\n",
      "checking ASD.......\n",
      "TE_model_MAF1:\n",
      "[0.69749646 0.70254297 0.69463291 0.69512749 0.67002163]\n",
      "factual_MAF1:\n",
      "[0.62499267 0.63255787 0.63658805 0.6311174  0.60044438]\n",
      "The minimal epsilon for which Algorithm A is almost stochastically greater than algorithm B is  0.0\n",
      "since epsilon = 0, algorithm A is stochatically dominant over B\n",
      "None\n"
     ]
    }
   ],
   "source": [
    "data_path = '../data/'\n",
    "model_path = 'nli_models/distill/'\n",
    "task = 'nli'\n",
    "\n",
    "fusion = fuse.sum_fuse\n",
    "test_set= 'mnli_hans'\n",
    "correction = True\n",
    "\n",
    "method = model_path.split(\"/\")[1]\n",
    "\n",
    "bias_val_pred_file = \"dev_prob_korn_lr_overlapping_sample_weight_3class.jsonl\"\n",
    "model_val_pred_file = \"raw_m.jsonl\"\n",
    "\n",
    "\n",
    "factual_acc[method][test_set], tie_acc[method][test_set], te_model_acc[method][test_set] = cma_clean.report_CMA(model_path,\n",
    "                                                                                            task,data_path,\n",
    "                                                                                            test_set,\n",
    "                                                                                            fusion,\n",
    "                                                                                            correction=correction,\n",
    "                                                                                            DEBUG = DEBUG,\n",
    "                                                                                            bias_val_pred_file = bias_val_pred_file,\n",
    "                                                                                            model_val_pred_file = model_val_pred_file,\n",
    "                                                                                            return_raw=True)"
   ]
  },
  {
   "cell_type": "raw",
   "id": "28039aa4",
   "metadata": {},
   "source": [
    "if write_ret:\n",
    "    with open('../pickles/table1_result.pickle', 'wb') as handle:\n",
    "        pickle.dump(factual_acc, handle, protocol=pickle.HIGHEST_PROTOCOL)\n",
    "        pickle.dump(tie_acc, handle, protocol=pickle.HIGHEST_PROTOCOL)\n",
    "        pickle.dump(te_model_acc, handle, protocol=pickle.HIGHEST_PROTOCOL)"
   ]
  },
  {
   "cell_type": "code",
   "execution_count": 13,
   "id": "033e8cf8",
   "metadata": {},
   "outputs": [
    {
     "name": "stdout",
     "output_type": "stream",
     "text": [
      "+------------------------+----------+---------------+\n",
      "|                        |   Method |   MNLI-dev-mm |\n",
      "+========================+==========+===============+\n",
      "| Baseline               |    84.83 |         65.55 |\n",
      "+------------------------+----------+---------------+\n",
      "| Baseline + TIE         |    84.82 |         66.66 |\n",
      "+------------------------+----------+---------------+\n",
      "| Baseline + TE_model    |    84.78 |         68.08 |\n",
      "+------------------------+----------+---------------+\n",
      "| Reweighting            |    84.84 |         66.96 |\n",
      "+------------------------+----------+---------------+\n",
      "| Reweighting + TIE      |    84.84 |         68.18 |\n",
      "+------------------------+----------+---------------+\n",
      "| Reweighting + TE_model |    84.8  |         69.47 |\n",
      "+------------------------+----------+---------------+\n",
      "| PoE                    |    84.21 |         69.86 |\n",
      "+------------------------+----------+---------------+\n",
      "| PoE + TIE              |    84.13 |         70.94 |\n",
      "+------------------------+----------+---------------+\n",
      "| PoE + TE_model         |    83.94 |         72.24 |\n",
      "+------------------------+----------+---------------+\n",
      "| Conf-Reg               |    85.1  |         66.32 |\n",
      "+------------------------+----------+---------------+\n",
      "| Conf-Reg + TIE         |    85.03 |         68.22 |\n",
      "+------------------------+----------+---------------+\n",
      "| Conf-Reg + TE_model    |    84.92 |         70.99 |\n",
      "+------------------------+----------+---------------+\n"
     ]
    }
   ],
   "source": [
    "accuracies = {\"Normal\": factual_acc,\n",
    "          \"TIE\": tie_acc,\n",
    "          \"TE_model\" : te_model_acc}\n",
    "\n",
    "print_results(headers,methods   = methods,\n",
    "          method_figs = method_figs,\n",
    "          test_sets = test_sets,\n",
    "          accuracies = accuracies)"
   ]
  },
  {
   "cell_type": "code",
   "execution_count": null,
   "id": "5f20b7db",
   "metadata": {},
   "outputs": [],
   "source": []
  },
  {
   "cell_type": "code",
   "execution_count": null,
   "id": "a66f851d",
   "metadata": {},
   "outputs": [],
   "source": []
  },
  {
   "cell_type": "code",
   "execution_count": null,
   "id": "d8eb88f6",
   "metadata": {},
   "outputs": [],
   "source": []
  }
 ],
 "metadata": {
  "kernelspec": {
   "display_name": "Python (sit_env)",
   "language": "python",
   "name": "sit_env"
  },
  "language_info": {
   "codemirror_mode": {
    "name": "ipython",
    "version": 3
   },
   "file_extension": ".py",
   "mimetype": "text/x-python",
   "name": "python",
   "nbconvert_exporter": "python",
   "pygments_lexer": "ipython3",
   "version": "3.8.8"
  }
 },
 "nbformat": 4,
 "nbformat_minor": 5
}
