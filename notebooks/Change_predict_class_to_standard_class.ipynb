{
 "cells": [
  {
   "cell_type": "code",
   "execution_count": null,
   "id": "d82882a8",
   "metadata": {},
   "outputs": [],
   "source": [
    "import json\n",
    "import jsonlines\n",
    "from tqdm.notebook import tqdm"
   ]
  },
  {
   "cell_type": "code",
   "execution_count": null,
   "id": "75a1b4c4",
   "metadata": {},
   "outputs": [],
   "source": [
    "# with open('huggingface_bart_large_mnli_predict_dev_matched.jsonl') as f:\n",
    "# with open('huggingface_bart_large_mnli_predict_dev_mismatched.jsonl') as f:\n",
    "# with open('huggingface_bart_large_mnli_predict_hans.jsonl') as f:\n",
    "# with open('huggingface_roberta_large_mnli_predict_dev_matched.jsonl') as f: \n",
    "# with open('huggingface_roberta_large_mnli_predict_dev_mismatched.jsonl') as f: \n",
    "with open('huggingface_roberta_large_mnli_predict_hans.jsonl') as f:\n",
    "    data = [json.loads(line) for line in f]"
   ]
  },
  {
   "cell_type": "code",
   "execution_count": null,
   "id": "4b896d65",
   "metadata": {},
   "outputs": [],
   "source": [
    "data[0]"
   ]
  },
  {
   "cell_type": "code",
   "execution_count": null,
   "id": "9b800f6b",
   "metadata": {},
   "outputs": [],
   "source": [
    "for i in tqdm(range(len(data))):\n",
    "    logits = []\n",
    "    probs = []\n",
    "    logits.append(data[i]['logits'][0][2])\n",
    "    logits.append(data[i]['logits'][0][0])\n",
    "    logits.append(data[i]['logits'][0][1])\n",
    "    probs.append(data[i]['probs'][0][2])\n",
    "    probs.append(data[i]['probs'][0][0])\n",
    "    probs.append(data[i]['probs'][0][1])\n",
    "    data[i]['logits'] = logits\n",
    "    data[i]['probs'] = probs"
   ]
  },
  {
   "cell_type": "code",
   "execution_count": null,
   "id": "d1572a34",
   "metadata": {},
   "outputs": [],
   "source": [
    "data[0]"
   ]
  },
  {
   "cell_type": "code",
   "execution_count": null,
   "id": "224e3ac8",
   "metadata": {},
   "outputs": [],
   "source": [
    "# with open('huggingface_bart_large_mnli_predict_dev_matched.jsonl', \"w\") as f:\n",
    "# with open('huggingface_bart_large_mnli_predict_dev_mismatched.jsonl', \"w\") as f:\n",
    "# with open('huggingface_bart_large_mnli_predict_hans.jsonl', \"w\") as f:\n",
    "# with open('huggingface_roberta_large_mnli_predict_dev_matched.jsonl', \"w\") as f:\n",
    "# with open('huggingface_roberta_large_mnli_predict_dev_mismatched.jsonl', \"w\") as f:\n",
    "with open('huggingface_roberta_large_mnli_predict_hans.jsonl', \"w\") as f:\n",
    "    for datum in data:\n",
    "        f.write(json.dumps(datum))\n",
    "        f.write(\"\\n\")"
   ]
  },
  {
   "cell_type": "markdown",
   "id": "149ca455",
   "metadata": {},
   "source": [
    "# ###############################################"
   ]
  },
  {
   "cell_type": "code",
   "execution_count": null,
   "id": "14052451",
   "metadata": {},
   "outputs": [],
   "source": [
    "# with open('huggingface_bert_base_mnli_predict_dev_matched.jsonl') as f:\n",
    "# with open('huggingface_bert_base_mnli_predict_dev_mismatched.jsonl') as f:\n",
    "with open('huggingface_bert_base_mnli_predict_hans.jsonl') as f:\n",
    "    data = [json.loads(line) for line in f]"
   ]
  },
  {
   "cell_type": "code",
   "execution_count": null,
   "id": "7725080f",
   "metadata": {},
   "outputs": [],
   "source": [
    "data[0]"
   ]
  },
  {
   "cell_type": "code",
   "execution_count": null,
   "id": "d8698dfb",
   "metadata": {},
   "outputs": [],
   "source": [
    "for i in tqdm(range(len(data))):\n",
    "    logits = []\n",
    "    probs = []\n",
    "    logits.append(data[i]['logits'][1])\n",
    "    logits.append(data[i]['logits'][0])\n",
    "    logits.append(data[i]['logits'][2])\n",
    "    probs.append(data[i]['probs'][1])\n",
    "    probs.append(data[i]['probs'][0])\n",
    "    probs.append(data[i]['probs'][2]\n",
    "    data[i]['logits'] = logits\n",
    "    data[i]['probs'] = probs"
   ]
  },
  {
   "cell_type": "code",
   "execution_count": null,
   "id": "8118b1c5",
   "metadata": {},
   "outputs": [],
   "source": [
    "data[0]"
   ]
  },
  {
   "cell_type": "code",
   "execution_count": null,
   "id": "fb0a9d53",
   "metadata": {},
   "outputs": [],
   "source": [
    "# with open('huggingface_bert_base_mnli_predict_dev_matched.jsonl', \"w\") as f:\n",
    "# with open('huggingface_bert_base_mnli_predict_dev_mismatched.jsonl', \"w\") as f:\n",
    "with open('huggingface_bert_base_mnli_predict_hans.jsonl', \"w\") as f:\n",
    "    for datum in data:\n",
    "        f.write(json.dumps(datum))\n",
    "        f.write(\"\\n\")"
   ]
  }
 ],
 "metadata": {
  "kernelspec": {
   "display_name": "Python 3 (ipykernel)",
   "language": "python",
   "name": "python3"
  },
  "language_info": {
   "codemirror_mode": {
    "name": "ipython",
    "version": 3
   },
   "file_extension": ".py",
   "mimetype": "text/x-python",
   "name": "python",
   "nbconvert_exporter": "python",
   "pygments_lexer": "ipython3",
   "version": "3.7.11"
  }
 },
 "nbformat": 4,
 "nbformat_minor": 5
}
