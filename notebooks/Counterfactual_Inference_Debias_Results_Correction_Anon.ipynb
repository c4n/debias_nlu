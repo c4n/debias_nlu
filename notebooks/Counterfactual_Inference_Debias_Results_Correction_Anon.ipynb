{
 "cells": [
  {
   "cell_type": "code",
   "execution_count": 1,
   "id": "cf951928",
   "metadata": {},
   "outputs": [],
   "source": [
    "import sys\n",
    "  \n",
    "# setting path\n",
    "sys.path.append('../counterfactual')\n",
    "\n",
    "import cma\n",
    "import glob\n",
    "import numpy as np\n",
    "import os\n",
    "import fuse, causal_utils\n",
    "from ASD import ASD"
   ]
  },
  {
   "cell_type": "markdown",
   "id": "d276b028",
   "metadata": {},
   "source": [
    "# MNLI"
   ]
  },
  {
   "cell_type": "markdown",
   "id": "9624aec8",
   "metadata": {},
   "source": [
    "## MNLI: baseline"
   ]
  },
  {
   "cell_type": "code",
   "execution_count": 2,
   "id": "3ad4f865",
   "metadata": {},
   "outputs": [
    {
     "name": "stdout",
     "output_type": "stream",
     "text": [
      "/path-to/debias_nlu/data/nli/test_prob_korn_lr_overlapping_sample_weight_3class.jsonl\n",
      "/path-to/nli_models/baseline/nli/outputs_bert_base_clark_1_seed53370/raw_m.jsonl\n",
      "/path-to/debias_nlu/data/nli/dev_prob_korn_lr_overlapping_sample_weight_3class.jsonl\n"
     ]
    },
    {
     "name": "stderr",
     "output_type": "stream",
     "text": [
      "/path-to/debias_nlu/notebooks/kl_general.py:55: UserWarning: Creating a tensor from a list of numpy.ndarrays is extremely slow. Please consider converting the list to a single numpy.ndarray with numpy.array() before converting to a tensor. (Triggered internally at  ../torch/csrc/utils/tensor_new.cpp:201.)\n",
      "  self.target_probs = torch.tensor(target_probs)\n"
     ]
    },
    {
     "name": "stdout",
     "output_type": "stream",
     "text": [
      "c:  [0.10842034 0.10842034 0.10842034]\n",
      "softmax(c):  [0.33333333 0.33333333 0.33333333]\n",
      "/path-to/debias_nlu/data/nli/dev_prob_korn_lr_overlapping_sample_weight_3class.jsonl\n",
      "te_c:  [0.53937626 0.53937626 0.53937626]\n",
      "unique_labels:  ['contradiction', 'entailment', '-', 'neutral']\n",
      "/path-to/nli_models/baseline/nli/outputs_bert_base_clark_1_seed43370/raw_m.jsonl\n",
      "/path-to/debias_nlu/data/nli/dev_prob_korn_lr_overlapping_sample_weight_3class.jsonl\n",
      "c:  [0.10724041 0.10724041 0.10724041]\n",
      "softmax(c):  [0.33333333 0.33333333 0.33333333]\n",
      "/path-to/debias_nlu/data/nli/dev_prob_korn_lr_overlapping_sample_weight_3class.jsonl\n",
      "te_c:  [0.54033661 0.54033661 0.54033661]\n",
      "unique_labels:  ['contradiction', 'entailment', '-', 'neutral']\n",
      "/path-to/nli_models/baseline/nli/outputs_bert_base_clark_1_seed33370/raw_m.jsonl\n",
      "/path-to/debias_nlu/data/nli/dev_prob_korn_lr_overlapping_sample_weight_3class.jsonl\n",
      "c:  [0.10689473 0.10689473 0.10689473]\n",
      "softmax(c):  [0.33333333 0.33333333 0.33333333]\n",
      "/path-to/debias_nlu/data/nli/dev_prob_korn_lr_overlapping_sample_weight_3class.jsonl\n",
      "te_c:  [0.53933841 0.53933841 0.53933841]\n",
      "unique_labels:  ['contradiction', 'entailment', '-', 'neutral']\n",
      "/path-to/nli_models/baseline/nli/outputs_bert_base_clark_1_seed13370/raw_m.jsonl\n",
      "/path-to/debias_nlu/data/nli/dev_prob_korn_lr_overlapping_sample_weight_3class.jsonl\n",
      "c:  [0.10905974 0.10905974 0.10905974]\n",
      "softmax(c):  [0.33333333 0.33333333 0.33333333]\n",
      "/path-to/debias_nlu/data/nli/dev_prob_korn_lr_overlapping_sample_weight_3class.jsonl\n",
      "te_c:  [0.53994071 0.53994071 0.53994071]\n",
      "unique_labels:  ['contradiction', 'entailment', '-', 'neutral']\n",
      "/path-to/nli_models/baseline/nli/outputs_bert_base_clark_1_seed23370/raw_m.jsonl\n",
      "/path-to/debias_nlu/data/nli/dev_prob_korn_lr_overlapping_sample_weight_3class.jsonl\n",
      "c:  [0.10847831 0.10847831 0.10847831]\n",
      "softmax(c):  [0.33333333 0.33333333 0.33333333]\n",
      "/path-to/debias_nlu/data/nli/dev_prob_korn_lr_overlapping_sample_weight_3class.jsonl\n",
      "te_c:  [0.53944612 0.53944612 0.53944612]\n",
      "unique_labels:  ['contradiction', 'entailment', '-', 'neutral']\n",
      "factual score:\n",
      "[0.8506916192026037, 0.8482506102522376, 0.8461147274206672, 0.8519121236777868, 0.8446908055329536]\n",
      "0.8483319772172496 0.002704304252701676\n",
      "factual F1: {'contradiction': [0.8675558312655087, 0.8663679901127762, 0.863093415007657, 0.8665119876256767, 0.8619735628650476], 'entailment': [0.864049223556988, 0.8596672065969667, 0.8598075499629904, 0.8667741462699691, 0.8576917393231861], '-': [0.0, 0.0, 0.0, 0.0, 0.0], 'neutral': [0.7984141506556875, 0.7968940316686967, 0.7933404612799756, 0.800122249388753, 0.7924988565330081], 'MAF1': array([0.6325048 , 0.63073231, 0.62906036, 0.6333521 , 0.62804104])} {'contradiction_mean_sd': [0.8651005573753332, 0.0021648836515056405], 'entailment_mean_sd': [0.86159797314202, 0.0033164298305945836], '-_mean_sd': [0.0, 0.0], 'neutral_mean_sd': [0.7962539499052242, 0.0029198991436012196], 'MAF1_mean_sd': [0.6307381201056443, 0.002002158777280646]}\n",
      "TE:\n",
      "0.05749295098035725 0.0009503133203507038\n",
      "TIE:\n",
      "0.05558231574925191 0.000950840867715396\n",
      "TIE acc:\n",
      "[0.850793327908869, 0.8473352318958502, 0.8460130187144019, 0.8522172497965825, 0.8446908055329536]\n",
      "0.8482099267697315 0.0028533597632382245\n",
      "The minimal epsilon for which Algorithm A is almost stochastically greater than algorithm B is  0.911515832080009\n",
      "since epsilon > 0.5 we will claim that A is not better than B with significance level alpha= 0.05\n",
      "None\n",
      "TIE F1: {'contradiction': [0.8672347017815647, 0.8664404688463911, 0.863093415007657, 0.8667697063369397, 0.8616612927990174], 'entailment': [0.8645161290322582, 0.8589573179737113, 0.8595530560899807, 0.8672436555669649, 0.857649667405765], '-': [0.0, 0.0, 0.0, 0.0, 0.0], 'neutral': [0.7985359158151594, 0.7948912878211951, 0.7932773109243697, 0.800305576776165, 0.7927982911199267], 'MAF1': array([0.63257169, 0.63007227, 0.62898095, 0.63357973, 0.62802731])} {'contradiction_mean_sd': [0.865039916954314, 0.0022349392993846026], 'entailment_mean_sd': [0.861583965213736, 0.0036642119585900156], '-_mean_sd': [0.0, 0.0], 'neutral_mean_sd': [0.7959616764913632, 0.0029615784707207196], 'MAF1_mean_sd': [0.6306463896648533, 0.0021106474866586936]}\n",
      "checking ASD.......\n",
      "TIE_MAF1:\n",
      "[0.63257169 0.63007227 0.62898095 0.63357973 0.62802731]\n",
      "factual_MAF1:\n",
      "[0.6325048  0.63073231 0.62906036 0.6333521  0.62804104]\n",
      "The minimal epsilon for which Algorithm A is almost stochastically greater than algorithm B is  0.9072075930946664\n",
      "since epsilon > 0.5 we will claim that A is not better than B with significance level alpha= 0.05\n",
      "None\n",
      "NIE:\n",
      "0.06023081325311912 0.0009615087852541816\n",
      "NIE acc:\n",
      "[0.8506916192026037, 0.8482506102522376, 0.8461147274206672, 0.8519121236777868, 0.8446908055329536]\n",
      "0.8483319772172496 0.002704304252701676\n",
      "my query:\n",
      "[0.850793327908869, 0.8470301057770545, 0.846419853539463, 0.8512001627339301, 0.8433685923515053]\n",
      "0.8477624084621643 0.0029205810409174177\n",
      "The minimal epsilon for which Algorithm A is almost stochastically greater than algorithm B is  0.980968391247552\n",
      "since epsilon > 0.5 we will claim that A is not better than B with significance level alpha= 0.05\n",
      "None\n",
      "my query F1: {'contradiction': [0.8667388949079089, 0.8668826160728058, 0.8636572302983934, 0.8664192949907236, 0.8607828089025327], 'entailment': [0.8649919200822683, 0.8581979320531757, 0.8599377501111605, 0.8663729809104257, 0.8559597752144336], '-': [0.0, 0.0, 0.0, 0.0, 0.0], 'neutral': [0.7985984156002437, 0.7943456452348381, 0.793587786259542, 0.7985962770826975, 0.7914569031273838], 'MAF1': array([0.63258231, 0.62985655, 0.62929569, 0.63284714, 0.62704987])} {'contradiction_mean_sd': [0.8648961690344729, 0.0023713381844912068], 'entailment_mean_sd': [0.8610920716742928, 0.003978587421057341], '-_mean_sd': [0.0, 0.0], 'neutral_mean_sd': [0.795317005460941, 0.0028409647879708657], 'MAF1_mean_sd': [0.6303263115424267, 0.002166194718955596]}\n",
      "checking ASD.......\n",
      "my_causal_MAF1:\n",
      "[0.63258231 0.62985655 0.62929569 0.63284714 0.62704987]\n",
      "factual_MAF1:\n",
      "[0.6325048  0.63073231 0.62906036 0.6333521  0.62804104]\n",
      "The minimal epsilon for which Algorithm A is almost stochastically greater than algorithm B is  0.978520746968361\n",
      "since epsilon > 0.5 we will claim that A is not better than B with significance level alpha= 0.05\n",
      "None\n"
     ]
    }
   ],
   "source": [
    "model_path='/path-to/nli_models/baseline/'\n",
    "task='nli'\n",
    "data_path='~/debias_nlu/data/'\n",
    "fusion = fuse.sum_fuse\n",
    "test_set='mnli_dev_mm'\n",
    "correction=True\n",
    "raw_factual_correct, raw_TIE = cma.report_CMA(model_path,task,data_path,test_set,fusion,correction=correction,return_raw=True)"
   ]
  },
  {
   "cell_type": "code",
   "execution_count": 3,
   "id": "361270be",
   "metadata": {},
   "outputs": [
    {
     "name": "stdout",
     "output_type": "stream",
     "text": [
      "/path-to/debias_nlu/data/nli/hans_prob_korn_lr_overlapping_sample_weight_3class.jsonl\n",
      "/path-to/nli_models/baseline/nli/outputs_bert_base_clark_1_seed53370/raw_m.jsonl\n",
      "/path-to/debias_nlu/data/nli/dev_prob_korn_lr_overlapping_sample_weight_3class.jsonl\n",
      "c:  [0.10847244 0.10847244 0.10847244]\n",
      "softmax(c):  [0.33333333 0.33333333 0.33333333]\n",
      "/path-to/debias_nlu/data/nli/dev_prob_korn_lr_overlapping_sample_weight_3class.jsonl\n",
      "te_c:  [0.54013807 0.54013807 0.54013807]\n",
      "unique_labels:  ['non-entailment', 'entailment']\n",
      "/path-to/nli_models/baseline/nli/outputs_bert_base_clark_1_seed43370/raw_m.jsonl\n",
      "/path-to/debias_nlu/data/nli/dev_prob_korn_lr_overlapping_sample_weight_3class.jsonl\n",
      "c:  [0.1094216 0.1094216 0.1094216]\n",
      "softmax(c):  [0.33333333 0.33333333 0.33333333]\n",
      "/path-to/debias_nlu/data/nli/dev_prob_korn_lr_overlapping_sample_weight_3class.jsonl\n",
      "te_c:  [0.53904563 0.53904563 0.53904563]\n",
      "unique_labels:  ['non-entailment', 'entailment']\n",
      "/path-to/nli_models/baseline/nli/outputs_bert_base_clark_1_seed33370/raw_m.jsonl\n",
      "/path-to/debias_nlu/data/nli/dev_prob_korn_lr_overlapping_sample_weight_3class.jsonl\n",
      "c:  [0.10909352 0.10909352 0.10909352]\n",
      "softmax(c):  [0.33333333 0.33333333 0.33333333]\n",
      "/path-to/debias_nlu/data/nli/dev_prob_korn_lr_overlapping_sample_weight_3class.jsonl\n",
      "te_c:  [0.53987467 0.53987467 0.53987467]\n",
      "unique_labels:  ['non-entailment', 'entailment']\n",
      "/path-to/nli_models/baseline/nli/outputs_bert_base_clark_1_seed13370/raw_m.jsonl\n",
      "/path-to/debias_nlu/data/nli/dev_prob_korn_lr_overlapping_sample_weight_3class.jsonl\n",
      "c:  [0.10814233 0.10814233 0.10814233]\n",
      "softmax(c):  [0.33333333 0.33333333 0.33333333]\n",
      "/path-to/debias_nlu/data/nli/dev_prob_korn_lr_overlapping_sample_weight_3class.jsonl\n",
      "te_c:  [0.53948283 0.53948283 0.53948283]\n",
      "unique_labels:  ['non-entailment', 'entailment']\n",
      "/path-to/nli_models/baseline/nli/outputs_bert_base_clark_1_seed23370/raw_m.jsonl\n",
      "/path-to/debias_nlu/data/nli/dev_prob_korn_lr_overlapping_sample_weight_3class.jsonl\n",
      "c:  [0.10867061 0.10867061 0.10867061]\n",
      "softmax(c):  [0.33333333 0.33333333 0.33333333]\n",
      "/path-to/debias_nlu/data/nli/dev_prob_korn_lr_overlapping_sample_weight_3class.jsonl\n",
      "te_c:  [0.53929943 0.53929943 0.53929943]\n",
      "unique_labels:  ['non-entailment', 'entailment']\n",
      "factual score:\n",
      "[0.6531, 0.6565, 0.6692333333333333, 0.6186666666666667, 0.6798]\n",
      "0.65546 0.02070043907210127\n",
      "factual F1: {'non-entailment': [0.47484483019629603, 0.48161376326776995, 0.5145065805567787, 0.3873179091688089, 0.5448256254738438], 'entailment': [0.7410098797999154, 0.7431519653049524, 0.7491721645054472, 0.7231900890437476, 0.7530337309749074], 'MAF1': array([0.60792735, 0.61238286, 0.63183937, 0.555254  , 0.64892968])} {'non-entailment_mean_sd': [0.48062174173269945, 0.05293445564906888], 'entailment_mean_sd': [0.741911565925794, 0.010288480667707933], 'MAF1_mean_sd': [0.6112666538292467, 0.03159605827617395]}\n",
      "TE:\n",
      "0.2936482500482253 0.005718883783984084\n",
      "TIE:\n",
      "0.1559348836626012 0.00570396555239\n",
      "TIE acc:\n",
      "[0.6659, 0.6697, 0.6783666666666667, 0.6288666666666667, 0.6902333333333334]\n",
      "0.6666133333333334 0.020644090895190537\n",
      "The minimal epsilon for which Algorithm A is almost stochastically greater than algorithm B is  0.003356554718597541\n",
      "since epsilon <= 0.5 we will claim that A is better than B with significance level alpha= 0.05\n",
      "None\n",
      "TIE F1: {'non-entailment': [0.5060858424087123, 0.512424346799193, 0.5367071589763288, 0.4148007989067592, 0.5695094269699356], 'entailment': [0.7475759941572016, 0.7502583360637145, 0.753682383274194, 0.7282667057158199, 0.7580766927862963], 'MAF1': array([0.62683092, 0.63134134, 0.64519477, 0.57153375, 0.66379306])} {'non-entailment_mean_sd': [0.5079055148121858, 0.0516077433602955], 'entailment_mean_sd': [0.7475720223994453, 0.010272255439666695], 'MAF1_mean_sd': [0.6277387686058156, 0.03091093826769885]}\n",
      "checking ASD.......\n",
      "TIE_MAF1:\n",
      "[0.62683092 0.63134134 0.64519477 0.57153375 0.66379306]\n",
      "factual_MAF1:\n",
      "[0.60792735 0.61238286 0.63183937 0.555254   0.64892968]\n",
      "The minimal epsilon for which Algorithm A is almost stochastically greater than algorithm B is  0.003284447415530792\n",
      "since epsilon <= 0.5 we will claim that A is better than B with significance level alpha= 0.05\n",
      "None\n",
      "NIE:\n",
      "0.208776494281916 0.007648212739384949\n",
      "NIE acc:\n",
      "[0.6531, 0.6565, 0.6692333333333333, 0.6186666666666667, 0.6798]\n",
      "0.65546 0.02070043907210127\n",
      "my query:\n",
      "[0.6825666666666667, 0.6849333333333333, 0.6910333333333334, 0.6427666666666667, 0.7027]\n",
      "0.6808 0.020253745881249265\n",
      "The minimal epsilon for which Algorithm A is almost stochastically greater than algorithm B is  0.00012756622079626063\n",
      "since epsilon <= 0.5 we will claim that A is better than B with significance level alpha= 0.05\n",
      "None\n",
      "my query F1: {'non-entailment': [0.5445501936964944, 0.5465361734791786, 0.5657124115635103, 0.4508889685914843, 0.5971362753511903], 'entailment': [0.7563889386303753, 0.7586065992440494, 0.760224538893344, 0.7352715954845245, 0.764427775283273], 'MAF1': array([0.65046957, 0.65257139, 0.66296848, 0.59308028, 0.68078203])} {'non-entailment_mean_sd': [0.5409648045363715, 0.048836931876534505], 'entailment_mean_sd': [0.7549838895071133, 0.010201216682851247], 'MAF1_mean_sd': [0.6479743470217423, 0.02946823678306887]}\n",
      "checking ASD.......\n",
      "my_causal_MAF1:\n",
      "[0.65046957 0.65257139 0.66296848 0.59308028 0.68078203]\n",
      "factual_MAF1:\n",
      "[0.60792735 0.61238286 0.63183937 0.555254   0.64892968]\n",
      "The minimal epsilon for which Algorithm A is almost stochastically greater than algorithm B is  0.00013388935945568998\n",
      "since epsilon <= 0.5 we will claim that A is better than B with significance level alpha= 0.05\n",
      "None\n"
     ]
    }
   ],
   "source": [
    "model_path='/path-to/nli_models/baseline/'\n",
    "task='nli'\n",
    "data_path='/path-to/debias_nlu/data/'\n",
    "fusion = fuse.sum_fuse\n",
    "test_set='mnli_hans'\n",
    "correction=True\n",
    "raw_factual_correct, raw_TIE = cma.report_CMA(model_path,task,data_path,test_set,fusion,correction=correction,return_raw=True)"
   ]
  },
  {
   "cell_type": "code",
   "execution_count": 4,
   "id": "27cafe9b",
   "metadata": {},
   "outputs": [],
   "source": [
    "import pandas as pd\n",
    "hans_raw = pd.read_json('/path-to/debias_nlu/data/nli/heuristics_evaluation_set.jsonl', lines=True)\n",
    "# hans_raw['TIE']=raw_TIE\n",
    "# hans_raw['factual_correct']=raw_factual_correct"
   ]
  },
  {
   "cell_type": "code",
   "execution_count": 5,
   "id": "e189da36",
   "metadata": {},
   "outputs": [
    {
     "name": "stdout",
     "output_type": "stream",
     "text": [
      "TIE0\n",
      "TIE1\n",
      "TIE2\n",
      "TIE3\n",
      "TIE4\n"
     ]
    }
   ],
   "source": [
    "for seed in range(len(raw_TIE)):\n",
    "    print('TIE'+str(seed))\n",
    "    hans_raw['TIE'+str(seed)]=raw_TIE[seed]\n",
    "    hans_raw['factual_correct'+str(seed)]=raw_factual_correct[seed]"
   ]
  },
  {
   "cell_type": "code",
   "execution_count": 6,
   "id": "6feee0d3",
   "metadata": {},
   "outputs": [],
   "source": [
    "hans_raw['TIE']=hans_raw[[\"TIE0\", \"TIE1\", \"TIE2\", \"TIE3\", \"TIE4\"]].mean(axis=1)\n",
    "hans_raw['factual_correct']=hans_raw[[\"factual_correct0\", \"factual_correct1\", \"factual_correct2\", \"factual_correct3\", \"factual_correct4\"]].mean(axis=1)\n",
    "\n"
   ]
  },
  {
   "cell_type": "code",
   "execution_count": 7,
   "id": "9cfc543c",
   "metadata": {},
   "outputs": [
    {
     "data": {
      "text/plain": [
       "heuristic        gold_label    \n",
       "constituent      entailment        0.99796\n",
       "                 non-entailment    0.14844\n",
       "lexical_overlap  entailment        0.97540\n",
       "                 non-entailment    0.70988\n",
       "subsequence      entailment        0.99480\n",
       "                 non-entailment    0.10628\n",
       "Name: factual_correct, dtype: float64"
      ]
     },
     "execution_count": 7,
     "metadata": {},
     "output_type": "execute_result"
    }
   ],
   "source": [
    "hans_raw.groupby(['heuristic','gold_label'])['factual_correct'].mean()"
   ]
  },
  {
   "cell_type": "code",
   "execution_count": 8,
   "id": "de4b9206",
   "metadata": {},
   "outputs": [
    {
     "data": {
      "text/plain": [
       "heuristic        gold_label    \n",
       "constituent      entailment        0.192268\n",
       "                 non-entailment    0.153821\n",
       "lexical_overlap  entailment        0.185674\n",
       "                 non-entailment    0.043978\n",
       "subsequence      entailment        0.192286\n",
       "                 non-entailment    0.167583\n",
       "Name: TIE, dtype: float64"
      ]
     },
     "execution_count": 8,
     "metadata": {},
     "output_type": "execute_result"
    }
   ],
   "source": [
    "hans_raw.groupby(['heuristic','gold_label'])['TIE'].mean()"
   ]
  },
  {
   "cell_type": "code",
   "execution_count": 9,
   "id": "1a4480cc",
   "metadata": {},
   "outputs": [
    {
     "data": {
      "text/plain": [
       "heuristic\n",
       "constituent        0.173044\n",
       "lexical_overlap    0.114826\n",
       "subsequence        0.179934\n",
       "Name: TIE, dtype: float64"
      ]
     },
     "execution_count": 9,
     "metadata": {},
     "output_type": "execute_result"
    }
   ],
   "source": [
    "hans_raw.groupby(['heuristic'])['TIE'].mean()"
   ]
  },
  {
   "cell_type": "code",
   "execution_count": 10,
   "id": "88ae9cb4",
   "metadata": {},
   "outputs": [
    {
     "data": {
      "text/plain": [
       "heuristic\n",
       "constituent        0.57320\n",
       "lexical_overlap    0.84264\n",
       "subsequence        0.55054\n",
       "Name: factual_correct, dtype: float64"
      ]
     },
     "execution_count": 10,
     "metadata": {},
     "output_type": "execute_result"
    }
   ],
   "source": [
    "hans_raw.groupby(['heuristic'])['factual_correct'].mean()"
   ]
  },
  {
   "cell_type": "code",
   "execution_count": 11,
   "id": "5a3d76b2",
   "metadata": {
    "scrolled": true
   },
   "outputs": [
    {
     "data": {
      "text/plain": [
       "subcase                         gold_label      heuristic      \n",
       "ce_adverb                       entailment      constituent        1.0000\n",
       "ce_after_since_clause           entailment      constituent        1.0000\n",
       "ce_conjunction                  entailment      constituent        1.0000\n",
       "ce_embedded_under_since         entailment      constituent        0.9930\n",
       "ce_embedded_under_verb          entailment      constituent        0.9968\n",
       "cn_adverb                       non-entailment  constituent        0.0846\n",
       "cn_after_if_clause              non-entailment  constituent        0.0038\n",
       "cn_disjunction                  non-entailment  constituent        0.0100\n",
       "cn_embedded_under_if            non-entailment  constituent        0.2526\n",
       "cn_embedded_under_verb          non-entailment  constituent        0.3912\n",
       "le_around_prepositional_phrase  entailment      lexical_overlap    0.9984\n",
       "le_around_relative_clause       entailment      lexical_overlap    0.9906\n",
       "le_conjunction                  entailment      lexical_overlap    0.9372\n",
       "le_passive                      entailment      lexical_overlap    0.9998\n",
       "le_relative_clause              entailment      lexical_overlap    0.9510\n",
       "ln_conjunction                  non-entailment  lexical_overlap    0.8244\n",
       "ln_passive                      non-entailment  lexical_overlap    0.1194\n",
       "ln_preposition                  non-entailment  lexical_overlap    0.8684\n",
       "ln_relative_clause              non-entailment  lexical_overlap    0.8062\n",
       "ln_subject/object_swap          non-entailment  lexical_overlap    0.9310\n",
       "se_PP_on_obj                    entailment      subsequence        0.9996\n",
       "se_adjective                    entailment      subsequence        1.0000\n",
       "se_conjunction                  entailment      subsequence        0.9744\n",
       "se_relative_clause_on_obj       entailment      subsequence        1.0000\n",
       "se_understood_object            entailment      subsequence        1.0000\n",
       "sn_NP/S                         non-entailment  subsequence        0.0032\n",
       "sn_NP/Z                         non-entailment  subsequence        0.0080\n",
       "sn_PP_on_subject                non-entailment  subsequence        0.2988\n",
       "sn_past_participle              non-entailment  subsequence        0.0100\n",
       "sn_relative_clause_on_subject   non-entailment  subsequence        0.2114\n",
       "Name: factual_correct, dtype: float64"
      ]
     },
     "execution_count": 11,
     "metadata": {},
     "output_type": "execute_result"
    }
   ],
   "source": [
    "hans_raw.groupby(['subcase','gold_label','heuristic'])['factual_correct'].mean()"
   ]
  },
  {
   "cell_type": "markdown",
   "id": "82cccb9b",
   "metadata": {},
   "source": [
    "## MNLI: reweight"
   ]
  },
  {
   "cell_type": "code",
   "execution_count": 27,
   "id": "ff74f121",
   "metadata": {},
   "outputs": [
    {
     "name": "stdout",
     "output_type": "stream",
     "text": [
      "/path-to/debias_nlu/data/nli/test_prob_korn_lr_overlapping_sample_weight_3class.jsonl\n",
      "/path-to/nli_models/korn_reweight/nli/ps/nli/outputs_bert_base_overlapping_korn_ps3class_4/raw_m.jsonl\n",
      "/path-to/debias_nlu/data/nli/dev_prob_korn_lr_overlapping_sample_weight_3class.jsonl\n",
      "c:  [0.10828184 0.10828184 0.10828184]\n",
      "softmax(c):  [0.33333333 0.33333333 0.33333333]\n",
      "/path-to/debias_nlu/data/nli/dev_prob_korn_lr_overlapping_sample_weight_3class.jsonl\n",
      "te_c:  [0.54186428 0.54186428 0.54186428]\n",
      "unique_labels:  ['contradiction', 'entailment', '-', 'neutral']\n",
      "/path-to/nli_models/korn_reweight/nli/ps/nli/outputs_bert_base_overlapping_korn_ps3class_3/raw_m.jsonl\n",
      "/path-to/debias_nlu/data/nli/dev_prob_korn_lr_overlapping_sample_weight_3class.jsonl\n",
      "c:  [0.10765512 0.10765512 0.10765512]\n",
      "softmax(c):  [0.33333333 0.33333333 0.33333333]\n",
      "/path-to/debias_nlu/data/nli/dev_prob_korn_lr_overlapping_sample_weight_3class.jsonl\n",
      "te_c:  [0.53824866 0.53824866 0.53824866]\n",
      "unique_labels:  ['contradiction', 'entailment', '-', 'neutral']\n",
      "/path-to/nli_models/korn_reweight/nli/ps/nli/outputs_bert_base_overlapping_korn_ps3class_5/raw_m.jsonl\n",
      "/path-to/debias_nlu/data/nli/dev_prob_korn_lr_overlapping_sample_weight_3class.jsonl\n",
      "c:  [0.10757641 0.10757641 0.10757641]\n",
      "softmax(c):  [0.33333333 0.33333333 0.33333333]\n",
      "/path-to/debias_nlu/data/nli/dev_prob_korn_lr_overlapping_sample_weight_3class.jsonl\n",
      "te_c:  [0.53830194 0.53830194 0.53830194]\n",
      "unique_labels:  ['contradiction', 'entailment', '-', 'neutral']\n",
      "/path-to/nli_models/korn_reweight/nli/ps/nli/outputs_bert_base_overlapping_korn_ps3class_1/raw_m.jsonl\n",
      "/path-to/debias_nlu/data/nli/dev_prob_korn_lr_overlapping_sample_weight_3class.jsonl\n",
      "c:  [0.10838681 0.10838681 0.10838681]\n",
      "softmax(c):  [0.33333333 0.33333333 0.33333333]\n",
      "/path-to/debias_nlu/data/nli/dev_prob_korn_lr_overlapping_sample_weight_3class.jsonl\n",
      "te_c:  [0.53961241 0.53961241 0.53961241]\n",
      "unique_labels:  ['contradiction', 'entailment', '-', 'neutral']\n",
      "/path-to/nli_models/korn_reweight/nli/ps/nli/outputs_bert_base_overlapping_korn_ps3class_2/raw_m.jsonl\n",
      "/path-to/debias_nlu/data/nli/dev_prob_korn_lr_overlapping_sample_weight_3class.jsonl\n",
      "c:  [0.10915054 0.10915054 0.10915054]\n",
      "softmax(c):  [0.33333333 0.33333333 0.33333333]\n",
      "/path-to/debias_nlu/data/nli/dev_prob_korn_lr_overlapping_sample_weight_3class.jsonl\n",
      "te_c:  [0.53999567 0.53999567 0.53999567]\n",
      "unique_labels:  ['contradiction', 'entailment', '-', 'neutral']\n",
      "factual score:\n",
      "[0.8483523189585028, 0.8466232709519935, 0.8486574450772986, 0.8489625711960944, 0.8494711147274207]\n",
      "0.8484133441822619 0.0009683181639879358\n",
      "factual F1: {'contradiction': [0.865883807169345, 0.8627149877149878, 0.8656902461826114, 0.8665119876256767, 0.8648482991112473], 'entailment': [0.8605882352941177, 0.8587453874538744, 0.8630096802581402, 0.8629411764705883, 0.8629471514794642], '-': [0.0, 0.0, 0.0, 0.0, 0.0], 'neutral': [0.7966463414634146, 0.7963330786860199, 0.7956337174044875, 0.7954926145880918, 0.7980961154613848], 'MAF1': array([0.6307796 , 0.62944836, 0.63108341, 0.63123644, 0.63147289])} {'contradiction_mean_sd': [0.8651298655607738, 0.001319365792214166], 'entailment_mean_sd': [0.8616463261912368, 0.0017182851854489539], '-_mean_sd': [0.0, 0.0], 'neutral_mean_sd': [0.7964403735206798, 0.0009321327623551709], 'MAF1_mean_sd': [0.6308041413181724, 0.0007142605420712012]}\n",
      "TE:\n",
      "0.05762937855328729 0.0007515343504627485\n",
      "TIE:\n",
      "0.0557191367478023 0.0007507867769800755\n",
      "TIE acc:\n",
      "[0.8474369406021155, 0.847233523189585, 0.8495728234336859, 0.8489625711960944, 0.8489625711960944]\n",
      "0.848433685923515 0.0009263871063251353\n",
      "The minimal epsilon for which Algorithm A is almost stochastically greater than algorithm B is  0.6377516703130502\n",
      "since epsilon > 0.5 we will claim that A is not better than B with significance level alpha= 0.05\n",
      "None\n",
      "TIE F1: {'contradiction': [0.8655241624208738, 0.863803680981595, 0.8660339194025206, 0.8664706792511216, 0.8646662584200857], 'entailment': [0.859499263622975, 0.8587453874538744, 0.8646903434106252, 0.862860506180106, 0.8618556701030928], '-': [0.0, 0.0, 0.0, 0.0, 0.0], 'neutral': [0.7954303122619956, 0.7970016827290806, 0.7962372932787135, 0.7956792940818499, 0.7978494623655914], 'MAF1': array([0.63011343, 0.62988769, 0.63174039, 0.63125262, 0.63109285])} {'contradiction_mean_sd': [0.8652997400952394, 0.0009591637030804838], 'entailment_mean_sd': [0.8615302341541348, 0.002179083989905065], '-_mean_sd': [0.0, 0.0], 'neutral_mean_sd': [0.7964396089434461, 0.0008878404947488682], 'MAF1_mean_sd': [0.6308173957982051, 0.0007038648500065195]}\n",
      "checking ASD.......\n",
      "TIE_MAF1:\n",
      "[0.63011343 0.62988769 0.63174039 0.63125262 0.63109285]\n",
      "factual_MAF1:\n",
      "[0.6307796  0.62944836 0.63108341 0.63123644 0.63147289]\n",
      "The minimal epsilon for which Algorithm A is almost stochastically greater than algorithm B is  0.6278837509476383\n",
      "since epsilon > 0.5 we will claim that A is not better than B with significance level alpha= 0.05\n",
      "None\n",
      "NIE:\n",
      "0.060372763392507314 0.000758235262907061\n",
      "NIE acc:\n",
      "[0.8483523189585028, 0.8466232709519935, 0.8486574450772986, 0.8489625711960944, 0.8494711147274207]\n",
      "0.8484133441822619 0.0009683181639879358\n",
      "my query:\n",
      "[0.8470301057770545, 0.846826688364524, 0.8504882017900732, 0.8484540276647681, 0.847233523189585]\n",
      "0.8480065093572009 0.0013639588782945644\n",
      "The minimal epsilon for which Algorithm A is almost stochastically greater than algorithm B is  0.7953701017302847\n",
      "since epsilon > 0.5 we will claim that A is not better than B with significance level alpha= 0.05\n",
      "None\n",
      "my query F1: {'contradiction': [0.8645978076269878, 0.8638871857755978, 0.8675784892757228, 0.8663366336633663, 0.864178647904558], 'entailment': [0.8594164456233422, 0.8580292509971931, 0.8651586368977673, 0.8624338624338623, 0.8594164456233422], '-': [0.0, 0.0, 0.0, 0.0, 0.0], 'neutral': [0.795250418632973, 0.7964520568894325, 0.7969650986342943, 0.7946374162096284, 0.7956361401352181], 'MAF1': array([0.62981617, 0.62959212, 0.63242556, 0.63085198, 0.62980781])} {'contradiction_mean_sd': [0.8653157528492464, 0.0014150216008000096], 'entailment_mean_sd': [0.8608909283151014, 0.0025741553072735394], '-_mean_sd': [0.0, 0.0], 'neutral_mean_sd': [0.7957882261003093, 0.0008321575205483452], 'MAF1_mean_sd': [0.6304987268161643, 0.0010585501853315484]}\n",
      "checking ASD.......\n",
      "my_causal_MAF1:\n",
      "[0.62981617 0.62959212 0.63242556 0.63085198 0.62980781]\n",
      "factual_MAF1:\n",
      "[0.6307796  0.62944836 0.63108341 0.63123644 0.63147289]\n",
      "The minimal epsilon for which Algorithm A is almost stochastically greater than algorithm B is  0.750498404057233\n",
      "since epsilon > 0.5 we will claim that A is not better than B with significance level alpha= 0.05\n",
      "None\n"
     ]
    }
   ],
   "source": [
    "model_path='/path-to/nli_models/korn_reweight/nli/ps/'\n",
    "task='nli'\n",
    "data_path='/path-to/debias_nlu/data/'\n",
    "fusion = fuse.sum_fuse\n",
    "test_set='mnli_dev_mm'\n",
    "correction=True\n",
    "raw_factual_correct, raw_TIE = cma.report_CMA(model_path,task,data_path,test_set,fusion,correction=correction,return_raw=True)"
   ]
  },
  {
   "cell_type": "code",
   "execution_count": 29,
   "id": "be9c30d2",
   "metadata": {
    "scrolled": true
   },
   "outputs": [
    {
     "name": "stdout",
     "output_type": "stream",
     "text": [
      "/path-to/debias_nlu/data/nli/hans_prob_korn_lr_overlapping_sample_weight_3class.jsonl\n",
      "/path-to/nli_models/korn_reweight/nli/ps/nli/outputs_bert_base_overlapping_korn_ps3class_4/raw_m.jsonl\n",
      "/path-to/debias_nlu/data/nli/dev_prob_korn_lr_overlapping_sample_weight_3class.jsonl\n",
      "c:  [0.10919103 0.10919103 0.10919103]\n",
      "softmax(c):  [0.33333333 0.33333333 0.33333333]\n",
      "/path-to/debias_nlu/data/nli/dev_prob_korn_lr_overlapping_sample_weight_3class.jsonl\n",
      "te_c:  [0.5409348 0.5409348 0.5409348]\n",
      "unique_labels:  ['non-entailment', 'entailment']\n",
      "/path-to/nli_models/korn_reweight/nli/ps/nli/outputs_bert_base_overlapping_korn_ps3class_3/raw_m.jsonl\n",
      "/path-to/debias_nlu/data/nli/dev_prob_korn_lr_overlapping_sample_weight_3class.jsonl\n",
      "c:  [0.1078878 0.1078878 0.1078878]\n",
      "softmax(c):  [0.33333333 0.33333333 0.33333333]\n",
      "/path-to/debias_nlu/data/nli/dev_prob_korn_lr_overlapping_sample_weight_3class.jsonl\n",
      "te_c:  [0.53800815 0.53800815 0.53800815]\n",
      "unique_labels:  ['non-entailment', 'entailment']\n",
      "/path-to/nli_models/korn_reweight/nli/ps/nli/outputs_bert_base_overlapping_korn_ps3class_5/raw_m.jsonl\n",
      "/path-to/debias_nlu/data/nli/dev_prob_korn_lr_overlapping_sample_weight_3class.jsonl\n",
      "c:  [0.10808118 0.10808118 0.10808118]\n",
      "softmax(c):  [0.33333333 0.33333333 0.33333333]\n",
      "/path-to/debias_nlu/data/nli/dev_prob_korn_lr_overlapping_sample_weight_3class.jsonl\n",
      "te_c:  [0.53887397 0.53887397 0.53887397]\n",
      "unique_labels:  ['non-entailment', 'entailment']\n",
      "/path-to/nli_models/korn_reweight/nli/ps/nli/outputs_bert_base_overlapping_korn_ps3class_1/raw_m.jsonl\n",
      "/path-to/debias_nlu/data/nli/dev_prob_korn_lr_overlapping_sample_weight_3class.jsonl\n",
      "c:  [0.10837655 0.10837655 0.10837655]\n",
      "softmax(c):  [0.33333333 0.33333333 0.33333333]\n",
      "/path-to/debias_nlu/data/nli/dev_prob_korn_lr_overlapping_sample_weight_3class.jsonl\n",
      "te_c:  [0.53885043 0.53885043 0.53885043]\n",
      "unique_labels:  ['non-entailment', 'entailment']\n",
      "/path-to/nli_models/korn_reweight/nli/ps/nli/outputs_bert_base_overlapping_korn_ps3class_2/raw_m.jsonl\n",
      "/path-to/debias_nlu/data/nli/dev_prob_korn_lr_overlapping_sample_weight_3class.jsonl\n",
      "c:  [0.10949574 0.10949574 0.10949574]\n",
      "softmax(c):  [0.33333333 0.33333333 0.33333333]\n",
      "/path-to/debias_nlu/data/nli/dev_prob_korn_lr_overlapping_sample_weight_3class.jsonl\n",
      "te_c:  [0.5404824 0.5404824 0.5404824]\n",
      "unique_labels:  ['non-entailment', 'entailment']\n",
      "factual score:\n",
      "[0.6723666666666667, 0.6816333333333333, 0.6511333333333333, 0.6496333333333333, 0.6934333333333333]\n",
      "0.6696399999999999 0.017088948995704158\n",
      "factual F1: {'non-entailment': [0.5189644203004943, 0.5383090829989848, 0.4727987104573847, 0.4670148572587597, 0.5647214728572105], 'entailment': [0.7515859175575605, 0.7570523745325973, 0.7393145362160009, 0.7390451600089376, 0.7633968768490649], 'MAF1': array([0.63527517, 0.64768073, 0.60605662, 0.60303001, 0.66405917])} {'non-entailment_mean_sd': [0.5123617087745668, 0.03762970821483666], 'entailment_mean_sd': [0.7500789730328321, 0.009652812047955562], 'MAF1_mean_sd': [0.6312203409036996, 0.02363760787102167]}\n",
      "TE:\n",
      "0.29217122959475245 0.0036682001926721676\n",
      "TIE:\n",
      "0.15444405066714612 0.003636319670582654\n",
      "TIE acc:\n",
      "[0.6820333333333334, 0.6960333333333333, 0.6645666666666666, 0.6620666666666667, 0.7041]\n",
      "0.6817599999999999 0.01665122484650568\n",
      "The minimal epsilon for which Algorithm A is almost stochastically greater than algorithm B is  0.0003974538994400464\n",
      "since epsilon <= 0.5 we will claim that A is better than B with significance level alpha= 0.05\n",
      "None\n",
      "TIE F1: {'non-entailment': [0.541592580133596, 0.5702841524904575, 0.5053821577783238, 0.49667361731704895, 0.5881697981906749], 'entailment': [0.7566022811359749, 0.764846953247892, 0.746236287983861, 0.74564704701691, 0.769098712446352], 'MAF1': array([0.64909743, 0.66756555, 0.62580922, 0.62116033, 0.67863426])} {'non-entailment_mean_sd': [0.5404204611820203, 0.035537816927110236], 'entailment_mean_sd': [0.7564862563661979, 0.009503042393098994], 'MAF1_mean_sd': [0.648453358774109, 0.02251330051161805]}\n",
      "checking ASD.......\n",
      "TIE_MAF1:\n",
      "[0.64909743 0.66756555 0.62580922 0.62116033 0.67863426]\n",
      "factual_MAF1:\n",
      "[0.63527517 0.64768073 0.60605662 0.60303001 0.66405917]\n",
      "The minimal epsilon for which Algorithm A is almost stochastically greater than algorithm B is  0.0003077330337231128\n",
      "since epsilon <= 0.5 we will claim that A is better than B with significance level alpha= 0.05\n",
      "None\n",
      "NIE:\n",
      "0.20679190209482784 0.00484671778555978\n",
      "NIE acc:\n",
      "[0.6723666666666667, 0.6816333333333333, 0.6511333333333333, 0.6496333333333333, 0.6934333333333333]\n",
      "0.6696399999999999 0.017088948995704158\n",
      "my query:\n",
      "[0.6913, 0.7108, 0.6783666666666667, 0.6773333333333333, 0.7157]\n",
      "0.6947 0.016000930528496698\n",
      "The minimal epsilon for which Algorithm A is almost stochastically greater than algorithm B is  0.0\n",
      "since epsilon = 0, algorithm A is stochatically dominant over B\n",
      "None\n",
      "my query F1: {'non-entailment': [0.5633045692460037, 0.6008832459287884, 0.5378167361210903, 0.5316431197987227, 0.6126527090240247], 'entailment': [0.7612713633903023, 0.7732476085933825, 0.7533675842854588, 0.7538899623716059, 0.7754403517548246], 'MAF1': array([0.66228797, 0.68706543, 0.64559216, 0.64276654, 0.69404653])} {'non-entailment_mean_sd': [0.569260076023726, 0.032625549970503334], 'entailment_mean_sd': [0.7634433740791149, 0.009354756366829272], 'MAF1_mean_sd': [0.6663517250514204, 0.020975196172571802]}\n",
      "checking ASD.......\n",
      "my_causal_MAF1:\n",
      "[0.66228797 0.68706543 0.64559216 0.64276654 0.69404653]\n",
      "factual_MAF1:\n",
      "[0.63527517 0.64768073 0.60605662 0.60303001 0.66405917]\n",
      "The minimal epsilon for which Algorithm A is almost stochastically greater than algorithm B is  0.0\n",
      "since epsilon = 0, algorithm A is stochatically dominant over B\n",
      "None\n"
     ]
    }
   ],
   "source": [
    "model_path='/path-to/nli_models/korn_reweight/nli/ps/'\n",
    "task='nli'\n",
    "data_path='/path-to/debias_nlu/data/'\n",
    "fusion = fuse.sum_fuse\n",
    "test_set='mnli_hans'\n",
    "correction=True\n",
    "raw_factual_correct, raw_TIE = cma.report_CMA(model_path,task,data_path,test_set,fusion,correction=correction,return_raw=True)"
   ]
  },
  {
   "cell_type": "code",
   "execution_count": 30,
   "id": "127c8db4",
   "metadata": {},
   "outputs": [],
   "source": [
    "import pandas as pd\n",
    "hans_raw = pd.read_json('/path-to/debias_nlu/data/nli/heuristics_evaluation_set.jsonl', lines=True)\n",
    "# hans_raw['TIE']=raw_TIE\n",
    "# hans_raw['factual_correct']=raw_factual_correct"
   ]
  },
  {
   "cell_type": "code",
   "execution_count": 31,
   "id": "c3f3efd0",
   "metadata": {},
   "outputs": [
    {
     "name": "stdout",
     "output_type": "stream",
     "text": [
      "TIE0\n",
      "TIE1\n",
      "TIE2\n",
      "TIE3\n",
      "TIE4\n"
     ]
    }
   ],
   "source": [
    "for seed in range(len(raw_TIE)):\n",
    "    print('TIE'+str(seed))\n",
    "    hans_raw['TIE'+str(seed)]=raw_TIE[seed]\n",
    "    hans_raw['factual_correct'+str(seed)]=raw_factual_correct[seed]"
   ]
  },
  {
   "cell_type": "code",
   "execution_count": 32,
   "id": "88da4084",
   "metadata": {},
   "outputs": [],
   "source": [
    "hans_raw['TIE']=hans_raw[[\"TIE0\", \"TIE1\", \"TIE2\", \"TIE3\", \"TIE4\"]].mean(axis=1)\n",
    "hans_raw['factual_correct']=hans_raw[[\"factual_correct0\", \"factual_correct1\", \"factual_correct2\", \"factual_correct3\", \"factual_correct4\"]].mean(axis=1)\n",
    "\n"
   ]
  },
  {
   "cell_type": "code",
   "execution_count": 33,
   "id": "1c9ed440",
   "metadata": {},
   "outputs": [
    {
     "data": {
      "text/plain": [
       "heuristic        gold_label    \n",
       "constituent      entailment        0.99764\n",
       "                 non-entailment    0.23736\n",
       "lexical_overlap  entailment        0.97900\n",
       "                 non-entailment    0.69768\n",
       "subsequence      entailment        0.99584\n",
       "                 non-entailment    0.11032\n",
       "Name: factual_correct, dtype: float64"
      ]
     },
     "execution_count": 33,
     "metadata": {},
     "output_type": "execute_result"
    }
   ],
   "source": [
    "hans_raw.groupby(['heuristic','gold_label'])['factual_correct'].mean()"
   ]
  },
  {
   "cell_type": "code",
   "execution_count": 34,
   "id": "54a6a20d",
   "metadata": {},
   "outputs": [
    {
     "data": {
      "text/plain": [
       "heuristic        gold_label    \n",
       "constituent      entailment        0.192221\n",
       "                 non-entailment    0.140077\n",
       "lexical_overlap  entailment        0.187244\n",
       "                 non-entailment    0.046601\n",
       "subsequence      entailment        0.193018\n",
       "                 non-entailment    0.167503\n",
       "Name: TIE, dtype: float64"
      ]
     },
     "execution_count": 34,
     "metadata": {},
     "output_type": "execute_result"
    }
   ],
   "source": [
    "hans_raw.groupby(['heuristic','gold_label'])['TIE'].mean()"
   ]
  },
  {
   "cell_type": "code",
   "execution_count": 35,
   "id": "de06bcd8",
   "metadata": {},
   "outputs": [
    {
     "data": {
      "text/plain": [
       "heuristic\n",
       "constituent        0.166149\n",
       "lexical_overlap    0.116923\n",
       "subsequence        0.180261\n",
       "Name: TIE, dtype: float64"
      ]
     },
     "execution_count": 35,
     "metadata": {},
     "output_type": "execute_result"
    }
   ],
   "source": [
    "hans_raw.groupby(['heuristic'])['TIE'].mean()"
   ]
  },
  {
   "cell_type": "code",
   "execution_count": 36,
   "id": "b9b4cb2a",
   "metadata": {},
   "outputs": [
    {
     "data": {
      "text/plain": [
       "heuristic\n",
       "constituent        0.61750\n",
       "lexical_overlap    0.83834\n",
       "subsequence        0.55308\n",
       "Name: factual_correct, dtype: float64"
      ]
     },
     "execution_count": 36,
     "metadata": {},
     "output_type": "execute_result"
    }
   ],
   "source": [
    "hans_raw.groupby(['heuristic'])['factual_correct'].mean()"
   ]
  },
  {
   "cell_type": "code",
   "execution_count": 37,
   "id": "2ef20ff2",
   "metadata": {
    "scrolled": true
   },
   "outputs": [
    {
     "data": {
      "text/plain": [
       "subcase                         gold_label      heuristic      \n",
       "ce_adverb                       entailment      constituent        1.0000\n",
       "ce_after_since_clause           entailment      constituent        1.0000\n",
       "ce_conjunction                  entailment      constituent        1.0000\n",
       "ce_embedded_under_since         entailment      constituent        0.9956\n",
       "ce_embedded_under_verb          entailment      constituent        0.9926\n",
       "cn_adverb                       non-entailment  constituent        0.2100\n",
       "cn_after_if_clause              non-entailment  constituent        0.0054\n",
       "cn_disjunction                  non-entailment  constituent        0.0640\n",
       "cn_embedded_under_if            non-entailment  constituent        0.3884\n",
       "cn_embedded_under_verb          non-entailment  constituent        0.5190\n",
       "le_around_prepositional_phrase  entailment      lexical_overlap    0.9984\n",
       "le_around_relative_clause       entailment      lexical_overlap    0.9868\n",
       "le_conjunction                  entailment      lexical_overlap    0.9444\n",
       "le_passive                      entailment      lexical_overlap    0.9992\n",
       "le_relative_clause              entailment      lexical_overlap    0.9662\n",
       "ln_conjunction                  non-entailment  lexical_overlap    0.8372\n",
       "ln_passive                      non-entailment  lexical_overlap    0.0882\n",
       "ln_preposition                  non-entailment  lexical_overlap    0.8570\n",
       "ln_relative_clause              non-entailment  lexical_overlap    0.7782\n",
       "ln_subject/object_swap          non-entailment  lexical_overlap    0.9278\n",
       "se_PP_on_obj                    entailment      subsequence        1.0000\n",
       "se_adjective                    entailment      subsequence        1.0000\n",
       "se_conjunction                  entailment      subsequence        0.9792\n",
       "se_relative_clause_on_obj       entailment      subsequence        1.0000\n",
       "se_understood_object            entailment      subsequence        1.0000\n",
       "sn_NP/S                         non-entailment  subsequence        0.0102\n",
       "sn_NP/Z                         non-entailment  subsequence        0.0090\n",
       "sn_PP_on_subject                non-entailment  subsequence        0.3050\n",
       "sn_past_participle              non-entailment  subsequence        0.0224\n",
       "sn_relative_clause_on_subject   non-entailment  subsequence        0.2050\n",
       "Name: factual_correct, dtype: float64"
      ]
     },
     "execution_count": 37,
     "metadata": {},
     "output_type": "execute_result"
    }
   ],
   "source": [
    "hans_raw.groupby(['subcase','gold_label','heuristic'])['factual_correct'].mean()"
   ]
  },
  {
   "cell_type": "markdown",
   "id": "3937899c",
   "metadata": {},
   "source": [
    "## MNLI: PoE"
   ]
  },
  {
   "cell_type": "code",
   "execution_count": 16,
   "id": "f6d87e66",
   "metadata": {},
   "outputs": [
    {
     "name": "stdout",
     "output_type": "stream",
     "text": [
      "/path-to/debias_nlu/data/nli/test_prob_korn_lr_overlapping_sample_weight_3class.jsonl\n",
      "/path-to/nli_models/poe3/nli/outputs_poe_bert_base_korn_clark_1_seed33370/raw_m.jsonl\n",
      "/path-to/debias_nlu/data/nli/dev_prob_korn_lr_overlapping_sample_weight_3class.jsonl\n",
      "c:  [0.11374209 0.11374209 0.11374209]\n",
      "softmax(c):  [0.33333333 0.33333333 0.33333333]\n",
      "/path-to/debias_nlu/data/nli/dev_prob_korn_lr_overlapping_sample_weight_3class.jsonl\n",
      "te_c:  [0.55012333 0.55012333 0.55012333]\n",
      "unique_labels:  ['contradiction', 'entailment', '-', 'neutral']\n",
      "/path-to/nli_models/poe3/nli/outputs_poe_bert_base_korn_clark_1_seed43370/raw_m.jsonl\n",
      "/path-to/debias_nlu/data/nli/dev_prob_korn_lr_overlapping_sample_weight_3class.jsonl\n",
      "c:  [0.11559548 0.11559548 0.11559548]\n",
      "softmax(c):  [0.33333333 0.33333333 0.33333333]\n",
      "/path-to/debias_nlu/data/nli/dev_prob_korn_lr_overlapping_sample_weight_3class.jsonl\n",
      "te_c:  [0.54935926 0.54935926 0.54935926]\n",
      "unique_labels:  ['contradiction', 'entailment', '-', 'neutral']\n",
      "/path-to/nli_models/poe3/nli/outputs_poe_bert_base_korn_clark_1_seed23370/raw_m.jsonl\n",
      "/path-to/debias_nlu/data/nli/dev_prob_korn_lr_overlapping_sample_weight_3class.jsonl\n",
      "c:  [0.11367407 0.11367407 0.11367407]\n",
      "softmax(c):  [0.33333333 0.33333333 0.33333333]\n",
      "/path-to/debias_nlu/data/nli/dev_prob_korn_lr_overlapping_sample_weight_3class.jsonl\n",
      "te_c:  [0.54974449 0.54974449 0.54974449]\n",
      "unique_labels:  ['contradiction', 'entailment', '-', 'neutral']\n",
      "/path-to/nli_models/poe3/nli/outputs_poe_bert_base_korn_clark_1_seed53370/raw_m.jsonl\n",
      "/path-to/debias_nlu/data/nli/dev_prob_korn_lr_overlapping_sample_weight_3class.jsonl\n",
      "c:  [0.1162716 0.1162716 0.1162716]\n",
      "softmax(c):  [0.33333333 0.33333333 0.33333333]\n",
      "/path-to/debias_nlu/data/nli/dev_prob_korn_lr_overlapping_sample_weight_3class.jsonl\n",
      "te_c:  [0.54785311 0.54785311 0.54785311]\n",
      "unique_labels:  ['contradiction', 'entailment', '-', 'neutral']\n",
      "/path-to/nli_models/poe3/nli/outputs_poe_bert_base_korn_clark_1_seed13370/raw_m.jsonl\n",
      "/path-to/debias_nlu/data/nli/dev_prob_korn_lr_overlapping_sample_weight_3class.jsonl\n",
      "c:  [0.11441688 0.11441688 0.11441688]\n",
      "softmax(c):  [0.33333333 0.33333333 0.33333333]\n",
      "/path-to/debias_nlu/data/nli/dev_prob_korn_lr_overlapping_sample_weight_3class.jsonl\n",
      "te_c:  [0.54894698 0.54894698 0.54894698]\n",
      "unique_labels:  ['contradiction', 'entailment', '-', 'neutral']\n",
      "factual score:\n",
      "[0.8409275834011392, 0.8411310008136696, 0.8441822620016274, 0.8406224572823434, 0.8434703010577705]\n",
      "0.84206672091131 0.001463192067400687\n",
      "factual F1: {'contradiction': [0.8585094892763463, 0.863005245294662, 0.8658405996634542, 0.8597438666872396, 0.8645978076269878], 'entailment': [0.853752595668941, 0.8522255192878339, 0.8545914570620627, 0.8560505807969415, 0.8569752090362329], '-': [0.0, 0.0, 0.0, 0.0, 0.0], 'neutral': [0.789226811923135, 0.7869894099848713, 0.7904501216545012, 0.7841221374045801, 0.7867849495258489], 'MAF1': array([0.62537222, 0.62555504, 0.62772054, 0.62497915, 0.62708949])} {'contradiction_mean_sd': [0.8623394017097381, 0.0028002558232498686], 'entailment_mean_sd': [0.8547190723704023, 0.0016751857927899778], '-_mean_sd': [0.0, 0.0], 'neutral_mean_sd': [0.7875146860985873, 0.0021847642364543267], 'MAF1_mean_sd': [0.6261432900446819, 0.001065723827298993]}\n",
      "TE:\n",
      "0.05468549512582149 0.0011042927323339001\n",
      "TIE:\n",
      "0.05278862950463957 0.0011045285112846494\n",
      "TIE acc:\n",
      "[0.8398087876322213, 0.8401139137510171, 0.8434703010577705, 0.8387917005695688, 0.8441822620016274]\n",
      "0.8412733930024411 0.0021417834724515765\n",
      "The minimal epsilon for which Algorithm A is almost stochastically greater than algorithm B is  1.0\n",
      "since epsilon > 0.5 we will claim that A is not better than B with significance level alpha= 0.05\n",
      "None\n",
      "TIE F1: {'contradiction': [0.8584658126254052, 0.8622976098689283, 0.8655757761125554, 0.8592135697764071, 0.8649899706835366], 'entailment': [0.8522204069508392, 0.8512090194333186, 0.8543776057176892, 0.8534825504343984, 0.8585251429409179], '-': [0.0, 0.0, 0.0, 0.0, 0.0], 'neutral': [0.7876132930513595, 0.7856494096276112, 0.788809487608332, 0.7818791946308724, 0.7868300153139357], 'MAF1': array([0.62457488, 0.62478901, 0.62719072, 0.62364383, 0.62758628])} {'contradiction_mean_sd': [0.8621085478133665, 0.0028986352575092193], 'entailment_mean_sd': [0.8539629450954326, 0.002523367487353503], '-_mean_sd': [0.0, 0.0], 'neutral_mean_sd': [0.7861562800464221, 0.0023734655568260444], 'MAF1_mean_sd': [0.6255569432388053, 0.0015492976170990219]}\n",
      "checking ASD.......\n",
      "TIE_MAF1:\n",
      "[0.62457488 0.62478901 0.62719072 0.62364383 0.62758628]\n",
      "factual_MAF1:\n",
      "[0.62537222 0.62555504 0.62772054 0.62497915 0.62708949]\n",
      "The minimal epsilon for which Algorithm A is almost stochastically greater than algorithm B is  1.0\n",
      "since epsilon > 0.5 we will claim that A is not better than B with significance level alpha= 0.05\n",
      "None\n",
      "NIE:\n",
      "0.05678675430088261 0.0011408188029446993\n",
      "NIE acc:\n",
      "[0.8409275834011392, 0.8411310008136696, 0.8441822620016274, 0.8406224572823434, 0.8434703010577705]\n",
      "0.84206672091131 0.001463192067400687\n",
      "my query:\n",
      "[0.8379780309194467, 0.8375711960943857, 0.8418429617575265, 0.8377746135069162, 0.8419446704637917]\n",
      "0.8394222945484133 0.0020223415006731848\n",
      "The minimal epsilon for which Algorithm A is almost stochastically greater than algorithm B is  1.0\n",
      "since epsilon > 0.5 we will claim that A is not better than B with significance level alpha= 0.05\n",
      "None\n",
      "my query F1: {'contradiction': [0.8580246913580247, 0.8606658446362515, 0.865137614678899, 0.8600956347370045, 0.863313792039494], 'entailment': [0.8494495685807796, 0.8476840855106889, 0.8519457283435217, 0.8515406162464987, 0.8555914294100382], '-': [0.0, 0.0, 0.0, 0.0, 0.0], 'neutral': [0.7855203619909501, 0.7832929782082325, 0.7869400151860289, 0.7800791958574476, 0.7848837209302326], 'MAF1': array([0.62324866, 0.62291073, 0.62600584, 0.62292886, 0.62594724])} {'contradiction_mean_sd': [0.8614475154899347, 0.002500165439144241], 'entailment_mean_sd': [0.8512422856183054, 0.0026598310824194624], '-_mean_sd': [0.0, 0.0], 'neutral_mean_sd': [0.7841432544345783, 0.002345469178364786], 'MAF1_mean_sd': [0.6242082638857045, 0.001448904471353002]}\n",
      "checking ASD.......\n",
      "my_causal_MAF1:\n",
      "[0.62324866 0.62291073 0.62600584 0.62292886 0.62594724]\n",
      "factual_MAF1:\n",
      "[0.62537222 0.62555504 0.62772054 0.62497915 0.62708949]\n",
      "The minimal epsilon for which Algorithm A is almost stochastically greater than algorithm B is  1.0\n",
      "since epsilon > 0.5 we will claim that A is not better than B with significance level alpha= 0.05\n",
      "None\n"
     ]
    }
   ],
   "source": [
    "model_path='/path-to/nli_models/poe3/'\n",
    "task='nli'\n",
    "data_path='/path-to/debias_nlu/data/'\n",
    "fusion = fuse.sum_fuse\n",
    "test_set='mnli_dev_mm'\n",
    "correction=True\n",
    "raw_factual_correct, raw_TIE = cma.report_CMA(model_path,task,data_path,test_set,fusion,correction=correction,return_raw=True)"
   ]
  },
  {
   "cell_type": "code",
   "execution_count": 17,
   "id": "2d90d237",
   "metadata": {},
   "outputs": [
    {
     "name": "stdout",
     "output_type": "stream",
     "text": [
      "/path-to/debias_nlu/data/nli/hans_prob_korn_lr_overlapping_sample_weight_3class.jsonl\n",
      "/path-to/nli_models/poe3/nli/outputs_poe_bert_base_korn_clark_1_seed33370/raw_m.jsonl\n",
      "/path-to/debias_nlu/data/nli/dev_prob_korn_lr_overlapping_sample_weight_3class.jsonl\n",
      "c:  [0.11428648 0.11428648 0.11428648]\n",
      "softmax(c):  [0.33333333 0.33333333 0.33333333]\n",
      "/path-to/debias_nlu/data/nli/dev_prob_korn_lr_overlapping_sample_weight_3class.jsonl\n",
      "te_c:  [0.54970288 0.54970288 0.54970288]\n",
      "unique_labels:  ['non-entailment', 'entailment']\n",
      "/path-to/nli_models/poe3/nli/outputs_poe_bert_base_korn_clark_1_seed43370/raw_m.jsonl\n",
      "/path-to/debias_nlu/data/nli/dev_prob_korn_lr_overlapping_sample_weight_3class.jsonl\n",
      "c:  [0.11682559 0.11682559 0.11682559]\n",
      "softmax(c):  [0.33333333 0.33333333 0.33333333]\n",
      "/path-to/debias_nlu/data/nli/dev_prob_korn_lr_overlapping_sample_weight_3class.jsonl\n",
      "te_c:  [0.5487138 0.5487138 0.5487138]\n",
      "unique_labels:  ['non-entailment', 'entailment']\n",
      "/path-to/nli_models/poe3/nli/outputs_poe_bert_base_korn_clark_1_seed23370/raw_m.jsonl\n",
      "/path-to/debias_nlu/data/nli/dev_prob_korn_lr_overlapping_sample_weight_3class.jsonl\n",
      "c:  [0.11453812 0.11453812 0.11453812]\n",
      "softmax(c):  [0.33333333 0.33333333 0.33333333]\n",
      "/path-to/debias_nlu/data/nli/dev_prob_korn_lr_overlapping_sample_weight_3class.jsonl\n",
      "te_c:  [0.54816198 0.54816198 0.54816198]\n",
      "unique_labels:  ['non-entailment', 'entailment']\n",
      "/path-to/nli_models/poe3/nli/outputs_poe_bert_base_korn_clark_1_seed53370/raw_m.jsonl\n",
      "/path-to/debias_nlu/data/nli/dev_prob_korn_lr_overlapping_sample_weight_3class.jsonl\n",
      "c:  [0.11465859 0.11465859 0.11465859]\n",
      "softmax(c):  [0.33333333 0.33333333 0.33333333]\n",
      "/path-to/debias_nlu/data/nli/dev_prob_korn_lr_overlapping_sample_weight_3class.jsonl\n",
      "te_c:  [0.54855281 0.54855281 0.54855281]\n",
      "unique_labels:  ['non-entailment', 'entailment']\n",
      "/path-to/nli_models/poe3/nli/outputs_poe_bert_base_korn_clark_1_seed13370/raw_m.jsonl\n",
      "/path-to/debias_nlu/data/nli/dev_prob_korn_lr_overlapping_sample_weight_3class.jsonl\n",
      "c:  [0.11312814 0.11312814 0.11312814]\n",
      "softmax(c):  [0.33333333 0.33333333 0.33333333]\n",
      "/path-to/debias_nlu/data/nli/dev_prob_korn_lr_overlapping_sample_weight_3class.jsonl\n",
      "te_c:  [0.54838586 0.54838586 0.54838586]\n",
      "unique_labels:  ['non-entailment', 'entailment']\n",
      "factual score:\n",
      "[0.7154333333333334, 0.693, 0.6797, 0.7172, 0.6874666666666667]\n",
      "0.69856 0.015111811421680877\n",
      "factual F1: {'non-entailment': [0.6140771212874643, 0.5785668527500687, 0.5429726516052319, 0.6222281592305636, 0.553481283931803], 'entailment': [0.7746244621030123, 0.7585592198395638, 0.7534573444515716, 0.7740131053220393, 0.7596020716886314], 'MAF1': array([0.69435079, 0.66856304, 0.648215  , 0.69812063, 0.65654168])} {'non-entailment_mean_sd': [0.5822652137610264, 0.031607380158500474], 'entailment_mean_sd': [0.7640512406809636, 0.008639673527751017], 'MAF1_mean_sd': [0.673158227220995, 0.019958139350466704]}\n",
      "TE:\n",
      "0.278299945468106 0.005284119745314269\n",
      "TIE:\n",
      "0.14111882541387938 0.005230467299492882\n",
      "TIE acc:\n",
      "[0.728, 0.7033666666666667, 0.6884, 0.7292, 0.6980666666666666]\n",
      "0.7094066666666666 0.01639417782832266\n",
      "The minimal epsilon for which Algorithm A is almost stochastically greater than algorithm B is  0.0011864736037631072\n",
      "since epsilon <= 0.5 we will claim that A is better than B with significance level alpha= 0.05\n",
      "None\n",
      "TIE F1: {'non-entailment': [0.640496960084589, 0.6040137053352913, 0.5651283959806476, 0.6483725761772853, 0.5770846951162573], 'entailment': [0.7812449734598682, 0.7628640712020679, 0.757220029087887, 0.7798135299219427, 0.7652273080711213], 'MAF1': array([0.71087097, 0.68343889, 0.66117421, 0.71409305, 0.671156  ])} {'non-entailment_mean_sd': [0.6070192665388141, 0.03313852496331553], 'entailment_mean_sd': [0.7692739823485775, 0.00956187234868481], 'MAF1_mean_sd': [0.6881466244436958, 0.02110908780882283]}\n",
      "checking ASD.......\n",
      "TIE_MAF1:\n",
      "[0.71087097 0.68343889 0.66117421 0.71409305 0.671156  ]\n",
      "factual_MAF1:\n",
      "[0.69435079 0.66856304 0.648215   0.69812063 0.65654168]\n",
      "The minimal epsilon for which Algorithm A is almost stochastically greater than algorithm B is  0.0005239353658984218\n",
      "since epsilon <= 0.5 we will claim that A is better than B with significance level alpha= 0.05\n",
      "None\n",
      "NIE:\n",
      "0.18890080600760648 0.007028298103203222\n",
      "NIE acc:\n",
      "[0.7154333333333334, 0.693, 0.6797, 0.7172, 0.6874666666666667]\n",
      "0.69856 0.015111811421680877\n",
      "my query:\n",
      "[0.7442, 0.7154333333333334, 0.6994333333333334, 0.7425333333333334, 0.7103666666666667]\n",
      "0.7223933333333334 0.017896336062011246\n",
      "The minimal epsilon for which Algorithm A is almost stochastically greater than algorithm B is  0.0\n",
      "since epsilon = 0, algorithm A is stochatically dominant over B\n",
      "None\n",
      "my query F1: {'non-entailment': [0.672778441071124, 0.6326117829323923, 0.5927096978183296, 0.6778445111778445, 0.6052069607887682], 'entailment': [0.7900295501805844, 0.7677828251230857, 0.7618393597633448, 0.7855873861869865, 0.7712879366165671], 'MAF1': array([0.731404  , 0.7001973 , 0.67727453, 0.73171595, 0.68824745])} {'non-entailment_mean_sd': [0.6362302787576917, 0.03445894149142045], 'entailment_mean_sd': [0.7753054115741136, 0.01073855877630083], 'MAF1_mean_sd': [0.7057678451659027, 0.02227276626447384]}\n",
      "checking ASD.......\n",
      "my_causal_MAF1:\n",
      "[0.731404   0.7001973  0.67727453 0.73171595 0.68824745]\n",
      "factual_MAF1:\n",
      "[0.69435079 0.66856304 0.648215   0.69812063 0.65654168]\n",
      "The minimal epsilon for which Algorithm A is almost stochastically greater than algorithm B is  0.0\n",
      "since epsilon = 0, algorithm A is stochatically dominant over B\n",
      "None\n"
     ]
    }
   ],
   "source": [
    "model_path='/path-to/nli_models/poe3/'\n",
    "task='nli'\n",
    "data_path='/path-to/debias_nlu/data/'\n",
    "fusion = fuse.sum_fuse\n",
    "test_set='mnli_hans'\n",
    "correction=True\n",
    "raw_factual_correct, raw_TIE = cma.report_CMA(model_path,task,data_path,test_set,fusion,correction=correction,return_raw=True)"
   ]
  },
  {
   "cell_type": "code",
   "execution_count": 18,
   "id": "7e69d9dc",
   "metadata": {},
   "outputs": [],
   "source": [
    "import pandas as pd\n",
    "hans_raw = pd.read_json('/path-to/debias_nlu/data/nli/heuristics_evaluation_set.jsonl', lines=True)\n",
    "# hans_raw['TIE']=raw_TIE\n",
    "# hans_raw['factual_correct']=raw_factual_correct"
   ]
  },
  {
   "cell_type": "code",
   "execution_count": 19,
   "id": "43788c66",
   "metadata": {},
   "outputs": [
    {
     "name": "stdout",
     "output_type": "stream",
     "text": [
      "TIE0\n",
      "TIE1\n",
      "TIE2\n",
      "TIE3\n",
      "TIE4\n"
     ]
    }
   ],
   "source": [
    "for seed in range(len(raw_TIE)):\n",
    "    print('TIE'+str(seed))\n",
    "    hans_raw['TIE'+str(seed)]=raw_TIE[seed]\n",
    "    hans_raw['factual_correct'+str(seed)]=raw_factual_correct[seed]"
   ]
  },
  {
   "cell_type": "code",
   "execution_count": 20,
   "id": "35496675",
   "metadata": {},
   "outputs": [],
   "source": [
    "hans_raw['TIE']=hans_raw[[\"TIE0\", \"TIE1\", \"TIE2\", \"TIE3\", \"TIE4\"]].mean(axis=1)\n",
    "hans_raw['factual_correct']=hans_raw[[\"factual_correct0\", \"factual_correct1\", \"factual_correct2\", \"factual_correct3\", \"factual_correct4\"]].mean(axis=1)\n",
    "\n"
   ]
  },
  {
   "cell_type": "code",
   "execution_count": 21,
   "id": "7ce30468",
   "metadata": {},
   "outputs": [
    {
     "data": {
      "text/plain": [
       "heuristic        gold_label    \n",
       "constituent      entailment        0.99072\n",
       "                 non-entailment    0.37004\n",
       "lexical_overlap  entailment        0.94652\n",
       "                 non-entailment    0.75716\n",
       "subsequence      entailment        0.98932\n",
       "                 non-entailment    0.13760\n",
       "Name: factual_correct, dtype: float64"
      ]
     },
     "execution_count": 21,
     "metadata": {},
     "output_type": "execute_result"
    }
   ],
   "source": [
    "hans_raw.groupby(['heuristic','gold_label'])['factual_correct'].mean()"
   ]
  },
  {
   "cell_type": "code",
   "execution_count": 22,
   "id": "ba77319e",
   "metadata": {},
   "outputs": [
    {
     "data": {
      "text/plain": [
       "heuristic        gold_label    \n",
       "constituent      entailment        0.185447\n",
       "                 non-entailment    0.114467\n",
       "lexical_overlap  entailment        0.174644\n",
       "                 non-entailment    0.030620\n",
       "subsequence      entailment        0.187108\n",
       "                 non-entailment    0.154426\n",
       "Name: TIE, dtype: float64"
      ]
     },
     "execution_count": 22,
     "metadata": {},
     "output_type": "execute_result"
    }
   ],
   "source": [
    "hans_raw.groupby(['heuristic','gold_label'])['TIE'].mean()"
   ]
  },
  {
   "cell_type": "code",
   "execution_count": 23,
   "id": "68273abb",
   "metadata": {},
   "outputs": [
    {
     "data": {
      "text/plain": [
       "heuristic\n",
       "constituent        0.149957\n",
       "lexical_overlap    0.102632\n",
       "subsequence        0.170767\n",
       "Name: TIE, dtype: float64"
      ]
     },
     "execution_count": 23,
     "metadata": {},
     "output_type": "execute_result"
    }
   ],
   "source": [
    "hans_raw.groupby(['heuristic'])['TIE'].mean()"
   ]
  },
  {
   "cell_type": "code",
   "execution_count": 24,
   "id": "b2e84358",
   "metadata": {},
   "outputs": [
    {
     "data": {
      "text/plain": [
       "heuristic\n",
       "constituent        0.68038\n",
       "lexical_overlap    0.85184\n",
       "subsequence        0.56346\n",
       "Name: factual_correct, dtype: float64"
      ]
     },
     "execution_count": 24,
     "metadata": {},
     "output_type": "execute_result"
    }
   ],
   "source": [
    "hans_raw.groupby(['heuristic'])['factual_correct'].mean()"
   ]
  },
  {
   "cell_type": "code",
   "execution_count": 25,
   "id": "1146cb69",
   "metadata": {
    "scrolled": true
   },
   "outputs": [
    {
     "data": {
      "text/plain": [
       "subcase                         gold_label      heuristic      \n",
       "ce_adverb                       entailment      constituent        1.0000\n",
       "ce_after_since_clause           entailment      constituent        1.0000\n",
       "ce_conjunction                  entailment      constituent        1.0000\n",
       "ce_embedded_under_since         entailment      constituent        0.9796\n",
       "ce_embedded_under_verb          entailment      constituent        0.9740\n",
       "cn_adverb                       non-entailment  constituent        0.3788\n",
       "cn_after_if_clause              non-entailment  constituent        0.0042\n",
       "cn_disjunction                  non-entailment  constituent        0.1808\n",
       "cn_embedded_under_if            non-entailment  constituent        0.6584\n",
       "cn_embedded_under_verb          non-entailment  constituent        0.6280\n",
       "le_around_prepositional_phrase  entailment      lexical_overlap    0.9888\n",
       "le_around_relative_clause       entailment      lexical_overlap    0.9786\n",
       "le_conjunction                  entailment      lexical_overlap    0.8410\n",
       "le_passive                      entailment      lexical_overlap    0.9980\n",
       "le_relative_clause              entailment      lexical_overlap    0.9262\n",
       "ln_conjunction                  non-entailment  lexical_overlap    0.9076\n",
       "ln_passive                      non-entailment  lexical_overlap    0.1768\n",
       "ln_preposition                  non-entailment  lexical_overlap    0.8948\n",
       "ln_relative_clause              non-entailment  lexical_overlap    0.8474\n",
       "ln_subject/object_swap          non-entailment  lexical_overlap    0.9592\n",
       "se_PP_on_obj                    entailment      subsequence        0.9976\n",
       "se_adjective                    entailment      subsequence        1.0000\n",
       "se_conjunction                  entailment      subsequence        0.9516\n",
       "se_relative_clause_on_obj       entailment      subsequence        0.9974\n",
       "se_understood_object            entailment      subsequence        1.0000\n",
       "sn_NP/S                         non-entailment  subsequence        0.0078\n",
       "sn_NP/Z                         non-entailment  subsequence        0.0524\n",
       "sn_PP_on_subject                non-entailment  subsequence        0.3274\n",
       "sn_past_participle              non-entailment  subsequence        0.0666\n",
       "sn_relative_clause_on_subject   non-entailment  subsequence        0.2338\n",
       "Name: factual_correct, dtype: float64"
      ]
     },
     "execution_count": 25,
     "metadata": {},
     "output_type": "execute_result"
    }
   ],
   "source": [
    "hans_raw.groupby(['subcase','gold_label','heuristic'])['factual_correct'].mean()"
   ]
  },
  {
   "cell_type": "markdown",
   "id": "cefc4e74",
   "metadata": {},
   "source": [
    "## MNLI: Confidence-Reg"
   ]
  },
  {
   "cell_type": "code",
   "execution_count": 26,
   "id": "651358e5",
   "metadata": {},
   "outputs": [
    {
     "name": "stdout",
     "output_type": "stream",
     "text": [
      "/path-to/debias_nlu/data/nli/test_prob_korn_lr_overlapping_sample_weight_3class.jsonl\n",
      "/path-to/nli_models/distill/nli/seed5/raw_m.jsonl\n",
      "/path-to/debias_nlu/data/nli/dev_prob_korn_lr_overlapping_sample_weight_3class.jsonl\n",
      "c:  [0.10590413 0.10590413 0.10590413]\n",
      "softmax(c):  [0.33333333 0.33333333 0.33333333]\n",
      "/path-to/debias_nlu/data/nli/dev_prob_korn_lr_overlapping_sample_weight_3class.jsonl\n",
      "te_c:  [0.54299039 0.54299039 0.54299039]\n",
      "unique_labels:  ['contradiction', 'entailment', '-', 'neutral']\n",
      "/path-to/nli_models/distill/nli/seed4/raw_m.jsonl\n",
      "/path-to/debias_nlu/data/nli/dev_prob_korn_lr_overlapping_sample_weight_3class.jsonl\n",
      "c:  [0.10573703 0.10573703 0.10573703]\n",
      "softmax(c):  [0.33333333 0.33333333 0.33333333]\n",
      "/path-to/debias_nlu/data/nli/dev_prob_korn_lr_overlapping_sample_weight_3class.jsonl\n",
      "te_c:  [0.54369676 0.54369676 0.54369676]\n",
      "unique_labels:  ['contradiction', 'entailment', '-', 'neutral']\n",
      "/path-to/nli_models/distill/nli/seed3/raw_m.jsonl\n",
      "/path-to/debias_nlu/data/nli/dev_prob_korn_lr_overlapping_sample_weight_3class.jsonl\n",
      "c:  [0.10710251 0.10710251 0.10710251]\n",
      "softmax(c):  [0.33333333 0.33333333 0.33333333]\n",
      "/path-to/debias_nlu/data/nli/dev_prob_korn_lr_overlapping_sample_weight_3class.jsonl\n",
      "te_c:  [0.54257482 0.54257482 0.54257482]\n",
      "unique_labels:  ['contradiction', 'entailment', '-', 'neutral']\n",
      "/path-to/nli_models/distill/nli/seed2/raw_m.jsonl\n",
      "/path-to/debias_nlu/data/nli/dev_prob_korn_lr_overlapping_sample_weight_3class.jsonl\n",
      "c:  [0.10679727 0.10679727 0.10679727]\n",
      "softmax(c):  [0.33333333 0.33333333 0.33333333]\n",
      "/path-to/debias_nlu/data/nli/dev_prob_korn_lr_overlapping_sample_weight_3class.jsonl\n",
      "te_c:  [0.5446294 0.5446294 0.5446294]\n",
      "unique_labels:  ['contradiction', 'entailment', '-', 'neutral']\n",
      "/path-to/nli_models/distill/nli/seed1/raw_m.jsonl\n",
      "/path-to/debias_nlu/data/nli/dev_prob_korn_lr_overlapping_sample_weight_3class.jsonl\n",
      "c:  [0.10520189 0.10520189 0.10520189]\n",
      "softmax(c):  [0.33333333 0.33333333 0.33333333]\n",
      "/path-to/debias_nlu/data/nli/dev_prob_korn_lr_overlapping_sample_weight_3class.jsonl\n",
      "te_c:  [0.54233581 0.54233581 0.54233581]\n",
      "unique_labels:  ['contradiction', 'entailment', '-', 'neutral']\n",
      "factual score:\n",
      "[0.8509967453213995, 0.8521155410903173, 0.850386493083808, 0.8523189585028479, 0.8489625711960944]\n",
      "0.8509560618388934 0.0012249039232973536\n",
      "factual F1: {'contradiction': [0.863699368550747, 0.8680351906158359, 0.8662243480944298, 0.8653462306156917, 0.8650976772804184], 'entailment': [0.8660910288306748, 0.8653987910953856, 0.8649365968740784, 0.8663540445486518, 0.8613203367301727], '-': [0.0, 0.0, 0.0, 0.0, 0.0], 'neutral': [0.8004918536735321, 0.8009132420091324, 0.7979905617293348, 0.8024634334103156, 0.7984756097560974], 'MAF1': array([0.63257056, 0.63358681, 0.63228788, 0.63354093, 0.63122341])} {'contradiction_mean_sd': [0.8656805630314246, 0.001429450159272528], 'entailment_mean_sd': [0.8648201596157927, 0.0018201672342721524], '-_mean_sd': [0.0, 0.0], 'neutral_mean_sd': [0.8000669401156826, 0.00164217161431755], 'MAF1_mean_sd': [0.6326419156907249, 0.0008767717981716655]}\n",
      "TE:\n",
      "0.056853536677243265 0.00087455427007385\n",
      "TIE:\n",
      "0.05493905779776759 0.0008736929655443808\n",
      "TIE acc:\n",
      "[0.849979658258747, 0.8522172497965825, 0.8493694060211554, 0.8505899104963385, 0.8492676973148902]\n",
      "0.8502847843775427 0.0010763837717919183\n",
      "The minimal epsilon for which Algorithm A is almost stochastically greater than algorithm B is  0.9790681406566092\n",
      "since epsilon > 0.5 we will claim that A is not better than B with significance level alpha= 0.05\n",
      "None\n",
      "TIE F1: {'contradiction': [0.8631190402952937, 0.868023435090965, 0.8654646324549238, 0.8643755753298559, 0.8658874192556135], 'entailment': [0.8657197247034706, 0.8651519622307466, 0.8631734317343174, 0.8649677797305214, 0.8612341304989666], '-': [0.0, 0.0, 0.0, 0.0, 0.0], 'neutral': [0.798338717120443, 0.8014616321559074, 0.7975030450669914, 0.799568300955905, 0.7986577181208053], 'MAF1': array([0.63179437, 0.63365926, 0.63153528, 0.63222791, 0.63144482])} {'contradiction_mean_sd': [0.8653740204853303, 0.001635421350286232], 'entailment_mean_sd': [0.8640494057796045, 0.0016457285427974244], '-_mean_sd': [0.0, 0.0], 'neutral_mean_sd': [0.7991058826840105, 0.001350693831828101], 'MAF1_mean_sd': [0.6321323272372364, 0.0008104327454547211]}\n",
      "checking ASD.......\n",
      "TIE_MAF1:\n",
      "[0.63179437 0.63365926 0.63153528 0.63222791 0.63144482]\n",
      "factual_MAF1:\n",
      "[0.63257056 0.63358681 0.63228788 0.63354093 0.63122341]\n",
      "The minimal epsilon for which Algorithm A is almost stochastically greater than algorithm B is  0.9814446220304492\n",
      "since epsilon > 0.5 we will claim that A is not better than B with significance level alpha= 0.05\n",
      "None\n",
      "NIE:\n",
      "0.05869134563157071 0.0008647562515359766\n",
      "NIE acc:\n",
      "[0.8509967453213995, 0.8521155410903173, 0.850386493083808, 0.8523189585028479, 0.8489625711960944]\n",
      "0.8509560618388934 0.0012249039232973536\n",
      "my query:\n",
      "[0.8500813669650122, 0.8505899104963385, 0.8479454841334418, 0.8492676973148902, 0.8480471928397071]\n",
      "0.8491863303498779 0.0010597246767803964\n",
      "The minimal epsilon for which Algorithm A is almost stochastically greater than algorithm B is  1.0\n",
      "since epsilon > 0.5 we will claim that A is not better than B with significance level alpha= 0.05\n",
      "None\n",
      "my query F1: {'contradiction': [0.8632452366318377, 0.8677036808871093, 0.8654053222581142, 0.8645833333333334, 0.8652220685415706], 'entailment': [0.8663635030071879, 0.8639787328311918, 0.8607782216304186, 0.8627335589230544, 0.8594650509827102], '-': [0.0, 0.0, 0.0, 0.0, 0.0], 'neutral': [0.7979099431381589, 0.7981120584652863, 0.795800365185636, 0.7979099431381589, 0.7974992375724307], 'MAF1': array([0.63187967, 0.63244862, 0.63049598, 0.63130671, 0.63054659])} {'contradiction_mean_sd': [0.865231928330393, 0.0014496442837164415], 'entailment_mean_sd': [0.8626638134749125, 0.0024169864733516663], '-_mean_sd': [0.0, 0.0], 'neutral_mean_sd': [0.7974463094999342, 0.0008467665619854208], 'MAF1_mean_sd': [0.63133551282631, 0.0007567246537754561]}\n",
      "checking ASD.......\n",
      "my_causal_MAF1:\n",
      "[0.63187967 0.63244862 0.63049598 0.63130671 0.63054659]\n",
      "factual_MAF1:\n",
      "[0.63257056 0.63358681 0.63228788 0.63354093 0.63122341]\n",
      "The minimal epsilon for which Algorithm A is almost stochastically greater than algorithm B is  1.0\n",
      "since epsilon > 0.5 we will claim that A is not better than B with significance level alpha= 0.05\n",
      "None\n"
     ]
    },
    {
     "ename": "TypeError",
     "evalue": "cannot unpack non-iterable NoneType object",
     "output_type": "error",
     "traceback": [
      "\u001b[0;31m---------------------------------------------------------------------------\u001b[0m",
      "\u001b[0;31mTypeError\u001b[0m                                 Traceback (most recent call last)",
      "\u001b[0;32m/tmp/ipykernel_1911991/3375395542.py\u001b[0m in \u001b[0;36m<module>\u001b[0;34m\u001b[0m\n\u001b[1;32m      5\u001b[0m \u001b[0mtest_set\u001b[0m\u001b[0;34m=\u001b[0m\u001b[0;34m'mnli_dev_mm'\u001b[0m\u001b[0;34m\u001b[0m\u001b[0;34m\u001b[0m\u001b[0m\n\u001b[1;32m      6\u001b[0m \u001b[0mcorrection\u001b[0m\u001b[0;34m=\u001b[0m\u001b[0;32mTrue\u001b[0m\u001b[0;34m\u001b[0m\u001b[0;34m\u001b[0m\u001b[0m\n\u001b[0;32m----> 7\u001b[0;31m \u001b[0mraw_factual_correct\u001b[0m\u001b[0;34m,\u001b[0m \u001b[0mraw_TIE\u001b[0m \u001b[0;34m=\u001b[0m \u001b[0mcma\u001b[0m\u001b[0;34m.\u001b[0m\u001b[0mreport_CMA\u001b[0m\u001b[0;34m(\u001b[0m\u001b[0mmodel_path\u001b[0m\u001b[0;34m,\u001b[0m\u001b[0mtask\u001b[0m\u001b[0;34m,\u001b[0m\u001b[0mdata_path\u001b[0m\u001b[0;34m,\u001b[0m\u001b[0mtest_set\u001b[0m\u001b[0;34m,\u001b[0m\u001b[0mfusion\u001b[0m\u001b[0;34m,\u001b[0m\u001b[0mcorrection\u001b[0m\u001b[0;34m=\u001b[0m\u001b[0mcorrection\u001b[0m\u001b[0;34m)\u001b[0m\u001b[0;34m\u001b[0m\u001b[0;34m\u001b[0m\u001b[0m\n\u001b[0m",
      "\u001b[0;31mTypeError\u001b[0m: cannot unpack non-iterable NoneType object"
     ]
    }
   ],
   "source": [
    "model_path='/path-to/nli_models/distill/'\n",
    "task='nli'\n",
    "data_path='/path-to/debias_nlu/data/'\n",
    "fusion = fuse.sum_fuse\n",
    "test_set='mnli_dev_mm'\n",
    "correction=True\n",
    "raw_factual_correct, raw_TIE = cma.report_CMA(model_path,task,data_path,test_set,fusion,correction=correction)"
   ]
  },
  {
   "cell_type": "code",
   "execution_count": 38,
   "id": "02853a4a",
   "metadata": {
    "scrolled": true
   },
   "outputs": [
    {
     "name": "stdout",
     "output_type": "stream",
     "text": [
      "/path-to/debias_nlu/data/nli/hans_prob_korn_lr_overlapping_sample_weight_3class.jsonl\n",
      "/path-to/nli_models/distill/nli/seed5/raw_m.jsonl\n",
      "/path-to/debias_nlu/data/nli/dev_prob_korn_lr_overlapping_sample_weight_3class.jsonl\n",
      "c:  [0.1053152 0.1053152 0.1053152]\n",
      "softmax(c):  [0.33333333 0.33333333 0.33333333]\n",
      "/path-to/debias_nlu/data/nli/dev_prob_korn_lr_overlapping_sample_weight_3class.jsonl\n",
      "te_c:  [0.54127419 0.54127419 0.54127419]\n",
      "unique_labels:  ['non-entailment', 'entailment']\n",
      "/path-to/nli_models/distill/nli/seed4/raw_m.jsonl\n",
      "/path-to/debias_nlu/data/nli/dev_prob_korn_lr_overlapping_sample_weight_3class.jsonl\n",
      "c:  [0.10485712 0.10485712 0.10485712]\n",
      "softmax(c):  [0.33333333 0.33333333 0.33333333]\n",
      "/path-to/debias_nlu/data/nli/dev_prob_korn_lr_overlapping_sample_weight_3class.jsonl\n",
      "te_c:  [0.54408461 0.54408461 0.54408461]\n",
      "unique_labels:  ['non-entailment', 'entailment']\n",
      "/path-to/nli_models/distill/nli/seed3/raw_m.jsonl\n",
      "/path-to/debias_nlu/data/nli/dev_prob_korn_lr_overlapping_sample_weight_3class.jsonl\n",
      "c:  [0.10566729 0.10566729 0.10566729]\n",
      "softmax(c):  [0.33333333 0.33333333 0.33333333]\n",
      "/path-to/debias_nlu/data/nli/dev_prob_korn_lr_overlapping_sample_weight_3class.jsonl\n",
      "te_c:  [0.54425931 0.54425931 0.54425931]\n",
      "unique_labels:  ['non-entailment', 'entailment']\n",
      "/path-to/nli_models/distill/nli/seed2/raw_m.jsonl\n",
      "/path-to/debias_nlu/data/nli/dev_prob_korn_lr_overlapping_sample_weight_3class.jsonl\n",
      "c:  [0.10698503 0.10698503 0.10698503]\n",
      "softmax(c):  [0.33333333 0.33333333 0.33333333]\n",
      "/path-to/debias_nlu/data/nli/dev_prob_korn_lr_overlapping_sample_weight_3class.jsonl\n",
      "te_c:  [0.5443818 0.5443818 0.5443818]\n",
      "unique_labels:  ['non-entailment', 'entailment']\n",
      "/path-to/nli_models/distill/nli/seed1/raw_m.jsonl\n",
      "/path-to/debias_nlu/data/nli/dev_prob_korn_lr_overlapping_sample_weight_3class.jsonl\n",
      "c:  [0.10575452 0.10575452 0.10575452]\n",
      "softmax(c):  [0.33333333 0.33333333 0.33333333]\n",
      "/path-to/debias_nlu/data/nli/dev_prob_korn_lr_overlapping_sample_weight_3class.jsonl\n",
      "te_c:  [0.54268366 0.54268366 0.54268366]\n",
      "unique_labels:  ['non-entailment', 'entailment']\n",
      "factual score:\n",
      "[0.6704666666666667, 0.6651, 0.6452666666666667, 0.6651333333333334, 0.6700333333333334]\n",
      "0.6632 0.009256901329398645\n",
      "factual F1: {'non-entailment': [0.5145354547240227, 0.5023527663579177, 0.4666198877305533, 0.5191000478697941, 0.5263409732523087], 'entailment': [0.7505802805530326, 0.7476325638642586, 0.7342688773471834, 0.7431347481462541, 0.7468351193064114], 'MAF1': array([0.63255787, 0.62499267, 0.60044438, 0.6311174 , 0.63658805])} {'non-entailment_mean_sd': [0.5057898259869194, 0.02108124818127792], 'entailment_mean_sd': [0.7444903178434281, 0.005635155096051486], 'MAF1_mean_sd': [0.6251400719151736, 0.012897341122833032]}\n",
      "TE:\n",
      "0.26733840447162394 0.003116768824069764\n",
      "TIE:\n",
      "0.12935128401442492 0.003056756791826981\n",
      "TIE acc:\n",
      "[0.6913, 0.6863, 0.6636333333333333, 0.6825333333333333, 0.6875]\n",
      "0.6822533333333334 0.009721399076264712\n",
      "The minimal epsilon for which Algorithm A is almost stochastically greater than algorithm B is  4.880260151515019e-06\n",
      "since epsilon <= 0.5 we will claim that A is better than B with significance level alpha= 0.05\n",
      "None\n",
      "TIE F1: {'non-entailment': [0.5627685189556677, 0.5503798194066217, 0.5140848461501419, 0.5637995786388202, 0.5696185098471285], 'entailment': [0.761431257889178, 0.7591184826844813, 0.7427930568653939, 0.7504585232929832, 0.7546903210613078], 'MAF1': array([0.66209989, 0.65474915, 0.62843895, 0.65712905, 0.66215442])} {'non-entailment_mean_sd': [0.5521302545996761, 0.02002848966395381], 'entailment_mean_sd': [0.7536983283586689, 0.006626939033478595], 'MAF1_mean_sd': [0.6529142914791725, 0.01256923431361834]}\n",
      "checking ASD.......\n",
      "TIE_MAF1:\n",
      "[0.66209989 0.65474915 0.62843895 0.65712905 0.66215442]\n",
      "factual_MAF1:\n",
      "[0.63255787 0.62499267 0.60044438 0.6311174  0.63658805]\n",
      "The minimal epsilon for which Algorithm A is almost stochastically greater than algorithm B is  0.0\n",
      "since epsilon = 0, algorithm A is stochatically dominant over B\n",
      "None\n",
      "NIE:\n",
      "0.17211683913927156 0.004105058129599049\n",
      "NIE acc:\n",
      "[0.6704666666666667, 0.6651, 0.6452666666666667, 0.6651333333333334, 0.6700333333333334]\n",
      "0.6632 0.009256901329398645\n",
      "my query:\n",
      "[0.7202666666666667, 0.7179666666666666, 0.6919333333333333, 0.7092333333333334, 0.7102]\n",
      "0.7099200000000001 0.009958638907445602\n",
      "The minimal epsilon for which Algorithm A is almost stochastically greater than algorithm B is  0.0\n",
      "since epsilon = 0, algorithm A is stochatically dominant over B\n",
      "None\n",
      "my query F1: {'non-entailment': [0.6287382764112546, 0.6198499348519567, 0.5853746074472859, 0.6295494118146685, 0.625387797311272], 'entailment': [0.7755909722965023, 0.7758259809766049, 0.7549191195969238, 0.7607055660713795, 0.7636986301369864], 'MAF1': array([0.70216462, 0.69783796, 0.67014686, 0.69512749, 0.69454321])} {'non-entailment_mean_sd': [0.6177800055672875, 0.016558233922038944], 'entailment_mean_sd': [0.7661480538156794, 0.008301087837884668], 'MAF1_mean_sd': [0.6919640296914835, 0.011235689285537816]}\n",
      "checking ASD.......\n",
      "my_causal_MAF1:\n",
      "[0.70216462 0.69783796 0.67014686 0.69512749 0.69454321]\n",
      "factual_MAF1:\n",
      "[0.63255787 0.62499267 0.60044438 0.6311174  0.63658805]\n",
      "The minimal epsilon for which Algorithm A is almost stochastically greater than algorithm B is  0.0\n",
      "since epsilon = 0, algorithm A is stochatically dominant over B\n",
      "None\n"
     ]
    }
   ],
   "source": [
    "model_path='/path-to/nli_models/distill/'\n",
    "task='nli'\n",
    "data_path='/path-to/debias_nlu/data/'\n",
    "fusion = fuse.sum_fuse\n",
    "test_set='mnli_hans'\n",
    "correction=True\n",
    "raw_factual_correct, raw_TIE = cma.report_CMA(model_path,task,data_path,test_set,fusion,correction=correction,return_raw=True)"
   ]
  }
 ],
 "metadata": {
  "kernelspec": {
   "display_name": "Python [conda env:CI_env] *",
   "language": "python",
   "name": "conda-env-CI_env-py"
  },
  "language_info": {
   "codemirror_mode": {
    "name": "ipython",
    "version": 3
   },
   "file_extension": ".py",
   "mimetype": "text/x-python",
   "name": "python",
   "nbconvert_exporter": "python",
   "pygments_lexer": "ipython3",
   "version": "3.8.8"
  }
 },
 "nbformat": 4,
 "nbformat_minor": 5
}
