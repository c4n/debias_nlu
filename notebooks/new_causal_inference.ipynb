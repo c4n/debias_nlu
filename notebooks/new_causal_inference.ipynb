{
 "cells": [
  {
   "cell_type": "code",
   "execution_count": 1,
   "id": "619e5d1b",
   "metadata": {},
   "outputs": [
    {
     "data": {
      "text/plain": [
       "['/ist/ist-share/scads/can/robust_nlu/korn_reweight/nli/outputs_bert_base_overlapping_korn_ps3class_3/',\n",
       " '/ist/ist-share/scads/can/robust_nlu/korn_reweight/nli/outputs_bert_base_overlapping_korn_ps3class_2/',\n",
       " '/ist/ist-share/scads/can/robust_nlu/korn_reweight/nli/outputs_bert_base_overlapping_korn_ps3class_1/']"
      ]
     },
     "execution_count": 1,
     "metadata": {},
     "output_type": "execute_result"
    }
   ],
   "source": [
    "import glob\n",
    "import os\n",
    "import fuse, causal_utils\n",
    "glob.glob(\"/ist/ist-share/scads/can/robust_nlu/korn_reweight/nli/*/\")"
   ]
  },
  {
   "cell_type": "code",
   "execution_count": 2,
   "id": "4f4f414b",
   "metadata": {},
   "outputs": [
    {
     "name": "stdout",
     "output_type": "stream",
     "text": [
      "nli  outputs_poe_bert_base_korn_clark_1_seed33370\r\n"
     ]
    }
   ],
   "source": [
    "!ls /raid/can/nli_models/poe3"
   ]
  },
  {
   "cell_type": "code",
   "execution_count": 3,
   "id": "e3ca15bf",
   "metadata": {},
   "outputs": [],
   "source": [
    "import pandas as pd\n",
    "import numpy as np\n",
    "from scipy.special import softmax\n",
    "from scipy.special import expit\n",
    "\n",
    "# select model\n",
    "model_path='/raid/can/nli_models/poe3/nli/outputs_poe_bert_base_korn_clark_1_seed13370/'\n",
    "# select data path\n",
    "data_path='/ist/users/canu/debias_nlu/data/nli/'\n",
    "df = pd.read_json(model_path+'raw_train.jsonl', lines=True)\n",
    "# select fusion method here\n",
    "fusion = fuse.sum_fuse"
   ]
  },
  {
   "cell_type": "markdown",
   "id": "cb111eb4",
   "metadata": {},
   "source": [
    "#  get score from the bias model"
   ]
  },
  {
   "cell_type": "code",
   "execution_count": 38,
   "id": "4c1fb006",
   "metadata": {},
   "outputs": [],
   "source": [
    "# avg prob\n",
    "#s score from bias model\n",
    "df_hans = pd.read_json(data_path+'hans_prob_korn_lr_overlapping_sample_weight_3class.jsonl', lines=True)\n",
    "hans_score=[b for b in df_hans['bias_probs'] ]\n",
    "hans_score=np.array(hans_score)"
   ]
  },
  {
   "cell_type": "markdown",
   "id": "40467551",
   "metadata": {},
   "source": [
    "# Get avg  prob of bert"
   ]
  },
  {
   "cell_type": "code",
   "execution_count": 39,
   "id": "76b50e1f",
   "metadata": {},
   "outputs": [],
   "source": [
    "list_probs = []\n",
    "for i in df['probs']:\n",
    "    list_probs.extend(i)\n",
    "x=np.array(list_probs)\n",
    "avg=np.average(x,axis=0)"
   ]
  },
  {
   "cell_type": "markdown",
   "id": "efb3dd3c",
   "metadata": {},
   "source": [
    "# y1m0"
   ]
  },
  {
   "cell_type": "code",
   "execution_count": 40,
   "id": "940194d4",
   "metadata": {},
   "outputs": [],
   "source": [
    "bias_score=fusion(avg,hans_score)\n",
    "#y1m0"
   ]
  },
  {
   "cell_type": "code",
   "execution_count": 41,
   "id": "4fe016b0",
   "metadata": {},
   "outputs": [
    {
     "name": "stdout",
     "output_type": "stream",
     "text": [
      "ls: cannot access '/raid/can/nli_models/poe3/outputs_poe_bert_base_korn_clark_1_seed13370/': No such file or directory\r\n"
     ]
    }
   ],
   "source": [
    "!ls /raid/can/nli_models/poe3/outputs_poe_bert_base_korn_clark_1_seed13370/"
   ]
  },
  {
   "cell_type": "code",
   "execution_count": 42,
   "id": "087e608f",
   "metadata": {},
   "outputs": [],
   "source": [
    "result_path=model_path+'normal/'\n",
    "df_bert = pd.read_json(result_path+'hans_result.jsonl', lines=True)"
   ]
  },
  {
   "cell_type": "code",
   "execution_count": 43,
   "id": "f0b3c526",
   "metadata": {},
   "outputs": [],
   "source": [
    "# ent = []\n",
    "y1m1prob = []\n",
    "for p,h in zip(df_bert['probs'],hans_score):\n",
    "    new_y1m1 = fusion(np.array(p),h)\n",
    "    y1m1prob.append(new_y1m1)\n",
    "  "
   ]
  },
  {
   "cell_type": "markdown",
   "id": "eb8175e2",
   "metadata": {},
   "source": [
    "# corrected y0m0"
   ]
  },
  {
   "cell_type": "code",
   "execution_count": 10,
   "id": "f9d46834",
   "metadata": {},
   "outputs": [
    {
     "ename": "NameError",
     "evalue": "name 'sharpness_correction' is not defined",
     "output_type": "error",
     "traceback": [
      "\u001b[0;31m---------------------------------------------------------------------------\u001b[0m",
      "\u001b[0;31mNameError\u001b[0m                                 Traceback (most recent call last)",
      "\u001b[0;32m/tmp/ipykernel_3298213/3371130559.py\u001b[0m in \u001b[0;36m<module>\u001b[0;34m\u001b[0m\n\u001b[0;32m----> 1\u001b[0;31m \u001b[0mc\u001b[0m \u001b[0;34m=\u001b[0m \u001b[0msharpness_correction\u001b[0m\u001b[0;34m(\u001b[0m\u001b[0mhans_score\u001b[0m\u001b[0;34m,\u001b[0m \u001b[0my1m1prob\u001b[0m\u001b[0;34m)\u001b[0m\u001b[0;34m\u001b[0m\u001b[0;34m\u001b[0m\u001b[0m\n\u001b[0m\u001b[1;32m      2\u001b[0m \u001b[0mbias_score\u001b[0m \u001b[0;34m=\u001b[0m \u001b[0mfusion\u001b[0m\u001b[0;34m(\u001b[0m\u001b[0mc\u001b[0m\u001b[0;34m,\u001b[0m\u001b[0mhans_score\u001b[0m\u001b[0;34m)\u001b[0m\u001b[0;34m\u001b[0m\u001b[0;34m\u001b[0m\u001b[0m\n",
      "\u001b[0;31mNameError\u001b[0m: name 'sharpness_correction' is not defined"
     ]
    }
   ],
   "source": [
    "c = sharpness_correction(hans_score, y1m1prob) \n",
    "bias_score = fusion(c,hans_score)"
   ]
  },
  {
   "cell_type": "markdown",
   "id": "0bddfb2e",
   "metadata": {},
   "source": [
    "# TIE"
   ]
  },
  {
   "cell_type": "code",
   "execution_count": 44,
   "id": "ca00c7e6",
   "metadata": {},
   "outputs": [],
   "source": [
    "debias_scores = []\n",
    "for p,b in zip(y1m1prob,bias_score):\n",
    "    debias_scores.append(p-b) # TIE  "
   ]
  },
  {
   "cell_type": "markdown",
   "id": "2d4220f3",
   "metadata": {},
   "source": [
    "# Eval HANS"
   ]
  },
  {
   "cell_type": "code",
   "execution_count": 45,
   "id": "9f63e312",
   "metadata": {},
   "outputs": [],
   "source": [
    "key = {0:\"entailment\",1:\"contradiction\",2:\"neutral\"}\n",
    "labels = []\n",
    "for i in debias_scores:\n",
    "    labels.append(key[np.argmax(i)])\n",
    "df_bert['debias_label']=labels"
   ]
  },
  {
   "cell_type": "code",
   "execution_count": 46,
   "id": "5e845f97",
   "metadata": {},
   "outputs": [],
   "source": [
    "text_ans=\"\"\n",
    "for idx, obj in enumerate(df_bert['label']):\n",
    "    text_ans = text_ans + \"ex\"+str(idx)+\",\"+obj+\"\\n\"   \n",
    "    \n",
    "text_ans_debias=\"\"\n",
    "for idx, obj in enumerate(df_bert['debias_label']):\n",
    "    text_ans_debias = text_ans_debias + \"ex\"+str(idx)+\",\"+obj+\"\\n\"          "
   ]
  },
  {
   "cell_type": "code",
   "execution_count": 47,
   "id": "d416a9f5",
   "metadata": {},
   "outputs": [],
   "source": [
    "def format_label(label):\n",
    "    if label == \"entailment\":\n",
    "        return \"entailment\"\n",
    "    else:\n",
    "        return \"non-entailment\"\n",
    "\n",
    "guess_dict = {}\n",
    "for line in text_ans.split(\"\\n\"):\n",
    "    if len(line)>1:\n",
    "        parts = line.strip().split(\",\")\n",
    "        guess_dict[parts[0]] = format_label(parts[1])\n",
    "        \n",
    "guess_dict_debias = {}\n",
    "for line in text_ans_debias.split(\"\\n\"):\n",
    "    if len(line)>1:\n",
    "        parts = line.strip().split(\",\")\n",
    "        guess_dict_debias[parts[0]] = format_label(parts[1])        "
   ]
  },
  {
   "cell_type": "code",
   "execution_count": 48,
   "id": "5ba67756",
   "metadata": {},
   "outputs": [
    {
     "name": "stdout",
     "output_type": "stream",
     "text": [
      "Heuristic entailed results:\n",
      "lexical_overlap: 0.9734\n",
      "subsequence: 0.9968\n",
      "constituent: 0.9924\n",
      "\n",
      "Heuristic non-entailed results:\n",
      "lexical_overlap: 0.7482\n",
      "subsequence: 0.1114\n",
      "constituent: 0.3026\n",
      "avg: 0.6874666666666668\n"
     ]
    }
   ],
   "source": [
    "labels,baseline_avg=causal_utils.get_heur(guess_dict) # normal"
   ]
  },
  {
   "cell_type": "code",
   "execution_count": 49,
   "id": "af032637",
   "metadata": {},
   "outputs": [
    {
     "name": "stdout",
     "output_type": "stream",
     "text": [
      "Heuristic entailed results:\n",
      "lexical_overlap: 0.9724\n",
      "subsequence: 0.9966\n",
      "constituent: 0.9912\n",
      "\n",
      "Heuristic non-entailed results:\n",
      "lexical_overlap: 0.7528\n",
      "subsequence: 0.116\n",
      "constituent: 0.3132\n",
      "avg: 0.6903666666666667\n"
     ]
    }
   ],
   "source": [
    "labels,debias_avg=causal_utils.get_heur(guess_dict_debias) # TIE"
   ]
  },
  {
   "cell_type": "markdown",
   "id": "fd56bd53",
   "metadata": {},
   "source": [
    "# Causal Mediation Analysis"
   ]
  },
  {
   "cell_type": "code",
   "execution_count": 50,
   "id": "75c54f40",
   "metadata": {},
   "outputs": [],
   "source": [
    "def get_ans(ans):\n",
    "    if ans == 0:\n",
    "        return 'entailment'\n",
    "    else:\n",
    "        return 'non-entailment' \n",
    "    \n",
    "# y0m0\n",
    "import pickle\n",
    "modelname='mnli_lr_model.sav'\n",
    "loaded_model = pickle.load(open(modelname, 'rb'))\n",
    "x0=loaded_model.predict_proba(np.array([[0,0,0.41997876976119086]]))\n",
    "m0=avg\n",
    "y0m0=fusion(x0,m0)    "
   ]
  },
  {
   "cell_type": "code",
   "execution_count": 51,
   "id": "34db22d0",
   "metadata": {
    "scrolled": true
   },
   "outputs": [
    {
     "name": "stdout",
     "output_type": "stream",
     "text": [
      "0.08649503037239671 0.07753374427816435\n",
      "-0.03193751895445736 0.026914285032747287\n",
      "0.11843254932685407 0.10443938146612336\n"
     ]
    }
   ],
   "source": [
    "factual_pred_correct = []\n",
    "TIE_pred_correct = []\n",
    "NIE_pred_correct = []\n",
    "INTmed_pred_correct = []\n",
    "pred_correct = []\n",
    "all_TIE = []\n",
    "all_NIE = []\n",
    "all_NDE = []\n",
    "all_INTmed = []\n",
    "for i in range(len(labels)): \n",
    "    y1m1 = y1m1prob[i]\n",
    "    y1m0 = bias_score[i]\n",
    "    TE = y1m1 - y0m0\n",
    "    NDE = bias_score[i] - y0m0\n",
    "    y0m1= fusion(x0,np.array(df_bert['probs'][i]) )\n",
    "    TIE = y1m1 - y1m0\n",
    "    NIE = y0m1 - y0m0\n",
    "    INTmed = TIE - NIE\n",
    "    # factual\n",
    "    factual_ans = np.argmax(df_bert['probs'][i])\n",
    "    factual_ans = get_ans(factual_ans)\n",
    "    factual_correct = factual_ans==labels[i]   \n",
    "    factual_pred_correct.append(factual_correct)\n",
    "    # TIE\n",
    "    TIE_ans = np.argmax(TIE)\n",
    "    TIE_ans = get_ans(TIE_ans)\n",
    "    TIE_correct = TIE_ans==labels[i]  \n",
    "    TIE_pred_correct.append(TIE_correct)\n",
    "    # INTmed\n",
    "    INTmed_ans = np.argmax(INTmed[0])\n",
    "    INTmed_ans = get_ans(INTmed_ans)\n",
    "    INTmed_correct = INTmed_ans==labels[i]  \n",
    "    INTmed_pred_correct.append(INTmed_correct)\n",
    "    # NIE\n",
    "    NIE_ans = np.argmax(NIE[0])\n",
    "    NIE_ans = get_ans(NIE_ans)\n",
    "    NIE_correct = NIE_ans==labels[i]  \n",
    "    NIE_pred_correct.append(NIE_correct)    \n",
    "    \n",
    "    # save\n",
    "    all_NDE.append(NDE[0][0])\n",
    "    all_NIE.append(NIE[0][0])\n",
    "    all_TIE.append(TIE[0])\n",
    "    all_INTmed.append((INTmed[0][0]))\n",
    "    if  (TIE[0]/TE[0][0])<9999999:\n",
    "        cf_ans = np.argmax(np.array(df_bert['probs'][i]-hans_score[i]))\n",
    "        cf_ans = get_ans(cf_ans)  \n",
    "        cf_correct = cf_ans==labels[i]\n",
    "    else:\n",
    "#         print(cf_ans)\n",
    "        cf_correct = factual_ans ==labels[i]\n",
    "    pred_correct.append(cf_correct)\n",
    "    \n",
    "#     np.array(df_bert['probs'][i]-bias_score)\n",
    "#     labels[i]\n",
    "print(np.array(all_TIE).mean(),(np.array(all_TIE).std()))\n",
    "print(np.array(all_INTmed).mean(),(np.array(all_INTmed).std()))\n",
    "print(np.array(all_NIE).mean(),(np.array(all_NIE).std()))"
   ]
  },
  {
   "cell_type": "code",
   "execution_count": 52,
   "id": "b0548cf1",
   "metadata": {},
   "outputs": [
    {
     "data": {
      "text/plain": [
       "0"
      ]
     },
     "execution_count": 52,
     "metadata": {},
     "output_type": "execute_result"
    }
   ],
   "source": [
    " np.argmax(NIE)"
   ]
  },
  {
   "cell_type": "code",
   "execution_count": 53,
   "id": "4a32e584",
   "metadata": {},
   "outputs": [
    {
     "data": {
      "text/plain": [
       "array([[ 0.18147684, -0.12462973, -0.12555245]])"
      ]
     },
     "execution_count": 53,
     "metadata": {},
     "output_type": "execute_result"
    }
   ],
   "source": [
    "NIE"
   ]
  },
  {
   "cell_type": "code",
   "execution_count": 54,
   "id": "138083cb",
   "metadata": {},
   "outputs": [
    {
     "name": "stdout",
     "output_type": "stream",
     "text": [
      "0.6872666666666667 0.3651\n"
     ]
    }
   ],
   "source": [
    "print(sum(NIE_pred_correct)/30000,sum(INTmed_pred_correct)/30000)"
   ]
  },
  {
   "cell_type": "code",
   "execution_count": 55,
   "id": "28f22fc0",
   "metadata": {},
   "outputs": [
    {
     "name": "stdout",
     "output_type": "stream",
     "text": [
      "0.6874666666666667 0.7312 0.6903666666666667\n"
     ]
    }
   ],
   "source": [
    "print(sum(factual_pred_correct)/30000,sum(pred_correct)/30000,sum(TIE_pred_correct)/30000)"
   ]
  },
  {
   "cell_type": "code",
   "execution_count": 34,
   "id": "01ad2542",
   "metadata": {},
   "outputs": [],
   "source": [
    "#TIE # 0.032416620996870094 # utama best seed  0.04260506151060745\n",
    "#TIE # 0.0879242620437139 # PoE\n",
    "#TIE # 0.10864416858494 # Baseline 0.10295758381662952\n",
    "#\n",
    "# baseline\n",
    "# reweight_korn\n",
    "# poe_korn\n"
   ]
  },
  {
   "cell_type": "code",
   "execution_count": 33,
   "id": "f00122bc",
   "metadata": {},
   "outputs": [
    {
     "name": "stdout",
     "output_type": "stream",
     "text": [
      "baseline  check_baseline  korn_reweight  poe  poe2  poe3  reweight_utama_github\r\n"
     ]
    }
   ],
   "source": [
    "!ls /raid/can/nli_models/"
   ]
  },
  {
   "cell_type": "code",
   "execution_count": 20,
   "id": "02116866",
   "metadata": {},
   "outputs": [
    {
     "name": "stdout",
     "output_type": "stream",
     "text": [
      "Heuristic entailed results:\n",
      "lexical_overlap: 0.9806\n",
      "subsequence: 0.9874\n",
      "constituent: 0.9958\n",
      "\n",
      "Heuristic non-entailed results:\n",
      "lexical_overlap: 0.7372\n",
      "subsequence: 0.1222\n",
      "constituent: 0.1922\n",
      "avg: 0.6692333333333332\n",
      "0.09262385912553528 0.07259367040949645\n",
      "-0.03402964607050396 0.02528866896020864\n",
      "0.12665350519603927 0.09787408550005666\n",
      "Heuristic entailed results:\n",
      "lexical_overlap: 0.9896\n",
      "subsequence: 0.9994\n",
      "constituent: 0.9998\n",
      "\n",
      "Heuristic non-entailed results:\n",
      "lexical_overlap: 0.6146\n",
      "subsequence: 0.056\n",
      "constituent: 0.0526\n",
      "avg: 0.6186666666666666\n",
      "0.10295758381662952 0.06343940052637884\n",
      "-0.03768225306967608 0.022113234206897377\n",
      "0.1406398368863056 0.08554443506460485\n",
      "Heuristic entailed results:\n",
      "lexical_overlap: 0.9408\n",
      "subsequence: 0.9904\n",
      "constituent: 0.9978\n",
      "\n",
      "Heuristic non-entailed results:\n",
      "lexical_overlap: 0.7556\n",
      "subsequence: 0.1878\n",
      "constituent: 0.2064\n",
      "avg: 0.6798000000000002\n",
      "0.08612845423015646 0.07794352316021892\n",
      "-0.031777019036895594 0.027034823388913467\n",
      "0.11790547326705204 0.10496942344310056\n",
      "TE:\n",
      "[0.2146960299438505, 0.22482328580933178, 0.20822736161589825] 0.21591555912302685 0.006829915251923945\n",
      "TIE:\n",
      "[0.09262385912553528, 0.10295758381662952, 0.08612845423015646] 0.09390329905744042 0.0069297727506795305\n",
      "[0.6718666666666666, 0.6216333333333334, 0.6820666666666667] 0.6585222222222221 0.026414675120629335\n",
      "NIE:\n",
      "[0.12665350519603927, 0.1406398368863056, 0.11790547326705204] 0.12839960511646564 0.009363029103596572\n",
      "[0.6686, 0.6181333333333333, 0.679] 0.6552444444444444 0.026582775449852578\n",
      "INTmed:\n",
      "[-0.03402964607050396, -0.03768225306967608, -0.031777019036895594] -0.03449630605902521 0.0024332798036316087\n",
      "[0.3912333333333333, 0.4254, 0.36983333333333335] 0.39548888888888883 0.022883704914573682\n",
      "my query:\n",
      "[0.7105, 0.6704, 0.7233] 0.7014 0.02253456604123247\n"
     ]
    }
   ],
   "source": [
    "!python cma.py"
   ]
  },
  {
   "cell_type": "code",
   "execution_count": 23,
   "id": "f42ae41f",
   "metadata": {},
   "outputs": [
    {
     "name": "stdout",
     "output_type": "stream",
     "text": [
      "Heuristic entailed results:\n",
      "lexical_overlap: 0.9838\n",
      "subsequence: 0.9946\n",
      "constituent: 0.9978\n",
      "\n",
      "Heuristic non-entailed results:\n",
      "lexical_overlap: 0.7264\n",
      "subsequence: 0.1144\n",
      "constituent: 0.2728\n",
      "avg: 0.6816333333333334\n",
      "0.09049318935295611 0.07330273608231962\n",
      "-0.033259518297814955 0.025551918800548676\n",
      "0.12375270765077105 0.09884589944548612\n",
      "Heuristic entailed results:\n",
      "lexical_overlap: 0.9784\n",
      "subsequence: 0.9986\n",
      "constituent: 0.9998\n",
      "\n",
      "Heuristic non-entailed results:\n",
      "lexical_overlap: 0.6494\n",
      "subsequence: 0.0844\n",
      "constituent: 0.1872\n",
      "avg: 0.6496333333333333\n",
      "0.09638890603753264 0.06965581836013897\n",
      "-0.035384280694031746 0.024282320036851667\n",
      "0.13177318673156438 0.09392968074471238\n",
      "Heuristic entailed results:\n",
      "lexical_overlap: 0.9756\n",
      "subsequence: 0.9966\n",
      "constituent: 0.9952\n",
      "\n",
      "Heuristic non-entailed results:\n",
      "lexical_overlap: 0.7424\n",
      "subsequence: 0.1658\n",
      "constituent: 0.285\n",
      "avg: 0.6934333333333332\n",
      "0.0880008136703304 0.07883599964955158\n",
      "-0.03250504798919367 0.027354145127177664\n",
      "0.1205058616595241 0.10618183988554827\n",
      "TE:\n",
      "[0.2125167564372472, 0.21823456620890513, 0.21015405162657436] 0.21363512475757554 0.003392318750132485\n",
      "TIE:\n",
      "[0.09049318935295611, 0.09638890603753264, 0.0880008136703304] 0.09162763635360638 0.003517124856862721\n",
      "[0.6849333333333333, 0.6529333333333334, 0.6961333333333334] 0.678 0.018305069121845877\n",
      "NIE:\n",
      "[0.12375270765077105, 0.13177318673156438, 0.1205058616595241] 0.12534391868061984 0.00473547730617103\n",
      "[0.6806, 0.6493, 0.6926] 0.6741666666666667 0.018253097149677246\n",
      "INTmed:\n",
      "[-0.033259518297814955, -0.035384280694031746, -0.03250504798919367] -0.03371628232701345 0.0012190078687002084\n",
      "[0.38803333333333334, 0.4032, 0.36623333333333336] 0.38582222222222223 0.015172351396984583\n",
      "my query:\n",
      "[0.7341333333333333, 0.7030666666666666, 0.7393333333333333] 0.725511111111111 0.01601197083049252\n"
     ]
    }
   ],
   "source": [
    "!python cma.py"
   ]
  },
  {
   "cell_type": "code",
   "execution_count": 32,
   "id": "2c98c600",
   "metadata": {},
   "outputs": [
    {
     "name": "stdout",
     "output_type": "stream",
     "text": [
      "Heuristic entailed results:\n",
      "lexical_overlap: 0.9456\n",
      "subsequence: 0.9914\n",
      "constituent: 0.9972\n",
      "\n",
      "Heuristic non-entailed results:\n",
      "lexical_overlap: 0.8306\n",
      "subsequence: 0.1218\n",
      "constituent: 0.406\n",
      "avg: 0.7154333333333333\n",
      "0.08000372094798096 0.0787561937491391\n",
      "-0.02949995560149599 0.027361459893534817\n",
      "0.10950367654947694 0.10610774652291177\n",
      "Heuristic entailed results:\n",
      "lexical_overlap: 0.9574\n",
      "subsequence: 0.9874\n",
      "constituent: 0.9918\n",
      "\n",
      "Heuristic non-entailed results:\n",
      "lexical_overlap: 0.6906\n",
      "subsequence: 0.0794\n",
      "constituent: 0.3716\n",
      "avg: 0.6797000000000001\n",
      "0.0879242620437139 0.07298768722612486\n",
      "-0.03225202938627739 0.02546727282854149\n",
      "0.12017629142999127 0.09844616676694962\n",
      "Heuristic entailed results:\n",
      "lexical_overlap: 0.9734\n",
      "subsequence: 0.9968\n",
      "constituent: 0.9924\n",
      "\n",
      "Heuristic non-entailed results:\n",
      "lexical_overlap: 0.7482\n",
      "subsequence: 0.1114\n",
      "constituent: 0.3026\n",
      "avg: 0.6874666666666668\n",
      "0.08649503037239671 0.07753374427816435\n",
      "-0.03193751895445736 0.026914285032747287\n",
      "0.11843254932685407 0.10443938146612336\n",
      "TE:\n",
      "[0.20235675575976514, 0.21020429185163902, 0.20829552604683188] 0.20695219121941202 0.003341593135241052\n",
      "TIE:\n",
      "[0.08000372094798096, 0.0879242620437139, 0.08649503037239671] 0.08480767112136385 0.0034466533278755306\n",
      "[0.7186, 0.6818, 0.6903666666666667] 0.6969222222222222 0.015722414604241133\n",
      "NIE:\n",
      "[0.10950367654947694, 0.12017629142999127, 0.11843254932685407] 0.1160375057687741 0.004674637407027362\n",
      "[0.7141, 0.6789, 0.6872666666666667] 0.6934222222222223 0.015015062396321633\n",
      "INTmed:\n",
      "[-0.02949995560149599, -0.03225202938627739, -0.03193751895445736] -0.031229834647410245 0.0012299296288950344\n",
      "[0.36633333333333334, 0.3904, 0.3651] 0.37394444444444447 0.011646723695507956\n",
      "my query:\n",
      "[0.7659666666666667, 0.7140333333333333, 0.7312] 0.7370666666666666 0.021603720530055506\n"
     ]
    }
   ],
   "source": [
    "!python cma.py"
   ]
  },
  {
   "cell_type": "code",
   "execution_count": 56,
   "id": "2f342202",
   "metadata": {},
   "outputs": [
    {
     "name": "stdout",
     "output_type": "stream",
     "text": [
      "Heuristic entailed results:\n",
      "lexical_overlap: 0.6114\n",
      "subsequence: 0.7946\n",
      "constituent: 0.8006\n",
      "\n",
      "Heuristic non-entailed results:\n",
      "lexical_overlap: 0.8062\n",
      "subsequence: 0.4662\n",
      "constituent: 0.6038\n",
      "avg: 0.6804666666666667\n",
      "0.03643628258946173 0.08115885570442263\n",
      "-0.013843901881157371 0.027830165672163277\n",
      "0.0502801844706191 0.10897557626360897\n",
      "Heuristic entailed results:\n",
      "lexical_overlap: 0.6072\n",
      "subsequence: 0.7978\n",
      "constituent: 0.8328\n",
      "\n",
      "Heuristic non-entailed results:\n",
      "lexical_overlap: 0.8622\n",
      "subsequence: 0.4736\n",
      "constituent: 0.5834\n",
      "avg: 0.6928333333333333\n",
      "0.03180075964343514 0.07565075366276272\n",
      "-0.012029739993108565 0.025821467010905725\n",
      "0.04383049963654371 0.10145741044910482\n",
      "Heuristic entailed results:\n",
      "lexical_overlap: 0.7112\n",
      "subsequence: 0.8808\n",
      "constituent: 0.896\n",
      "\n",
      "Heuristic non-entailed results:\n",
      "lexical_overlap: 0.873\n",
      "subsequence: 0.4076\n",
      "constituent: 0.5794\n",
      "avg: 0.7246666666666667\n",
      "0.04260506151060745 0.08500409682526075\n",
      "-0.0161633969318506 0.029117621071396035\n",
      "0.058768458442458045 0.11410886837115125\n",
      "TE:\n",
      "[0.16001134958301713, 0.15547782315708167, 0.1658385741870282] 0.16044258230904232 0.004240735920735992\n",
      "TIE:\n",
      "[0.03643628258946173, 0.03180075964343514, 0.04260506151060745] 0.036947367914501435 0.0044256179128907315\n",
      "[0.6788, 0.6932333333333334, 0.7233333333333334] 0.6984555555555557 0.018551875882654924\n",
      "NIE:\n",
      "[0.0502801844706191, 0.04383049963654371, 0.058768458442458045] 0.050959714183206946 0.006117296450476344\n",
      "[0.6791666666666667, 0.6934333333333333, 0.7247] 0.6991 0.019015860826240887\n",
      "INTmed:\n",
      "[-0.013843901881157371, -0.012029739993108565, -0.0161633969318506] -0.014012346268705511 0.0016917564946084675\n",
      "[0.3419333333333333, 0.34983333333333333, 0.296] 0.3292555555555556 0.023735367162127232\n",
      "my query:\n",
      "[0.6541, 0.6251666666666666, 0.6871333333333334] 0.6554666666666666 0.02531623692123008\n"
     ]
    }
   ],
   "source": [
    "!python cma.py"
   ]
  },
  {
   "cell_type": "code",
   "execution_count": 6,
   "id": "f3b26f93",
   "metadata": {},
   "outputs": [],
   "source": [
    "import cma\n",
    "import glob\n",
    "import numpy as np\n",
    "import os\n",
    "import fuse, causal_utils\n",
    "model_path='/raid/can/nli_models/korn_reweight/'\n",
    "task='nli'\n",
    "data_path='/ist/users/canu/debias_nlu/data/' + task + '/'\n",
    "fusion = fuse.sum_fuse\n",
    "test_set='test'"
   ]
  },
  {
   "cell_type": "code",
   "execution_count": 7,
   "id": "00236508",
   "metadata": {},
   "outputs": [
    {
     "name": "stdout",
     "output_type": "stream",
     "text": [
      "-0.02543364955731894 0.13072994760352968\n",
      "-0.004192283378247885 0.013030681614384764\n",
      "-0.021241366179071058 0.1346177304922089\n",
      "-0.0250747032937291 0.13164532145365193\n",
      "-0.004196849611183269 0.013124232712194879\n",
      "-0.020877853682545838 0.13553195277065558\n",
      "-0.02503439801379185 0.13140930408871812\n",
      "-0.0041369468423411255 0.01312457364288504\n",
      "-0.020897451171450726 0.1352656790889345\n",
      "factual score:\n",
      "[0.8466232709519935, 0.8489625711960944, 0.8494711147274207] 0.8483523189585029 0.001240123485094363\n",
      "TE:\n",
      "[-0.020517851995059046, -0.020167172431678024, -0.020112573340046538] -0.020265865922261202 0.00017956985802152476\n",
      "TIE:\n",
      "[-0.02543364955731894, -0.0250747032937291, -0.02503439801379185] -0.02518091695494663 0.00017946486215805643\n",
      "[0.846826688364524, 0.8486574450772986, 0.8494711147274207] 0.8483184160564144 0.001105879199233784\n",
      "NIE:\n",
      "[-0.021241366179071058, -0.020877853682545838, -0.020897451171450726] -0.02100555701102254 0.00016693409516861175\n",
      "[0.8466232709519935, 0.8488608624898292, 0.8489625711960944] 0.8481489015459723 0.001079582541910136\n",
      "INTmed:\n",
      "[-0.004192283378247885, -0.004196849611183269, -0.0041369468423411255] -0.0041753599439240925 2.7226058604733655e-05\n",
      "[0.22925142392188771, 0.22864117168429618, 0.22823433685923514] 0.228708977488473 0.00041798304875027495\n",
      "my query:\n",
      "[0.8454027664768105, 0.8478437754271766, 0.846419853539463] 0.8465554651478167 0.0010011407011278363\n"
     ]
    }
   ],
   "source": [
    "cma.report_CMA(model_path,task,data_path,test_set,fusion)"
   ]
  },
  {
   "cell_type": "code",
   "execution_count": 20,
   "id": "cb722889",
   "metadata": {},
   "outputs": [
    {
     "ename": "NameError",
     "evalue": "name 'pd' is not defined",
     "output_type": "error",
     "traceback": [
      "\u001b[0;31m---------------------------------------------------------------------------\u001b[0m",
      "\u001b[0;31mNameError\u001b[0m                                 Traceback (most recent call last)",
      "\u001b[0;32m/tmp/ipykernel_3686103/2928675715.py\u001b[0m in \u001b[0;36m<module>\u001b[0;34m\u001b[0m\n\u001b[0;32m----> 1\u001b[0;31m \u001b[0mdf_bert\u001b[0m \u001b[0;34m=\u001b[0m \u001b[0mpd\u001b[0m\u001b[0;34m.\u001b[0m\u001b[0mread_json\u001b[0m\u001b[0;34m(\u001b[0m\u001b[0;34m'/raid/can/nli_models/poe3/nli/outputs_poe_bert_base_korn_clark_1_seed13370/'\u001b[0m\u001b[0;34m+\u001b[0m\u001b[0;34m'raw_mm.jsonl'\u001b[0m\u001b[0;34m,\u001b[0m \u001b[0mlines\u001b[0m\u001b[0;34m=\u001b[0m\u001b[0;32mTrue\u001b[0m\u001b[0;34m)\u001b[0m\u001b[0;34m\u001b[0m\u001b[0;34m\u001b[0m\u001b[0m\n\u001b[0m",
      "\u001b[0;31mNameError\u001b[0m: name 'pd' is not defined"
     ]
    }
   ],
   "source": [
    "  df_bert = pd.read_json('/raid/can/nli_models/poe3/nli/outputs_poe_bert_base_korn_clark_1_seed13370/'+'raw_mm.jsonl', lines=True)"
   ]
  },
  {
   "cell_type": "code",
   "execution_count": 5,
   "id": "38f07e74",
   "metadata": {},
   "outputs": [
    {
     "name": "stdout",
     "output_type": "stream",
     "text": [
      "baseline  check_baseline  korn_reweight  poe  poe2  poe3  reweight_utama_github\r\n"
     ]
    }
   ],
   "source": [
    "!ls /raid/can/nli_models/"
   ]
  },
  {
   "cell_type": "code",
   "execution_count": 7,
   "id": "9c8cecaa",
   "metadata": {},
   "outputs": [
    {
     "name": "stdout",
     "output_type": "stream",
     "text": [
      "total 2406868\r\n",
      "-rw-rw-r-- 1 canu canu        66 Nov 30 13:43 spelling_result.txt\r\n",
      "-rw-rw-r-- 1 canu canu        66 Nov 30 13:43 negation_result.txt\r\n",
      "-rw-rw-r-- 1 canu canu        66 Nov 30 13:43 numerical_reasoning_result.txt\r\n",
      "-rw-rw-r-- 1 canu canu        66 Nov 30 13:43 length_mismatch_result.txt\r\n",
      "-rw-rw-r-- 1 canu canu        65 Nov 30 13:43 antonym_result.txt\r\n",
      "-rw-rw-r-- 1 canu canu        66 Nov 30 13:43 word_overlap_result.txt\r\n",
      "-rw-rw-r-- 1 canu canu 193014347 Dec  1 00:08 distill_output_1.jsonl\r\n",
      "drwxrwxr-x 3 canu canu      4096 Dec  1 01:07 distill_model_1\r\n",
      "-rw-rw-r-- 1 canu canu 615717404 Dec  1 05:01 raw_train_result_2.jsonl\r\n",
      "drwxrwxr-x 4 canu canu      4096 Dec  2 00:10 distill_model_0\r\n",
      "-rw-rw-r-- 1 canu canu 193128135 Dec  2 04:52 distill_output_0.jsonl\r\n",
      "-rw-rw-r-- 1 canu canu        67 Dec  7 22:36 result.txt\r\n",
      "-rw-rw-r-- 1 canu canu        66 Dec  7 22:36 snli_hard_result.txt\r\n",
      "-rw-rw-r-- 1 canu canu        66 Dec  7 22:36 mnli_hard_dev_mm_result.txt\r\n",
      "-rw-rw-r-- 1 canu canu        52 Dec  7 22:36 kaushik_rp_result.txt\r\n",
      "-rw-rw-r-- 1 canu canu        53 Dec  7 22:36 kaushik_rh_result.txt\r\n",
      "-rw-rw-r-- 1 canu canu        54 Dec  7 22:36 kaushik_combined_result.txt\r\n",
      "-rw-rw-r-- 1 canu canu  14304241 Dec  7 22:45 hans_result.jsonl\r\n",
      "-rw-rw-r-- 1 canu canu    569072 Dec  7 22:45 hans.out\r\n",
      "-rw-rw-r-- 1 canu canu      2140 Dec  7 22:45 hans_results.txt\r\n",
      "-rw-rw-r-- 1 canu canu    349018 Dec  7 22:45 hans.p\r\n",
      "-rw-rw-r-- 1 canu canu        67 Dec  7 23:03 result_train.txt\r\n",
      "-rw-rw-r-- 1 canu canu 615891867 Dec 14 21:51 raw_train_result_0.jsonl\r\n",
      "-rw-rw-r-- 1 canu canu 615814916 Dec 15 01:35 raw_train_result_1.jsonl\r\n",
      "-rw-rw-r-- 1 canu canu 215743993 Dec 15 14:00 utama_distill_output_0.jsonl\r\n",
      "drwxrwxr-x 3 canu canu      4096 Dec 15 14:08 utama_distill_model_0\r\n"
     ]
    }
   ],
   "source": [
    "!ls -ltr /raid/can/nli_models/baseline/nli/outputs_bert_base_clark_1_seed13370/normal/\n"
   ]
  },
  {
   "cell_type": "code",
   "execution_count": 22,
   "id": "40d1ad13",
   "metadata": {},
   "outputs": [],
   "source": [
    "import pandas as pd"
   ]
  },
  {
   "cell_type": "code",
   "execution_count": 23,
   "id": "3a082151",
   "metadata": {},
   "outputs": [],
   "source": [
    "  df_bias_model = pd.read_json(data_path+'test'+'_prob_korn_lr_overlapping_sample_weight_3class.jsonl', lines=True)"
   ]
  },
  {
   "cell_type": "code",
   "execution_count": 34,
   "id": "39135dae",
   "metadata": {},
   "outputs": [
    {
     "name": "stdout",
     "output_type": "stream",
     "text": [
      "168\n"
     ]
    }
   ],
   "source": [
    "if '-' in df_bias_model['gold_label'].value_counts():\n",
    "    print(df_bias_model['gold_label'].value_counts()['-'])"
   ]
  },
  {
   "cell_type": "code",
   "execution_count": 9,
   "id": "4c14a1f9",
   "metadata": {},
   "outputs": [
    {
     "ename": "NameError",
     "evalue": "name 'df_bias_model' is not defined",
     "output_type": "error",
     "traceback": [
      "\u001b[0;31m---------------------------------------------------------------------------\u001b[0m",
      "\u001b[0;31mNameError\u001b[0m                                 Traceback (most recent call last)",
      "\u001b[0;32m/tmp/ipykernel_3679248/3595450433.py\u001b[0m in \u001b[0;36m<module>\u001b[0;34m\u001b[0m\n\u001b[0;32m----> 1\u001b[0;31m \u001b[0mdf_bias_model\u001b[0m\u001b[0;34m\u001b[0m\u001b[0;34m\u001b[0m\u001b[0m\n\u001b[0m",
      "\u001b[0;31mNameError\u001b[0m: name 'df_bias_model' is not defined"
     ]
    }
   ],
   "source": [
    "df_bias_model"
   ]
  },
  {
   "cell_type": "code",
   "execution_count": null,
   "id": "ccf87e05",
   "metadata": {},
   "outputs": [],
   "source": []
  }
 ],
 "metadata": {
  "kernelspec": {
   "display_name": "Python 3",
   "language": "python",
   "name": "python3"
  },
  "language_info": {
   "codemirror_mode": {
    "name": "ipython",
    "version": 3
   },
   "file_extension": ".py",
   "mimetype": "text/x-python",
   "name": "python",
   "nbconvert_exporter": "python",
   "pygments_lexer": "ipython3",
   "version": "3.8.8"
  }
 },
 "nbformat": 4,
 "nbformat_minor": 5
}
