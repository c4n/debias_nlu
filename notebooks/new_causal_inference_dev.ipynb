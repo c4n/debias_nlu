{
 "cells": [
  {
   "cell_type": "code",
   "execution_count": 32,
   "id": "619e5d1b",
   "metadata": {},
   "outputs": [
    {
     "data": {
      "text/plain": [
       "['/ist/ist-share/scads/can/robust_nlu/korn_reweight/nli/outputs_bert_base_overlapping_korn_ps3class_3/',\n",
       " '/ist/ist-share/scads/can/robust_nlu/korn_reweight/nli/outputs_bert_base_overlapping_korn_ps3class_2/',\n",
       " '/ist/ist-share/scads/can/robust_nlu/korn_reweight/nli/outputs_bert_base_overlapping_korn_ps3class_1/']"
      ]
     },
     "execution_count": 32,
     "metadata": {},
     "output_type": "execute_result"
    }
   ],
   "source": [
    "import glob\n",
    "import os\n",
    "import fuse, causal_utils\n",
    "glob.glob(\"/ist/ist-share/scads/can/robust_nlu/korn_reweight/nli/*/\")"
   ]
  },
  {
   "cell_type": "code",
   "execution_count": 97,
   "id": "4f4f414b",
   "metadata": {},
   "outputs": [
    {
     "name": "stdout",
     "output_type": "stream",
     "text": [
      "outputs_bert_base_clark_1_seed13370  outputs_bert_base_clark_1_seed33370\r\n",
      "outputs_bert_base_clark_1_seed23370\r\n"
     ]
    }
   ],
   "source": [
    "!ls /raid/can/nli_models/baseline/outputs_bert_base_clark_1_seed13370"
   ]
  },
  {
   "cell_type": "code",
   "execution_count": 100,
   "id": "e3ca15bf",
   "metadata": {},
   "outputs": [],
   "source": [
    "import pandas as pd\n",
    "import numpy as np\n",
    "from scipy.special import softmax\n",
    "from scipy.special import expit\n",
    "\n",
    "model_path='/raid/can/nli_models/baseline/outputs_bert_base_clark_1_seed13370/'\n",
    "data_path='/ist/users/canu/debias_nlu/data/nli/'\n",
    "df = pd.read_json(model_path+'raw_train.jsonl', lines=True)\n",
    "fusion = fuse.sum_fuse"
   ]
  },
  {
   "cell_type": "markdown",
   "id": "40467551",
   "metadata": {},
   "source": [
    "# Get avg  prob of bert"
   ]
  },
  {
   "cell_type": "code",
   "execution_count": 101,
   "id": "76b50e1f",
   "metadata": {},
   "outputs": [],
   "source": [
    "list_probs = []\n",
    "for i in df['probs']:\n",
    "    list_probs.extend(i)\n",
    "x=np.array(list_probs)\n",
    "avg=np.average(x,axis=0)"
   ]
  },
  {
   "cell_type": "code",
   "execution_count": 102,
   "id": "73597c13",
   "metadata": {},
   "outputs": [
    {
     "data": {
      "text/plain": [
       "'/ist/users/canu/debias_nlu/data/nli/'"
      ]
     },
     "execution_count": 102,
     "metadata": {},
     "output_type": "execute_result"
    }
   ],
   "source": [
    "data_path"
   ]
  },
  {
   "cell_type": "code",
   "execution_count": 103,
   "id": "d690b709",
   "metadata": {},
   "outputs": [
    {
     "name": "stdout",
     "output_type": "stream",
     "text": [
      "check_distill.jsonl\r\n",
      "dev_mismatched_hard.jsonl\r\n",
      "dev_prob_korn_full_lr_overlapping_sample_weight_3class.jsonl\r\n",
      "dev_prob_korn_lr_overlapping_sample_weight_3class.jsonl\r\n",
      "gam_sample_weight_clark.jsonl\r\n",
      "gam_sample_weight_focal.jsonl\r\n",
      "gam_sample_weight_ps.jsonl\r\n",
      "hans_prob_korn_full_lr_overlapping_sample_weight_3class.jsonl\r\n",
      "hans_prob_korn_lr_overlapping_sample_weight_3class.jsonl\r\n",
      "heuristics_evaluation_set.jsonl\r\n",
      "heuristics_evaluation_set_sample_weight.jsonl\r\n",
      "heuristics_evaluation_set.txt\r\n",
      "korn_full_lr_sample_weight.jsonl\r\n",
      "multinli_1.0_dev_matched.jsonl\r\n",
      "multinli_1.0_dev_matched_overlap.jsonl\r\n",
      "multinli_1.0_dev_matched_weighted.jsonl\r\n",
      "multinli_1.0_dev_mismatched.jsonl\r\n",
      "multinli_1.0_dev_mismatched_overlap.jsonl\r\n",
      "multinli_1.0_train.jsonl\r\n",
      "multinli_1.0_train_small.jsonl\r\n",
      "naik_stress_test\r\n",
      "newfile.txt\r\n",
      "README.md\r\n",
      "small_utama_github_poe.jsonl\r\n",
      "snli_1.0_test_hard.jsonl\r\n",
      "test_distill.jsonl\r\n",
      "test_kaushik_combined.jsonl\r\n",
      "test_kaushik_RH.jsonl\r\n",
      "test_kaushik_RP.jsonl\r\n",
      "test_prob_korn_full_lr_overlapping_sample_weight_3class.jsonl\r\n",
      "test_prob_korn_lr_overlapping_sample_weight_3class.jsonl\r\n",
      "train_prob_korn_full_lr_overlapping_sample_weight_3class.jsonl\r\n",
      "train_prob_korn_lr_overlapping_sample_weight_3class.jsonl\r\n",
      "utama_github_PoE.jsonl\r\n",
      "utama_github_sample_weight.jsonl\r\n"
     ]
    }
   ],
   "source": [
    "!ls /ist/users/canu/debias_nlu/data/nli/"
   ]
  },
  {
   "cell_type": "markdown",
   "id": "cb111eb4",
   "metadata": {},
   "source": [
    "#  get score from the bias model"
   ]
  },
  {
   "cell_type": "code",
   "execution_count": 104,
   "id": "ac7be79a",
   "metadata": {},
   "outputs": [],
   "source": [
    "df_dev = pd.read_json(data_path+'dev_prob_korn_lr_overlapping_sample_weight_3class.jsonl', lines=True)"
   ]
  },
  {
   "cell_type": "code",
   "execution_count": 105,
   "id": "646cc5cf",
   "metadata": {},
   "outputs": [],
   "source": [
    "dev_score=[b for b in df_dev['bias_probs'] ]"
   ]
  },
  {
   "cell_type": "code",
   "execution_count": 106,
   "id": "5af16a6a",
   "metadata": {},
   "outputs": [],
   "source": [
    "dev_score=np.array(dev_score)"
   ]
  },
  {
   "cell_type": "code",
   "execution_count": 107,
   "id": "0a2c29ee",
   "metadata": {},
   "outputs": [
    {
     "data": {
      "text/plain": [
       "array([[0.17841856, 0.36916586, 0.45241557],\n",
       "       [0.16769396, 0.36900166, 0.46330438],\n",
       "       [0.30998087, 0.35088779, 0.33913134],\n",
       "       ...,\n",
       "       [0.43164769, 0.31369753, 0.25465478],\n",
       "       [0.43164769, 0.31369753, 0.25465478],\n",
       "       [0.19428596, 0.3688092 , 0.43690484]])"
      ]
     },
     "execution_count": 107,
     "metadata": {},
     "output_type": "execute_result"
    }
   ],
   "source": [
    "dev_score"
   ]
  },
  {
   "cell_type": "code",
   "execution_count": 108,
   "id": "940194d4",
   "metadata": {},
   "outputs": [],
   "source": [
    "# bias_score=softmax(np.log(avg+dev_score))\n",
    "# bias_score=softmax(np.log(avg)+np.log(dev_score))\n",
    "# bias_score=np.log(expit(avg+dev_score))\n",
    "bias_score=fusion(avg,dev_score)"
   ]
  },
  {
   "cell_type": "code",
   "execution_count": 109,
   "id": "538a9411",
   "metadata": {},
   "outputs": [
    {
     "data": {
      "text/plain": [
       "array([[-0.47041369, -0.40222965, -0.37502951],\n",
       "       [-0.47445166, -0.40228403, -0.37163697],\n",
       "       [-0.42304967, -0.40831992, -0.4118552 ],\n",
       "       ...,\n",
       "       [-0.38273091, -0.4209421 , -0.44117782],\n",
       "       [-0.38273091, -0.4209421 , -0.44117782],\n",
       "       [-0.46448882, -0.40234778, -0.3799061 ]])"
      ]
     },
     "execution_count": 109,
     "metadata": {},
     "output_type": "execute_result"
    }
   ],
   "source": [
    "bias_score"
   ]
  },
  {
   "cell_type": "code",
   "execution_count": 110,
   "id": "4fe016b0",
   "metadata": {},
   "outputs": [],
   "source": [
    "import pandas as pd\n",
    "df_gt = pd.read_json(data_path+'multinli_1.0_dev_matched.jsonl', lines=True)\n",
    "gt_labels=list(df_gt['gold_label'])"
   ]
  },
  {
   "cell_type": "code",
   "execution_count": 111,
   "id": "087e608f",
   "metadata": {},
   "outputs": [],
   "source": [
    "result_path=model_path\n",
    "df_bert = pd.read_json(model_path+'raw_m.jsonl', lines=True)"
   ]
  },
  {
   "cell_type": "code",
   "execution_count": 112,
   "id": "f0b3c526",
   "metadata": {},
   "outputs": [],
   "source": [
    "# ent = []\n",
    "PoE_prob = []\n",
    "for p,h in zip(df_bert['probs'],dev_score):\n",
    "#     new_poe = softmax(np.log(np.array(p))+np.log(dev_score))\n",
    "    new_poe = fusion(np.array(p),h)\n",
    "#     ent.append(entropy(p, base=3))\n",
    "    PoE_prob.append(new_poe)"
   ]
  },
  {
   "cell_type": "code",
   "execution_count": 113,
   "id": "ca00c7e6",
   "metadata": {},
   "outputs": [],
   "source": [
    "debias_scores = []\n",
    "for p,b in zip(PoE_prob,bias_score):\n",
    "#     e=entropy(p, base=3)\n",
    "    debias_scores.append(p-b)"
   ]
  },
  {
   "cell_type": "code",
   "execution_count": 114,
   "id": "9f63e312",
   "metadata": {},
   "outputs": [],
   "source": [
    "key = {0:\"entailment\",1:\"contradiction\",2:\"neutral\"}\n",
    "labels = []\n",
    "for i in debias_scores:\n",
    "    labels.append(key[np.argmax(i)])\n",
    "df_bert['debias_label']=labels"
   ]
  },
  {
   "cell_type": "code",
   "execution_count": 115,
   "id": "57bbfde3",
   "metadata": {},
   "outputs": [],
   "source": [
    "from scipy.stats import entropy"
   ]
  },
  {
   "cell_type": "code",
   "execution_count": 116,
   "id": "35999d60",
   "metadata": {},
   "outputs": [
    {
     "data": {
      "text/plain": [
       "0.9999999999999998"
      ]
     },
     "execution_count": 116,
     "metadata": {},
     "output_type": "execute_result"
    }
   ],
   "source": [
    "entropy([1/3, 1/3,1/3], base=3)"
   ]
  },
  {
   "cell_type": "code",
   "execution_count": null,
   "id": "3726a8e5",
   "metadata": {},
   "outputs": [],
   "source": []
  },
  {
   "cell_type": "code",
   "execution_count": 117,
   "id": "75c54f40",
   "metadata": {},
   "outputs": [],
   "source": [
    "def get_ans(ans):\n",
    "    if ans == 0:\n",
    "        return 'entailment'\n",
    "    elif ans==1:\n",
    "        return 'contradiction'\n",
    "    else:\n",
    "        return 'neutral'\n",
    "    \n",
    "# y0m0\n",
    "import pickle\n",
    "modelname='mnli_lr_model.sav'\n",
    "loaded_model = pickle.load(open(modelname, 'rb'))\n",
    "x0=loaded_model.predict_proba(np.array([[0,0,0.41997876976119086]]))\n",
    "m0=avg\n",
    "y0m0=fusion(x0,m0)    "
   ]
  },
  {
   "cell_type": "code",
   "execution_count": 118,
   "id": "34db22d0",
   "metadata": {},
   "outputs": [
    {
     "name": "stdout",
     "output_type": "stream",
     "text": [
      "-0.02788629555058882\n",
      "0.0008568151657749869\n"
     ]
    }
   ],
   "source": [
    "factual = []\n",
    "counter = []\n",
    "all_nie = []\n",
    "all_nde = []\n",
    "for i in range(len(gt_labels)): \n",
    "    y1m1 = PoE_prob[i]\n",
    "    y1m0 = bias_score[i]\n",
    "    TE = y1m1 - y0m0\n",
    "    NDE = bias_score[i] - y0m0\n",
    "    y0m1= fusion(x0,np.array(df_bert['probs'][i]) )\n",
    "    NIE = y1m1 - y1m0\n",
    "    factual_ans = np.argmax(df_bert['probs'][i])\n",
    "    factual_ans = get_ans(factual_ans)\n",
    "    factual_correct = factual_ans==gt_labels[i]   \n",
    "    factual.append(factual_correct)\n",
    "    all_nde.append(NDE[0][0])\n",
    "    all_nie.append(NIE[0])\n",
    "    if  (NIE[0]/TE[0][0])>0.1:\n",
    "        cf_ans = np.argmax(np.array(df_bert['probs'][i]-dev_score[i]))\n",
    "        cf_ans = get_ans(cf_ans)  \n",
    "        cf_correct = cf_ans==gt_labels[i]\n",
    "    else:\n",
    "#         print(cf_ans)\n",
    "        cf_correct = factual_ans ==gt_labels[i]\n",
    "    counter.append(cf_correct)\n",
    "    \n",
    "#     np.array(df_bert['probs'][i]-bias_score)\n",
    "#     gt_labels[i]\n",
    "print(np.array(all_nie).mean())\n",
    "print(np.array(all_nde).mean())"
   ]
  },
  {
   "cell_type": "code",
   "execution_count": 127,
   "id": "28f22fc0",
   "metadata": {},
   "outputs": [
    {
     "name": "stdout",
     "output_type": "stream",
     "text": [
      "0.8276 0.8267\n"
     ]
    }
   ],
   "source": [
    "print(sum(factual)/10000,sum(counter)/10000)"
   ]
  },
  {
   "cell_type": "code",
   "execution_count": 128,
   "id": "32b12133",
   "metadata": {},
   "outputs": [],
   "source": [
    "TE = PoE_prob[1] - y0m0"
   ]
  },
  {
   "cell_type": "code",
   "execution_count": 129,
   "id": "d67c109b",
   "metadata": {},
   "outputs": [
    {
     "data": {
      "text/plain": [
       "'contradiction'"
      ]
     },
     "execution_count": 129,
     "metadata": {},
     "output_type": "execute_result"
    }
   ],
   "source": [
    "labels[i]"
   ]
  },
  {
   "cell_type": "code",
   "execution_count": 130,
   "id": "7d4d39fe",
   "metadata": {},
   "outputs": [
    {
     "data": {
      "text/plain": [
       "array([-0.60723412, -0.52248184, -0.21195785])"
      ]
     },
     "execution_count": 130,
     "metadata": {},
     "output_type": "execute_result"
    }
   ],
   "source": [
    "-0.487301456504589\n",
    "\n",
    "PoE_prob[0]"
   ]
  },
  {
   "cell_type": "code",
   "execution_count": 131,
   "id": "9c0ce0da",
   "metadata": {},
   "outputs": [
    {
     "data": {
      "text/plain": [
       "array([[0.47065834, 1.40113924, 0.37587522],\n",
       "       [0.4746963 , 1.40119362, 0.37248268],\n",
       "       [0.42329432, 1.40722952, 0.4127009 ],\n",
       "       ...,\n",
       "       [0.38297556, 1.41985169, 0.44202353],\n",
       "       [0.38297556, 1.41985169, 0.44202353],\n",
       "       [0.46473347, 1.40125737, 0.38075181]])"
      ]
     },
     "execution_count": 131,
     "metadata": {},
     "output_type": "execute_result"
    }
   ],
   "source": [
    "np.array(df_bert['probs'][i]-bias_score)"
   ]
  },
  {
   "cell_type": "code",
   "execution_count": 132,
   "id": "f09c3743",
   "metadata": {},
   "outputs": [
    {
     "data": {
      "text/plain": [
       "'contradiction'"
      ]
     },
     "execution_count": 132,
     "metadata": {},
     "output_type": "execute_result"
    }
   ],
   "source": [
    "labels[5000]"
   ]
  },
  {
   "cell_type": "code",
   "execution_count": 133,
   "id": "b7ad0a95",
   "metadata": {},
   "outputs": [
    {
     "data": {
      "text/plain": [
       "array([2.44645227e-04, 9.98909593e-01, 8.45707196e-04])"
      ]
     },
     "execution_count": 133,
     "metadata": {},
     "output_type": "execute_result"
    }
   ],
   "source": [
    "np.array(df_bert['probs'][i])"
   ]
  },
  {
   "cell_type": "code",
   "execution_count": 134,
   "id": "b096b3f1",
   "metadata": {},
   "outputs": [
    {
     "data": {
      "text/plain": [
       "1"
      ]
     },
     "execution_count": 134,
     "metadata": {},
     "output_type": "execute_result"
    }
   ],
   "source": [
    "np.argmax(df_bert['probs'][i])"
   ]
  },
  {
   "cell_type": "code",
   "execution_count": 259,
   "id": "01ad2542",
   "metadata": {},
   "outputs": [],
   "source": [
    "#PM # 0.032416620996870094 # utama best seed  0.04260506151060745\n",
    "#PM # 0.0879242620437139 # PoE 0.08649503037239671\n",
    "#PM # 0.10864416858494 # Baseline 0.10295758381662952"
   ]
  },
  {
   "cell_type": "code",
   "execution_count": null,
   "id": "e2580d3a",
   "metadata": {},
   "outputs": [],
   "source": []
  }
 ],
 "metadata": {
  "kernelspec": {
   "display_name": "Python 3",
   "language": "python",
   "name": "python3"
  },
  "language_info": {
   "codemirror_mode": {
    "name": "ipython",
    "version": 3
   },
   "file_extension": ".py",
   "mimetype": "text/x-python",
   "name": "python",
   "nbconvert_exporter": "python",
   "pygments_lexer": "ipython3",
   "version": "3.8.8"
  }
 },
 "nbformat": 4,
 "nbformat_minor": 5
}
