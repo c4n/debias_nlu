{
 "cells": [
  {
   "cell_type": "code",
   "execution_count": null,
   "id": "b65a049f",
   "metadata": {},
   "outputs": [],
   "source": [
    "import torch\n",
    "import torch.nn.functional as F\n",
    "from transformers import AutoTokenizer, AutoModelForSequenceClassification\n",
    "\n",
    "from abc import ABC, abstractmethod\n",
    "import json\n",
    "import pandas as pd\n",
    "\n",
    "from tqdm.notebook import tqdm"
   ]
  },
  {
   "cell_type": "code",
   "execution_count": null,
   "id": "01548db2",
   "metadata": {},
   "outputs": [],
   "source": [
    "class ReaderABC(ABC):\n",
    "    @abstractmethod\n",
    "    def read(self, filename: str, **kwargs) -> None:\n",
    "        raise NotImplementedError\n",
    "        \n",
    "    @abstractmethod\n",
    "    def save(self, path: str, **kwargs) -> None:\n",
    "        raise NotImplementedError\n",
    "\n",
    "class Reader(ReaderABC):\n",
    "    def __init__(self):\n",
    "        self.loaded_df = None\n",
    "        self.df = None\n",
    "\n",
    "    def read(self, filename: str, **kwargs) -> None:\n",
    "        raise NotImplementedError\n",
    "\n",
    "    def save(self, path: str, **kwargs) -> None:\n",
    "        import jsonlines\n",
    "        with jsonlines.open(path, mode='w') as jsonl_file:\n",
    "            jsonl_file.write(self.df.to_json(**kwargs))\n",
    "\n",
    "    def create_df(\n",
    "            self,\n",
    "            columns=('pairID', 'gold_label', 'sentence1', 'sentence2')) -> None:\n",
    "        self.df = self.loaded_df[list(columns)]\n",
    "        return self.df\n",
    "\n",
    "    def add_column(self, col_name: str, func) -> None:\n",
    "        new_df = func(self.df['sentence1'], self.df['sentence2'])\n",
    "        self.df.insert(\n",
    "            len(self.df.keys()),\n",
    "            col_name,\n",
    "            new_df,\n",
    "            True)\n",
    "        return self.df\n",
    "\n",
    "class JsonlReader(Reader):\n",
    "    def read(self, filename: str, **kwargs):\n",
    "        self.loaded_df = pd.read_json(filename, **kwargs)\n",
    "        return self.loaded_df\n",
    "\n",
    "class TextReader(Reader):\n",
    "    def read(self, filename: str, **kwargs) -> None:\n",
    "        self.loaded_df = pd.read_csv(filename, **kwargs)\n",
    "        return self.loaded_df"
   ]
  },
  {
   "cell_type": "code",
   "execution_count": null,
   "id": "3a57d94e",
   "metadata": {},
   "outputs": [],
   "source": [
    "device = \"cuda:0\" if torch.cuda.is_available() else \"cpu\"\n",
    "device"
   ]
  },
  {
   "cell_type": "code",
   "execution_count": null,
   "id": "9106adb3",
   "metadata": {},
   "outputs": [],
   "source": [
    "tokenizer = AutoTokenizer.from_pretrained(\"Transformers-model-name-or-path\")\n",
    "model = AutoModelForSequenceClassification.from_pretrained(\"Transformers-model-name-or-path\", num_labels=3)\n",
    "model = model.to(device)"
   ]
  },
  {
   "cell_type": "code",
   "execution_count": null,
   "id": "551b4275",
   "metadata": {},
   "outputs": [],
   "source": [
    "reader = JsonlReader()\n",
    "reader.read(\"your-jsonl-file-path\", lines=True) # multinli_1.0_dev_matched.jsonl\n",
    "reader.create_df(columns=('pairID', 'gold_label', 'sentence1', 'sentence2'))"
   ]
  },
  {
   "cell_type": "code",
   "execution_count": null,
   "id": "deedee10",
   "metadata": {},
   "outputs": [],
   "source": [
    "logits = []\n",
    "probs = []\n",
    "for idx, row in tqdm(reader.df.iterrows()):\n",
    "    with torch.no_grad():\n",
    "        inputs = tokenizer.encode_plus(row[\"sentence1\"], row[\"sentence2\"], \n",
    "                                       add_special_tokens=True,\n",
    "                                       return_tensors=\"pt\").to(device)\n",
    "        outputs = model(**inputs)\n",
    "    probs.append(F.softmax(outputs.logits)[0].to(\"cpu\"))\n",
    "    logits.append(outputs.logits[0].tolist())\n",
    "    del inputs, outputs\n",
    "    torch.cuda.empty_cache()"
   ]
  },
  {
   "cell_type": "code",
   "execution_count": null,
   "id": "a11ebeec",
   "metadata": {},
   "outputs": [],
   "source": [
    "reader.df[\"logits\"] = logits\n",
    "for i in range(len(probs)):\n",
    "    probs[i] = probs[i].tolist()\n",
    "reader.df[\"probs\"] = probs"
   ]
  },
  {
   "cell_type": "code",
   "execution_count": null,
   "id": "81847c38",
   "metadata": {},
   "outputs": [],
   "source": [
    "reader.df.head()"
   ]
  },
  {
   "cell_type": "code",
   "execution_count": null,
   "id": "d7eacaca",
   "metadata": {},
   "outputs": [],
   "source": [
    "json_file = reader.df.to_json(orient='records', lines=True)\n",
    "with open(\"your-output-path\", 'w') as f:\n",
    "    f.write(json_file)"
   ]
  }
 ],
 "metadata": {
  "kernelspec": {
   "display_name": "Python 3 (ipykernel)",
   "language": "python",
   "name": "python3"
  },
  "language_info": {
   "codemirror_mode": {
    "name": "ipython",
    "version": 3
   },
   "file_extension": ".py",
   "mimetype": "text/x-python",
   "name": "python",
   "nbconvert_exporter": "python",
   "pygments_lexer": "ipython3",
   "version": "3.7.11"
  }
 },
 "nbformat": 4,
 "nbformat_minor": 5
}
