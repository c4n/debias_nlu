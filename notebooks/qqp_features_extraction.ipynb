{
 "cells": [
  {
   "cell_type": "markdown",
   "id": "emerging-findings",
   "metadata": {},
   "source": [
    "# Read dataset"
   ]
  },
  {
   "cell_type": "code",
   "execution_count": 1,
   "id": "hispanic-webcam",
   "metadata": {},
   "outputs": [],
   "source": [
    "import pandas as pd\n",
    "import json"
   ]
  },
  {
   "cell_type": "code",
   "execution_count": 3,
   "id": "textile-truth",
   "metadata": {},
   "outputs": [],
   "source": [
    "# qqp_path = \"data/paraphrase_identification/qqp.train.jsonl\"\n",
    "# qqp_path = \"data/paraphrase_identification/qqp.val.jsonl\"\n",
    "qqp_path = \"data/paraphrase_identification/qqp.dev.jsonl\"\n",
    "# qqp_path = \"data/paraphrase_identification/paws.dev_and_test.jsonl\""
   ]
  },
  {
   "cell_type": "code",
   "execution_count": 5,
   "id": "christian-trainer",
   "metadata": {},
   "outputs": [
    {
     "data": {
      "text/html": [
       "<div>\n",
       "<style scoped>\n",
       "    .dataframe tbody tr th:only-of-type {\n",
       "        vertical-align: middle;\n",
       "    }\n",
       "\n",
       "    .dataframe tbody tr th {\n",
       "        vertical-align: top;\n",
       "    }\n",
       "\n",
       "    .dataframe thead th {\n",
       "        text-align: right;\n",
       "    }\n",
       "</style>\n",
       "<table border=\"1\" class=\"dataframe\">\n",
       "  <thead>\n",
       "    <tr style=\"text-align: right;\">\n",
       "      <th></th>\n",
       "      <th>id</th>\n",
       "      <th>qid1</th>\n",
       "      <th>qid2</th>\n",
       "      <th>sentence1</th>\n",
       "      <th>sentence2</th>\n",
       "      <th>is_duplicate</th>\n",
       "    </tr>\n",
       "  </thead>\n",
       "  <tbody>\n",
       "    <tr>\n",
       "      <th>0</th>\n",
       "      <td>312147</td>\n",
       "      <td>436549</td>\n",
       "      <td>57965</td>\n",
       "      <td>Is it a good decision to ban currency of 500 a...</td>\n",
       "      <td>Is it a good decision to ban currency of 500 a...</td>\n",
       "      <td>1</td>\n",
       "    </tr>\n",
       "    <tr>\n",
       "      <th>1</th>\n",
       "      <td>74079</td>\n",
       "      <td>127018</td>\n",
       "      <td>127019</td>\n",
       "      <td>Does eating eggs also cause bird flu?</td>\n",
       "      <td>Can eating boiled egg or omelette cause bird flu?</td>\n",
       "      <td>1</td>\n",
       "    </tr>\n",
       "    <tr>\n",
       "      <th>2</th>\n",
       "      <td>6705</td>\n",
       "      <td>13126</td>\n",
       "      <td>13127</td>\n",
       "      <td>Can God make a boulder so heavy he can't lift it?</td>\n",
       "      <td>If God is real could he make a rock that is to...</td>\n",
       "      <td>1</td>\n",
       "    </tr>\n",
       "    <tr>\n",
       "      <th>3</th>\n",
       "      <td>351429</td>\n",
       "      <td>50779</td>\n",
       "      <td>293918</td>\n",
       "      <td>How do I prepare for neet 2017 in 4 months?</td>\n",
       "      <td>How can I prepare for NEET 2017 in 4 months?</td>\n",
       "      <td>1</td>\n",
       "    </tr>\n",
       "    <tr>\n",
       "      <th>4</th>\n",
       "      <td>256701</td>\n",
       "      <td>255449</td>\n",
       "      <td>194319</td>\n",
       "      <td>Does Trump want to lose the election? Is it po...</td>\n",
       "      <td>Does Trump really want to be president? Why is...</td>\n",
       "      <td>1</td>\n",
       "    </tr>\n",
       "  </tbody>\n",
       "</table>\n",
       "</div>"
      ],
      "text/plain": [
       "       id    qid1    qid2                                          sentence1  \\\n",
       "0  312147  436549   57965  Is it a good decision to ban currency of 500 a...   \n",
       "1   74079  127018  127019              Does eating eggs also cause bird flu?   \n",
       "2    6705   13126   13127  Can God make a boulder so heavy he can't lift it?   \n",
       "3  351429   50779  293918        How do I prepare for neet 2017 in 4 months?   \n",
       "4  256701  255449  194319  Does Trump want to lose the election? Is it po...   \n",
       "\n",
       "                                           sentence2  is_duplicate  \n",
       "0  Is it a good decision to ban currency of 500 a...             1  \n",
       "1  Can eating boiled egg or omelette cause bird flu?             1  \n",
       "2  If God is real could he make a rock that is to...             1  \n",
       "3       How can I prepare for NEET 2017 in 4 months?             1  \n",
       "4  Does Trump really want to be president? Why is...             1  "
      ]
     },
     "execution_count": 5,
     "metadata": {},
     "output_type": "execute_result"
    }
   ],
   "source": [
    "word_overlap.head()"
   ]
  },
  {
   "cell_type": "code",
   "execution_count": 6,
   "id": "apparent-current",
   "metadata": {},
   "outputs": [
    {
     "data": {
      "text/plain": [
       "{1: 1846, 0: 3154}"
      ]
     },
     "execution_count": 6,
     "metadata": {},
     "output_type": "execute_result"
    }
   ],
   "source": [
    "to_count = {}\n",
    "for i in range(len(word_overlap)):\n",
    "  if word_overlap['is_duplicate'][i] not in to_count:\n",
    "    to_count[word_overlap['is_duplicate'][i]] = 1\n",
    "  else:\n",
    "    to_count[word_overlap['is_duplicate'][i]] += 1\n",
    "to_count"
   ]
  },
  {
   "cell_type": "code",
   "execution_count": 7,
   "id": "defensive-foundation",
   "metadata": {},
   "outputs": [],
   "source": [
    "# for i in range(len(word_overlap)):\n",
    "#   if word_overlap['gold_label'][i] == '-':\n",
    "#     word_overlap = word_overlap.drop(labels=i, axis=0)"
   ]
  },
  {
   "cell_type": "code",
   "execution_count": 8,
   "id": "banned-psychology",
   "metadata": {},
   "outputs": [],
   "source": [
    "# word_overlap = word_overlap.reset_index()"
   ]
  },
  {
   "cell_type": "code",
   "execution_count": 9,
   "id": "sealed-headset",
   "metadata": {},
   "outputs": [
    {
     "data": {
      "text/plain": [
       "0"
      ]
     },
     "execution_count": 9,
     "metadata": {},
     "output_type": "execute_result"
    }
   ],
   "source": [
    "_c = 0\n",
    "for i in range(len(word_overlap)):\n",
    "  if word_overlap['is_duplicate'][i] == '-':\n",
    "    _c += 1\n",
    "_c"
   ]
  },
  {
   "cell_type": "code",
   "execution_count": 10,
   "id": "fuzzy-omega",
   "metadata": {},
   "outputs": [],
   "source": [
    "pair_and_label = []\n",
    "for i in range(len(word_overlap)):\n",
    "    pair_and_label.append((word_overlap['sentence1'][i], word_overlap['sentence2'][i], \n",
    "                             word_overlap['is_duplicate'][i]))"
   ]
  },
  {
   "cell_type": "code",
   "execution_count": 11,
   "id": "assured-evolution",
   "metadata": {},
   "outputs": [
    {
     "data": {
      "text/plain": [
       "5000"
      ]
     },
     "execution_count": 11,
     "metadata": {},
     "output_type": "execute_result"
    }
   ],
   "source": [
    "len(pair_and_label)"
   ]
  },
  {
   "cell_type": "code",
   "execution_count": 12,
   "id": "indoor-philip",
   "metadata": {},
   "outputs": [],
   "source": [
    "word_overlap['pair_label'] = pair_and_label"
   ]
  },
  {
   "cell_type": "code",
   "execution_count": 13,
   "id": "purple-immunology",
   "metadata": {},
   "outputs": [
    {
     "data": {
      "text/html": [
       "<div>\n",
       "<style scoped>\n",
       "    .dataframe tbody tr th:only-of-type {\n",
       "        vertical-align: middle;\n",
       "    }\n",
       "\n",
       "    .dataframe tbody tr th {\n",
       "        vertical-align: top;\n",
       "    }\n",
       "\n",
       "    .dataframe thead th {\n",
       "        text-align: right;\n",
       "    }\n",
       "</style>\n",
       "<table border=\"1\" class=\"dataframe\">\n",
       "  <thead>\n",
       "    <tr style=\"text-align: right;\">\n",
       "      <th></th>\n",
       "      <th>id</th>\n",
       "      <th>qid1</th>\n",
       "      <th>qid2</th>\n",
       "      <th>sentence1</th>\n",
       "      <th>sentence2</th>\n",
       "      <th>is_duplicate</th>\n",
       "      <th>pair_label</th>\n",
       "    </tr>\n",
       "  </thead>\n",
       "  <tbody>\n",
       "    <tr>\n",
       "      <th>0</th>\n",
       "      <td>312147</td>\n",
       "      <td>436549</td>\n",
       "      <td>57965</td>\n",
       "      <td>Is it a good decision to ban currency of 500 a...</td>\n",
       "      <td>Is it a good decision to ban currency of 500 a...</td>\n",
       "      <td>1</td>\n",
       "      <td>(Is it a good decision to ban currency of 500 ...</td>\n",
       "    </tr>\n",
       "    <tr>\n",
       "      <th>1</th>\n",
       "      <td>74079</td>\n",
       "      <td>127018</td>\n",
       "      <td>127019</td>\n",
       "      <td>Does eating eggs also cause bird flu?</td>\n",
       "      <td>Can eating boiled egg or omelette cause bird flu?</td>\n",
       "      <td>1</td>\n",
       "      <td>(Does eating eggs also cause bird flu?, Can ea...</td>\n",
       "    </tr>\n",
       "    <tr>\n",
       "      <th>2</th>\n",
       "      <td>6705</td>\n",
       "      <td>13126</td>\n",
       "      <td>13127</td>\n",
       "      <td>Can God make a boulder so heavy he can't lift it?</td>\n",
       "      <td>If God is real could he make a rock that is to...</td>\n",
       "      <td>1</td>\n",
       "      <td>(Can God make a boulder so heavy he can't lift...</td>\n",
       "    </tr>\n",
       "    <tr>\n",
       "      <th>3</th>\n",
       "      <td>351429</td>\n",
       "      <td>50779</td>\n",
       "      <td>293918</td>\n",
       "      <td>How do I prepare for neet 2017 in 4 months?</td>\n",
       "      <td>How can I prepare for NEET 2017 in 4 months?</td>\n",
       "      <td>1</td>\n",
       "      <td>(How do I prepare for neet 2017 in 4 months?, ...</td>\n",
       "    </tr>\n",
       "    <tr>\n",
       "      <th>4</th>\n",
       "      <td>256701</td>\n",
       "      <td>255449</td>\n",
       "      <td>194319</td>\n",
       "      <td>Does Trump want to lose the election? Is it po...</td>\n",
       "      <td>Does Trump really want to be president? Why is...</td>\n",
       "      <td>1</td>\n",
       "      <td>(Does Trump want to lose the election? Is it p...</td>\n",
       "    </tr>\n",
       "  </tbody>\n",
       "</table>\n",
       "</div>"
      ],
      "text/plain": [
       "       id    qid1    qid2                                          sentence1  \\\n",
       "0  312147  436549   57965  Is it a good decision to ban currency of 500 a...   \n",
       "1   74079  127018  127019              Does eating eggs also cause bird flu?   \n",
       "2    6705   13126   13127  Can God make a boulder so heavy he can't lift it?   \n",
       "3  351429   50779  293918        How do I prepare for neet 2017 in 4 months?   \n",
       "4  256701  255449  194319  Does Trump want to lose the election? Is it po...   \n",
       "\n",
       "                                           sentence2  is_duplicate  \\\n",
       "0  Is it a good decision to ban currency of 500 a...             1   \n",
       "1  Can eating boiled egg or omelette cause bird flu?             1   \n",
       "2  If God is real could he make a rock that is to...             1   \n",
       "3       How can I prepare for NEET 2017 in 4 months?             1   \n",
       "4  Does Trump really want to be president? Why is...             1   \n",
       "\n",
       "                                          pair_label  \n",
       "0  (Is it a good decision to ban currency of 500 ...  \n",
       "1  (Does eating eggs also cause bird flu?, Can ea...  \n",
       "2  (Can God make a boulder so heavy he can't lift...  \n",
       "3  (How do I prepare for neet 2017 in 4 months?, ...  \n",
       "4  (Does Trump want to lose the election? Is it p...  "
      ]
     },
     "execution_count": 13,
     "metadata": {},
     "output_type": "execute_result"
    }
   ],
   "source": [
    "word_overlap.head()"
   ]
  },
  {
   "cell_type": "markdown",
   "id": "textile-translator",
   "metadata": {},
   "source": [
    "# Lexical Overlap"
   ]
  },
  {
   "cell_type": "code",
   "execution_count": 14,
   "id": "acknowledged-prototype",
   "metadata": {},
   "outputs": [],
   "source": [
    "def lexical_overlap(pair_label):\n",
    "  premise = pair_label[0]\n",
    "  hypothesis = pair_label[1]\n",
    "  label = pair_label[2]\n",
    "  #all = {\"neutral\": [], \"contradiction\": [], \"entailment\": [], \"else\": []} \n",
    "\n",
    "  prem_words = []\n",
    "  hyp_words = []\n",
    "\n",
    "  for word in premise.split():\n",
    "    if word not in [\".\", \"?\", \"!\"]:\n",
    "      prem_words.append(word.lower())\n",
    "  \n",
    "  for word in hypothesis.split():\n",
    "    if word not in [\".\", \"?\", \"!\"]:\n",
    "      hyp_words.append(word.lower())\n",
    "  \n",
    "  prem_filtered = \" \".join(prem_words)\n",
    "  hyp_filtered = \" \".join(hyp_words)\n",
    "\n",
    "  count = 0\n",
    "  for word in hyp_words:\n",
    "    if word in prem_words:\n",
    "      count += 1\n",
    "\n",
    "  if count >= len(hyp_words)*80/100:\n",
    "    all_in = True\n",
    "  else:\n",
    "    all_in = False\n",
    "  \n",
    "  if all_in:\n",
    "    return 1\n",
    "  else:\n",
    "    return 0"
   ]
  },
  {
   "cell_type": "code",
   "execution_count": 15,
   "id": "completed-facility",
   "metadata": {},
   "outputs": [
    {
     "data": {
      "text/plain": [
       "1"
      ]
     },
     "execution_count": 15,
     "metadata": {},
     "output_type": "execute_result"
    }
   ],
   "source": [
    "lexical_overlap(word_overlap['pair_label'][0])"
   ]
  },
  {
   "cell_type": "code",
   "execution_count": 16,
   "id": "productive-sessions",
   "metadata": {},
   "outputs": [],
   "source": [
    "word_overlap['lexical_overlap'] = word_overlap['pair_label'].apply(lexical_overlap)"
   ]
  },
  {
   "cell_type": "code",
   "execution_count": 17,
   "id": "extraordinary-season",
   "metadata": {},
   "outputs": [
    {
     "data": {
      "text/html": [
       "<div>\n",
       "<style scoped>\n",
       "    .dataframe tbody tr th:only-of-type {\n",
       "        vertical-align: middle;\n",
       "    }\n",
       "\n",
       "    .dataframe tbody tr th {\n",
       "        vertical-align: top;\n",
       "    }\n",
       "\n",
       "    .dataframe thead th {\n",
       "        text-align: right;\n",
       "    }\n",
       "</style>\n",
       "<table border=\"1\" class=\"dataframe\">\n",
       "  <thead>\n",
       "    <tr style=\"text-align: right;\">\n",
       "      <th></th>\n",
       "      <th>id</th>\n",
       "      <th>qid1</th>\n",
       "      <th>qid2</th>\n",
       "      <th>sentence1</th>\n",
       "      <th>sentence2</th>\n",
       "      <th>is_duplicate</th>\n",
       "      <th>pair_label</th>\n",
       "      <th>lexical_overlap</th>\n",
       "    </tr>\n",
       "  </thead>\n",
       "  <tbody>\n",
       "    <tr>\n",
       "      <th>0</th>\n",
       "      <td>312147</td>\n",
       "      <td>436549</td>\n",
       "      <td>57965</td>\n",
       "      <td>Is it a good decision to ban currency of 500 a...</td>\n",
       "      <td>Is it a good decision to ban currency of 500 a...</td>\n",
       "      <td>1</td>\n",
       "      <td>(Is it a good decision to ban currency of 500 ...</td>\n",
       "      <td>1</td>\n",
       "    </tr>\n",
       "    <tr>\n",
       "      <th>1</th>\n",
       "      <td>74079</td>\n",
       "      <td>127018</td>\n",
       "      <td>127019</td>\n",
       "      <td>Does eating eggs also cause bird flu?</td>\n",
       "      <td>Can eating boiled egg or omelette cause bird flu?</td>\n",
       "      <td>1</td>\n",
       "      <td>(Does eating eggs also cause bird flu?, Can ea...</td>\n",
       "      <td>0</td>\n",
       "    </tr>\n",
       "    <tr>\n",
       "      <th>2</th>\n",
       "      <td>6705</td>\n",
       "      <td>13126</td>\n",
       "      <td>13127</td>\n",
       "      <td>Can God make a boulder so heavy he can't lift it?</td>\n",
       "      <td>If God is real could he make a rock that is to...</td>\n",
       "      <td>1</td>\n",
       "      <td>(Can God make a boulder so heavy he can't lift...</td>\n",
       "      <td>0</td>\n",
       "    </tr>\n",
       "    <tr>\n",
       "      <th>3</th>\n",
       "      <td>351429</td>\n",
       "      <td>50779</td>\n",
       "      <td>293918</td>\n",
       "      <td>How do I prepare for neet 2017 in 4 months?</td>\n",
       "      <td>How can I prepare for NEET 2017 in 4 months?</td>\n",
       "      <td>1</td>\n",
       "      <td>(How do I prepare for neet 2017 in 4 months?, ...</td>\n",
       "      <td>1</td>\n",
       "    </tr>\n",
       "    <tr>\n",
       "      <th>4</th>\n",
       "      <td>256701</td>\n",
       "      <td>255449</td>\n",
       "      <td>194319</td>\n",
       "      <td>Does Trump want to lose the election? Is it po...</td>\n",
       "      <td>Does Trump really want to be president? Why is...</td>\n",
       "      <td>1</td>\n",
       "      <td>(Does Trump want to lose the election? Is it p...</td>\n",
       "      <td>0</td>\n",
       "    </tr>\n",
       "  </tbody>\n",
       "</table>\n",
       "</div>"
      ],
      "text/plain": [
       "       id    qid1    qid2                                          sentence1  \\\n",
       "0  312147  436549   57965  Is it a good decision to ban currency of 500 a...   \n",
       "1   74079  127018  127019              Does eating eggs also cause bird flu?   \n",
       "2    6705   13126   13127  Can God make a boulder so heavy he can't lift it?   \n",
       "3  351429   50779  293918        How do I prepare for neet 2017 in 4 months?   \n",
       "4  256701  255449  194319  Does Trump want to lose the election? Is it po...   \n",
       "\n",
       "                                           sentence2  is_duplicate  \\\n",
       "0  Is it a good decision to ban currency of 500 a...             1   \n",
       "1  Can eating boiled egg or omelette cause bird flu?             1   \n",
       "2  If God is real could he make a rock that is to...             1   \n",
       "3       How can I prepare for NEET 2017 in 4 months?             1   \n",
       "4  Does Trump really want to be president? Why is...             1   \n",
       "\n",
       "                                          pair_label  lexical_overlap  \n",
       "0  (Is it a good decision to ban currency of 500 ...                1  \n",
       "1  (Does eating eggs also cause bird flu?, Can ea...                0  \n",
       "2  (Can God make a boulder so heavy he can't lift...                0  \n",
       "3  (How do I prepare for neet 2017 in 4 months?, ...                1  \n",
       "4  (Does Trump want to lose the election? Is it p...                0  "
      ]
     },
     "execution_count": 17,
     "metadata": {},
     "output_type": "execute_result"
    }
   ],
   "source": [
    "word_overlap.head()"
   ]
  },
  {
   "cell_type": "markdown",
   "id": "supposed-software",
   "metadata": {},
   "source": [
    "# Word Swapping"
   ]
  },
  {
   "cell_type": "code",
   "execution_count": 18,
   "id": "relative-realtor",
   "metadata": {},
   "outputs": [],
   "source": [
    "import Levenshtein"
   ]
  },
  {
   "cell_type": "code",
   "execution_count": 19,
   "id": "bronze-prior",
   "metadata": {},
   "outputs": [],
   "source": [
    "def all_count(pair_label):\n",
    "  premise = pair_label[0]\n",
    "  hypothesis = pair_label[1]\n",
    "  label = pair_label[2]\n",
    "\n",
    "  all = {\"neutral\": [], \"contradiction\": [], \"entailment\": [], \"else\": []} \n",
    "  twen = []\n",
    "  prem_words = []\n",
    "  hyp_words = []\n",
    "\n",
    "  for word in premise.split():\n",
    "    if word not in [\".\", \"?\", \"!\"]:\n",
    "      prem_words.append(word.lower())\n",
    "  \n",
    "  for word in hypothesis.split():\n",
    "    if word not in [\".\", \"?\", \"!\"]:\n",
    "      hyp_words.append(word.lower())\n",
    "  \n",
    "  prem_filtered = \" \".join(prem_words)\n",
    "  hyp_filtered = \" \".join(hyp_words)\n",
    "\n",
    "  count = 0\n",
    "  for word in hyp_words:\n",
    "    if word in prem_words:\n",
    "      count += 1\n",
    "\n",
    "  if count > len(hyp_words)*0/100:\n",
    "    all_in = True\n",
    "  else:\n",
    "    all_in = False\n",
    "  \n",
    "  if all_in:\n",
    "    twen.append((premise, hypothesis))\n",
    "\n",
    "  return twen"
   ]
  },
  {
   "cell_type": "code",
   "execution_count": 20,
   "id": "lightweight-backing",
   "metadata": {},
   "outputs": [],
   "source": [
    "def detect_swapping(prem_and_hypo):\n",
    "  new_prem, new_hypo = '', ''\n",
    "  prem = prem_and_hypo[0].replace(\"  \", \" \")\n",
    "  hypo = prem_and_hypo[1].replace(\"  \", \" \")\n",
    "  tokens_prem = prem.lower().split()\n",
    "  tokens_hypo = hypo.lower().split()\n",
    "\n",
    "  intersect = list(set(tokens_prem).intersection(tokens_hypo))\n",
    "\n",
    "  for i in range(len(tokens_prem)): \n",
    "    if tokens_prem[i] in intersect:\n",
    "      new_prem += tokens_prem[i]+' '\n",
    "  for i in range(len(tokens_hypo)):\n",
    "    if tokens_hypo[i] in intersect:\n",
    "      new_hypo += tokens_hypo[i]+' '\n",
    "  \n",
    "  if len(new_prem.split()) == 1 and len(new_hypo.split()) == 1:\n",
    "    return \"-\"\n",
    "  elif len(new_prem.split()) == 0 and len(new_hypo.split()) == 0:\n",
    "    return \"-\"\n",
    "  \n",
    "  if len(new_prem.strip()) > len(new_hypo.strip()):\n",
    "    dif = len(new_prem.strip())-len(new_hypo.strip())\n",
    "    distance = Levenshtein.distance(new_prem.strip(), new_hypo.strip())\n",
    "    if dif == distance:\n",
    "      return \"Not Swap\"\n",
    "    else:\n",
    "      return \"Swap\"\n",
    "  else:\n",
    "    dif = len(new_hypo.strip())-len(new_prem.strip())\n",
    "    distance = Levenshtein.distance(new_prem.strip(), new_hypo.strip())\n",
    "    if dif == distance:\n",
    "      return \"Not Swap\"\n",
    "    else:\n",
    "      return \"Swap\""
   ]
  },
  {
   "cell_type": "code",
   "execution_count": 21,
   "id": "careful-holmes",
   "metadata": {},
   "outputs": [
    {
     "data": {
      "text/plain": [
       "'Not Swap'"
      ]
     },
     "execution_count": 21,
     "metadata": {},
     "output_type": "execute_result"
    }
   ],
   "source": [
    "detect_swapping((\"Carl Newton and I wrote a letter\", \"Carl wrote a letter\"))"
   ]
  },
  {
   "cell_type": "code",
   "execution_count": 22,
   "id": "handy-reggae",
   "metadata": {},
   "outputs": [],
   "source": [
    "swap, not_swap, dash = 0, 0, 0\n",
    "for i in word_overlap['pair_label']:\n",
    "  res = detect_swapping(i)\n",
    "  if res == \"Swap\":\n",
    "    swap += 1\n",
    "  elif res == \"Not Swap\":\n",
    "    not_swap += 1\n",
    "  else:\n",
    "    dash += 1"
   ]
  },
  {
   "cell_type": "code",
   "execution_count": 23,
   "id": "heavy-poland",
   "metadata": {},
   "outputs": [],
   "source": [
    "word_overlap['word_swapping'] = word_overlap['pair_label'].apply(detect_swapping)"
   ]
  },
  {
   "cell_type": "code",
   "execution_count": 24,
   "id": "needed-compensation",
   "metadata": {},
   "outputs": [
    {
     "data": {
      "text/html": [
       "<div>\n",
       "<style scoped>\n",
       "    .dataframe tbody tr th:only-of-type {\n",
       "        vertical-align: middle;\n",
       "    }\n",
       "\n",
       "    .dataframe tbody tr th {\n",
       "        vertical-align: top;\n",
       "    }\n",
       "\n",
       "    .dataframe thead th {\n",
       "        text-align: right;\n",
       "    }\n",
       "</style>\n",
       "<table border=\"1\" class=\"dataframe\">\n",
       "  <thead>\n",
       "    <tr style=\"text-align: right;\">\n",
       "      <th></th>\n",
       "      <th>id</th>\n",
       "      <th>qid1</th>\n",
       "      <th>qid2</th>\n",
       "      <th>sentence1</th>\n",
       "      <th>sentence2</th>\n",
       "      <th>is_duplicate</th>\n",
       "      <th>pair_label</th>\n",
       "      <th>lexical_overlap</th>\n",
       "      <th>word_swapping</th>\n",
       "    </tr>\n",
       "  </thead>\n",
       "  <tbody>\n",
       "    <tr>\n",
       "      <th>0</th>\n",
       "      <td>312147</td>\n",
       "      <td>436549</td>\n",
       "      <td>57965</td>\n",
       "      <td>Is it a good decision to ban currency of 500 a...</td>\n",
       "      <td>Is it a good decision to ban currency of 500 a...</td>\n",
       "      <td>1</td>\n",
       "      <td>(Is it a good decision to ban currency of 500 ...</td>\n",
       "      <td>1</td>\n",
       "      <td>Not Swap</td>\n",
       "    </tr>\n",
       "    <tr>\n",
       "      <th>1</th>\n",
       "      <td>74079</td>\n",
       "      <td>127018</td>\n",
       "      <td>127019</td>\n",
       "      <td>Does eating eggs also cause bird flu?</td>\n",
       "      <td>Can eating boiled egg or omelette cause bird flu?</td>\n",
       "      <td>1</td>\n",
       "      <td>(Does eating eggs also cause bird flu?, Can ea...</td>\n",
       "      <td>0</td>\n",
       "      <td>Not Swap</td>\n",
       "    </tr>\n",
       "    <tr>\n",
       "      <th>2</th>\n",
       "      <td>6705</td>\n",
       "      <td>13126</td>\n",
       "      <td>13127</td>\n",
       "      <td>Can God make a boulder so heavy he can't lift it?</td>\n",
       "      <td>If God is real could he make a rock that is to...</td>\n",
       "      <td>1</td>\n",
       "      <td>(Can God make a boulder so heavy he can't lift...</td>\n",
       "      <td>0</td>\n",
       "      <td>Swap</td>\n",
       "    </tr>\n",
       "    <tr>\n",
       "      <th>3</th>\n",
       "      <td>351429</td>\n",
       "      <td>50779</td>\n",
       "      <td>293918</td>\n",
       "      <td>How do I prepare for neet 2017 in 4 months?</td>\n",
       "      <td>How can I prepare for NEET 2017 in 4 months?</td>\n",
       "      <td>1</td>\n",
       "      <td>(How do I prepare for neet 2017 in 4 months?, ...</td>\n",
       "      <td>1</td>\n",
       "      <td>Not Swap</td>\n",
       "    </tr>\n",
       "    <tr>\n",
       "      <th>4</th>\n",
       "      <td>256701</td>\n",
       "      <td>255449</td>\n",
       "      <td>194319</td>\n",
       "      <td>Does Trump want to lose the election? Is it po...</td>\n",
       "      <td>Does Trump really want to be president? Why is...</td>\n",
       "      <td>1</td>\n",
       "      <td>(Does Trump want to lose the election? Is it p...</td>\n",
       "      <td>0</td>\n",
       "      <td>Not Swap</td>\n",
       "    </tr>\n",
       "  </tbody>\n",
       "</table>\n",
       "</div>"
      ],
      "text/plain": [
       "       id    qid1    qid2                                          sentence1  \\\n",
       "0  312147  436549   57965  Is it a good decision to ban currency of 500 a...   \n",
       "1   74079  127018  127019              Does eating eggs also cause bird flu?   \n",
       "2    6705   13126   13127  Can God make a boulder so heavy he can't lift it?   \n",
       "3  351429   50779  293918        How do I prepare for neet 2017 in 4 months?   \n",
       "4  256701  255449  194319  Does Trump want to lose the election? Is it po...   \n",
       "\n",
       "                                           sentence2  is_duplicate  \\\n",
       "0  Is it a good decision to ban currency of 500 a...             1   \n",
       "1  Can eating boiled egg or omelette cause bird flu?             1   \n",
       "2  If God is real could he make a rock that is to...             1   \n",
       "3       How can I prepare for NEET 2017 in 4 months?             1   \n",
       "4  Does Trump really want to be president? Why is...             1   \n",
       "\n",
       "                                          pair_label  lexical_overlap  \\\n",
       "0  (Is it a good decision to ban currency of 500 ...                1   \n",
       "1  (Does eating eggs also cause bird flu?, Can ea...                0   \n",
       "2  (Can God make a boulder so heavy he can't lift...                0   \n",
       "3  (How do I prepare for neet 2017 in 4 months?, ...                1   \n",
       "4  (Does Trump want to lose the election? Is it p...                0   \n",
       "\n",
       "  word_swapping  \n",
       "0      Not Swap  \n",
       "1      Not Swap  \n",
       "2          Swap  \n",
       "3      Not Swap  \n",
       "4      Not Swap  "
      ]
     },
     "execution_count": 24,
     "metadata": {},
     "output_type": "execute_result"
    }
   ],
   "source": [
    "word_overlap.head()"
   ]
  },
  {
   "cell_type": "markdown",
   "id": "comic-ocean",
   "metadata": {},
   "source": [
    "# Hypothesis Lenght"
   ]
  },
  {
   "cell_type": "code",
   "execution_count": 25,
   "id": "provincial-discretion",
   "metadata": {},
   "outputs": [],
   "source": [
    "from sklearn import preprocessing\n",
    "import numpy as np"
   ]
  },
  {
   "cell_type": "code",
   "execution_count": 26,
   "id": "timely-titanium",
   "metadata": {},
   "outputs": [],
   "source": [
    "def hypo_len(pair_label):\n",
    "  hypo_tokens = pair_label[1].strip().split()\n",
    "  return len(hypo_tokens)"
   ]
  },
  {
   "cell_type": "code",
   "execution_count": 27,
   "id": "armed-dining",
   "metadata": {},
   "outputs": [],
   "source": [
    "word_overlap['hypothesis length'] = word_overlap['pair_label'].apply(hypo_len)"
   ]
  },
  {
   "cell_type": "code",
   "execution_count": 28,
   "id": "molecular-newsletter",
   "metadata": {},
   "outputs": [
    {
     "data": {
      "text/html": [
       "<div>\n",
       "<style scoped>\n",
       "    .dataframe tbody tr th:only-of-type {\n",
       "        vertical-align: middle;\n",
       "    }\n",
       "\n",
       "    .dataframe tbody tr th {\n",
       "        vertical-align: top;\n",
       "    }\n",
       "\n",
       "    .dataframe thead th {\n",
       "        text-align: right;\n",
       "    }\n",
       "</style>\n",
       "<table border=\"1\" class=\"dataframe\">\n",
       "  <thead>\n",
       "    <tr style=\"text-align: right;\">\n",
       "      <th></th>\n",
       "      <th>id</th>\n",
       "      <th>qid1</th>\n",
       "      <th>qid2</th>\n",
       "      <th>sentence1</th>\n",
       "      <th>sentence2</th>\n",
       "      <th>is_duplicate</th>\n",
       "      <th>pair_label</th>\n",
       "      <th>lexical_overlap</th>\n",
       "      <th>word_swapping</th>\n",
       "      <th>hypothesis length</th>\n",
       "    </tr>\n",
       "  </thead>\n",
       "  <tbody>\n",
       "    <tr>\n",
       "      <th>0</th>\n",
       "      <td>312147</td>\n",
       "      <td>436549</td>\n",
       "      <td>57965</td>\n",
       "      <td>Is it a good decision to ban currency of 500 a...</td>\n",
       "      <td>Is it a good decision to ban currency of 500 a...</td>\n",
       "      <td>1</td>\n",
       "      <td>(Is it a good decision to ban currency of 500 ...</td>\n",
       "      <td>1</td>\n",
       "      <td>Not Swap</td>\n",
       "      <td>12</td>\n",
       "    </tr>\n",
       "    <tr>\n",
       "      <th>1</th>\n",
       "      <td>74079</td>\n",
       "      <td>127018</td>\n",
       "      <td>127019</td>\n",
       "      <td>Does eating eggs also cause bird flu?</td>\n",
       "      <td>Can eating boiled egg or omelette cause bird flu?</td>\n",
       "      <td>1</td>\n",
       "      <td>(Does eating eggs also cause bird flu?, Can ea...</td>\n",
       "      <td>0</td>\n",
       "      <td>Not Swap</td>\n",
       "      <td>9</td>\n",
       "    </tr>\n",
       "    <tr>\n",
       "      <th>2</th>\n",
       "      <td>6705</td>\n",
       "      <td>13126</td>\n",
       "      <td>13127</td>\n",
       "      <td>Can God make a boulder so heavy he can't lift it?</td>\n",
       "      <td>If God is real could he make a rock that is to...</td>\n",
       "      <td>1</td>\n",
       "      <td>(Can God make a boulder so heavy he can't lift...</td>\n",
       "      <td>0</td>\n",
       "      <td>Swap</td>\n",
       "      <td>17</td>\n",
       "    </tr>\n",
       "    <tr>\n",
       "      <th>3</th>\n",
       "      <td>351429</td>\n",
       "      <td>50779</td>\n",
       "      <td>293918</td>\n",
       "      <td>How do I prepare for neet 2017 in 4 months?</td>\n",
       "      <td>How can I prepare for NEET 2017 in 4 months?</td>\n",
       "      <td>1</td>\n",
       "      <td>(How do I prepare for neet 2017 in 4 months?, ...</td>\n",
       "      <td>1</td>\n",
       "      <td>Not Swap</td>\n",
       "      <td>10</td>\n",
       "    </tr>\n",
       "    <tr>\n",
       "      <th>4</th>\n",
       "      <td>256701</td>\n",
       "      <td>255449</td>\n",
       "      <td>194319</td>\n",
       "      <td>Does Trump want to lose the election? Is it po...</td>\n",
       "      <td>Does Trump really want to be president? Why is...</td>\n",
       "      <td>1</td>\n",
       "      <td>(Does Trump want to lose the election? Is it p...</td>\n",
       "      <td>0</td>\n",
       "      <td>Not Swap</td>\n",
       "      <td>13</td>\n",
       "    </tr>\n",
       "  </tbody>\n",
       "</table>\n",
       "</div>"
      ],
      "text/plain": [
       "       id    qid1    qid2                                          sentence1  \\\n",
       "0  312147  436549   57965  Is it a good decision to ban currency of 500 a...   \n",
       "1   74079  127018  127019              Does eating eggs also cause bird flu?   \n",
       "2    6705   13126   13127  Can God make a boulder so heavy he can't lift it?   \n",
       "3  351429   50779  293918        How do I prepare for neet 2017 in 4 months?   \n",
       "4  256701  255449  194319  Does Trump want to lose the election? Is it po...   \n",
       "\n",
       "                                           sentence2  is_duplicate  \\\n",
       "0  Is it a good decision to ban currency of 500 a...             1   \n",
       "1  Can eating boiled egg or omelette cause bird flu?             1   \n",
       "2  If God is real could he make a rock that is to...             1   \n",
       "3       How can I prepare for NEET 2017 in 4 months?             1   \n",
       "4  Does Trump really want to be president? Why is...             1   \n",
       "\n",
       "                                          pair_label  lexical_overlap  \\\n",
       "0  (Is it a good decision to ban currency of 500 ...                1   \n",
       "1  (Does eating eggs also cause bird flu?, Can ea...                0   \n",
       "2  (Can God make a boulder so heavy he can't lift...                0   \n",
       "3  (How do I prepare for neet 2017 in 4 months?, ...                1   \n",
       "4  (Does Trump want to lose the election? Is it p...                0   \n",
       "\n",
       "  word_swapping  hypothesis length  \n",
       "0      Not Swap                 12  \n",
       "1      Not Swap                  9  \n",
       "2          Swap                 17  \n",
       "3      Not Swap                 10  \n",
       "4      Not Swap                 13  "
      ]
     },
     "execution_count": 28,
     "metadata": {},
     "output_type": "execute_result"
    }
   ],
   "source": [
    "word_overlap.head()"
   ]
  },
  {
   "cell_type": "code",
   "execution_count": 29,
   "id": "resident-mailing",
   "metadata": {},
   "outputs": [
    {
     "data": {
      "text/plain": [
       "array([[12,  9, 17, ...,  8, 10,  9]])"
      ]
     },
     "execution_count": 29,
     "metadata": {},
     "output_type": "execute_result"
    }
   ],
   "source": [
    "length = np.array([word_overlap['hypothesis length']])\n",
    "length"
   ]
  },
  {
   "cell_type": "code",
   "execution_count": 30,
   "id": "pleased-enough",
   "metadata": {},
   "outputs": [
    {
     "data": {
      "text/plain": [
       "array([[0.14516129],\n",
       "       [0.09677419],\n",
       "       [0.22580645],\n",
       "       ...,\n",
       "       [0.08064516],\n",
       "       [0.11290323],\n",
       "       [0.09677419]])"
      ]
     },
     "execution_count": 30,
     "metadata": {},
     "output_type": "execute_result"
    }
   ],
   "source": [
    "length = np.array([word_overlap['hypothesis length']]).reshape(-1, 1)\n",
    "scaler = preprocessing.MinMaxScaler()\n",
    "scale = scaler.fit_transform(length)\n",
    "scale"
   ]
  },
  {
   "cell_type": "code",
   "execution_count": 31,
   "id": "dependent-portland",
   "metadata": {},
   "outputs": [],
   "source": [
    "scale_list = []\n",
    "for i in range(len(scale)):\n",
    "  scale_list.append(scale[i][0])"
   ]
  },
  {
   "cell_type": "code",
   "execution_count": 32,
   "id": "indian-sequence",
   "metadata": {},
   "outputs": [],
   "source": [
    "word_overlap['hypo_len'] = scale_list"
   ]
  },
  {
   "cell_type": "code",
   "execution_count": 33,
   "id": "useful-moore",
   "metadata": {},
   "outputs": [],
   "source": [
    "word_overlap = word_overlap.drop(\"hypothesis length\", axis=1)"
   ]
  },
  {
   "cell_type": "code",
   "execution_count": 34,
   "id": "wrong-prince",
   "metadata": {},
   "outputs": [
    {
     "data": {
      "text/html": [
       "<div>\n",
       "<style scoped>\n",
       "    .dataframe tbody tr th:only-of-type {\n",
       "        vertical-align: middle;\n",
       "    }\n",
       "\n",
       "    .dataframe tbody tr th {\n",
       "        vertical-align: top;\n",
       "    }\n",
       "\n",
       "    .dataframe thead th {\n",
       "        text-align: right;\n",
       "    }\n",
       "</style>\n",
       "<table border=\"1\" class=\"dataframe\">\n",
       "  <thead>\n",
       "    <tr style=\"text-align: right;\">\n",
       "      <th></th>\n",
       "      <th>id</th>\n",
       "      <th>qid1</th>\n",
       "      <th>qid2</th>\n",
       "      <th>sentence1</th>\n",
       "      <th>sentence2</th>\n",
       "      <th>is_duplicate</th>\n",
       "      <th>pair_label</th>\n",
       "      <th>lexical_overlap</th>\n",
       "      <th>word_swapping</th>\n",
       "      <th>hypo_len</th>\n",
       "    </tr>\n",
       "  </thead>\n",
       "  <tbody>\n",
       "    <tr>\n",
       "      <th>0</th>\n",
       "      <td>312147</td>\n",
       "      <td>436549</td>\n",
       "      <td>57965</td>\n",
       "      <td>Is it a good decision to ban currency of 500 a...</td>\n",
       "      <td>Is it a good decision to ban currency of 500 a...</td>\n",
       "      <td>1</td>\n",
       "      <td>(Is it a good decision to ban currency of 500 ...</td>\n",
       "      <td>1</td>\n",
       "      <td>Not Swap</td>\n",
       "      <td>0.145161</td>\n",
       "    </tr>\n",
       "    <tr>\n",
       "      <th>1</th>\n",
       "      <td>74079</td>\n",
       "      <td>127018</td>\n",
       "      <td>127019</td>\n",
       "      <td>Does eating eggs also cause bird flu?</td>\n",
       "      <td>Can eating boiled egg or omelette cause bird flu?</td>\n",
       "      <td>1</td>\n",
       "      <td>(Does eating eggs also cause bird flu?, Can ea...</td>\n",
       "      <td>0</td>\n",
       "      <td>Not Swap</td>\n",
       "      <td>0.096774</td>\n",
       "    </tr>\n",
       "    <tr>\n",
       "      <th>2</th>\n",
       "      <td>6705</td>\n",
       "      <td>13126</td>\n",
       "      <td>13127</td>\n",
       "      <td>Can God make a boulder so heavy he can't lift it?</td>\n",
       "      <td>If God is real could he make a rock that is to...</td>\n",
       "      <td>1</td>\n",
       "      <td>(Can God make a boulder so heavy he can't lift...</td>\n",
       "      <td>0</td>\n",
       "      <td>Swap</td>\n",
       "      <td>0.225806</td>\n",
       "    </tr>\n",
       "    <tr>\n",
       "      <th>3</th>\n",
       "      <td>351429</td>\n",
       "      <td>50779</td>\n",
       "      <td>293918</td>\n",
       "      <td>How do I prepare for neet 2017 in 4 months?</td>\n",
       "      <td>How can I prepare for NEET 2017 in 4 months?</td>\n",
       "      <td>1</td>\n",
       "      <td>(How do I prepare for neet 2017 in 4 months?, ...</td>\n",
       "      <td>1</td>\n",
       "      <td>Not Swap</td>\n",
       "      <td>0.112903</td>\n",
       "    </tr>\n",
       "    <tr>\n",
       "      <th>4</th>\n",
       "      <td>256701</td>\n",
       "      <td>255449</td>\n",
       "      <td>194319</td>\n",
       "      <td>Does Trump want to lose the election? Is it po...</td>\n",
       "      <td>Does Trump really want to be president? Why is...</td>\n",
       "      <td>1</td>\n",
       "      <td>(Does Trump want to lose the election? Is it p...</td>\n",
       "      <td>0</td>\n",
       "      <td>Not Swap</td>\n",
       "      <td>0.161290</td>\n",
       "    </tr>\n",
       "  </tbody>\n",
       "</table>\n",
       "</div>"
      ],
      "text/plain": [
       "       id    qid1    qid2                                          sentence1  \\\n",
       "0  312147  436549   57965  Is it a good decision to ban currency of 500 a...   \n",
       "1   74079  127018  127019              Does eating eggs also cause bird flu?   \n",
       "2    6705   13126   13127  Can God make a boulder so heavy he can't lift it?   \n",
       "3  351429   50779  293918        How do I prepare for neet 2017 in 4 months?   \n",
       "4  256701  255449  194319  Does Trump want to lose the election? Is it po...   \n",
       "\n",
       "                                           sentence2  is_duplicate  \\\n",
       "0  Is it a good decision to ban currency of 500 a...             1   \n",
       "1  Can eating boiled egg or omelette cause bird flu?             1   \n",
       "2  If God is real could he make a rock that is to...             1   \n",
       "3       How can I prepare for NEET 2017 in 4 months?             1   \n",
       "4  Does Trump really want to be president? Why is...             1   \n",
       "\n",
       "                                          pair_label  lexical_overlap  \\\n",
       "0  (Is it a good decision to ban currency of 500 ...                1   \n",
       "1  (Does eating eggs also cause bird flu?, Can ea...                0   \n",
       "2  (Can God make a boulder so heavy he can't lift...                0   \n",
       "3  (How do I prepare for neet 2017 in 4 months?, ...                1   \n",
       "4  (Does Trump want to lose the election? Is it p...                0   \n",
       "\n",
       "  word_swapping  hypo_len  \n",
       "0      Not Swap  0.145161  \n",
       "1      Not Swap  0.096774  \n",
       "2          Swap  0.225806  \n",
       "3      Not Swap  0.112903  \n",
       "4      Not Swap  0.161290  "
      ]
     },
     "execution_count": 34,
     "metadata": {},
     "output_type": "execute_result"
    }
   ],
   "source": [
    "word_overlap.head()"
   ]
  },
  {
   "cell_type": "markdown",
   "id": "fixed-scientist",
   "metadata": {},
   "source": [
    "# Overlapping Score"
   ]
  },
  {
   "cell_type": "code",
   "execution_count": 35,
   "id": "classical-video",
   "metadata": {},
   "outputs": [],
   "source": [
    "def get_overlap_score(pair_label):\n",
    "    prem_words = []\n",
    "    hyp_words = []\n",
    "\n",
    "    #   premise = pair_label[0].strip()\n",
    "    #   hypothesis = pair_label[1].strip()\n",
    "    #   gold_label = pair_label[2].strip()\n",
    "    premise = pair_label[0].strip()\n",
    "    hypothesis = pair_label[1].strip()\n",
    "    gold_label = pair_label[2]\n",
    "        \n",
    "    for word in premise.split():\n",
    "        if word not in [\".\", \"?\", \"!\"]:\n",
    "            prem_words.append(word.lower())\n",
    "\n",
    "    for word in hypothesis.split():\n",
    "        if word not in [\".\", \"?\", \"!\"]:\n",
    "            hyp_words.append(word.lower())\n",
    "\n",
    "    prem_filtered = \" \".join(prem_words)\n",
    "    hyp_filtered = \" \".join(hyp_words)\n",
    "\n",
    "    count = 0\n",
    "    for word in hyp_words:\n",
    "        if word in prem_words:\n",
    "            count+=1\n",
    "\n",
    "    if len(hyp_words) != 0:\n",
    "        overlap_score = count/len(hyp_words)        \n",
    "    else:\n",
    "        overlap_score = 0\n",
    "    return overlap_score"
   ]
  },
  {
   "cell_type": "code",
   "execution_count": 36,
   "id": "alpha-cleaners",
   "metadata": {},
   "outputs": [],
   "source": [
    "word_overlap['overlapping score'] = word_overlap['pair_label'].apply(get_overlap_score)"
   ]
  },
  {
   "cell_type": "code",
   "execution_count": 37,
   "id": "ready-feeling",
   "metadata": {},
   "outputs": [
    {
     "data": {
      "text/html": [
       "<div>\n",
       "<style scoped>\n",
       "    .dataframe tbody tr th:only-of-type {\n",
       "        vertical-align: middle;\n",
       "    }\n",
       "\n",
       "    .dataframe tbody tr th {\n",
       "        vertical-align: top;\n",
       "    }\n",
       "\n",
       "    .dataframe thead th {\n",
       "        text-align: right;\n",
       "    }\n",
       "</style>\n",
       "<table border=\"1\" class=\"dataframe\">\n",
       "  <thead>\n",
       "    <tr style=\"text-align: right;\">\n",
       "      <th></th>\n",
       "      <th>id</th>\n",
       "      <th>qid1</th>\n",
       "      <th>qid2</th>\n",
       "      <th>sentence1</th>\n",
       "      <th>sentence2</th>\n",
       "      <th>is_duplicate</th>\n",
       "      <th>pair_label</th>\n",
       "      <th>lexical_overlap</th>\n",
       "      <th>word_swapping</th>\n",
       "      <th>hypo_len</th>\n",
       "      <th>overlapping score</th>\n",
       "    </tr>\n",
       "  </thead>\n",
       "  <tbody>\n",
       "    <tr>\n",
       "      <th>0</th>\n",
       "      <td>312147</td>\n",
       "      <td>436549</td>\n",
       "      <td>57965</td>\n",
       "      <td>Is it a good decision to ban currency of 500 a...</td>\n",
       "      <td>Is it a good decision to ban currency of 500 a...</td>\n",
       "      <td>1</td>\n",
       "      <td>(Is it a good decision to ban currency of 500 ...</td>\n",
       "      <td>1</td>\n",
       "      <td>Not Swap</td>\n",
       "      <td>0.145161</td>\n",
       "      <td>1.000000</td>\n",
       "    </tr>\n",
       "    <tr>\n",
       "      <th>1</th>\n",
       "      <td>74079</td>\n",
       "      <td>127018</td>\n",
       "      <td>127019</td>\n",
       "      <td>Does eating eggs also cause bird flu?</td>\n",
       "      <td>Can eating boiled egg or omelette cause bird flu?</td>\n",
       "      <td>1</td>\n",
       "      <td>(Does eating eggs also cause bird flu?, Can ea...</td>\n",
       "      <td>0</td>\n",
       "      <td>Not Swap</td>\n",
       "      <td>0.096774</td>\n",
       "      <td>0.444444</td>\n",
       "    </tr>\n",
       "    <tr>\n",
       "      <th>2</th>\n",
       "      <td>6705</td>\n",
       "      <td>13126</td>\n",
       "      <td>13127</td>\n",
       "      <td>Can God make a boulder so heavy he can't lift it?</td>\n",
       "      <td>If God is real could he make a rock that is to...</td>\n",
       "      <td>1</td>\n",
       "      <td>(Can God make a boulder so heavy he can't lift...</td>\n",
       "      <td>0</td>\n",
       "      <td>Swap</td>\n",
       "      <td>0.225806</td>\n",
       "      <td>0.294118</td>\n",
       "    </tr>\n",
       "    <tr>\n",
       "      <th>3</th>\n",
       "      <td>351429</td>\n",
       "      <td>50779</td>\n",
       "      <td>293918</td>\n",
       "      <td>How do I prepare for neet 2017 in 4 months?</td>\n",
       "      <td>How can I prepare for NEET 2017 in 4 months?</td>\n",
       "      <td>1</td>\n",
       "      <td>(How do I prepare for neet 2017 in 4 months?, ...</td>\n",
       "      <td>1</td>\n",
       "      <td>Not Swap</td>\n",
       "      <td>0.112903</td>\n",
       "      <td>0.900000</td>\n",
       "    </tr>\n",
       "    <tr>\n",
       "      <th>4</th>\n",
       "      <td>256701</td>\n",
       "      <td>255449</td>\n",
       "      <td>194319</td>\n",
       "      <td>Does Trump want to lose the election? Is it po...</td>\n",
       "      <td>Does Trump really want to be president? Why is...</td>\n",
       "      <td>1</td>\n",
       "      <td>(Does Trump want to lose the election? Is it p...</td>\n",
       "      <td>0</td>\n",
       "      <td>Not Swap</td>\n",
       "      <td>0.161290</td>\n",
       "      <td>0.538462</td>\n",
       "    </tr>\n",
       "  </tbody>\n",
       "</table>\n",
       "</div>"
      ],
      "text/plain": [
       "       id    qid1    qid2                                          sentence1  \\\n",
       "0  312147  436549   57965  Is it a good decision to ban currency of 500 a...   \n",
       "1   74079  127018  127019              Does eating eggs also cause bird flu?   \n",
       "2    6705   13126   13127  Can God make a boulder so heavy he can't lift it?   \n",
       "3  351429   50779  293918        How do I prepare for neet 2017 in 4 months?   \n",
       "4  256701  255449  194319  Does Trump want to lose the election? Is it po...   \n",
       "\n",
       "                                           sentence2  is_duplicate  \\\n",
       "0  Is it a good decision to ban currency of 500 a...             1   \n",
       "1  Can eating boiled egg or omelette cause bird flu?             1   \n",
       "2  If God is real could he make a rock that is to...             1   \n",
       "3       How can I prepare for NEET 2017 in 4 months?             1   \n",
       "4  Does Trump really want to be president? Why is...             1   \n",
       "\n",
       "                                          pair_label  lexical_overlap  \\\n",
       "0  (Is it a good decision to ban currency of 500 ...                1   \n",
       "1  (Does eating eggs also cause bird flu?, Can ea...                0   \n",
       "2  (Can God make a boulder so heavy he can't lift...                0   \n",
       "3  (How do I prepare for neet 2017 in 4 months?, ...                1   \n",
       "4  (Does Trump want to lose the election? Is it p...                0   \n",
       "\n",
       "  word_swapping  hypo_len  overlapping score  \n",
       "0      Not Swap  0.145161           1.000000  \n",
       "1      Not Swap  0.096774           0.444444  \n",
       "2          Swap  0.225806           0.294118  \n",
       "3      Not Swap  0.112903           0.900000  \n",
       "4      Not Swap  0.161290           0.538462  "
      ]
     },
     "execution_count": 37,
     "metadata": {},
     "output_type": "execute_result"
    }
   ],
   "source": [
    "word_overlap.head()"
   ]
  },
  {
   "cell_type": "code",
   "execution_count": 38,
   "id": "orange-cartridge",
   "metadata": {},
   "outputs": [],
   "source": [
    "word_overlap.to_csv(\"qqp_dev_overlapping_features.csv\")"
   ]
  },
  {
   "cell_type": "code",
   "execution_count": 39,
   "id": "shaped-title",
   "metadata": {},
   "outputs": [
    {
     "data": {
      "text/plain": [
       "(5000, 11)"
      ]
     },
     "execution_count": 39,
     "metadata": {},
     "output_type": "execute_result"
    }
   ],
   "source": [
    "word_overlap.shape"
   ]
  },
  {
   "cell_type": "code",
   "execution_count": null,
   "id": "eight-sally",
   "metadata": {},
   "outputs": [],
   "source": []
  }
 ],
 "metadata": {
  "kernelspec": {
   "display_name": "Python 3 (ipykernel)",
   "language": "python",
   "name": "python3"
  },
  "language_info": {
   "codemirror_mode": {
    "name": "ipython",
    "version": 3
   },
   "file_extension": ".py",
   "mimetype": "text/x-python",
   "name": "python",
   "nbconvert_exporter": "python",
   "pygments_lexer": "ipython3",
   "version": "3.7.11"
  }
 },
 "nbformat": 4,
 "nbformat_minor": 5
}
