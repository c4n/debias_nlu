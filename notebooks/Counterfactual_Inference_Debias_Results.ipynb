{
 "cells": [
  {
   "cell_type": "code",
   "execution_count": 7,
   "id": "cf951928",
   "metadata": {},
   "outputs": [],
   "source": [
    "import sys\n",
    "  \n",
    "# setting path\n",
    "sys.path.append('../counterfactual')\n",
    "\n",
    "import cma\n",
    "import glob\n",
    "import numpy as np\n",
    "import os\n",
    "import fuse, causal_utils\n",
    "from ASD import ASD"
   ]
  },
  {
   "cell_type": "markdown",
   "id": "d276b028",
   "metadata": {},
   "source": [
    "# MNLI"
   ]
  },
  {
   "cell_type": "markdown",
   "id": "9624aec8",
   "metadata": {},
   "source": [
    "## MNLI: baseline"
   ]
  },
  {
   "cell_type": "code",
   "execution_count": 6,
   "id": "3ad4f865",
   "metadata": {},
   "outputs": [
    {
     "name": "stdout",
     "output_type": "stream",
     "text": [
      "/ist/users/canu/debias_nlu/data/nli/test_prob_korn_lr_overlapping_sample_weight_3class.jsonl\n",
      "/raid/can/nli_models/baseline/nli/outputs_bert_base_clark_1_seed53370/raw_m.jsonl\n",
      "unique_labels:  ['contradiction', 'entailment', '-', 'neutral']\n",
      "/raid/can/nli_models/baseline/nli/outputs_bert_base_clark_1_seed43370/raw_m.jsonl\n",
      "unique_labels:  ['contradiction', 'entailment', '-', 'neutral']\n",
      "/raid/can/nli_models/baseline/nli/outputs_bert_base_clark_1_seed33370/raw_m.jsonl\n",
      "unique_labels:  ['contradiction', 'entailment', '-', 'neutral']\n",
      "/raid/can/nli_models/baseline/nli/outputs_bert_base_clark_1_seed13370/raw_m.jsonl\n",
      "unique_labels:  ['contradiction', 'entailment', '-', 'neutral']\n",
      "/raid/can/nli_models/baseline/nli/outputs_bert_base_clark_1_seed23370/raw_m.jsonl\n",
      "unique_labels:  ['contradiction', 'entailment', '-', 'neutral']\n",
      "factual score:\n",
      "[0.8506916192026037, 0.8482506102522376, 0.8461147274206672, 0.8519121236777868, 0.8446908055329536]\n",
      "0.8483319772172496 0.002704304252701676\n",
      "TE:\n",
      "-0.024762060577013002 0.0010934335375632504\n",
      "TIE:\n",
      "-0.02624921230691745 0.0010934335375632487\n",
      "TIE acc:\n",
      "[0.850793327908869, 0.8480471928397071, 0.8459113100081367, 0.8526240846216436, 0.8448942229454841]\n",
      "0.848454027664768 0.002903957229413014\n",
      "The minimal epsilon for which Algorithm A is almost stochastically greater than algorithm B is  0.1527469516073364\n",
      "since epsilon <= 0.5 we will claim that A is better than B with significance level alpha= 0.05\n",
      "None\n",
      "TIE F1: {'contradiction': [0.8675968992248062, 0.8667181467181467, 0.8627871362940276, 0.8668213457076565, 0.8617086662569146], 'entailment': [0.8643422209200117, 0.8592898187711802, 0.8595114729829756, 0.8676923076923077, 0.8579032973532457], '-': [0.0, 0.0, 0.0, 0.0, 0.0], 'neutral': [0.7983526540573521, 0.7963470319634703, 0.7933404612799756, 0.8009782940996637, 0.793171772595641], 'MAF1': array([0.63257294, 0.63058875, 0.62890977, 0.63387299, 0.62819593])} {'contradiction_mean_sd': [0.8651264388403103, 0.0023942816711307693], 'entailment_mean_sd': [0.8617478235439442, 0.003684866957178578], '-_mean_sd': [0.0, 0.0], 'neutral_mean_sd': [0.7964380427992206, 0.0029850103324552645], 'MAF1_mean_sd': [0.6308280762958687, 0.0021438936749943304]}\n",
      "checking ASD.......\n",
      "TIE_MAF1:\n",
      "[0.63257294 0.63058875 0.62890977 0.63387299 0.62819593]\n",
      "factual_MAF1:\n",
      "[0.6325048  0.63073231 0.62906036 0.6333521  0.62804104]\n",
      "The minimal epsilon for which Algorithm A is almost stochastically greater than algorithm B is  0.14944564693281204\n",
      "since epsilon <= 0.5 we will claim that A is better than B with significance level alpha= 0.05\n",
      "None\n",
      "NIE:\n",
      "-0.022024198304251116 0.0011107795298096479\n",
      "NIE acc:\n",
      "[0.8506916192026037, 0.8482506102522376, 0.8461147274206672, 0.8519121236777868, 0.8446908055329536]\n",
      "0.8483319772172496 0.002704304252701676\n",
      "my query:\n",
      "[0.8487591537835639, 0.845606183889341, 0.8441822620016274, 0.8495728234336859, 0.8417412530512612]\n",
      "0.8459723352318959 0.002897252433800443\n",
      "The minimal epsilon for which Algorithm A is almost stochastically greater than algorithm B is  1.0\n",
      "since epsilon > 0.5 we will claim that A is not better than B with significance level alpha= 0.05\n",
      "None\n",
      "my query F1: {'contradiction': [0.8655423178090671, 0.8659476117103235, 0.8637477036129823, 0.865616311399444, 0.8609535489805304], 'entailment': [0.8617099281419562, 0.8559609986704093, 0.8568883610451306, 0.8646185506394237, 0.8533728687916975], '-': [0.0, 0.0, 0.0, 0.0, 0.0], 'neutral': [0.7969465648854962, 0.7932450935645825, 0.7900670322973796, 0.7963386727688788, 0.7891529555149298], 'MAF1': array([0.6310497 , 0.62878843, 0.62767577, 0.63164338, 0.62586984])} {'contradiction_mean_sd': [0.8643614987024695, 0.001869519128536593], 'entailment_mean_sd': [0.8585101414577234, 0.0040760561492098404], '-_mean_sd': [0.0, 0.0], 'neutral_mean_sd': [0.7931500638062534, 0.0031645421846918484], 'MAF1_mean_sd': [0.6290054259916116, 0.0021347051152041116]}\n",
      "checking ASD.......\n",
      "my_causal_MAF1:\n",
      "[0.6310497  0.62878843 0.62767577 0.63164338 0.62586984]\n",
      "factual_MAF1:\n",
      "[0.6325048  0.63073231 0.62906036 0.6333521  0.62804104]\n",
      "The minimal epsilon for which Algorithm A is almost stochastically greater than algorithm B is  1.0\n",
      "since epsilon > 0.5 we will claim that A is not better than B with significance level alpha= 0.05\n",
      "None\n"
     ]
    }
   ],
   "source": [
    "model_path='/raid/can/nli_models/baseline/'\n",
    "task='nli'\n",
    "data_path='/ist/users/canu/debias_nlu/data/'\n",
    "fusion = fuse.sum_fuse\n",
    "test_set='mnli_dev_mm'\n",
    "correction=False\n",
    "cma.report_CMA(model_path,task,data_path,test_set,fusion,correction=correction)"
   ]
  },
  {
   "cell_type": "code",
   "execution_count": 10,
   "id": "361270be",
   "metadata": {},
   "outputs": [
    {
     "name": "stdout",
     "output_type": "stream",
     "text": [
      "/ist/users/canu/debias_nlu/data/nli/hans_prob_korn_lr_overlapping_sample_weight_3class.jsonl\n",
      "/raid/can/nli_models/baseline/nli/outputs_bert_base_clark_1_seed53370/raw_m.jsonl\n",
      "unique_labels:  ['non-entailment', 'entailment']\n",
      "/raid/can/nli_models/baseline/nli/outputs_bert_base_clark_1_seed43370/raw_m.jsonl\n",
      "unique_labels:  ['non-entailment', 'entailment']\n",
      "/raid/can/nli_models/baseline/nli/outputs_bert_base_clark_1_seed33370/raw_m.jsonl\n",
      "unique_labels:  ['non-entailment', 'entailment']\n",
      "/raid/can/nli_models/baseline/nli/outputs_bert_base_clark_1_seed13370/raw_m.jsonl\n",
      "unique_labels:  ['non-entailment', 'entailment']\n",
      "/raid/can/nli_models/baseline/nli/outputs_bert_base_clark_1_seed23370/raw_m.jsonl\n",
      "unique_labels:  ['non-entailment', 'entailment']\n",
      "factual score:\n",
      "[0.6531, 0.6565, 0.6692333333333333, 0.6186666666666667, 0.6798] 0.65546 0.02070043907210127\n",
      "TE:\n",
      "[0.2187293553081254, 0.22168702192554943, 0.2185733125026688, 0.22859918269120305, 0.21246562296787586] 0.2200108990790845 0.005238476961762385\n",
      "TIE:\n",
      "[0.09608720406622297, 0.09873847891262119, 0.09553612289314879, 0.10579307539533835, 0.08931208053153111] 0.09709339235977248 0.005336236717533429\n",
      "TIE acc:\n",
      "[0.6568, 0.6585666666666666, 0.6705666666666666, 0.6209666666666667, 0.6808666666666666] 0.6575533333333334 0.020263449306023324\n",
      "The minimal epsilon for which Algorithm A is almost stochastically greater than algorithm B is  0.025418017085309115\n",
      "since epsilon <= 0.5 we will claim that A is better than B with significance level alpha= 0.05\n",
      "None\n",
      "TIE F1: {'non-entailment': [0.48432334969448065, 0.486695063893761, 0.5181609867875775, 0.3935143207637741, 0.548225745564364], 'entailment': [0.7428186041864415, 0.7442127606442751, 0.7497277722910177, 0.7243460764587525, 0.7532982890125749]} {'non-entailment_mean_sd': [0.4861838933407915, 0.0518904587226539], 'entailment_mean_sd': [0.7428807005186123, 0.010007188127133387]}\n",
      "NIE:\n",
      "[0.1312882661473289, 0.13490441992178206, 0.13053078775485755, 0.14441573376817687, 0.12214373461902964] 0.132656588442235 0.00721445320353994\n",
      "NIE acc:\n",
      "[0.6516666666666666, 0.6547333333333333, 0.6669333333333334, 0.6173333333333333, 0.6777] 0.6536733333333332 0.020390459642794838\n",
      "INTmed:\n",
      "[-0.03520106208110593, -0.036165941009160874, -0.03499466486170877, -0.0386226583728385, -0.03283165408749853] -0.035563196082462514 0.0018782599078431808\n",
      "INTmed acc:\n",
      "[0.404, 0.39803333333333335, 0.3969666666666667, 0.42966666666666664, 0.37553333333333333] 0.40084 0.017345142131316056\n",
      "my query:\n",
      "[0.7111666666666666, 0.7078333333333333, 0.7105, 0.6704, 0.7233] 0.70464 0.017931578600645048\n",
      "The minimal epsilon for which Algorithm A is almost stochastically greater than algorithm B is  0.0\n",
      "since epsilon = 0, algorithm A is stochatically dominant over B\n",
      "None\n",
      "my query F1: {'non-entailment': [0.6095615734691119, 0.5974002112902485, 0.6105905035197058, 0.5181286549707602, 0.6440547146348784], 'entailment': [0.7708096384267463, 0.7707237960710456, 0.7696103138180757, 0.7495440729483283, 0.7736852149731455]} {'non-entailment_mean_sd': [0.5959471315769409, 0.041885433409541616], 'entailment_mean_sd': [0.7668746072474683, 0.008769453940909088]}\n"
     ]
    }
   ],
   "source": [
    "model_path='/raid/can/nli_models/baseline/'\n",
    "task='nli'\n",
    "data_path='/ist/users/canu/debias_nlu/data/'\n",
    "fusion = fuse.sum_fuse\n",
    "test_set='mnli_hans'\n",
    "correction=False\n",
    "cma.report_CMA(model_path,task,data_path,test_set,fusion,correction=correction)"
   ]
  },
  {
   "cell_type": "markdown",
   "id": "82cccb9b",
   "metadata": {},
   "source": [
    "## MNLI: reweight"
   ]
  },
  {
   "cell_type": "code",
   "execution_count": 4,
   "id": "ff74f121",
   "metadata": {},
   "outputs": [
    {
     "name": "stdout",
     "output_type": "stream",
     "text": [
      "/ist/users/canu/debias_nlu/data/nli/test_prob_korn_lr_overlapping_sample_weight_3class.jsonl\n",
      "/raid/can/nli_models/korn_reweight/nli/outputs_bert_base_overlapping_korn_ps3class_3/raw_m.jsonl\n",
      "unique_labels:  ['contradiction', 'entailment', '-', 'neutral']\n",
      "/raid/can/nli_models/korn_reweight/nli/outputs_bert_base_overlapping_korn_ps3class_1/raw_m.jsonl\n",
      "unique_labels:  ['contradiction', 'entailment', '-', 'neutral']\n",
      "/raid/can/nli_models/korn_reweight/nli/outputs_bert_base_overlapping_korn_ps3class_2/raw_m.jsonl\n",
      "unique_labels:  ['contradiction', 'entailment', '-', 'neutral']\n",
      "factual score:\n",
      "[0.8466232709519935, 0.8489625711960944, 0.8494711147274207] 0.8483523189585029 0.001240123485094363\n",
      "TE:\n",
      "[-0.01782497121162039, -0.01680870324943233, -0.01578643746932781] -0.01680670397679351 0.0008322291160630632\n",
      "TIE:\n",
      "[-0.022771955713825343, -0.021755133487107305, -0.020758345621369575] -0.021761811607434078 0.0008220664405745055\n",
      "TIE acc:\n",
      "[0.8470301057770545, 0.8492676973148902, 0.8485557363710333] 0.8482845131543261 0.0009334079127974101\n",
      "The minimal epsilon for which Algorithm A is almost stochastically greater than algorithm B is  0.5678551579440543\n",
      "since epsilon > 0.5 we will claim that A is not better than B with significance level alpha= 0.05\n",
      "None\n",
      "TIE F1: {'contradiction': [0.8631417624521073, 0.8665018541409147, 0.864227766722792], 'entailment': [0.8589101620029456, 0.8635563380281689, 0.8620032262795132], '-': [0.0, 0.0, 0.0], 'neutral': [0.796685591529845, 0.7955378973105136, 0.796604938271605]} {'contradiction_mean_sd': [0.8646237944386046, 0.0014000434524368882], 'entailment_mean_sd': [0.8614899087702094, 0.0019312101669434355], '-_mean_sd': [0.0, 0.0], 'neutral_mean_sd': [0.7962761423706546, 0.0005230554869437938]}\n",
      "NIE:\n",
      "[-0.018548485395632402, -0.01751938450030014, -0.016571315300731998] -0.017546395065554846 0.0008074022434196609\n",
      "NIE acc:\n",
      "[0.8469283970707893, 0.8493694060211554, 0.8484540276647681] 0.8482506102522377 0.001006864822682222\n",
      "INTmed:\n",
      "[-0.004223470318192941, -0.004235748986807163, -0.004187030320637573] -0.004215416541879226 2.0688557111271245e-05\n",
      "INTmed acc:\n",
      "[0.22945484133441824, 0.2281326281529699, 0.22803091944670464] 0.22853946297803093 0.0006486007075437042\n",
      "my query:\n",
      "[0.8454027664768105, 0.8478437754271766, 0.846419853539463] 0.8465554651478167 0.0010011407011278363\n",
      "The minimal epsilon for which Algorithm A is almost stochastically greater than algorithm B is  1.0\n",
      "since epsilon > 0.5 we will claim that A is not better than B with significance level alpha= 0.05\n",
      "None\n",
      "my query F1: {'contradiction': [0.8631417624521073, 0.8660590143673722, 0.8644845518507188], 'entailment': [0.8562555456965396, 0.8611723226090789, 0.8592505163765123], '-': [0.0, 0.0, 0.0], 'neutral': [0.7948051948051948, 0.7942612942612943, 0.7931246163290362]} {'contradiction_mean_sd': [0.8645617762233995, 0.0011922142947980339], 'entailment_mean_sd': [0.8588927948940436, 0.002023140676635322], '-_mean_sd': [0.0, 0.0], 'neutral_mean_sd': [0.7940637017985085, 0.0007001752588432304]}\n"
     ]
    }
   ],
   "source": [
    "model_path='/raid/can/nli_models/korn_reweight/'\n",
    "task='nli'\n",
    "data_path='/ist/users/canu/debias_nlu/data/'\n",
    "fusion = fuse.sum_fuse\n",
    "test_set='mnli_dev_mm'\n",
    "correction=False\n",
    "cma.report_CMA(model_path,task,data_path,test_set,fusion,correction=correction)"
   ]
  },
  {
   "cell_type": "code",
   "execution_count": 5,
   "id": "be9c30d2",
   "metadata": {},
   "outputs": [
    {
     "name": "stdout",
     "output_type": "stream",
     "text": [
      "/ist/users/canu/debias_nlu/data/nli/hans_prob_korn_lr_overlapping_sample_weight_3class.jsonl\n",
      "/raid/can/nli_models/korn_reweight/nli/outputs_bert_base_overlapping_korn_ps3class_3/raw_m.jsonl\n",
      "unique_labels:  ['non-entailment', 'entailment']\n",
      "/raid/can/nli_models/korn_reweight/nli/outputs_bert_base_overlapping_korn_ps3class_1/raw_m.jsonl\n",
      "unique_labels:  ['non-entailment', 'entailment']\n",
      "/raid/can/nli_models/korn_reweight/nli/outputs_bert_base_overlapping_korn_ps3class_2/raw_m.jsonl\n",
      "unique_labels:  ['non-entailment', 'entailment']\n",
      "factual score:\n",
      "[0.6816333333333333, 0.6496333333333333, 0.6934333333333333] 0.6749 0.018504293796005558\n",
      "TE:\n",
      "[0.2152096372206859, 0.22159303539115086, 0.21448018749729308] 0.2170942867030433 0.0031950043342486717\n",
      "TIE:\n",
      "[0.09251544141527125, 0.09891075075070584, 0.09125065987389214] 0.09422561734662309 0.003352886750984632\n",
      "TIE acc:\n",
      "[0.6842, 0.6518666666666667, 0.6946666666666667] 0.6769111111111111 0.018217316412796645\n",
      "The minimal epsilon for which Algorithm A is almost stochastically greater than algorithm B is  0.026681479872844315\n",
      "since epsilon <= 0.5 we will claim that A is better than B with significance level alpha= 0.05\n",
      "None\n",
      "TIE F1: {'non-entailment': [0.5442563017125265, 0.47273828756058156, 0.5677614194035485], 'entailment': [0.7583902886871365, 0.7401472929936307, 0.7639661925376212]} {'non-entailment_mean_sd': [0.5282520028922189, 0.04040999943791755], 'entailment_mean_sd': [0.7541679247394629, 0.010172061798594525]}\n",
      "NIE:\n",
      "[0.12644558843420972, 0.1351316559138101, 0.12483199753024281] 0.12880308062608756 0.004523204452643478\n",
      "NIE acc:\n",
      "[0.6795, 0.6481, 0.6914333333333333] 0.6730111111111111 0.018276099213703555\n",
      "INTmed:\n",
      "[-0.033930147018938456, -0.03622090516310425, -0.03358133765635068] -0.03457746327946446 0.0011707811954797093\n",
      "INTmed acc:\n",
      "[0.3924, 0.40786666666666666, 0.37183333333333335] 0.3907 0.014759579437950964\n",
      "my query:\n",
      "[0.7341333333333333, 0.7030666666666666, 0.7393333333333333] 0.725511111111111 0.01601197083049252\n",
      "The minimal epsilon for which Algorithm A is almost stochastically greater than algorithm B is  0.0\n",
      "since epsilon = 0, algorithm A is stochatically dominant over B\n",
      "None\n",
      "my query F1: {'non-entailment': [0.6496222105078194, 0.5899088481723598, 0.6607375271149675], 'entailment': [0.7857986894403266, 0.7672814671612938, 0.7883626522327469]} {'non-entailment_mean_sd': [0.6334228619317156, 0.031101871443224963], 'entailment_mean_sd': [0.7804809362781224, 0.0093919456636991]}\n"
     ]
    }
   ],
   "source": [
    "model_path='/raid/can/nli_models/korn_reweight/'\n",
    "task='nli'\n",
    "data_path='/ist/users/canu/debias_nlu/data/'\n",
    "fusion = fuse.sum_fuse\n",
    "test_set='mnli_hans'\n",
    "correction=False\n",
    "cma.report_CMA(model_path,task,data_path,test_set,fusion,correction=correction)"
   ]
  },
  {
   "cell_type": "markdown",
   "id": "3937899c",
   "metadata": {},
   "source": [
    "## MNLI: PoE"
   ]
  },
  {
   "cell_type": "code",
   "execution_count": 11,
   "id": "f6d87e66",
   "metadata": {},
   "outputs": [
    {
     "name": "stdout",
     "output_type": "stream",
     "text": [
      "/ist/users/canu/debias_nlu/data/nli/test_prob_korn_lr_overlapping_sample_weight_3class.jsonl\n",
      "/raid/can/nli_models/poe3/nli/outputs_poe_bert_base_korn_clark_1_seed33370/raw_m.jsonl\n",
      "unique_labels:  ['contradiction', 'entailment', '-', 'neutral']\n",
      "/raid/can/nli_models/poe3/nli/outputs_poe_bert_base_korn_clark_1_seed43370/raw_m.jsonl\n",
      "unique_labels:  ['contradiction', 'entailment', '-', 'neutral']\n",
      "/raid/can/nli_models/poe3/nli/outputs_poe_bert_base_korn_clark_1_seed23370/raw_m.jsonl\n",
      "unique_labels:  ['contradiction', 'entailment', '-', 'neutral']\n",
      "/raid/can/nli_models/poe3/nli/outputs_poe_bert_base_korn_clark_1_seed53370/raw_m.jsonl\n",
      "unique_labels:  ['contradiction', 'entailment', '-', 'neutral']\n",
      "/raid/can/nli_models/poe3/nli/outputs_poe_bert_base_korn_clark_1_seed13370/raw_m.jsonl\n",
      "unique_labels:  ['contradiction', 'entailment', '-', 'neutral']\n",
      "factual score:\n",
      "[0.8409275834011392, 0.8411310008136696, 0.8441822620016274, 0.8406224572823434, 0.8434703010577705] 0.84206672091131 0.001463192067400687\n",
      "TE:\n",
      "[-0.01626912398662447, -0.016515260543911024, -0.0161608119959211, -0.01700400089956054, -0.016467735455956412] -0.016483386576394705 0.00029060729454175624\n",
      "TIE:\n",
      "[-0.02124312405828815, -0.02147786706414333, -0.021138373403013094, -0.021948012109197074, -0.021404152373226886] -0.02144230580157371 0.00027946642975974854\n",
      "TIE acc:\n",
      "[0.8415378356387306, 0.8406224572823434, 0.8447925142392189, 0.8405207485760781, 0.8446908055329536] 0.842432872253865 0.0019183890566073772\n",
      "The minimal epsilon for which Algorithm A is almost stochastically greater than algorithm B is  0.05601289025475695\n",
      "since epsilon <= 0.5 we will claim that A is better than B with significance level alpha= 0.05\n",
      "None\n",
      "TIE F1: {'contradiction': [0.8584193498690494, 0.862026485987065, 0.8653522848846095, 0.8592546966430552, 0.865515114127082], 'entailment': [0.8548196333530456, 0.8522794552989935, 0.8558718861209965, 0.8561372635283766, 0.8583126188039188], '-': [0.0, 0.0, 0.0, 0.0, 0.0], 'neutral': [0.7897217576402615, 0.7860832573685811, 0.7911382734912146, 0.7838625556066882, 0.7878322322937471]} {'contradiction_mean_sd': [0.8621135863021723, 0.0029626940248100703], 'entailment_mean_sd': [0.8554841714210661, 0.00196411724974149], '-_mean_sd': [0.0, 0.0], 'neutral_mean_sd': [0.7877276152800985, 0.0025792532688895665]}\n",
      "NIE:\n",
      "[-0.017712010625128477, -0.017946884830608176, -0.01760882050451823, -0.0183626401501948, -0.017797818353559182] -0.01788563489280177 0.0002629710656754095\n",
      "NIE acc:\n",
      "[0.8421480878763222, 0.8414361269324654, 0.8454027664768105, 0.8410292921074044, 0.8449959316517494] 0.8430024410089503 0.0018336926102094325\n",
      "INTmed:\n",
      "[-0.0035311134331596763, -0.0035309822335351554, -0.003529552898494872, -0.003585371959002271, -0.0036063340196677046] -0.0035566709087719362 3.267615015465754e-05\n",
      "INTmed acc:\n",
      "[0.2348454027664768, 0.2315907241659886, 0.2313873067534581, 0.2339300244100895, 0.23331977217249797] 0.2330146460537022 0.0013385422193948019\n",
      "my query:\n",
      "[0.8355370219690805, 0.8358421480878763, 0.8377746135069162, 0.833706265256306, 0.8391985353946297] 0.8364117168429617 0.0018990952021128865\n",
      "The minimal epsilon for which Algorithm A is almost stochastically greater than algorithm B is  1.0\n",
      "since epsilon > 0.5 we will claim that A is not better than B with significance level alpha= 0.05\n",
      "None\n",
      "my query F1: {'contradiction': [0.8593003544459855, 0.8605798889574336, 0.8637406331243309, 0.85877274128893, 0.8627813752698119], 'entailment': [0.8453947368421053, 0.844965844965845, 0.846096432303329, 0.8462448255470135, 0.850632167009703], '-': [0.0, 0.0, 0.0, 0.0, 0.0], 'neutral': [0.7813673929376408, 0.7810704566071969, 0.7822262663026994, 0.7748404740200547, 0.78239608801956]} {'contradiction_mean_sd': [0.8610349986172983, 0.0019341257932935952], 'entailment_mean_sd': [0.8466668013335991, 0.002036610418116399], '-_mean_sd': [0.0, 0.0], 'neutral_mean_sd': [0.7803801355774305, 0.0028146521381301683]}\n"
     ]
    }
   ],
   "source": [
    "model_path='/raid/can/nli_models/poe3/'\n",
    "task='nli'\n",
    "data_path='/ist/users/canu/debias_nlu/data/'\n",
    "fusion = fuse.sum_fuse\n",
    "test_set='mnli_dev_mm'\n",
    "correction=False\n",
    "cma.report_CMA(model_path,task,data_path,test_set,fusion,correction=correction)"
   ]
  },
  {
   "cell_type": "code",
   "execution_count": 12,
   "id": "2d90d237",
   "metadata": {},
   "outputs": [
    {
     "name": "stdout",
     "output_type": "stream",
     "text": [
      "/ist/users/canu/debias_nlu/data/nli/hans_prob_korn_lr_overlapping_sample_weight_3class.jsonl\n",
      "/raid/can/nli_models/poe3/nli/outputs_poe_bert_base_korn_clark_1_seed33370/raw_m.jsonl\n",
      "unique_labels:  ['non-entailment', 'entailment']\n",
      "/raid/can/nli_models/poe3/nli/outputs_poe_bert_base_korn_clark_1_seed43370/raw_m.jsonl\n",
      "unique_labels:  ['non-entailment', 'entailment']\n",
      "/raid/can/nli_models/poe3/nli/outputs_poe_bert_base_korn_clark_1_seed23370/raw_m.jsonl\n",
      "unique_labels:  ['non-entailment', 'entailment']\n",
      "/raid/can/nli_models/poe3/nli/outputs_poe_bert_base_korn_clark_1_seed53370/raw_m.jsonl\n",
      "unique_labels:  ['non-entailment', 'entailment']\n",
      "/raid/can/nli_models/poe3/nli/outputs_poe_bert_base_korn_clark_1_seed13370/raw_m.jsonl\n",
      "unique_labels:  ['non-entailment', 'entailment']\n",
      "factual score:\n",
      "[0.7154333333333334, 0.693, 0.6797, 0.7172, 0.6874666666666667] 0.69856 0.015111811421680877\n",
      "TE:\n",
      "[0.20606168255252338, 0.2053355224399722, 0.21451016707012618, 0.19867488243898637, 0.21097023701737733] 0.20711049830379707 0.005386331768549417\n",
      "TIE:\n",
      "[0.08278724758785945, 0.08230571972621518, 0.09115928953459244, 0.07604458595750842, 0.0885031854836989] 0.08416000565797488 0.005273254473938515\n",
      "TIE acc:\n",
      "[0.7167333333333333, 0.6937333333333333, 0.6806666666666666, 0.7188, 0.6894] 0.6998666666666666 0.01522343223090276\n",
      "The minimal epsilon for which Algorithm A is almost stochastically greater than algorithm B is  0.027617106627437174\n",
      "since epsilon <= 0.5 we will claim that A is better than B with significance level alpha= 0.05\n",
      "None\n",
      "TIE F1: {'non-entailment': [0.6173106367648384, 0.5810687579792084, 0.5459285240307139, 0.6263288447909284, 0.557843788554617], 'entailment': [0.7751494946287771, 0.7586424293369759, 0.7537401676006376, 0.7745831551945276, 0.7606227200328829]} {'non-entailment_mean_sd': [0.5856961104240612, 0.0317147364157435], 'entailment_mean_sd': [0.7645475933587602, 0.008719963946764794]}\n",
      "NIE:\n",
      "[0.11320860334223519, 0.11256095582230422, 0.12448216664847846, 0.10415836026994836, 0.12110726029739952] 0.11510346927607314 0.0071253880421587\n",
      "NIE acc:\n",
      "[0.7119666666666666, 0.6909666666666666, 0.6776333333333333, 0.7159666666666666, 0.6862666666666667] 0.6965600000000001 0.014895911445016634\n",
      "INTmed:\n",
      "[-0.03042135575437577, -0.030255236096089055, -0.03332287711388601, -0.028113774312439936, -0.032604074813700604] -0.03094346361809828 0.0018532476055220263\n",
      "INTmed acc:\n",
      "[0.3718666666666667, 0.3745, 0.3971, 0.3412, 0.36843333333333333] 0.37062 0.017821991408868365\n",
      "my query:\n",
      "[0.7659666666666667, 0.7332, 0.7140333333333333, 0.7598666666666667, 0.7312] 0.7408533333333331 0.019304191830331132\n",
      "The minimal epsilon for which Algorithm A is almost stochastically greater than algorithm B is  0.0\n",
      "since epsilon = 0, algorithm A is stochatically dominant over B\n",
      "None\n",
      "my query F1: {'non-entailment': [0.7187212050799248, 0.678992540306409, 0.6337986084432492, 0.7194704049844236, 0.652113891285591], 'entailment': [0.7996232769200033, 0.7717447099754748, 0.765428048013562, 0.79009324009324, 0.7809885931558935]} {'non-entailment_mean_sd': [0.6806193300199195, 0.03455009510885429], 'entailment_mean_sd': [0.7815755736316348, 0.012296367315816228]}\n"
     ]
    }
   ],
   "source": [
    "model_path='/raid/can/nli_models/poe3/'\n",
    "task='nli'\n",
    "data_path='/ist/users/canu/debias_nlu/data/'\n",
    "fusion = fuse.sum_fuse\n",
    "test_set='mnli_hans'\n",
    "correction=False\n",
    "cma.report_CMA(model_path,task,data_path,test_set,fusion,correction=correction)"
   ]
  },
  {
   "cell_type": "markdown",
   "id": "cefc4e74",
   "metadata": {},
   "source": [
    "## MNLI: Confidence-Reg"
   ]
  },
  {
   "cell_type": "code",
   "execution_count": 14,
   "id": "651358e5",
   "metadata": {},
   "outputs": [
    {
     "name": "stdout",
     "output_type": "stream",
     "text": [
      "/ist/users/canu/debias_nlu/data/nli/test_prob_korn_lr_overlapping_sample_weight_3class.jsonl\n",
      "/raid/can/nli_models/distill/nli/seed5/raw_m.jsonl\n",
      "unique_labels:  ['contradiction', 'entailment', '-', 'neutral']\n",
      "/raid/can/nli_models/distill/nli/seed4/raw_m.jsonl\n",
      "unique_labels:  ['contradiction', 'entailment', '-', 'neutral']\n",
      "/raid/can/nli_models/distill/nli/seed3/raw_m.jsonl\n",
      "unique_labels:  ['contradiction', 'entailment', '-', 'neutral']\n",
      "/raid/can/nli_models/distill/nli/seed2/raw_m.jsonl\n",
      "unique_labels:  ['contradiction', 'entailment', '-', 'neutral']\n",
      "/raid/can/nli_models/distill/nli/seed1/raw_m.jsonl\n",
      "unique_labels:  ['contradiction', 'entailment', '-', 'neutral']\n",
      "factual score:\n",
      "[0.8509967453213995, 0.8521155410903173, 0.850386493083808, 0.8523189585028479, 0.8489625711960944] 0.8509560618388934 0.0012249039232973536\n",
      "TE:\n",
      "[-0.011424729033997147, -0.011636180589813838, -0.012622296990001546, -0.011979341757080562, -0.011859352395961389] -0.011904380153370897 0.0004062136205236109\n",
      "TIE:\n",
      "[-0.016443655642907538, -0.01666187140888522, -0.017652851908297212, -0.017001083187870622, -0.01689060695074309] -0.016930013819740734 0.0004092782152400689\n",
      "TIE acc:\n",
      "[0.8509967453213995, 0.8524206672091131, 0.8506916192026037, 0.8523189585028479, 0.8501830756712775] 0.8513222131814484 0.0008945741833725179\n",
      "The minimal epsilon for which Algorithm A is almost stochastically greater than algorithm B is  0.0034583832292440064\n",
      "since epsilon <= 0.5 we will claim that A is better than B with significance level alpha= 0.05\n",
      "None\n",
      "TIE F1: {'contradiction': [0.8638743455497382, 0.8688145521812857, 0.8668310727496918, 0.8649394450406256, 0.8652307692307692], 'entailment': [0.8664050007268498, 0.8659733411454519, 0.8645085689175332, 0.866957787481805, 0.862871359578516], '-': [0.0, 0.0, 0.0, 0.0, 0.0], 'neutral': [0.7995045672704754, 0.7999386314820498, 0.7982200398956575, 0.8016772790806026, 0.7998153562086474]} {'contradiction_mean_sd': [0.8659380369504222, 0.001722096886879375], 'entailment_mean_sd': [0.8653432115700312, 0.0014790534470102044], '-_mean_sd': [0.0, 0.0], 'neutral_mean_sd': [0.7998311747874866, 0.0011065555873558028]}\n",
      "NIE:\n",
      "[-0.013112635720071758, -0.013318940892778101, -0.01429422010235217, -0.013686295904905915, -0.0135371818192049] -0.013589854887862568 0.00040232777785102856\n",
      "NIE acc:\n",
      "[0.8506916192026037, 0.8531326281529699, 0.8505899104963385, 0.8532343368592351, 0.8497762408462164] 0.8514849471114727 0.0014230498317650668\n",
      "INTmed:\n",
      "[-0.0033310199228357754, -0.003342930516107113, -0.0033586318059450407, -0.003314787282964705, -0.0033534251315381946] -0.0033401589318781655 1.582506153993291e-05\n",
      "INTmed acc:\n",
      "[0.23413344182262003, 0.23179414157851913, 0.2320992676973149, 0.23331977217249797, 0.23504882017900733] 0.2332790886899919 0.001221521138812239\n",
      "my query:\n",
      "[0.8423515052888527, 0.8440805532953621, 0.8395036615134256, 0.8400122050447518, 0.8400122050447518] 0.8411920260374288 0.0017505720076444492\n",
      "The minimal epsilon for which Algorithm A is almost stochastically greater than algorithm B is  1.0\n",
      "since epsilon > 0.5 we will claim that A is not better than B with significance level alpha= 0.05\n",
      "None\n",
      "my query F1: {'contradiction': [0.8630578132188313, 0.866810212242387, 0.8652133865520418, 0.8634697617593159, 0.8644587549831341], 'entailment': [0.8535031847133758, 0.8539057841383423, 0.8477870813397129, 0.8485029048115597, 0.8466935363487088], '-': [0.0, 0.0, 0.0, 0.0, 0.0], 'neutral': [0.7887195121951219, 0.7903956508607672, 0.7846153846153847, 0.7864860751788161, 0.7877779458478295]} {'contradiction_mean_sd': [0.8646019857511419, 0.0013369360647458425], 'entailment_mean_sd': [0.8500784982703399, 0.0030188622975131658], '-_mean_sd': [0.0, 0.0], 'neutral_mean_sd': [0.7875989137395839, 0.0019621104768395943]}\n"
     ]
    }
   ],
   "source": [
    "model_path='/raid/can/nli_models/distill/'\n",
    "task='nli'\n",
    "data_path='/ist/users/canu/debias_nlu/data/'\n",
    "fusion = fuse.sum_fuse\n",
    "test_set='mnli_dev_mm'\n",
    "correction=False\n",
    "cma.report_CMA(model_path,task,data_path,test_set,fusion,correction=correction)"
   ]
  },
  {
   "cell_type": "code",
   "execution_count": 15,
   "id": "02853a4a",
   "metadata": {},
   "outputs": [
    {
     "name": "stdout",
     "output_type": "stream",
     "text": [
      "/ist/users/canu/debias_nlu/data/nli/hans_prob_korn_lr_overlapping_sample_weight_3class.jsonl\n",
      "/raid/can/nli_models/distill/nli/seed5/raw_m.jsonl\n",
      "unique_labels:  ['non-entailment', 'entailment']\n",
      "/raid/can/nli_models/distill/nli/seed4/raw_m.jsonl\n",
      "unique_labels:  ['non-entailment', 'entailment']\n",
      "/raid/can/nli_models/distill/nli/seed3/raw_m.jsonl\n",
      "unique_labels:  ['non-entailment', 'entailment']\n",
      "/raid/can/nli_models/distill/nli/seed2/raw_m.jsonl\n",
      "unique_labels:  ['non-entailment', 'entailment']\n",
      "/raid/can/nli_models/distill/nli/seed1/raw_m.jsonl\n",
      "unique_labels:  ['non-entailment', 'entailment']\n",
      "factual score:\n",
      "[0.6704666666666667, 0.6651, 0.6452666666666667, 0.6651333333333334, 0.6700333333333334] 0.6632 0.009256901329398645\n",
      "TE:\n",
      "[0.1997807842598858, 0.200457151048049, 0.20082799177763835, 0.1927410644418058, 0.1982474597562305] 0.1984108902567219 0.002969168465022607\n",
      "TIE:\n",
      "[0.075542829105349, 0.07607427853500447, 0.07634093460217618, 0.06844279935009447, 0.07374541867402278] 0.07402925205332937 0.0029361859683093962\n",
      "TIE acc:\n",
      "[0.6687666666666666, 0.6616666666666666, 0.6425, 0.6628, 0.668] 0.6607466666666666 0.009538707110155628\n",
      "The minimal epsilon for which Algorithm A is almost stochastically greater than algorithm B is  1.0\n",
      "since epsilon > 0.5 we will claim that A is not better than B with significance level alpha= 0.05\n",
      "None\n",
      "TIE F1: {'non-entailment': [0.5109503420443919, 0.4945722537595857, 0.46010571356657437, 0.5139809743441914, 0.521889400921659], 'entailment': [0.7495778836218845, 0.7457287439250463, 0.7327768780366264, 0.7418465778594395, 0.7457107843137254]} {'non-entailment_mean_sd': [0.5002997369272805, 0.021977665096028314], 'entailment_mean_sd': [0.7431281735513444, 0.00572404421651508]}\n",
      "NIE:\n",
      "[0.10250084926148707, 0.1031921513639726, 0.10349639307960887, 0.09284046431626554, 0.10004271822210109] 0.10041451524868703 0.003976694695913317\n",
      "NIE acc:\n",
      "[0.6638666666666667, 0.6561333333333333, 0.6383666666666666, 0.6583, 0.6621] 0.6557533333333334 0.009110789696227726\n",
      "INTmed:\n",
      "[-0.02695802015613808, -0.027117872828968114, -0.027155458477432688, -0.024397664966171084, -0.02629729954807832] -0.026385263195357656 0.0010407932078775493\n",
      "INTmed acc:\n",
      "[0.42293333333333333, 0.41433333333333333, 0.4257666666666667, 0.4021, 0.41736666666666666] 0.4165 0.008246992717887465\n",
      "my query:\n",
      "[0.7429, 0.7091, 0.6840666666666667, 0.6779666666666667, 0.7162333333333334] 0.7060533333333334 0.023421638618071856\n",
      "The minimal epsilon for which Algorithm A is almost stochastically greater than algorithm B is  0.0\n",
      "since epsilon = 0, algorithm A is stochatically dominant over B\n",
      "None\n",
      "my query F1: {'non-entailment': [0.7495697912269879, 0.7289162240238561, 0.7156144983197312, 0.7281577984749149, 0.7254136696448731], 'entailment': [0.7358652100955447, 0.6861581616139821, 0.6446460707858428, 0.6050447651363394, 0.7064179053005484]} {'non-entailment_mean_sd': [0.7295343963380726, 0.011085469375382864], 'entailment_mean_sd': [0.6756264225864516, 0.04610704289224514]}\n"
     ]
    }
   ],
   "source": [
    "model_path='/raid/can/nli_models/distill/'\n",
    "task='nli'\n",
    "data_path='/ist/users/canu/debias_nlu/data/'\n",
    "fusion = fuse.sum_fuse\n",
    "test_set='mnli_hans'\n",
    "correction=False\n",
    "cma.report_CMA(model_path,task,data_path,test_set,fusion,correction=correction)"
   ]
  },
  {
   "cell_type": "markdown",
   "id": "b8339c80",
   "metadata": {},
   "source": [
    "# FEVER"
   ]
  },
  {
   "cell_type": "markdown",
   "id": "c5478804",
   "metadata": {},
   "source": [
    "# QQP"
   ]
  },
  {
   "cell_type": "code",
   "execution_count": 16,
   "id": "d49142e8",
   "metadata": {},
   "outputs": [
    {
     "data": {
      "text/plain": [
       "array([0.33333333, 0.33333333, 0.33333333])"
      ]
     },
     "execution_count": 16,
     "metadata": {},
     "output_type": "execute_result"
    }
   ],
   "source": [
    " 1/3 *  np.ones(3)"
   ]
  },
  {
   "cell_type": "code",
   "execution_count": null,
   "id": "bd1ba6dd",
   "metadata": {},
   "outputs": [],
   "source": []
  }
 ],
 "metadata": {
  "kernelspec": {
   "display_name": "Python [conda env:CI_env] *",
   "language": "python",
   "name": "conda-env-CI_env-py"
  },
  "language_info": {
   "codemirror_mode": {
    "name": "ipython",
    "version": 3
   },
   "file_extension": ".py",
   "mimetype": "text/x-python",
   "name": "python",
   "nbconvert_exporter": "python",
   "pygments_lexer": "ipython3",
   "version": "3.8.8"
  }
 },
 "nbformat": 4,
 "nbformat_minor": 5
}
