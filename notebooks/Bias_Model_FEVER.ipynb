{
 "cells": [
  {
   "cell_type": "markdown",
   "metadata": {},
   "source": [
    "# Bias Model for FEVER"
   ]
  },
  {
   "cell_type": "code",
   "execution_count": 1,
   "metadata": {},
   "outputs": [
    {
     "name": "stderr",
     "output_type": "stream",
     "text": [
      "/home/patomp/anaconda3/envs/envFakeNews/lib/python3.7/site-packages/nltk/twitter/__init__.py:20: UserWarning: The twython library has not been installed. Some functionality from the twitter package will not be available.\n",
      "  warnings.warn(\"The twython library has not been installed. \"\n"
     ]
    }
   ],
   "source": [
    "import json\n",
    "from random import random\n",
    "import os\n",
    "\n",
    "import numpy as np\n",
    "import pandas as pd\n",
    "from sklearn.metrics import accuracy_score\n",
    "from sklearn.model_selection import train_test_split\n",
    "\n",
    "import sys\n",
    "sys.path.append(\"../\")\n",
    "from my_package.models.traditional.classifier import Classifier\n",
    "from my_package.utils.handcrafted_features.counter import count_negations\n",
    "from my_package.utils.handcrafted_features.overlap import get_lexical_overlap, get_entities_overlap"
   ]
  },
  {
   "cell_type": "markdown",
   "metadata": {},
   "source": [
    "## Configurations"
   ]
  },
  {
   "cell_type": "code",
   "execution_count": 2,
   "metadata": {},
   "outputs": [],
   "source": [
    "TRAIN_DATA_FILE = \"../data/fact_verification/fever.train.jsonl\"\n",
    "DEV_DATA_FILE = \"../data/fact_verification/fever.dev.jsonl\"\n",
    "TEST_DATA_FILE = \"../data/fact_verification/fever_symmetric_generated.jsonl\"\n",
    "\n",
    "WEIGHT_KEY = \"sample_weight\"\n",
    "OUTPUT_TRAIN_DATA_FILE = \"../data/fact_verification/weighted_fever.train.jsonl\"\n",
    "\n",
    "DOC1_KEY = \"claim\"\n",
    "DOC2_KEY = \"evidence\"\n",
    "LABEL_KEY = \"gold_label\"\n",
    "\n",
    "POSSIBLE_LABELS = (\"SUPPORTS\", \"REFUTES\", \"NOT ENOUGH INFO\")\n",
    "BIAS_CLASS = \"REFUTES\"\n",
    "\n",
    "MAX_SAMPLE = -1 # -1 for non-maximal mode or a finite number e.g. 2000\n",
    "DROP_RATE = 0.0\n",
    "TEST_FRAC = 0.2\n",
    "\n",
    "MAX_TEST_SAMPLE = -1"
   ]
  },
  {
   "cell_type": "markdown",
   "metadata": {},
   "source": [
    "## Dataset"
   ]
  },
  {
   "cell_type": "code",
   "execution_count": 3,
   "metadata": {},
   "outputs": [],
   "source": [
    "def read_data(\n",
    "    file: str = TRAIN_DATA_FILE,\n",
    "    sent1_key: str = DOC1_KEY,\n",
    "    sent2_key: str = DOC2_KEY,\n",
    "    label_key: str = LABEL_KEY,\n",
    "    drop_rate: float = 0.0\n",
    "):\n",
    "    docs = []\n",
    "    labels = []\n",
    "\n",
    "    N_SAMPLE = 0\n",
    "\n",
    "    with open(file, 'r') as fh:\n",
    "        line = fh.readline()\n",
    "        while line:\n",
    "            if random() > drop_rate:\n",
    "                datapoint = json.loads(line)\n",
    "                docs.append([datapoint[sent1_key], datapoint[sent2_key]])\n",
    "                labels.append(datapoint[label_key])\n",
    "\n",
    "                N_SAMPLE += 1\n",
    "                if MAX_SAMPLE != -1 and N_SAMPLE == MAX_SAMPLE:\n",
    "                    break\n",
    "            line = fh.readline()\n",
    "    print(\"# samples: \", N_SAMPLE)\n",
    "    return docs, labels"
   ]
  },
  {
   "cell_type": "code",
   "execution_count": 4,
   "metadata": {},
   "outputs": [
    {
     "name": "stdout",
     "output_type": "stream",
     "text": [
      "# samples:  2000\n"
     ]
    }
   ],
   "source": [
    "docs, labels = read_data(drop_rate=DROP_RATE)"
   ]
  },
  {
   "cell_type": "code",
   "execution_count": 5,
   "metadata": {},
   "outputs": [
    {
     "data": {
      "text/plain": [
       "[['Roman Atwood is a content creator .',\n",
       "  'He is best known for his vlogs , where he posts updates about his life on a daily basis .'],\n",
       " ['Roman Atwood is a content creator .',\n",
       "  \"He also has another YouTube channel called `` RomanAtwood '' , where he posts pranks .\"]]"
      ]
     },
     "execution_count": 5,
     "metadata": {},
     "output_type": "execute_result"
    }
   ],
   "source": [
    "docs[:2]"
   ]
  },
  {
   "cell_type": "code",
   "execution_count": 6,
   "metadata": {},
   "outputs": [
    {
     "data": {
      "text/plain": [
       "['SUPPORTS', 'SUPPORTS']"
      ]
     },
     "execution_count": 6,
     "metadata": {},
     "output_type": "execute_result"
    }
   ],
   "source": [
    "labels[:2]"
   ]
  },
  {
   "cell_type": "code",
   "execution_count": 7,
   "metadata": {},
   "outputs": [],
   "source": [
    "docs_train, docs_test, labels_train, labels_test = train_test_split(\n",
    "    docs, labels,\n",
    "    stratify=labels, test_size=TEST_FRAC,\n",
    "    random_state=42\n",
    ")"
   ]
  },
  {
   "cell_type": "markdown",
   "metadata": {},
   "source": [
    "## Bias Classifier"
   ]
  },
  {
   "cell_type": "code",
   "execution_count": 8,
   "metadata": {},
   "outputs": [],
   "source": [
    "feature_extractors = [\n",
    "    lambda s1, s2: count_negations(s1),\n",
    "    lambda s1, s2: count_negations(s2),\n",
    "    get_lexical_overlap,\n",
    "    get_entities_overlap\n",
    "]"
   ]
  },
  {
   "cell_type": "code",
   "execution_count": 9,
   "metadata": {},
   "outputs": [],
   "source": [
    "config = {\n",
    "    \"n_grams\": [1, 2],\n",
    "    \"top_ks\": [50, 50], # select by LMI\n",
    "    \"verbose\": True,\n",
    "}"
   ]
  },
  {
   "cell_type": "code",
   "execution_count": 10,
   "metadata": {},
   "outputs": [],
   "source": [
    "classifier = Classifier(\n",
    "    possible_labels=POSSIBLE_LABELS,\n",
    "    feature_extractors=feature_extractors,\n",
    "    config=config\n",
    ")"
   ]
  },
  {
   "cell_type": "markdown",
   "metadata": {},
   "source": [
    "## Training"
   ]
  },
  {
   "cell_type": "code",
   "execution_count": 11,
   "metadata": {
    "scrolled": false
   },
   "outputs": [
    {
     "name": "stdout",
     "output_type": "stream",
     "text": [
      "------ Top N-grams for sentence 1 ------\n",
      "1-gram LMI:  {'SUPPORTS': {'the': 0.002830599443997493, 'person': 0.0015601595335923452, 'an': 0.0011449873408493345, 'film': 0.0010957417258488456, 'and': 0.0009517330449717213, 'for': 0.0008765933806790766, 'american': 0.0008510747454199162, 'rock': 0.0007985769012638708, 'band': 0.0007640830874644544, 'artist': 0.0007346907491627611, 'world': 0.0006868356463097582, 'there': 0.0006388615210110966, 'music': 0.000611965430575564, 'with': 0.0005300581654427411, 'song': 0.0004933233861207459, 'series': 0.0004910580555191361, 'work': 0.00047893169501172595, 'worked': 0.00046679380339012647, 'united': 0.00046679380339012647, 'bill': 0.00044720306470776765, 'award': 0.0004252788059016547, 'that': 0.00041586057053421107, 'states': 0.00041586057053421107, 'won': 0.00041586057053421107, 'medium': 0.0004152599886572128, 'selena': 0.0004152599886572128, 'recorded': 0.0004152599886572128, 'lewis': 0.0004152599886572128, 'hamilton': 0.0004152599886572128, 'driver': 0.00039792474491441213, 'at': 0.00039792474491441213, 'paul': 0.00038439181992765825, 'received': 0.00038331691260665797, 'director': 0.00038331691260665797, 'miranda': 0.00038331691260665797, 'cosgrove': 0.00038331691260665797, 'kid': 0.00038331691260665797, 'had': 0.00037757732405204153, 'movie': 0.0003739003047040167, 'city': 0.00036616437011784234, 'tom': 0.00036616437011784234, 'anne': 0.00035137383655610313, 'album': 0.0003402599505443182, 'played': 0.0003344307548290071, 'called': 0.00032162897117110113, 'from': 0.00032127023946999496, 'hathaway': 0.0003194307605055483, 'clinton': 0.0003194307605055483, 'term': 0.0003194307605055483, 'race': 0.0003194307605055483}, 'REFUTES': {'not': 0.0041569203439127305, 'only': 0.003695639413993728, 'randy': 0.002991018363552362, 'orton': 0.0028945339002119635, 'squid': 0.0028945339002119635, 'to': 0.002647892126600577, 'incapable': 0.0020261737301483745, 'his': 0.0016736624163056783, 'being': 0.0015587111653781775, 'died': 0.0014896533671786576, 'unable': 0.0014472669501059817, 'move': 0.001350782486765583, 'entire': 0.001350782486765583, 'show': 0.0013119591859165833, 'life': 0.0013022646555788052, 'clooney': 0.0012542980234251841, 'fundraiser': 0.0012542980234251841, 'george': 0.0012178162116288176, 'horse': 0.0010613290967443866, 'is': 0.001056376313587376, 'was': 0.0010421729833530865, 'edgar': 0.0010026152919476012, 'before': 0.000992082671872006, 'slovakia': 0.0009810266261607865, 'allan': 0.0009810266261607865, 'poe': 0.0009810266261607865, 'super': 0.0009648446334039878, 'metroid': 0.0009648446334039878, 'warship': 0.0009648446334039878, 'hugo': 0.0009648446334039878, 'weaving': 0.0009648446334039878, 'television': 0.0008974119967513712, 'been': 0.0008908857576506164, 'sequel': 0.0008848797204043024, 'a': 0.0008843588246393595, 'wood': 0.0008683601700635891, 'ellyse': 0.0008683601700635891, 'faith': 0.0008683601700635891, 'solely': 0.0008683601700635891, 'never': 0.0008118774744192117, 'perry': 0.0007888027708757011, 'mcavoy': 0.0007888027708757011, 'joseph': 0.0007844450232404452, 'avoided': 0.0007718757067231903, 'entirely': 0.0007718757067231903, 'story': 0.0007495929629459338, 'stalin': 0.0007495929629459338, 'toy': 0.0007168343491759845, 'evans': 0.0007168343491759845, 'james': 0.0007155259300478921}} \n",
      "\n",
      "2-gram LMI:  {'SUPPORTS': {'a_person': 0.001915461182896843, 'is_an': 0.0017082092238136393, 'in_the': 0.0011471946120734627, 'a_film': 0.0010465311573359538, 'an_artist': 0.0006998800475969234, 'an_american': 0.0006978951365571485, 'a_band': 0.000663044255618138, 'is_the': 0.0006248800784638102, 'there_is': 0.0005525368796817817, 'in_a': 0.000539467010118045, 'lewis_hamilton': 0.0004788652957242108, 'a_work': 0.0004788652957242108, 'was_an': 0.0004587217990476535, 'the_world': 0.0004587217990476535, 'united_states': 0.00044297018503931243, 'miranda_cosgrove': 0.00044202950374542534, 'cosgrove_is': 0.00044202950374542534, 'kid_rock': 0.00044202950374542534, 'rock_is': 0.00044202950374542534, 'hamilton_is': 0.00044202950374542534, 'a_role': 0.00040519371176663986, 'in_office': 0.00040519371176663986, 'selena_recorded': 0.00040519371176663986, 'recorded_music': 0.00040519371176663986, 'had_a': 0.00038550318331037386, 'an_album': 0.00038334524786342157, 'anne_hathaway': 0.0003683579197878544, 'the_united': 0.000358467228881898, 'of_a': 0.0003345362949184904, 'hathaway_had': 0.000331522127809069, 'bill_clinton': 0.000331522127809069, 'clinton_served': 0.000331522127809069, 'served_a': 0.000331522127809069, 'a_term': 0.000331522127809069, 'term_in': 0.000331522127809069, 'collaborated_with': 0.000331522127809069, 'as_a': 0.000331522127809069, 'a_series': 0.000331522127809069, 'kangana_ranaut': 0.000331522127809069, 'ranaut_was': 0.000331522127809069, 'was_in': 0.00032291234499843435, 'was_released': 0.00032282309210573045, 'las_vegas': 0.00029468633583028356, 'interstellar_is': 0.00029468633583028356, 'a_narrative': 0.00029468633583028356, 'narrative_in': 0.00029468633583028356, 'a_visual': 0.00029468633583028356, 'visual_medium': 0.00029468633583028356, 'was_nominated': 0.00029468633583028356, 'for_an': 0.00029468633583028356}, 'REFUTES': {'randy_orton': 0.0033472424804411095, 'a_squid': 0.0033472424804411095, 'incapable_of': 0.0023430697363087767, 'is_incapable': 0.00223149498696074, 'television_show': 0.0018245593382655505, 'orton_is': 0.0017851959895685918, 'of_being': 0.0017851959895685918, 'was_not': 0.0016911952192359087, 'unable_to': 0.0016736212402205547, 'orton_has': 0.0015620464908725179, 'been_unable': 0.0015620464908725179, 'to_move': 0.0015620464908725179, 'move_his': 0.0015620464908725179, 'his_entire': 0.0015620464908725179, 'entire_life': 0.0015620464908725179, 'not_a': 0.0015620464908725179, 'george_clooney': 0.0014504717415244808, 'clooney_is': 0.0014504717415244808, 'a_fundraiser': 0.0014504717415244808, 'is_not': 0.001357109629110644, 'a_television': 0.0012376322853358255, 'only_a': 0.0012273222428284068, 'poe_was': 0.0012273222428284068, 'a_horse': 0.0012273222428284068, 'edgar_allan': 0.0011345685702936722, 'allan_poe': 0.0011345685702936722, 'super_metroid': 0.00111574749348037, 'metroid_is': 0.00111574749348037, 'movie_sequel': 0.00111574749348037, 'slovakia_is': 0.00111574749348037, 'a_warship': 0.00111574749348037, 'hugo_weaving': 0.00111574749348037, 'weaving_is': 0.00111574749348037, 'was_a': 0.0011064789260379496, 'died_in': 0.0010781382424819516, 'story_is': 0.0010233837181103486, 'ellyse_perry': 0.0010041727441323328, 'perry_is': 0.0010041727441323328, 'was_only': 0.0010041727441323328, 'faith_evans': 0.0010041727441323328, 'is_only': 0.0010041727441323328, 'mcavoy_is': 0.0010041727441323328, 'being_an': 0.0010041727441323328, 'stalin_was': 0.0009338499594001487, 'toy_story': 0.0009122796691327752, 'a_man': 0.0009122796691327752, 'james_mcavoy': 0.0009122796691327752, 'evans_works': 0.0008925979947842959, 'works_solely': 0.0008925979947842959, 'solely_as': 0.0008925979947842959}} \n",
      "\n",
      "------ Top N-grams for sentence 2 ------\n",
      "1-gram LMI:  {'SUPPORTS': {'for': 0.000564564187845954, 'and': 0.00038811637413772464, 'award': 0.0003671062778865854, 'also': 0.0003195004227201674, 'that': 0.0002686080029533984, 'band': 0.0002674937042836088, 'song': 0.00023037595397772763, 'best': 0.0002266207080177306, 'she': 0.0002154295052678023, 'rock': 0.00020931041671003886, 'its': 0.00020141611590394445, 'including': 0.00019308747793349133, 'antibodies': 0.00017893079490991195, 'from': 0.00017508585700080548, 'awards': 0.00016479421451113255, 'one': 0.00016353126054770946, 'her': 0.00016323964661956513, 'received': 0.00016114676987440612, 'albums': 0.00015500607269339055, 'music': 0.0001526775851794625, 'their': 0.0001526775851794625, 'songs': 0.00015209117567342517, 'king': 0.00015209117567342517, 'director': 0.0001476657107723085, 'american': 0.00014688451435953848, 'written': 0.0001448156084501185, 'film': 0.00013938383420204645, 'singer': 0.00013899471192973509, 'largest': 0.00013745389380148836, 'emmy': 0.00013273771595662118, 'actress': 0.0001324786290032112, 'many': 0.00013039304883536194, '17': 0.00012525155643693838, 'artist': 0.00012506406008454203, 'disney': 0.00012506406008454203, 'studio': 0.00011903556886558149, 'over': 0.00011763573183101387, 'second': 0.00011763573183101387, 'david': 0.00011640190370852915, 'billboard': 0.00011508004368333035, 'states': 0.00011093414983199472, 'hit': 0.00011073864246597084, 'formula': 0.00011073864246597084, 'pop': 0.00010735847694594717, 'actors': 0.00010248398836740108, 'among': 0.00010184487294890175, 'choice': 9.841193720045157e-05, 'chart': 9.841193720045157e-05, 'released': 9.83408458528649e-05, 'album': 9.83408458528649e-05}, 'REFUTES': {'in': 0.0012267390677911513, 'wwe': 0.000826000874929149, 'orton': 0.0006551041421851872, 'he': 0.0006285207132491348, 'of': 0.000569790068836503, 'championship': 0.00047367272022553065, 'world': 0.00038160954026832903, 'with': 0.00035100697927178113, 'on': 0.0002694555747211029, 'heavyweight': 0.00024902572964676737, 'be': 0.0002469230178832127, 'became': 0.0002451053159529505, 'a': 0.0002446302206138333, 'who': 0.0002418505682826044, 'wyatt': 0.0002278623103252825, 'x-men': 0.00021257937771916675, 'poe': 0.00021257937771916675, 'champion': 0.0002081631656638244, 'his': 0.00020446365824739544, 'state': 0.00020204845969452453, 'then': 0.0001972708670758729, 'joined': 0.0001936024380374271, 'season': 0.0001870429850058862, 'evans': 0.0001846027646820489, 'player': 0.0001820345332359215, '11': 0.0001820345332359215, '1969': 0.0001820345332359215, 'to': 0.00017920907101604157, 'carter': 0.0001767284347229211, 'fleetwood': 0.0001767284347229211, 'mac': 0.0001767284347229211, 'metroid': 0.00017089673274396186, 'ovw': 0.00017089673274396186, '7': 0.00016762219780304616, 'april': 0.00016695417386739395, 'would': 0.00016612553310073257, 'australian': 0.00016612553310073257, 'romantic': 0.0001655314182130779, 'territory': 0.00015674876018226573, 'wood': 0.00015674876018226573, '2011': 0.0001536147957565651, 'was': 0.00015286696479185915, 'saddam': 0.0001484835092921238, 'religion': 0.0001484835092921238, 'faith': 0.0001484835092921238, 'liaisons': 0.0001484835092921238, 'matches': 0.0001484835092921238, 'january': 0.00014659571831348317, 'wrestling': 0.0001449354491887893, '1981': 0.0001449354491887893}} \n",
      "\n"
     ]
    },
    {
     "name": "stdout",
     "output_type": "stream",
     "text": [
      "2-gram LMI:  {'SUPPORTS': {'award_for': 0.0002667443779287267, 'is_the': 0.0002326692006241626, 'for_best': 0.00021126990945009025, 'for_the': 0.00013681812824263117, 'is_an': 0.00013541344796845595, 'the_film': 0.0001223467118798094, 'the_song': 0.00012079239872388943, 'rock_band': 0.00011943955589972616, 'was_released': 0.00011738259900265232, 'an_american': 0.00011718344301520055, 'has_also': 0.0001115006757451287, 'and_is': 0.00011137823024682903, 'the_second': 0.00010281989681706361, 'the_largest': 0.00010220895276636799, 'drama_series': 0.00010220895276636799, 'formula_one': 0.00010220895276636799, 'the_united': 0.00010178511999887702, 'series_of': 0.00010115764554798141, 'including_the': 0.00010115764554798141, 'role_as': 9.729910929432666e-05, 'produced_by': 9.671639695115291e-05, 'and_produced': 9.65045038517474e-05, 'she_won': 9.65045038517474e-05, 'united_states': 9.400283003037886e-05, 'globe_award': 9.204444891904282e-05, 'emmy_award': 9.204444891904282e-05, 'which_she': 9.0832540781758e-05, 'a_series': 8.728566812947707e-05, 'released_on': 8.502734561950942e-05, 'as_the': 8.488029219948222e-05, 'on_to': 8.362550680884653e-05, 'for_outstanding': 8.362550680884653e-05, 'in_2015': 8.362550680884653e-05, 'award_and': 8.295460280124043e-05, 'also_known': 7.6188831438529e-05, 'for_its': 7.43337838300858e-05, 'hot_100': 7.43337838300858e-05, 'a_2016': 7.43337838300858e-05, 'supporting_actress': 7.43337838300858e-05, 'written_by': 7.42314773645398e-05, 'golden_globe': 7.42314773645398e-05, 'was_nominated': 7.04295594015914e-05, 'director_and': 6.888904953138654e-05, 'role_of': 6.888904953138654e-05, 'to_win': 6.888904953138654e-05, 'the_billboard': 6.888904953138654e-05, 'primetime_emmy': 6.888904953138654e-05, 'number_one': 6.888904953138654e-05, 'to_the': 6.879859217879251e-05, 'best_actress': 6.739672843597466e-05}, 'REFUTES': {'world_heavyweight': 0.0002726405016252163, 'the_wwe': 0.0002670018136932933, 'is_a': 0.00020794469531499357, 'fleetwood_mac': 0.00018410331786630104, 'where_he': 0.00018356705795467945, 'was_the': 0.00018266410702332843, '1_january': 0.0001780012091288622, 'wwe_championship': 0.0001780012091288622, 'wwe_world': 0.0001780012091288622, 'heavyweight_championship': 0.0001780012091288622, 'film_and': 0.00016675236150473502, 'the_world': 0.0001650119430710494, 'during_the': 0.0001591827037996547, 'on_1': 0.0001483343409407185, 'and_has': 0.00014701575946363162, 'in_2011': 0.0001447243822741196, 'a_member': 0.00013645481363954305, 'joined_the': 0.0001344855424442788, 'in_his': 0.0001279046560947652, 'new_zealand': 0.00012535224584744536, 'professional_wrestler': 0.00012535224584744536, 'tag_team': 0.00012535224584744536, 'after_the': 0.00012446936028144714, 'on_the': 0.00012172976282115071, 'the_season': 0.0001186674727525748, 'player_to': 0.0001186674727525748, 'orton_has': 0.0001186674727525748, 'in_wwe': 0.0001186674727525748, 'territory_of': 0.0001186674727525748, 'bob_orton': 0.0001186674727525748, 'raised_in': 0.0001186674727525748, 'les_liaisons': 0.0001186674727525748, 'liaisons_dangereuses': 0.0001186674727525748, 'captain_america': 0.0001186674727525748, 'be_one': 0.0001186674727525748, 'puerto_rico': 0.0001186674727525748, 'out_of': 0.0001186674727525748, 'he_began': 0.0001186674727525748, '2_and': 0.0001186674727525748, 'with_the': 0.00011155879015956826, 'award_nominations': 0.00011055459771664072, 'and_television': 0.00011055459771664072, 'he_is': 0.00010987517817596216, 'is_currently': 0.00010592116131317692, 'state_of': 0.00010592116131317692, 'for_playing': 0.00010592116131317692, 'romantic_drama': 0.00010592116131317692, 'heavyweight_champion': 0.00010592116131317692, 'in_film': 0.00010592116131317692, 'with_his': 0.00010073216907955186}} \n",
      "\n",
      "n_features: 604\n"
     ]
    }
   ],
   "source": [
    "classifier.fit(docs_train, labels_train)"
   ]
  },
  {
   "cell_type": "code",
   "execution_count": 12,
   "metadata": {},
   "outputs": [
    {
     "data": {
      "text/plain": [
       "[{'SUPPORTS': 0.7678772565201838, 'REFUTES': 0.23212274347981623},\n",
       " {'SUPPORTS': 0.6953323195198748, 'REFUTES': 0.3046676804801252}]"
      ]
     },
     "execution_count": 12,
     "metadata": {},
     "output_type": "execute_result"
    }
   ],
   "source": [
    "# Inferential Examples\n",
    "x = [['Roman Atwood is a content creator .',\n",
    "  'He is best known for his vlogs , where he posts updates about his life on a daily basis .'],\n",
    " ['Roman Atwood is a content creator .',\n",
    "  \"He also has another YouTube channel called `` RomanAtwood '' , where he posts pranks .\"]] \n",
    "classifier.inference(x)"
   ]
  },
  {
   "cell_type": "markdown",
   "metadata": {},
   "source": [
    "## Evaluation"
   ]
  },
  {
   "cell_type": "code",
   "execution_count": 13,
   "metadata": {},
   "outputs": [
    {
     "name": "stdout",
     "output_type": "stream",
     "text": [
      "Accuracy on train set: 0.802\n"
     ]
    }
   ],
   "source": [
    "y_preds = classifier.predict(docs_test)\n",
    "print(\"Accuracy on train set: %.3f\"% accuracy_score(labels_test, y_preds))"
   ]
  },
  {
   "cell_type": "markdown",
   "metadata": {},
   "source": [
    "### On original test set"
   ]
  },
  {
   "cell_type": "code",
   "execution_count": 14,
   "metadata": {},
   "outputs": [
    {
     "name": "stdout",
     "output_type": "stream",
     "text": [
      "# samples:  2000\n"
     ]
    }
   ],
   "source": [
    "eval_docs, eval_labels = read_data(DEV_DATA_FILE)"
   ]
  },
  {
   "cell_type": "code",
   "execution_count": 15,
   "metadata": {},
   "outputs": [
    {
     "name": "stdout",
     "output_type": "stream",
     "text": [
      "Accuracy on original test set: 0.589\n"
     ]
    }
   ],
   "source": [
    "y_preds = classifier.predict(eval_docs)\n",
    "print(\"Accuracy on original test set: %.3f\"% accuracy_score(eval_labels, y_preds))"
   ]
  },
  {
   "cell_type": "markdown",
   "metadata": {},
   "source": [
    "### On symmetric (challenge) test set"
   ]
  },
  {
   "cell_type": "code",
   "execution_count": 16,
   "metadata": {},
   "outputs": [
    {
     "name": "stdout",
     "output_type": "stream",
     "text": [
      "# samples:  717\n"
     ]
    }
   ],
   "source": [
    "eval_docs, eval_labels = read_data(TEST_DATA_FILE, sent2_key=\"evidence_sentence\", label_key=\"label\")"
   ]
  },
  {
   "cell_type": "code",
   "execution_count": 17,
   "metadata": {},
   "outputs": [
    {
     "name": "stdout",
     "output_type": "stream",
     "text": [
      "Accuracy on challenge test set: 0.462\n"
     ]
    }
   ],
   "source": [
    "y_preds = classifier.predict(eval_docs)\n",
    "print(\"Accuracy on challenge test set: %.3f\"% accuracy_score(eval_labels, y_preds))"
   ]
  },
  {
   "cell_type": "markdown",
   "metadata": {},
   "source": [
    "## Write predicted probability to the training set"
   ]
  },
  {
   "cell_type": "code",
   "execution_count": 18,
   "metadata": {},
   "outputs": [],
   "source": [
    "def get_weight(prob_score_bias_class: float, ground_truth_label: str, bias_label: str = BIAS_CLASS) -> float:\n",
    "    if ground_truth_label == bias_label:\n",
    "        return 1/prob_score_bias_class\n",
    "    return 1/(1-prob_score_bias_class)"
   ]
  },
  {
   "cell_type": "code",
   "execution_count": 19,
   "metadata": {},
   "outputs": [],
   "source": [
    "# test cases\n",
    "def test_bias_label():\n",
    "    weight = get_weight(0.2, \"A\", bias_label=\"A\")\n",
    "    np.testing.assert_almost_equal(1/0.2, weight, 5)\n",
    "    \n",
    "def test_not_bias_label():\n",
    "    weight = get_weight(0.2, \"B\", bias_label=\"A\")\n",
    "    np.testing.assert_almost_equal(1/0.8, weight, 5)\n",
    "    \n",
    "test_bias_label()\n",
    "test_not_bias_label()"
   ]
  },
  {
   "cell_type": "code",
   "execution_count": 20,
   "metadata": {},
   "outputs": [],
   "source": [
    "f_output = open(OUTPUT_TRAIN_DATA_FILE, 'w')"
   ]
  },
  {
   "cell_type": "code",
   "execution_count": 21,
   "metadata": {},
   "outputs": [],
   "source": [
    "N_SAMPLE = 0\n",
    "\n",
    "with open(TRAIN_DATA_FILE, 'r') as fh:\n",
    "    line = fh.readline()\n",
    "    while line:\n",
    "        datapoint = json.loads(line)\n",
    "        x = [[datapoint[DOC1_KEY], datapoint[DOC2_KEY]]]\n",
    "        \n",
    "        prob = classifier.inference(x)[0][BIAS_CLASS]\n",
    "        weight = get_weight(\n",
    "            prob_score_bias_class=prob,\n",
    "            ground_truth_label=datapoint[LABEL_KEY],\n",
    "            bias_label=BIAS_CLASS\n",
    "        )\n",
    "        if datapoint.get(\"weight\", None) != None:\n",
    "            del datapoint[\"weight\"] # only for fever\n",
    "        f_output.write(\"%s\\n\"%json.dumps({**datapoint, WEIGHT_KEY: weight, \"prob\": prob}))\n",
    "\n",
    "        N_SAMPLE += 1\n",
    "        if MAX_TEST_SAMPLE != -1 and N_SAMPLE == MAX_TEST_SAMPLE:\n",
    "            break\n",
    "        line = fh.readline()\n",
    "        \n",
    "f_output.close()"
   ]
  },
  {
   "cell_type": "code",
   "execution_count": null,
   "metadata": {},
   "outputs": [],
   "source": []
  }
 ],
 "metadata": {
  "kernelspec": {
   "display_name": "Python 3",
   "language": "python",
   "name": "python3"
  },
  "language_info": {
   "codemirror_mode": {
    "name": "ipython",
    "version": 3
   },
   "file_extension": ".py",
   "mimetype": "text/x-python",
   "name": "python",
   "nbconvert_exporter": "python",
   "pygments_lexer": "ipython3",
   "version": "3.7.9"
  }
 },
 "nbformat": 4,
 "nbformat_minor": 4
}
