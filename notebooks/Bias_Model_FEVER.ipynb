{
 "cells": [
  {
   "cell_type": "markdown",
   "metadata": {},
   "source": [
    "# Bias Model for FEVER"
   ]
  },
  {
   "cell_type": "code",
   "execution_count": 1,
   "metadata": {},
   "outputs": [
    {
     "name": "stderr",
     "output_type": "stream",
     "text": [
      "/home/patomp/anaconda3/envs/envFakeNews/lib/python3.7/site-packages/nltk/twitter/__init__.py:20: UserWarning: The twython library has not been installed. Some functionality from the twitter package will not be available.\n",
      "  warnings.warn(\"The twython library has not been installed. \"\n"
     ]
    }
   ],
   "source": [
    "import json\n",
    "from random import random\n",
    "import os\n",
    "from typing import Dict, List\n",
    "\n",
    "import numpy as np\n",
    "import pandas as pd\n",
    "from sklearn.metrics import accuracy_score\n",
    "from sklearn.model_selection import train_test_split\n",
    "\n",
    "import sys\n",
    "sys.path.append(\"../\")\n",
    "from my_package.models.traditional.classifier import Classifier\n",
    "from my_package.utils.handcrafted_features.counter import count_negations\n",
    "from my_package.utils.handcrafted_features.overlap import get_lexical_overlap, get_entities_overlap"
   ]
  },
  {
   "cell_type": "markdown",
   "metadata": {},
   "source": [
    "## Configurations"
   ]
  },
  {
   "cell_type": "code",
   "execution_count": 2,
   "metadata": {},
   "outputs": [],
   "source": [
    "DUMMY_PREFIX = \"\" # \"sample_\" for example and \"\" for the real one\n",
    "\n",
    "TRAIN_DATA_FILE = \"../data/fact_verification/%sfever.train.jsonl\"%DUMMY_PREFIX\n",
    "DEV_DATA_FILE = \"../data/fact_verification/%sfever.dev.jsonl\"%DUMMY_PREFIX\n",
    "TEST_DATA_FILE = \"../data/fact_verification/fever_symmetric_v0.1.test.jsonl\"\n",
    "\n",
    "WEIGHT_KEY = \"sample_weight\"\n",
    "OUTPUT_TRAIN_DATA_FILE = \"../data/fact_verification/%sweighted_fever.train.jsonl\"%DUMMY_PREFIX\n",
    "SAVED_MODEL_PATH = \"../results/fever/bias_model\"\n",
    "\n",
    "DOC1_KEY = \"claim\"\n",
    "DOC2_KEY = \"evidence\"\n",
    "LABEL_KEY = \"gold_label\"\n",
    "\n",
    "POSSIBLE_LABELS = (\"SUPPORTS\", \"REFUTES\", \"NOT ENOUGH INFO\")\n",
    "BIAS_CLASS = \"REFUTES\"\n",
    "\n",
    "MAX_SAMPLE = -1 # -1 for non-maximal mode or a finite number e.g. 2000\n",
    "DROP_RATE = 0.0\n",
    "TEST_FRAC = 0.2\n",
    "\n",
    "MAX_TEST_SAMPLE = -1"
   ]
  },
  {
   "cell_type": "code",
   "execution_count": 3,
   "metadata": {},
   "outputs": [],
   "source": [
    "def inference_prob_to_index(x: List[Dict[str, float]]) -> List[float]:\n",
    "    return [\n",
    "        x[\"SUPPORTS\"],\n",
    "        x[\"NOT ENOUGH INFO\"],\n",
    "        x[\"REFUTES\"]\n",
    "    ]"
   ]
  },
  {
   "cell_type": "markdown",
   "metadata": {},
   "source": [
    "## Dataset"
   ]
  },
  {
   "cell_type": "code",
   "execution_count": 4,
   "metadata": {},
   "outputs": [],
   "source": [
    "def read_data(\n",
    "    file: str = TRAIN_DATA_FILE,\n",
    "    sent1_key: str = DOC1_KEY,\n",
    "    sent2_key: str = DOC2_KEY,\n",
    "    label_key: str = LABEL_KEY,\n",
    "    drop_rate: float = 0.0\n",
    "):\n",
    "    docs = []\n",
    "    labels = []\n",
    "\n",
    "    N_SAMPLE = 0\n",
    "\n",
    "    with open(file, 'r') as fh:\n",
    "        line = fh.readline()\n",
    "        while line:\n",
    "            if random() > drop_rate:\n",
    "                datapoint = json.loads(line)\n",
    "                docs.append([datapoint[sent1_key], datapoint[sent2_key]])\n",
    "                labels.append(datapoint[label_key])\n",
    "\n",
    "                N_SAMPLE += 1\n",
    "                if MAX_SAMPLE != -1 and N_SAMPLE == MAX_SAMPLE:\n",
    "                    break\n",
    "            line = fh.readline()\n",
    "    print(\"# samples: \", N_SAMPLE)\n",
    "    return docs, labels"
   ]
  },
  {
   "cell_type": "code",
   "execution_count": 5,
   "metadata": {},
   "outputs": [
    {
     "name": "stdout",
     "output_type": "stream",
     "text": [
      "# samples:  2400\n"
     ]
    }
   ],
   "source": [
    "docs, labels = read_data(drop_rate=DROP_RATE)"
   ]
  },
  {
   "cell_type": "code",
   "execution_count": 6,
   "metadata": {},
   "outputs": [
    {
     "data": {
      "text/plain": [
       "[['Margaret of Valois criticized memoirs .',\n",
       "  'She was famous for her beauty and sense of style , notorious for a licentious lifestyle , and also proved a competent memoirist .'],\n",
       " ['Legion is a background character in Legion .',\n",
       "  \"Hawley wanted to show Haller as an `` unreliable narrator `` , including mixing 1960s design with modern-day elements , and filming the series through the title character 's distorted view of reality .\"]]"
      ]
     },
     "execution_count": 6,
     "metadata": {},
     "output_type": "execute_result"
    }
   ],
   "source": [
    "docs[:2]"
   ]
  },
  {
   "cell_type": "code",
   "execution_count": 7,
   "metadata": {},
   "outputs": [
    {
     "data": {
      "text/plain": [
       "['NOT ENOUGH INFO', 'NOT ENOUGH INFO']"
      ]
     },
     "execution_count": 7,
     "metadata": {},
     "output_type": "execute_result"
    }
   ],
   "source": [
    "labels[:2]"
   ]
  },
  {
   "cell_type": "code",
   "execution_count": 8,
   "metadata": {},
   "outputs": [],
   "source": [
    "docs_train, docs_test, labels_train, labels_test = train_test_split(\n",
    "    docs, labels,\n",
    "    stratify=labels, test_size=TEST_FRAC,\n",
    "    random_state=42\n",
    ")"
   ]
  },
  {
   "cell_type": "markdown",
   "metadata": {},
   "source": [
    "## Bias Classifier"
   ]
  },
  {
   "cell_type": "code",
   "execution_count": 9,
   "metadata": {},
   "outputs": [],
   "source": [
    "feature_extractors = [\n",
    "    lambda s1, s2: count_negations(s1),\n",
    "    lambda s1, s2: count_negations(s2),\n",
    "    get_lexical_overlap,\n",
    "    get_entities_overlap\n",
    "]"
   ]
  },
  {
   "cell_type": "code",
   "execution_count": 10,
   "metadata": {},
   "outputs": [],
   "source": [
    "config = {\n",
    "    \"n_grams\": [1, 2],\n",
    "    \"top_ks\": [50, 50], # select by LMI\n",
    "    \"verbose\": True,\n",
    "}"
   ]
  },
  {
   "cell_type": "code",
   "execution_count": 11,
   "metadata": {},
   "outputs": [],
   "source": [
    "classifier = Classifier(\n",
    "    possible_labels=POSSIBLE_LABELS,\n",
    "    feature_extractors=feature_extractors,\n",
    "    config=config\n",
    ")"
   ]
  },
  {
   "cell_type": "markdown",
   "metadata": {},
   "source": [
    "## Training"
   ]
  },
  {
   "cell_type": "code",
   "execution_count": 12,
   "metadata": {
    "scrolled": false
   },
   "outputs": [
    {
     "name": "stdout",
     "output_type": "stream",
     "text": [
      "------ Top N-grams for sentence 1 ------\n",
      "1-gram LMI:  {'SUPPORTS': {'is': 0.002163038779813946, 'an': 0.0016999043853222335, 'person': 0.00142695624124845, 'of': 0.0013563445102635363, 'the': 0.0012599035305118262, 'film': 0.000881325435050041, 'was': 0.0007728863491820543, 'place': 0.0006833153529354253, 'acts': 0.0006833153529354253, 'state': 0.0006264412671317985, 'world': 0.0005703903592827062, 'one': 0.0005455494149122634, 'actor': 0.0005450555113568687, 'character': 0.0005346332096052878, 'there': 0.0004378982416593059, 'entertainment': 0.0004348370427770889, 'album': 0.0003861043237676886, 'acted': 0.000385355139612428, 'won': 0.0003774017357034175, 'georgia': 0.0003727174652375047, '24': 0.0003727174652375047, 'performer': 0.0003721210102776486, 'involved': 0.0003721210102776486, 'matt': 0.0003721210102776486, 'plays': 0.0003370201712105341, 'located': 0.0003370201712105341, 'industry': 0.00032602064011348744, 'and': 0.0003252818499873436, 'united': 0.0003190783942325149, 'award': 0.0003150409179428896, 'ben': 0.0003106600256935199, 'movies': 0.0003106600256935199, 'duvall': 0.0003106600256935199, 'athlete': 0.0003106600256935199, 'september': 0.0003105978876979206, 'same': 0.0003105978876979206, 'r.': 0.0003105978876979206, 'kingdom': 0.0003105978876979206, 'system': 0.0003105978876979206, 'million': 0.0002922689802964508, 'richard': 0.0002922689802964508, 'tom': 0.0002793156605162626, 'superman': 0.0002673166048026439, 'features': 0.000265165011129758, 'had': 0.0002623069468973159, 'company': 0.00025690342640828537, 'hepburn': 0.00025690342640828537, 'multiple': 0.00025690342640828537, 'atlantic': 0.00025690342640828537, 'states': 0.00025273141852203947}, 'NOT ENOUGH INFO': {'the': 0.0016231430167997283, 'with': 0.0015058213733736008, 'stars': 0.0013190193944416513, 'for': 0.0010223257388332293, 'in': 0.0007195213816623127, 'worked': 0.0007028970511614688, 'starred': 0.000691022660945486, 'love': 0.0005442036995413614, 'american': 0.00044946563787102664, 'evans': 0.0004261598297938519, 'drama': 0.0004218730790408551, 'james': 0.00042141636179119496, 'written': 0.0003974624544700514, 'directed': 0.0003974624544700514, 'doctor': 0.00036860537339027403, 'center': 0.0003265222197248168, 'ferrell': 0.0003265222197248168, 'mandolin': 0.0003265222197248168, 'douglas': 0.0003182265571795127, 'and': 0.0003122514795779816, 'director': 0.00027733456440717894, 'its': 0.00027215249979084847, 'filmed': 0.0002721018497706807, 'protagonist': 0.0002721018497706807, 'german': 0.0002721018497706807, 'kirk': 0.0002721018497706807, 'catholic': 0.0002721018497706807, 'roosevelt': 0.0002721018497706807, 'has': 0.0002694868910542188, 'moore': 0.000264464780180832, '2009': 0.000264464780180832, 'lost': 0.000264464780180832, 'that': 0.00025558143470830733, 'part': 0.00022473281893551332, 'singer': 0.00022297611202741897, 'created': 0.00021772199983267877, 'chris': 0.00021772199983267877, 'her': 0.00021772199983267877, 'single': 0.00021772199983267877, 'aaron': 0.00021768147981654455, 'political': 0.00021768147981654455, 'reviewed': 0.00021768147981654455, 'sue': 0.00021768147981654455, 'criticized': 0.00021768147981654455, 'strange': 0.00021768147981654455, 'finished': 0.00021768147981654455, 'mcadams': 0.00021768147981654455, 'japan': 0.00021768147981654455, 'network': 0.00021768147981654455, 'hisense': 0.00021768147981654455}, 'REFUTES': {'not': 0.004052109313911515, 'only': 0.0033080988060226585, 'is': 0.0023721037460285354, 'does': 0.0009856206289849108, 'incapable': 0.0009351021493641956, 'solely': 0.0008624180503617971, 'by': 0.000805776430798953, 'died': 0.0007669511884319268, 'being': 0.0007443825566710869, 'avoided': 0.0007392154717386832, 'ever': 0.0006948976123873521, '2000': 0.0006771580321946983, 'entire': 0.0006160128931155693, 'be': 0.0005690781133917829, 'born': 0.0005090486533598655, 'country': 0.0005044617725619931, 'has': 0.0004819323752911275, 'acting': 0.0004741497994029085, 'did': 0.000460170713059156, 'never': 0.000460170713059156, 'emily': 0.00045833588384096665, 'a': 0.00044488855358588145, 'his': 0.0004426249705423559, 'iceland': 0.00043292208279245277, \"n't\": 0.00043292208279245277, 'mel': 0.00043292208279245277, 'zero': 0.00043292208279245277, 'april': 0.00041882198299005973, 'anything': 0.00038398983459225023, 'high': 0.00038398983459225023, 'xbox': 0.00038398983459225023, 'harry': 0.0003834755942159634, 'december': 0.0003696077358693416, '1992': 0.0003696077358693416, 'entirely': 0.0003696077358693416, 'painting': 0.0003696077358693416, 'kudrow': 0.0003696077358693416, 'whole': 0.0003696077358693416, 'brooks': 0.0003696077358693416, 'squid': 0.0003696077358693416, 'failed': 0.0003696077358693416, 'satan': 0.0003696077358693416, 'refused': 0.0003696077358693416, 'michael': 0.00034642999207698966, 'yet': 0.0003426182082295937, 'exclusively': 0.0003426182082295937, 'you': 0.0003426182082295937, 'car': 0.0003426182082295937, 'to': 0.0003365976182433241, 'written': 0.00033269774958367987}} \n",
      "\n",
      "2-gram LMI:  {'SUPPORTS': {'is_an': 0.002059008630630682, 'a_person': 0.001719620373676961, 'is_a': 0.001669738667958271, 'was_a': 0.0010255118445089504, 'a_film': 0.0007422891519647115, 'was_in': 0.0007334649058591226, 'an_actor': 0.0007121366623234935, 'an_album': 0.0005776349304006416, 'in_the': 0.000528591281251571, 'of_the': 0.0005178730766061793, 'one_of': 0.0005071525334778164, 'located_in': 0.0005071525334778164, 'a_performer': 0.0005026385746290075, 'there_is': 0.0005026385746290075, 'an_actress': 0.0004369557603893641, 'a_place': 0.0004308330639677207, 'an_athlete': 0.0004308330639677207, 'least_one': 0.0004306484522960085, 'was_born': 0.0004291137578244826, 'united_states': 0.0003800877674387613, 'on_a': 0.00037823106550068574, 'and_the': 0.0003671486641263625, 'robert_duvall': 0.0003595989235669544, 'the_atlantic': 0.0003590275533064339, 'the_united': 0.00030146667916435487, 'an_award': 0.00029789310442438383, 'released_an': 0.00029789310442438383, 'was_nominated': 0.00029789310442438383, 'person_who': 0.00029789310442438383, 'is_one': 0.0002888174652003208, 'a_musician': 0.0002888174652003208, 'aishwarya_rai': 0.0002888174652003208, 'in_movies': 0.0002872220426451472, 'jack_nicholson': 0.0002872220426451472, 'nicholson_has': 0.0002872220426451472, 'duvall_is': 0.0002872220426451472, 'a_group': 0.0002872220426451472, 'the_same': 0.0002872220426451472, 'cast_of': 0.0002872220426451472, 'featured_in': 0.0002872220426451472, 'plays_music': 0.0002872220426451472, 'same_name': 0.0002872220426451472, 'was_married': 0.0002872220426451472, 'was_involved': 0.0002872220426451472, 'the_world': 0.00026535434806225245, 'is_located': 0.000258962059980101, 'acted_in': 0.00024346471456468722, 'won_the': 0.00022964076555189459, 'has_a': 0.00022964076555189459, 'katharine_hepburn': 0.0002294556815330155}, 'NOT ENOUGH INFO': {'with_a': 0.0005390058961308886, 'by_a': 0.0005361677383802705, 'starred_in': 0.00043418788056229533, 'in_a': 0.0004221702390320444, 'worked_with': 0.0004177031068249847, 'an_american': 0.0004054317289403951, 'stars_a': 0.0003712001128658328, 'will_ferrell': 0.0003712001128658328, 'chris_evans': 0.0003712001128658328, 'a_canadian': 0.000309333427388194, 'worked_for': 0.000309333427388194, 'kirk_douglas': 0.000309333427388194, 'has_worked': 0.0002999659724650665, 'for_his': 0.0002999659724650665, 'played_a': 0.0002975768878408267, 'of_the': 0.0002814881951286175, 'is_the': 0.0002738275880937052, 'has_written': 0.00024746674191055524, 'filmed_in': 0.00024746674191055524, 'features_a': 0.00024746674191055524, 'doctor_strange': 0.00024746674191055524, 'demi_moore': 0.00024746674191055524, 'rachel_mcadams': 0.00024746674191055524, 'music_for': 0.00024746674191055524, 'performed_with': 0.00024746674191055524, 'created_a': 0.00024746674191055524, 'keith_urban': 0.00024746674191055524, 'geraldine_chaplin': 0.00024746674191055524, 'the_only': 0.00024746674191055524, 'theodore_roosevelt': 0.00024746674191055524, 'acting_in': 0.00024746674191055524, 'bette_davis': 0.00024746674191055524, 'american_film': 0.00024746674191055524, 'is_from': 0.0002451090179503993, 'of_a': 0.00024094421486768985, 'as_an': 0.00023912333928208094, 'film_directed': 0.00023912333928208094, 'a_singer': 0.00023912333928208094, 'stars_in': 0.00023912333928208094, 'the_matrix': 0.00023912333928208094, 'a_director': 0.000238260153322496, 'part_of': 0.00023301897836280354, 'for_the': 0.00020998828803103206, 'released_in': 0.00020271586447019756, 'aaron_sorkin': 0.0001856000564329164, 'sorkin_has': 0.0001856000564329164, 'written_for': 0.0001856000564329164, 'for_doctor': 0.0001856000564329164, 'was_filmed': 0.0001856000564329164, 'was_famous': 0.0001856000564329164}, 'REFUTES': {'is_not': 0.0020437963207141146, 'not_a': 0.0017009758579079532, 'is_a': 0.0015273830347806634, 'only_a': 0.0014189941612376717, 'is_only': 0.0012767905680224807, 'incapable_of': 0.0010773806287074754, 'was_only': 0.0010623537628737208, 'does_not': 0.0009930593306841516, 'of_being': 0.0009210692083511526, 'to_be': 0.0007476121585816746, 'solely_by': 0.0007093280933458226, 'is_incapable': 0.0006638253626119538, 'did_not': 0.0006638253626119538, 'died_in': 0.0006638253626119538, 'only_ever': 0.0006391180052397094, 'on_april': 0.0006391180052397094, 'was_not': 0.0005674624746766581, 'has_not': 0.0005674624746766581, 'the_xbox': 0.0005674624746766581, 'by_harry': 0.0005674624746766581, 'was_born': 0.0005560655266920534, 'be_a': 0.000498718312226193, 'a_car': 0.000498718312226193, 'film_is': 0.0004829777140705149, 'a_country': 0.0004829777140705149, 'acting_entirely': 0.00042559685600749355, 'a_painting': 0.00042559685600749355, 'lisa_kudrow': 0.00042559685600749355, 'kudrow_was': 0.00042559685600749355, 'only_an': 0.00042559685600749355, 'made_by': 0.00042559685600749355, 'his_whole': 0.00042559685600749355, 'whole_life': 0.00042559685600749355, 'a_squid': 0.00042559685600749355, 'being_an': 0.00042559685600749355, 'has_avoided': 0.00042559685600749355, 'in_2000': 0.00042559685600749355, 'written_solely': 0.00042559685600749355, 'failed_to': 0.00042559685600749355, 'was_incapable': 0.00042559685600749355, 'refused_to': 0.00042559685600749355, 'live_in': 0.00042559685600749355, 'was_written': 0.00039794544352528, 'yet_to': 0.00039506081480745824, 'an_acting': 0.00035912687623582514, 'has_only': 0.0003075687543979763, 'born_on': 0.00028626421138798616, 'being_a': 0.00028373123733832907, 'is_anything': 0.00028373123733832907, 'anything_but': 0.00028373123733832907}} \n",
      "\n",
      "------ Top N-grams for sentence 2 ------\n"
     ]
    },
    {
     "name": "stdout",
     "output_type": "stream",
     "text": [
      "1-gram LMI:  {'SUPPORTS': {'the': 0.0009211924923548207, 'and': 0.0005781972950453232, 'world': 0.00041554233858412474, 'as': 0.00041146774091682057, 'at': 0.00039270888010437173, 'award': 0.00032265423893179976, 'playing': 0.0002622765361717602, 'film': 0.0002428493773706249, 'million': 0.00020507862941581556, 'globe': 0.00020322464841687456, 'november': 0.00019845444682935735, 'performance': 0.00018978112975060187, 'to': 0.00018596471067832613, 'also': 0.00018183511614641815, 'state': 0.0001770759408983469, 'no': 0.00017476283690868877, 'over': 0.00016475830970595574, 'golden': 0.00016475830970595574, 'won': 0.00016015750360703606, 'tennis': 0.00015866958258743485, 'titled': 0.0001579374273942727, 'air': 0.00015721345178101767, 'georgia': 0.00015713122538999722, 'war': 0.00015541159409138, 'london': 0.00015506667601106907, 'he': 0.00015379104034938363, 'best': 0.0001439276215445653, 'time': 0.00014330042320772048, 'career': 0.00014131804633712772, 'social': 0.00013978922185338289, 'artists': 0.00013968076385742633, 'animated': 0.00013908721511817634, 'west': 0.00013908721511817634, 'this': 0.00012847035505848172, 'drama': 0.00012714473404647588, 'part': 0.00012491839360794416, 'while': 0.00012491839360794416, 'of': 0.00012457942694644973, 'teacher': 0.00012340967534578266, 'all': 0.00012258261312431378, 'flash': 0.00012217056824507825, 'spanned': 0.00012217056824507825, 'states': 0.0001220824216720883, 'new': 0.00011248561992305147, 'screen': 0.00011100828149384285, 'from': 0.0001102469381893754, 'successful': 0.00010764165863168039, 'system': 0.00010682148093803606, 'well': 0.00010671258280240835, 'née': 0.00010577972172495656}, 'NOT ENOUGH INFO': {'t': 0.0012582428801066637, 'her': 0.00035941081286064723, 'a': 0.0003461842084947993, 'as': 0.00032363733252528584, 'series': 0.0003187276676540366, 'season': 0.00026647882315864206, 'in': 0.0002650526563537122, 'or': 0.0002556579776649245, 'known': 0.0002251341711244851, 'both': 0.0002192375541502543, 'stars': 0.00021882424084112732, '2011': 0.00019124627171112954, 'first': 0.0001776469152833774, '21': 0.00017664629714467774, 'an': 0.00016522121249179286, 'his': 0.00016080835557264844, '2013': 0.00015891270081260195, 'prize': 0.00015682582385930017, 'nobel': 0.00015628711550187384, 'economic': 0.00015611225548293908, 'singer': 0.00015483350474064316, 'studio': 0.00015194121900023288, 'march': 0.00015194121900023288, 'august': 0.00015018357553459085, 'english': 0.00014848000354303722, 'june': 0.00014754821125295337, 'established': 0.0001455275019256703, 'steve': 0.0001402985599432937, '_': 0.0001402985599432937, 'hbo': 0.00013978793296274482, 'earning': 0.00013886288557423912, 'second': 0.00013689228435751093, '1995': 0.00013486633702869974, 'robert': 0.00013466481776811567, 'television': 0.0001335251904012182, 'is': 0.0001316681475506849, 'chris': 0.00012919338062267804, 'public': 0.00012674877246558264, 'spanish': 0.00012674877246558264, 'emmy': 0.00012674877246558264, 'comedy': 0.0001264283666296205, '6': 0.00012503861512043785, 'range': 0.00012283414782997406, 'within': 0.00012283414782997406, 'magazine': 0.00012283414782997406, 'ellen': 0.00012276123995038198, 'prix': 0.00012276123995038198, 'sixth': 0.00012276123995038198, 'dj': 0.00012276123995038198, 'collaboration': 0.00012276123995038198}, 'REFUTES': {'including': 0.0002949786310490191, 'was': 0.00024284291210840384, '2005': 0.00023970730190293524, 'show': 0.00023229017254283005, 'american': 0.00022176014870553982, 'by': 0.00022047109257857748, 'thiokol': 0.00022001829728049668, 'studios': 0.00021412433178154378, 'analyze': 0.00021373091960111957, 'neighbors': 0.00021373091960111957, '2': 0.00021280140002908227, 'records': 0.0002114823693269751, 'its': 0.00019652385050177932, 'on': 0.0001950580187026589, '2001': 0.00019176584152234822, '2002': 0.0001907887431941739, 'band': 0.00018962911996008372, 'written': 0.00018962911996008372, '1993': 0.000186032669785467, 'developed': 0.0001859281050465521, 'making': 0.00018427028657673638, 'playstation': 0.00017916551850152035, 'map': 0.00017810909966759967, 'most': 0.00017521377459732155, 'other': 0.00017286078623102367, 'february': 0.00017136358343736567, 'their': 0.00017136358343736567, 'people': 0.0001708350891066824, '1998': 0.0001708350891066824, 'are': 0.00016855921774229662, '8': 0.00016789035494116245, 'atk': 0.00016501372296037252, '13': 0.0001648748176688124, 'grammy': 0.0001648748176688124, 'some': 0.0001648748176688124, 'with': 0.00016464820286884007, 'directed': 0.0001611998211561459, 'awards': 0.0001611998211561459, 'theaters': 0.00015985394249016063, 'sequel': 0.00015950618807663243, 'composer': 0.00015235451047370015, 'km2': 0.00015235451047370015, 'team': 0.00014300740633753662, 'company': 0.00014251852113288774, 'football': 0.00014251852113288774, 'wonderland': 0.0001424872797340797, 'existence': 0.0001424872797340797, 'creator': 0.0001424872797340797, 'armstrong': 0.0001424872797340797, 'coffee': 0.0001424872797340797}} \n",
      "\n",
      "2-gram LMI:  {'SUPPORTS': {'of_the': 0.00033918916597616233, 'the_world': 0.00028292402100100637, 'as_the': 0.00025094386291414487, 'for_best': 0.00023667280731539536, 'is_the': 0.0001975369303516343, 'to_the': 0.00019371138823292712, 'golden_globe': 0.00017961633020767483, 'by_a': 0.00017239803514624628, 'the_republic': 0.00016422664157933413, 'all_time': 0.0001553482682542676, 'which_she': 0.0001464133091917276, 'part_of': 0.00014461400567699964, 'the_best': 0.00013558345907412175, 'roles_in': 0.0001349929670880076, 'of_all': 0.0001315450632096964, 'he_won': 0.0001306080405086265, 'as_well': 0.00012987212039627222, 'well_as': 0.00012987212039627222, 'artists_of': 0.0001283291210255358, 'was_followed': 0.0001283291210255358, 'performance_by': 0.00012738214984702693, 'was_the': 0.0001219415636618044, 'and_the': 0.00011583992758301722, 'it_is': 0.00011425359427533503, 'followed_by': 0.00011325375084225116, 'in_several': 0.00011325375084225116, 'the_drama': 0.00011107329271503892, 'screen_actors': 0.00011107329271503892, 'actors_guild': 0.00011107329271503892, 'best_animated': 0.00010999638945045926, 'animated_feature': 0.00010999638945045926, 'air_force': 0.00010999638945045926, 'a_sovereign': 0.00010999638945045926, 'november_2016': 0.00010999638945045926, 'guild_awards': 0.00010886268729640532, 'globe_awards': 0.00010886268729640532, 'playing_the': 0.00010886268729640532, 'and_starring': 0.00010848711900204786, 'has_won': 9.607059848045894e-05, 'went_on': 9.607059848045894e-05, 'in_addition': 9.360502170846419e-05, 'and_was': 9.353466887835811e-05, 'the_2009': 9.169207585473498e-05, 'with_over': 9.166365787538272e-05, 'sequel_to': 9.166365787538272e-05, 'of_critically': 9.166365787538272e-05, 'lauded_performances': 9.166365787538272e-05, 'in_commercially': 9.166365787538272e-05, 'successful_films': 9.166365787538272e-05, 'the_wwe': 9.166365787538272e-05}, 'NOT ENOUGH INFO': {'t_it': 0.00021896567530232686, 'is_an': 0.0002010662719722288, 'season_of': 0.0002007185356937996, 't_he': 0.0002007185356937996, 't_the': 0.00019896208298955355, 'television_series': 0.00016126475708475865, 'created_by': 0.000154064388756028, 'studio_album': 0.0001464135508421428, 'with_the': 0.00013505574418001343, 'the_second': 0.0001335379036566694, '2010_and': 0.00013191983047198367, 'grand_prix': 0.00012772997725969066, 't_she': 0.00012772997725969066, 'range_of': 0.00012635356093488036, 'the_fifth': 0.00012635356093488036, 'by_the': 0.00011435057710146848, 'with_his': 0.00011030296501609517, 'film_for': 0.00010948283765116343, 'roles_as': 0.00010948283765116343, 'mixed_reviews': 0.00010948283765116343, 'the_nobel': 0.00010948283765116343, 'film_t': 0.00010948283765116343, '1995_and': 0.00010948283765116343, 'of_glory': 0.00010948283765116343, 'second_season': 0.00010826354353056019, 'born_may': 0.00010826354353056019, 'known_as': 0.00010672720529470392, 'american_actress': 0.00010412326631090127, 'american_film': 9.530027078151518e-05, 'an_english': 9.378871477550353e-05, 'for_his': 9.148046168117479e-05, 'and_his': 9.130448269987588e-05, 'song_was': 9.123569804263619e-05, 'wiig_and': 9.123569804263619e-05, 'union_and': 9.123569804263619e-05, 'half_of': 9.123569804263619e-05, 'beverly_hills': 9.123569804263619e-05, 'on_hbo': 9.123569804263619e-05, 'years_and': 9.123569804263619e-05, 'for_outstanding': 9.123569804263619e-05, 'the_top': 9.123569804263619e-05, 'march_2013': 9.123569804263619e-05, 'canadian_actor': 9.123569804263619e-05, 'renewed_for': 9.123569804263619e-05, 'a_leading': 9.109293208888986e-05, 'actor_producer': 9.109293208888986e-05, 'and_director': 9.109293208888986e-05, 'a_range': 9.022082463569911e-05, 'songwriter_and': 9.022082463569911e-05, 'american_television': 9.022082463569911e-05}, 'REFUTES': {'its_sequel': 0.0002590655559731279, 'released_on': 0.00021027443402543672, 'the_grammy': 0.00019332144748765106, 'film_directed': 0.00019209964959922713, 'making_it': 0.00018623470800020482, 'it_the': 0.00018623470800020482, 'more_than': 0.00018525845610897144, 'was_released': 0.0001698086376386639, 'artist_of': 0.0001661667580924949, 'and_a': 0.00016389555424721768, 'from_the': 0.00015917720978684695, 'on_a': 0.00015835163933941264, 'developed_by': 0.00015835163933941264, 'and_its': 0.00015212778207265184, 'written_by': 0.00015130084397265643, 'of_over': 0.00014812149042709208, 'the_existence': 0.00014812149042709208, 'existence_of': 0.00014812149042709208, 'that_show': 0.00014812149042709208, 'indian_tamil': 0.00014812149042709208, 'touch_the': 0.00014812149042709208, 'and_ceo': 0.00014812149042709208, 'ceo_of': 0.00014812149042709208, 'awards_including': 0.00014810653405851395, 'music_awards': 0.0001362104850588005, 'born_april': 0.0001362104850588005, 'an_american': 0.00013346690928134106, 'any_other': 0.00012953277798656394, 'the_ball': 0.00012953277798656394, 'of_england': 0.00012953277798656394, 'april_9': 0.00012953277798656394, 'jones_and': 0.00012953277798656394, 'vocalist_and': 0.00012953277798656394, 'drama_film': 0.00012735647822899792, 'and_he': 0.00012556771725338173, '2016_and': 0.00012556771725338173, 'has_also': 0.00012029651618553533, 'directed_by': 0.00012016639281412808, 'was_an': 0.0001184744705102958, 'at_the': 0.0001184744705102958, 'and_earned': 0.00011434469403346778, 'than_any': 0.00011434469403346778, 'the_1980s': 0.00011434469403346778, 'including_a': 0.00011434469403346778, 'high_school': 0.00011297459450814031, 'on_september': 0.00011297459450814031, 'deaf_people': 0.00011109111782031906, 'removed_from': 0.00011109111782031906, 'being_the': 0.00011109111782031906, 'km2_making': 0.00011109111782031906}} \n",
      "\n",
      "n_features: 604\n"
     ]
    }
   ],
   "source": [
    "classifier.fit(docs_train, labels_train)\n",
    "classifier.save(SAVED_MODEL_PATH)"
   ]
  },
  {
   "cell_type": "code",
   "execution_count": 13,
   "metadata": {},
   "outputs": [
    {
     "data": {
      "text/plain": [
       "[{'SUPPORTS': 0.46302873070427597,\n",
       "  'REFUTES': 0.07559391671207723,\n",
       "  'NOT ENOUGH INFO': 0.46137735258364687},\n",
       " {'SUPPORTS': 0.41902837885038285,\n",
       "  'REFUTES': 0.16724135788396502,\n",
       "  'NOT ENOUGH INFO': 0.4137302632656521}]"
      ]
     },
     "execution_count": 13,
     "metadata": {},
     "output_type": "execute_result"
    }
   ],
   "source": [
    "# Inferential Examples\n",
    "x = [['Roman Atwood is a content creator .',\n",
    "  'He is best known for his vlogs , where he posts updates about his life on a daily basis .'],\n",
    " ['Roman Atwood is a content creator .',\n",
    "  \"He also has another YouTube channel called `` RomanAtwood '' , where he posts pranks .\"]] \n",
    "classifier.inference(x)"
   ]
  },
  {
   "cell_type": "markdown",
   "metadata": {},
   "source": [
    "## Evaluation"
   ]
  },
  {
   "cell_type": "code",
   "execution_count": 14,
   "metadata": {},
   "outputs": [
    {
     "name": "stdout",
     "output_type": "stream",
     "text": [
      "Accuracy on train set: 0.583\n"
     ]
    }
   ],
   "source": [
    "y_preds = classifier.predict(docs_test)\n",
    "print(\"Accuracy on train set: %.3f\"% accuracy_score(labels_test, y_preds))"
   ]
  },
  {
   "cell_type": "code",
   "execution_count": 15,
   "metadata": {},
   "outputs": [
    {
     "name": "stdout",
     "output_type": "stream",
     "text": [
      "Accuracy on train set: 0.583\n"
     ]
    }
   ],
   "source": [
    "# validate load process of the classifier\n",
    "test_classifier = Classifier(\n",
    "    possible_labels=POSSIBLE_LABELS,\n",
    "    feature_extractors=feature_extractors,\n",
    "    config=config\n",
    ")\n",
    "test_classifier.load(SAVED_MODEL_PATH)\n",
    "\n",
    "y_preds = classifier.predict(docs_test)\n",
    "print(\"Accuracy on train set: %.3f\"% accuracy_score(labels_test, y_preds))"
   ]
  },
  {
   "cell_type": "markdown",
   "metadata": {},
   "source": [
    "### On original test set"
   ]
  },
  {
   "cell_type": "code",
   "execution_count": 16,
   "metadata": {},
   "outputs": [
    {
     "name": "stdout",
     "output_type": "stream",
     "text": [
      "# samples:  100\n"
     ]
    }
   ],
   "source": [
    "eval_docs, eval_labels = read_data(DEV_DATA_FILE)"
   ]
  },
  {
   "cell_type": "code",
   "execution_count": 17,
   "metadata": {},
   "outputs": [
    {
     "name": "stdout",
     "output_type": "stream",
     "text": [
      "Accuracy on original test set: 0.430\n"
     ]
    }
   ],
   "source": [
    "y_preds = classifier.predict(eval_docs)\n",
    "print(\"Accuracy on original test set: %.3f\"% accuracy_score(eval_labels, y_preds))"
   ]
  },
  {
   "cell_type": "markdown",
   "metadata": {},
   "source": [
    "### On symmetric (challenge) test set"
   ]
  },
  {
   "cell_type": "code",
   "execution_count": 18,
   "metadata": {},
   "outputs": [
    {
     "name": "stdout",
     "output_type": "stream",
     "text": [
      "# samples:  717\n"
     ]
    }
   ],
   "source": [
    "eval_docs, eval_labels = read_data(TEST_DATA_FILE, sent2_key=\"evidence_sentence\", label_key=\"label\")"
   ]
  },
  {
   "cell_type": "code",
   "execution_count": 19,
   "metadata": {},
   "outputs": [
    {
     "name": "stdout",
     "output_type": "stream",
     "text": [
      "Accuracy on challenge test set: 0.312\n"
     ]
    }
   ],
   "source": [
    "y_preds = classifier.predict(eval_docs)\n",
    "print(\"Accuracy on challenge test set: %.3f\"% accuracy_score(eval_labels, y_preds))"
   ]
  },
  {
   "cell_type": "markdown",
   "metadata": {},
   "source": [
    "## Write predicted probability to the training set"
   ]
  },
  {
   "cell_type": "code",
   "execution_count": 20,
   "metadata": {},
   "outputs": [],
   "source": [
    "def get_weight(prob_score_bias_class: float, ground_truth_label: str, bias_label: str = BIAS_CLASS) -> float:\n",
    "    if ground_truth_label == bias_label:\n",
    "        return 1/prob_score_bias_class\n",
    "    return 1/(1-prob_score_bias_class)"
   ]
  },
  {
   "cell_type": "code",
   "execution_count": 21,
   "metadata": {},
   "outputs": [],
   "source": [
    "# test cases\n",
    "def test_bias_label():\n",
    "    weight = get_weight(0.2, \"A\", bias_label=\"A\")\n",
    "    np.testing.assert_almost_equal(1/0.2, weight, 5)\n",
    "    \n",
    "def test_not_bias_label():\n",
    "    weight = get_weight(0.2, \"B\", bias_label=\"A\")\n",
    "    np.testing.assert_almost_equal(1/0.8, weight, 5)\n",
    "    \n",
    "test_bias_label()\n",
    "test_not_bias_label()"
   ]
  },
  {
   "cell_type": "code",
   "execution_count": 22,
   "metadata": {},
   "outputs": [],
   "source": [
    "f_output = open(OUTPUT_TRAIN_DATA_FILE, 'w')"
   ]
  },
  {
   "cell_type": "code",
   "execution_count": 23,
   "metadata": {},
   "outputs": [],
   "source": [
    "N_SAMPLE = 0\n",
    "\n",
    "with open(TRAIN_DATA_FILE, 'r') as fh:\n",
    "    line = fh.readline()\n",
    "    while line:\n",
    "        datapoint = json.loads(line)\n",
    "        x = [[datapoint[DOC1_KEY], datapoint[DOC2_KEY]]]\n",
    "        \n",
    "        probs = classifier.inference(x)[0]\n",
    "        prob = probs[BIAS_CLASS]\n",
    "        weight = get_weight(\n",
    "            prob_score_bias_class=prob,\n",
    "            ground_truth_label=datapoint[LABEL_KEY],\n",
    "            bias_label=BIAS_CLASS\n",
    "        )\n",
    "        if datapoint.get(\"weight\", None) != None:\n",
    "            del datapoint[\"weight\"] # only for fever\n",
    "        f_output.write(\"%s\\n\"%json.dumps({\n",
    "            **datapoint,\n",
    "            WEIGHT_KEY: weight,\n",
    "            \"bias_probs\": inference_prob_to_index(probs),\n",
    "            \"bias_prob\": prob\n",
    "        }))\n",
    "\n",
    "        N_SAMPLE += 1\n",
    "        if MAX_TEST_SAMPLE != -1 and N_SAMPLE == MAX_TEST_SAMPLE:\n",
    "            break\n",
    "        line = fh.readline()\n",
    "        \n",
    "f_output.close()"
   ]
  },
  {
   "cell_type": "code",
   "execution_count": null,
   "metadata": {},
   "outputs": [],
   "source": []
  }
 ],
 "metadata": {
  "kernelspec": {
   "display_name": "Python 3",
   "language": "python",
   "name": "python3"
  },
  "language_info": {
   "codemirror_mode": {
    "name": "ipython",
    "version": 3
   },
   "file_extension": ".py",
   "mimetype": "text/x-python",
   "name": "python",
   "nbconvert_exporter": "python",
   "pygments_lexer": "ipython3",
   "version": "3.7.9"
  }
 },
 "nbformat": 4,
 "nbformat_minor": 4
}
