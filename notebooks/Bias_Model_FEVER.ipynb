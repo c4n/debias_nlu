{
 "cells": [
  {
   "cell_type": "markdown",
   "metadata": {},
   "source": [
    "# Bias Model for FEVER"
   ]
  },
  {
   "cell_type": "code",
   "execution_count": 1,
   "metadata": {},
   "outputs": [],
   "source": [
    "import json\n",
    "from random import random\n",
    "import os\n",
    "from typing import Dict, List\n",
    "\n",
    "import numpy as np\n",
    "import pandas as pd\n",
    "from sklearn.metrics import accuracy_score\n",
    "from sklearn.model_selection import train_test_split\n",
    "\n",
    "import sys\n",
    "sys.path.append(\"../\")\n",
    "from my_package.models.traditional.classifier import Classifier\n",
    "from my_package.utils.handcrafted_features.counter import count_negations\n",
    "from my_package.utils.handcrafted_features.overlap import get_lexical_overlap, get_entities_overlap"
   ]
  },
  {
   "cell_type": "markdown",
   "metadata": {},
   "source": [
    "## Configurations"
   ]
  },
  {
   "cell_type": "code",
   "execution_count": 2,
   "metadata": {},
   "outputs": [],
   "source": [
    "DUMMY_PREFIX = \"\" # \"sample_\" for example and \"\" for the real one\n",
    "\n",
    "TRAIN_DATA_FILE = \"../data/fact_verification/%sfever.train.jsonl\"%DUMMY_PREFIX\n",
    "VAL_DATA_FILE = \"../data/fact_verification/%sfever.val.jsonl\"%DUMMY_PREFIX\n",
    "DEV_DATA_FILE = \"../data/fact_verification/%sfever.dev.jsonl\"%DUMMY_PREFIX\n",
    "TEST_DATA_FILE = \"../data/fact_verification/fever_symmetric_v0.1.test.jsonl\"\n",
    "\n",
    "WEIGHT_KEY = \"sample_weight\"\n",
    "OUTPUT_VAL_DATA_FILE = \"../data/fact_verification/%sweighted_fever.val.jsonl\"%DUMMY_PREFIX\n",
    "OUTPUT_TRAIN_DATA_FILE = \"../data/fact_verification/%sweighted_fever.train.jsonl\"%DUMMY_PREFIX\n",
    "SAVED_MODEL_PATH = \"../results/fever/bias_model\"\n",
    "\n",
    "DOC1_KEY = \"claim\"\n",
    "DOC2_KEY = \"evidence\"\n",
    "LABEL_KEY = \"gold_label\"\n",
    "\n",
    "POSSIBLE_LABELS = (\"SUPPORTS\", \"NOT ENOUGH INFO\", \"REFUTES\")\n",
    "BIAS_CLASS = \"REFUTES\"\n",
    "\n",
    "MAX_SAMPLE = -1 # -1 for non-maximal mode or a finite number e.g. 2000\n",
    "DROP_RATE = 0.0\n",
    "TEST_FRAC = 0.2\n",
    "\n",
    "MAX_TEST_SAMPLE = -1"
   ]
  },
  {
   "cell_type": "code",
   "execution_count": 3,
   "metadata": {},
   "outputs": [],
   "source": [
    "def inference_prob_to_index(x: List[Dict[str, float]]) -> List[float]:\n",
    "    return [\n",
    "        x[\"SUPPORTS\"],\n",
    "        x[\"NOT ENOUGH INFO\"],\n",
    "        x[\"REFUTES\"]\n",
    "    ]"
   ]
  },
  {
   "cell_type": "markdown",
   "metadata": {},
   "source": [
    "## Dataset"
   ]
  },
  {
   "cell_type": "code",
   "execution_count": 4,
   "metadata": {},
   "outputs": [],
   "source": [
    "def read_data(\n",
    "    file: str = TRAIN_DATA_FILE,\n",
    "    sent1_key: str = DOC1_KEY,\n",
    "    sent2_key: str = DOC2_KEY,\n",
    "    label_key: str = LABEL_KEY,\n",
    "    drop_rate: float = 0.0\n",
    "):\n",
    "    docs = []\n",
    "    labels = []\n",
    "\n",
    "    N_SAMPLE = 0\n",
    "\n",
    "    with open(file, 'r') as fh:\n",
    "        line = fh.readline()\n",
    "        while line:\n",
    "            if random() > drop_rate:\n",
    "                datapoint = json.loads(line)\n",
    "                docs.append([datapoint[sent1_key], datapoint[sent2_key]])\n",
    "                labels.append(datapoint[label_key])\n",
    "\n",
    "                N_SAMPLE += 1\n",
    "                if MAX_SAMPLE != -1 and N_SAMPLE == MAX_SAMPLE:\n",
    "                    break\n",
    "            line = fh.readline()\n",
    "    print(\"# samples: \", N_SAMPLE)\n",
    "    return docs, labels"
   ]
  },
  {
   "cell_type": "code",
   "execution_count": 5,
   "metadata": {},
   "outputs": [
    {
     "name": "stdout",
     "output_type": "stream",
     "text": [
      "# samples:  2400\n"
     ]
    }
   ],
   "source": [
    "docs, labels = read_data(drop_rate=DROP_RATE)"
   ]
  },
  {
   "cell_type": "code",
   "execution_count": 6,
   "metadata": {},
   "outputs": [
    {
     "data": {
      "text/plain": [
       "[['Margaret of Valois criticized memoirs .',\n",
       "  'She was famous for her beauty and sense of style , notorious for a licentious lifestyle , and also proved a competent memoirist .'],\n",
       " ['Legion is a background character in Legion .',\n",
       "  \"Hawley wanted to show Haller as an `` unreliable narrator `` , including mixing 1960s design with modern-day elements , and filming the series through the title character 's distorted view of reality .\"]]"
      ]
     },
     "execution_count": 6,
     "metadata": {},
     "output_type": "execute_result"
    }
   ],
   "source": [
    "docs[:2]"
   ]
  },
  {
   "cell_type": "code",
   "execution_count": 7,
   "metadata": {},
   "outputs": [
    {
     "data": {
      "text/plain": [
       "['NOT ENOUGH INFO', 'NOT ENOUGH INFO']"
      ]
     },
     "execution_count": 7,
     "metadata": {},
     "output_type": "execute_result"
    }
   ],
   "source": [
    "labels[:2]"
   ]
  },
  {
   "cell_type": "code",
   "execution_count": 8,
   "metadata": {},
   "outputs": [],
   "source": [
    "docs_train, docs_test, labels_train, labels_test = train_test_split(\n",
    "    docs, labels,\n",
    "    stratify=labels, test_size=TEST_FRAC,\n",
    "    random_state=42\n",
    ")"
   ]
  },
  {
   "cell_type": "markdown",
   "metadata": {},
   "source": [
    "## Bias Classifier"
   ]
  },
  {
   "cell_type": "code",
   "execution_count": 9,
   "metadata": {},
   "outputs": [],
   "source": [
    "feature_extractors = [\n",
    "    lambda s1, s2: count_negations(s1),\n",
    "    lambda s1, s2: count_negations(s2),\n",
    "    get_lexical_overlap,\n",
    "    get_entities_overlap\n",
    "]"
   ]
  },
  {
   "cell_type": "code",
   "execution_count": 10,
   "metadata": {},
   "outputs": [],
   "source": [
    "config = {\n",
    "    \"n_grams\": [1, 2],\n",
    "    \"top_ks\": [50, 50], # select by LMI\n",
    "    \"verbose\": True,\n",
    "}"
   ]
  },
  {
   "cell_type": "code",
   "execution_count": 11,
   "metadata": {},
   "outputs": [],
   "source": [
    "classifier = Classifier(\n",
    "    possible_labels=POSSIBLE_LABELS,\n",
    "    feature_extractors=feature_extractors,\n",
    "    config=config\n",
    ")"
   ]
  },
  {
   "cell_type": "markdown",
   "metadata": {},
   "source": [
    "## Training"
   ]
  },
  {
   "cell_type": "code",
   "execution_count": 12,
   "metadata": {
    "scrolled": false
   },
   "outputs": [
    {
     "name": "stdout",
     "output_type": "stream",
     "text": [
      "------ Top N-grams for sentence 1 ------\n",
      "1-gram LMI:  {'REFUTES': {'not': 0.004052109313911515, 'only': 0.0033080988060226585, 'is': 0.0023721037460285354, 'does': 0.0009856206289849108, 'incapable': 0.0009351021493641956, 'solely': 0.0008624180503617971, 'by': 0.000805776430798953, 'died': 0.0007669511884319268, 'being': 0.0007443825566710869, 'avoided': 0.0007392154717386832, 'ever': 0.0006948976123873521, '2000': 0.0006771580321946983, 'entire': 0.0006160128931155693, 'be': 0.0005690781133917829, 'born': 0.0005090486533598655, 'country': 0.0005044617725619931, 'has': 0.0004819323752911275, 'acting': 0.0004741497994029085, 'did': 0.000460170713059156, 'never': 0.000460170713059156, 'emily': 0.00045833588384096665, 'a': 0.00044488855358588145, 'his': 0.0004426249705423559, 'iceland': 0.00043292208279245277, \"n't\": 0.00043292208279245277, 'mel': 0.00043292208279245277, 'zero': 0.00043292208279245277, 'april': 0.00041882198299005973, 'anything': 0.00038398983459225023, 'high': 0.00038398983459225023, 'xbox': 0.00038398983459225023, 'harry': 0.0003834755942159634, 'december': 0.0003696077358693416, '1992': 0.0003696077358693416, 'entirely': 0.0003696077358693416, 'painting': 0.0003696077358693416, 'kudrow': 0.0003696077358693416, 'whole': 0.0003696077358693416, 'brooks': 0.0003696077358693416, 'squid': 0.0003696077358693416, 'failed': 0.0003696077358693416, 'satan': 0.0003696077358693416, 'refused': 0.0003696077358693416, 'michael': 0.00034642999207698966, 'yet': 0.0003426182082295937, 'exclusively': 0.0003426182082295937, 'you': 0.0003426182082295937, 'car': 0.0003426182082295937, 'to': 0.0003365976182433241, 'written': 0.00033269774958367987}, 'NOT ENOUGH INFO': {'the': 0.0016231430167997283, 'with': 0.0015058213733736008, 'stars': 0.0013190193944416513, 'for': 0.0010223257388332293, 'in': 0.0007195213816623127, 'worked': 0.0007028970511614688, 'starred': 0.000691022660945486, 'love': 0.0005442036995413614, 'american': 0.00044946563787102664, 'evans': 0.0004261598297938519, 'drama': 0.0004218730790408551, 'james': 0.00042141636179119496, 'written': 0.0003974624544700514, 'directed': 0.0003974624544700514, 'doctor': 0.00036860537339027403, 'center': 0.0003265222197248168, 'ferrell': 0.0003265222197248168, 'mandolin': 0.0003265222197248168, 'douglas': 0.0003182265571795127, 'and': 0.0003122514795779816, 'director': 0.00027733456440717894, 'its': 0.00027215249979084847, 'filmed': 0.0002721018497706807, 'protagonist': 0.0002721018497706807, 'german': 0.0002721018497706807, 'kirk': 0.0002721018497706807, 'catholic': 0.0002721018497706807, 'roosevelt': 0.0002721018497706807, 'has': 0.0002694868910542188, 'moore': 0.000264464780180832, '2009': 0.000264464780180832, 'lost': 0.000264464780180832, 'that': 0.00025558143470830733, 'part': 0.00022473281893551332, 'singer': 0.00022297611202741897, 'created': 0.00021772199983267877, 'chris': 0.00021772199983267877, 'her': 0.00021772199983267877, 'single': 0.00021772199983267877, 'aaron': 0.00021768147981654455, 'political': 0.00021768147981654455, 'reviewed': 0.00021768147981654455, 'sue': 0.00021768147981654455, 'criticized': 0.00021768147981654455, 'strange': 0.00021768147981654455, 'finished': 0.00021768147981654455, 'mcadams': 0.00021768147981654455, 'japan': 0.00021768147981654455, 'network': 0.00021768147981654455, 'hisense': 0.00021768147981654455}, 'SUPPORTS': {'is': 0.002163038779813946, 'an': 0.0016999043853222335, 'person': 0.00142695624124845, 'of': 0.0013563445102635363, 'the': 0.0012599035305118262, 'film': 0.000881325435050041, 'was': 0.0007728863491820543, 'place': 0.0006833153529354253, 'acts': 0.0006833153529354253, 'state': 0.0006264412671317985, 'world': 0.0005703903592827062, 'one': 0.0005455494149122634, 'actor': 0.0005450555113568687, 'character': 0.0005346332096052878, 'there': 0.0004378982416593059, 'entertainment': 0.0004348370427770889, 'album': 0.0003861043237676886, 'acted': 0.000385355139612428, 'won': 0.0003774017357034175, 'georgia': 0.0003727174652375047, '24': 0.0003727174652375047, 'performer': 0.0003721210102776486, 'involved': 0.0003721210102776486, 'matt': 0.0003721210102776486, 'plays': 0.0003370201712105341, 'located': 0.0003370201712105341, 'industry': 0.00032602064011348744, 'and': 0.0003252818499873436, 'united': 0.0003190783942325149, 'award': 0.0003150409179428896, 'ben': 0.0003106600256935199, 'movies': 0.0003106600256935199, 'duvall': 0.0003106600256935199, 'athlete': 0.0003106600256935199, 'september': 0.0003105978876979206, 'same': 0.0003105978876979206, 'r.': 0.0003105978876979206, 'kingdom': 0.0003105978876979206, 'system': 0.0003105978876979206, 'million': 0.0002922689802964508, 'richard': 0.0002922689802964508, 'tom': 0.0002793156605162626, 'superman': 0.0002673166048026439, 'features': 0.000265165011129758, 'had': 0.0002623069468973159, 'company': 0.00025690342640828537, 'hepburn': 0.00025690342640828537, 'multiple': 0.00025690342640828537, 'atlantic': 0.00025690342640828537, 'states': 0.00025273141852203947}} \n",
      "\n",
      "2-gram LMI:  {'REFUTES': {'is_not': 0.0020437963207141146, 'not_a': 0.0017009758579079532, 'is_a': 0.0015273830347806634, 'only_a': 0.0014189941612376717, 'is_only': 0.0012767905680224807, 'incapable_of': 0.0010773806287074754, 'was_only': 0.0010623537628737208, 'does_not': 0.0009930593306841516, 'of_being': 0.0009210692083511526, 'to_be': 0.0007476121585816746, 'solely_by': 0.0007093280933458226, 'is_incapable': 0.0006638253626119538, 'did_not': 0.0006638253626119538, 'died_in': 0.0006638253626119538, 'only_ever': 0.0006391180052397094, 'on_april': 0.0006391180052397094, 'was_not': 0.0005674624746766581, 'has_not': 0.0005674624746766581, 'the_xbox': 0.0005674624746766581, 'by_harry': 0.0005674624746766581, 'was_born': 0.0005560655266920534, 'be_a': 0.000498718312226193, 'a_car': 0.000498718312226193, 'film_is': 0.0004829777140705149, 'a_country': 0.0004829777140705149, 'acting_entirely': 0.00042559685600749355, 'a_painting': 0.00042559685600749355, 'lisa_kudrow': 0.00042559685600749355, 'kudrow_was': 0.00042559685600749355, 'only_an': 0.00042559685600749355, 'made_by': 0.00042559685600749355, 'his_whole': 0.00042559685600749355, 'whole_life': 0.00042559685600749355, 'a_squid': 0.00042559685600749355, 'being_an': 0.00042559685600749355, 'has_avoided': 0.00042559685600749355, 'in_2000': 0.00042559685600749355, 'written_solely': 0.00042559685600749355, 'failed_to': 0.00042559685600749355, 'was_incapable': 0.00042559685600749355, 'refused_to': 0.00042559685600749355, 'live_in': 0.00042559685600749355, 'was_written': 0.00039794544352528, 'yet_to': 0.00039506081480745824, 'an_acting': 0.00035912687623582514, 'has_only': 0.0003075687543979763, 'born_on': 0.00028626421138798616, 'being_a': 0.00028373123733832907, 'is_anything': 0.00028373123733832907, 'anything_but': 0.00028373123733832907}, 'NOT ENOUGH INFO': {'with_a': 0.0005390058961308886, 'by_a': 0.0005361677383802705, 'starred_in': 0.00043418788056229533, 'in_a': 0.0004221702390320444, 'worked_with': 0.0004177031068249847, 'an_american': 0.0004054317289403951, 'stars_a': 0.0003712001128658328, 'will_ferrell': 0.0003712001128658328, 'chris_evans': 0.0003712001128658328, 'a_canadian': 0.000309333427388194, 'worked_for': 0.000309333427388194, 'kirk_douglas': 0.000309333427388194, 'has_worked': 0.0002999659724650665, 'for_his': 0.0002999659724650665, 'played_a': 0.0002975768878408267, 'of_the': 0.0002814881951286175, 'is_the': 0.0002738275880937052, 'has_written': 0.00024746674191055524, 'filmed_in': 0.00024746674191055524, 'features_a': 0.00024746674191055524, 'doctor_strange': 0.00024746674191055524, 'demi_moore': 0.00024746674191055524, 'rachel_mcadams': 0.00024746674191055524, 'music_for': 0.00024746674191055524, 'performed_with': 0.00024746674191055524, 'created_a': 0.00024746674191055524, 'keith_urban': 0.00024746674191055524, 'geraldine_chaplin': 0.00024746674191055524, 'the_only': 0.00024746674191055524, 'theodore_roosevelt': 0.00024746674191055524, 'acting_in': 0.00024746674191055524, 'bette_davis': 0.00024746674191055524, 'american_film': 0.00024746674191055524, 'is_from': 0.0002451090179503993, 'of_a': 0.00024094421486768985, 'as_an': 0.00023912333928208094, 'film_directed': 0.00023912333928208094, 'a_singer': 0.00023912333928208094, 'stars_in': 0.00023912333928208094, 'the_matrix': 0.00023912333928208094, 'a_director': 0.000238260153322496, 'part_of': 0.00023301897836280354, 'for_the': 0.00020998828803103206, 'released_in': 0.00020271586447019756, 'aaron_sorkin': 0.0001856000564329164, 'sorkin_has': 0.0001856000564329164, 'written_for': 0.0001856000564329164, 'for_doctor': 0.0001856000564329164, 'was_filmed': 0.0001856000564329164, 'was_famous': 0.0001856000564329164}, 'SUPPORTS': {'is_an': 0.002059008630630682, 'a_person': 0.001719620373676961, 'is_a': 0.001669738667958271, 'was_a': 0.0010255118445089504, 'a_film': 0.0007422891519647115, 'was_in': 0.0007334649058591226, 'an_actor': 0.0007121366623234935, 'an_album': 0.0005776349304006416, 'in_the': 0.000528591281251571, 'of_the': 0.0005178730766061793, 'one_of': 0.0005071525334778164, 'located_in': 0.0005071525334778164, 'a_performer': 0.0005026385746290075, 'there_is': 0.0005026385746290075, 'an_actress': 0.0004369557603893641, 'a_place': 0.0004308330639677207, 'an_athlete': 0.0004308330639677207, 'least_one': 0.0004306484522960085, 'was_born': 0.0004291137578244826, 'united_states': 0.0003800877674387613, 'on_a': 0.00037823106550068574, 'and_the': 0.0003671486641263625, 'robert_duvall': 0.0003595989235669544, 'the_atlantic': 0.0003590275533064339, 'the_united': 0.00030146667916435487, 'an_award': 0.00029789310442438383, 'released_an': 0.00029789310442438383, 'was_nominated': 0.00029789310442438383, 'person_who': 0.00029789310442438383, 'is_one': 0.0002888174652003208, 'a_musician': 0.0002888174652003208, 'aishwarya_rai': 0.0002888174652003208, 'in_movies': 0.0002872220426451472, 'jack_nicholson': 0.0002872220426451472, 'nicholson_has': 0.0002872220426451472, 'duvall_is': 0.0002872220426451472, 'a_group': 0.0002872220426451472, 'the_same': 0.0002872220426451472, 'cast_of': 0.0002872220426451472, 'featured_in': 0.0002872220426451472, 'plays_music': 0.0002872220426451472, 'same_name': 0.0002872220426451472, 'was_married': 0.0002872220426451472, 'was_involved': 0.0002872220426451472, 'the_world': 0.00026535434806225245, 'is_located': 0.000258962059980101, 'acted_in': 0.00024346471456468722, 'won_the': 0.00022964076555189459, 'has_a': 0.00022964076555189459, 'katharine_hepburn': 0.0002294556815330155}} \n",
      "\n",
      "------ Top N-grams for sentence 2 ------\n"
     ]
    },
    {
     "name": "stdout",
     "output_type": "stream",
     "text": [
      "1-gram LMI:  {'REFUTES': {'including': 0.00029491745203119623, 'was': 0.0002426623628366875, '2005': 0.00023967289174014187, 'show': 0.00023225591090679704, 'american': 0.00022163134572462495, 'by': 0.00022027717326859948, 'thiokol': 0.00021999809941685163, 'studios': 0.00021410622594786945, 'analyze': 0.0002137147956497665, 'neighbors': 0.0002137147956497665, '2': 0.00021277147666103895, 'records': 0.00021145049836798955, 'its': 0.00019647056503720409, 'on': 0.0001949040883713631, '2001': 0.0001917383133921135, '2002': 0.00019075926062585898, 'band': 0.00018958979059148327, 'written': 0.00018958979059148327, '1993': 0.00018600723046533513, 'developed': 0.00018590661582892925, 'making': 0.00018425080456095676, 'playstation': 0.0001791500867164755, 'map': 0.00017809566304147206, 'most': 0.00017516881188064606, 'other': 0.0001728217926454688, 'february': 0.00017133251585027906, 'their': 0.00017133251585027906, 'people': 0.00017080995411553203, '1998': 0.00017080995411553203, 'are': 0.00016852425830354067, '8': 0.0001678692269264333, 'atk': 0.00016499857456263873, '13': 0.00016485177603539793, 'grammy': 0.00016485177603539793, 'some': 0.00016485177603539793, 'with': 0.00016452843956221212, 'directed': 0.00016115119105789902, 'awards': 0.00016115119105789902, 'theaters': 0.0001598408714204666, 'sequel': 0.00015948522795342608, 'composer': 0.00015233961557455434, 'km2': 0.00015233961557455434, 'team': 0.00014298480259533383, 'company': 0.00014250184919345526, 'football': 0.00014250184919345526, 'wonderland': 0.00014247653043317766, 'existence': 0.00014247653043317766, 'creator': 0.00014247653043317766, 'armstrong': 0.00014247653043317766, 'coffee': 0.00014247653043317766}, 'NOT ENOUGH INFO': {'t': 0.0012582473578477693, 'her': 0.0003594397055276185, 'a': 0.00034635812625087933, 'as': 0.000323731502206114, 'series': 0.0003187605829770117, 'season': 0.00026648511590333034, 'in': 0.0002653039873515297, 'or': 0.00025567411104392813, 'known': 0.00022515652970763391, 'both': 0.00021924519389122395, 'stars': 0.00021883028486717338, '2011': 0.00019125527396851992, 'first': 0.00017766821980147335, '21': 0.00017664877480041483, 'an': 0.00016528326661666194, 'his': 0.000160856864136884, '2013': 0.00015891994455709952, 'prize': 0.00015682749542307155, 'nobel': 0.0001562879958574627, 'economic': 0.00015611354033793335, 'singer': 0.00015484163216607807, 'studio': 0.00015194780035174784, 'march': 0.00015194780035174784, 'august': 0.00015018858809116617, 'english': 0.0001484862532069429, 'june': 0.00014755688556302078, 'established': 0.00014553020173215298, 'steve': 0.0001402989584712759, '_': 0.0001402989584712759, 'hbo': 0.0001397895447095353, 'earning': 0.00013886411484708387, 'second': 0.00013690117205071142, '1995': 0.00013487125531252118, 'robert': 0.00013466813609587362, 'television': 0.00013354978443656793, 'is': 0.00013179222624306317, 'chris': 0.00012919600651931272, 'public': 0.00012675104631721887, 'spanish': 0.00012675104631721887, 'emmy': 0.00012675104631721887, 'comedy': 0.00012643746386100285, '6': 0.00012504252720913812, 'range': 0.0001228356980755799, 'within': 0.0001228356980755799, 'magazine': 0.0001228356980755799, 'ellen': 0.00012276158866236642, 'prix': 0.00012276158866236642, 'sixth': 0.00012276158866236642, 'dj': 0.00012276158866236642, 'collaboration': 0.00012276158866236642}, 'SUPPORTS': {'the': 0.000921719402724915, 'and': 0.0005785269659238641, 'world': 0.00041555887928662345, 'as': 0.0004115613548021721, 'at': 0.00039273309600454945, 'award': 0.0003226854716343972, 'playing': 0.00026227890308790287, 'film': 0.00024291388698325983, 'million': 0.0002050885576761729, 'globe': 0.0002032318068178457, 'november': 0.00019846250274853445, 'performance': 0.000189786953364307, 'to': 0.00018605441926857494, 'also': 0.00018185513380291124, 'state': 0.00017708041493985632, 'no': 0.00017476374828894587, 'over': 0.00016476704038457697, 'golden': 0.00016476704038457697, 'won': 0.00016017354437755768, 'tennis': 0.00015867001423666032, 'titled': 0.00015793907669837148, 'air': 0.00015721431358687923, 'georgia': 0.00015713248984029155, 'war': 0.00015541690295563153, 'london': 0.00015507038779079423, 'he': 0.00015384249641921195, 'best': 0.00014396042822811814, 'time': 0.00014330958357688795, 'career': 0.0001413292513923724, 'social': 0.00013979043257650043, 'artists': 0.00013968157575453376, 'animated': 0.00013909084588603884, 'west': 0.00013909084588603884, 'this': 0.000128475802418623, 'drama': 0.0001271630398835744, 'part': 0.00012492351109764937, 'while': 0.00012492351109764937, 'of': 0.00012479788208709874, 'teacher': 0.00012341001107295802, 'all': 0.00012259218836412254, 'flash': 0.00012217132978302678, 'spanned': 0.00012217132978302678, 'states': 0.00012209721990036711, 'new': 0.00011249539735344057, 'screen': 0.00011101207353973681, 'from': 0.00011028162231650236, 'successful': 0.00010764511709576438, 'system': 0.00010682295083672382, 'well': 0.00010671966885184693, 'née': 0.00010578000949110687}} \n",
      "\n",
      "2-gram LMI:  {'REFUTES': {'its_sequel': 0.00025904309625798637, 'released_on': 0.00021024659120874605, 'the_grammy': 0.00019330248999540922, 'film_directed': 0.00019206365301231652, 'making_it': 0.00018621803116043077, 'it_the': 0.00018621803116043077, 'more_than': 0.0001852311342631233, 'was_released': 0.00016977950447597123, 'artist_of': 0.00016615263224569474, 'and_a': 0.00016386441116017744, 'from_the': 0.0001591440318943952, 'on_a': 0.00015833554317914756, 'developed_by': 0.00015833554317914756, 'and_its': 0.00015210754939266175, 'written_by': 0.00015126996317705433, 'of_over': 0.00014810987344984866, 'the_existence': 0.00014810987344984866, 'existence_of': 0.00014810987344984866, 'that_show': 0.00014810987344984866, 'indian_tamil': 0.00014810987344984866, 'touch_the': 0.00014810987344984866, 'and_ceo': 0.00014810987344984866, 'ceo_of': 0.00014810987344984866, 'awards_including': 0.00014808851819052613, 'music_awards': 0.0001361969830670762, 'born_april': 0.0001361969830670762, 'an_american': 0.0001333830732016142, 'any_other': 0.00012952154812899319, 'the_ball': 0.00012952154812899319, 'of_england': 0.00012952154812899319, 'april_9': 0.00012952154812899319, 'jones_and': 0.00012952154812899319, 'vocalist_and': 0.00012952154812899319, 'drama_film': 0.00012733462835697843, 'and_he': 0.00012555230383546505, '2016_and': 0.00012555230383546505, 'has_also': 0.00012027694640832934, 'directed_by': 0.0001201233620053411, 'was_an': 0.00011843574107148938, 'at_the': 0.00011843574107148938, 'and_earned': 0.00011433378047570028, 'than_any': 0.00011433378047570028, 'the_1980s': 0.00011433378047570028, 'including_a': 0.00011433378047570028, 'high_school': 0.00011296157641600682, 'on_september': 0.00011296157641600682, 'deaf_people': 0.00011108240508738652, 'removed_from': 0.00011108240508738652, 'being_the': 0.00011108240508738652, 'km2_making': 0.00011108240508738652}, 'NOT ENOUGH INFO': {'t_it': 0.00021896631971092553, 'is_an': 0.00020109981716698145, 'season_of': 0.00020071912640168174, 't_he': 0.00020071912640168174, 't_the': 0.0001989631439834393, 'television_series': 0.00016127354245649777, 'created_by': 0.00015406768588878004, 'studio_album': 0.0001464178747215137, 'with_the': 0.00013506464166121747, 'the_second': 0.0001335424956781368, '2010_and': 0.00013192228765589224, 'grand_prix': 0.00012773035316470657, 't_she': 0.00012773035316470657, 'range_of': 0.00012635439921144322, 'the_fifth': 0.00012635439921144322, 'by_the': 0.00011436120689948969, 'with_his': 0.00011030457126168079, 'film_for': 0.00010948315985546277, 'roles_as': 0.00010948315985546277, 'mixed_reviews': 0.00010948315985546277, 'the_nobel': 0.00010948315985546277, 'film_t': 0.00010948315985546277, '1995_and': 0.00010948315985546277, 'of_glory': 0.00010948315985546277, 'second_season': 0.00010826432483425427, 'born_may': 0.00010826432483425427, 'known_as': 0.00010673712643952372, 'american_actress': 0.0001041263023728173, 'american_film': 9.530218946606608e-05, 'an_english': 9.379370088769234e-05, 'for_his': 9.148896551959176e-05, 'and_his': 9.13077857196746e-05, 'song_was': 9.123596654621897e-05, 'wiig_and': 9.123596654621897e-05, 'union_and': 9.123596654621897e-05, 'half_of': 9.123596654621897e-05, 'beverly_hills': 9.123596654621897e-05, 'on_hbo': 9.123596654621897e-05, 'years_and': 9.123596654621897e-05, 'for_outstanding': 9.123596654621897e-05, 'the_top': 9.123596654621897e-05, 'march_2013': 9.123596654621897e-05, 'canadian_actor': 9.123596654621897e-05, 'renewed_for': 9.123596654621897e-05, 'a_leading': 9.109407097956053e-05, 'actor_producer': 9.109407097956053e-05, 'and_director': 9.109407097956053e-05, 'a_range': 9.022154798150822e-05, 'songwriter_and': 9.022154798150822e-05, 'american_television': 9.022154798150822e-05}, 'SUPPORTS': {'of_the': 0.00033926927728229576, 'the_world': 0.0002829311401687661, 'as_the': 0.00025096422558717254, 'for_best': 0.00023668826270715785, 'is_the': 0.00019755363447548837, 'to_the': 0.00019373120797439207, 'golden_globe': 0.00017962386598437976, 'by_a': 0.0001724013841781659, 'the_republic': 0.00016422842595698037, 'all_time': 0.00015535153864955665, 'which_she': 0.0001464150308343947, 'part_of': 0.00014461793332588513, 'the_best': 0.00013558627366800196, 'roles_in': 0.0001349975288070169, 'of_all': 0.00013154926302615382, 'he_won': 0.0001306100913042921, 'as_well': 0.00012987765617350808, 'well_as': 0.00012987765617350808, 'artists_of': 0.00012832948445306897, 'was_followed': 0.00012832948445306897, 'performance_by': 0.00012738340040964303, 'was_the': 0.0001219489994248623, 'and_the': 0.00011587438024711814, 'it_is': 0.00011426032273046989, 'followed_by': 0.0001132557293431325, 'in_several': 0.0001132557293431325, 'the_drama': 0.00011107488291814674, 'screen_actors': 0.00011107488291814674, 'actors_guild': 0.00011107488291814674, 'best_animated': 0.0001099967009597734, 'animated_feature': 0.0001099967009597734, 'air_force': 0.0001099967009597734, 'a_sovereign': 0.0001099967009597734, 'november_2016': 0.0001099967009597734, 'guild_awards': 0.00010886345612261668, 'globe_awards': 0.00010886345612261668, 'playing_the': 0.00010886345612261668, 'and_starring': 0.00010849049789140206, 'has_won': 9.607250112253205e-05, 'went_on': 9.607250112253205e-05, 'in_addition': 9.36065419905089e-05, 'and_was': 9.354312993683429e-05, 'the_2009': 9.169320226792294e-05, 'with_over': 9.166391746647782e-05, 'sequel_to': 9.166391746647782e-05, 'of_critically': 9.166391746647782e-05, 'lauded_performances': 9.166391746647782e-05, 'in_commercially': 9.166391746647782e-05, 'successful_films': 9.166391746647782e-05, 'the_wwe': 9.166391746647782e-05}} \n",
      "\n",
      "n_features: 604\n"
     ]
    }
   ],
   "source": [
    "classifier.fit(docs_train, labels_train)\n",
    "classifier.save(SAVED_MODEL_PATH)"
   ]
  },
  {
   "cell_type": "code",
   "execution_count": 13,
   "metadata": {},
   "outputs": [
    {
     "data": {
      "text/plain": [
       "[{'SUPPORTS': 0.41271204346951557,\n",
       "  'NOT ENOUGH INFO': 0.5186246285822429,\n",
       "  'REFUTES': 0.06866332794824151},\n",
       " {'SUPPORTS': 0.4184884596171883,\n",
       "  'NOT ENOUGH INFO': 0.4370285284611557,\n",
       "  'REFUTES': 0.144483011921656}]"
      ]
     },
     "execution_count": 13,
     "metadata": {},
     "output_type": "execute_result"
    }
   ],
   "source": [
    "# Inferential Examples\n",
    "x = [['Roman Atwood is a content creator .',\n",
    "  'He is best known for his vlogs , where he posts updates about his life on a daily basis .'],\n",
    " ['Roman Atwood is a content creator .',\n",
    "  \"He also has another YouTube channel called `` RomanAtwood '' , where he posts pranks .\"]] \n",
    "classifier.inference(x)"
   ]
  },
  {
   "cell_type": "markdown",
   "metadata": {},
   "source": [
    "## Evaluation"
   ]
  },
  {
   "cell_type": "code",
   "execution_count": 14,
   "metadata": {},
   "outputs": [
    {
     "name": "stdout",
     "output_type": "stream",
     "text": [
      "Accuracy on train set: 0.592\n"
     ]
    }
   ],
   "source": [
    "y_preds = classifier.predict(docs_test)\n",
    "print(\"Accuracy on train set: %.3f\"% accuracy_score(labels_test, y_preds))"
   ]
  },
  {
   "cell_type": "code",
   "execution_count": 15,
   "metadata": {},
   "outputs": [
    {
     "name": "stdout",
     "output_type": "stream",
     "text": [
      "Accuracy on train set: 0.592\n"
     ]
    }
   ],
   "source": [
    "# validate load process of the classifier\n",
    "test_classifier = Classifier(\n",
    "    possible_labels=POSSIBLE_LABELS,\n",
    "    feature_extractors=feature_extractors,\n",
    "    config=config\n",
    ")\n",
    "test_classifier.load(SAVED_MODEL_PATH)\n",
    "\n",
    "y_preds = test_classifier.predict(docs_test)\n",
    "print(\"Accuracy on train set: %.3f\"% accuracy_score(labels_test, y_preds))"
   ]
  },
  {
   "cell_type": "markdown",
   "metadata": {},
   "source": [
    "### On original test set"
   ]
  },
  {
   "cell_type": "code",
   "execution_count": 16,
   "metadata": {},
   "outputs": [
    {
     "name": "stdout",
     "output_type": "stream",
     "text": [
      "# samples:  100\n"
     ]
    }
   ],
   "source": [
    "eval_docs, eval_labels = read_data(DEV_DATA_FILE)"
   ]
  },
  {
   "cell_type": "code",
   "execution_count": 17,
   "metadata": {},
   "outputs": [
    {
     "name": "stdout",
     "output_type": "stream",
     "text": [
      "Accuracy on original test set: 0.440\n"
     ]
    }
   ],
   "source": [
    "y_preds = classifier.predict(eval_docs)\n",
    "print(\"Accuracy on original test set: %.3f\"% accuracy_score(eval_labels, y_preds))"
   ]
  },
  {
   "cell_type": "markdown",
   "metadata": {},
   "source": [
    "### On symmetric (challenge) test set"
   ]
  },
  {
   "cell_type": "code",
   "execution_count": 18,
   "metadata": {},
   "outputs": [
    {
     "name": "stdout",
     "output_type": "stream",
     "text": [
      "# samples:  717\n"
     ]
    }
   ],
   "source": [
    "eval_docs, eval_labels = read_data(TEST_DATA_FILE, sent2_key=\"evidence_sentence\", label_key=\"label\")"
   ]
  },
  {
   "cell_type": "code",
   "execution_count": 19,
   "metadata": {},
   "outputs": [
    {
     "name": "stdout",
     "output_type": "stream",
     "text": [
      "Accuracy on challenge test set: 0.308\n"
     ]
    }
   ],
   "source": [
    "y_preds = classifier.predict(eval_docs)\n",
    "print(\"Accuracy on challenge test set: %.3f\"% accuracy_score(eval_labels, y_preds))"
   ]
  },
  {
   "cell_type": "markdown",
   "metadata": {},
   "source": [
    "## Write predicted probability to the training set"
   ]
  },
  {
   "cell_type": "code",
   "execution_count": 20,
   "metadata": {},
   "outputs": [],
   "source": [
    "def get_weight(prob_score_ground_truth_class: float) -> float:\n",
    "    return 1/prob_score_ground_truth_class"
   ]
  },
  {
   "cell_type": "code",
   "execution_count": 21,
   "metadata": {},
   "outputs": [],
   "source": [
    "def write_weight_to_file(\n",
    "    DATA_FILE: str,\n",
    "    OUTPUT_DATA_FILE: str,\n",
    "    _classifier\n",
    ") -> None:\n",
    "    f_output = open(OUTPUT_DATA_FILE, 'w')\n",
    "\n",
    "    N_SAMPLE = 0\n",
    "\n",
    "    with open(DATA_FILE, 'r') as fh:\n",
    "        line = fh.readline()\n",
    "        while line:\n",
    "            datapoint = json.loads(line)\n",
    "            ground_truth_label = datapoint[LABEL_KEY]\n",
    "            x = [[datapoint[DOC1_KEY], datapoint[DOC2_KEY]]]\n",
    "\n",
    "            probs = _classifier.inference(x)[0]\n",
    "            prob = probs[ground_truth_label]\n",
    "            weight = get_weight(prob_score_ground_truth_class=prob)\n",
    "            if datapoint.get(\"weight\", None) != None:\n",
    "                del datapoint[\"weight\"] # only for fever\n",
    "            f_output.write(\"%s\\n\"%json.dumps({\n",
    "                **datapoint,\n",
    "                WEIGHT_KEY: weight,\n",
    "                \"bias_probs\": inference_prob_to_index(probs),\n",
    "                \"bias_prob\": prob\n",
    "            }))\n",
    "\n",
    "            N_SAMPLE += 1\n",
    "            if MAX_SAMPLE != -1 and N_SAMPLE == MAX_SAMPLE:\n",
    "                break\n",
    "            line = fh.readline()\n",
    "\n",
    "    f_output.close()"
   ]
  },
  {
   "cell_type": "markdown",
   "metadata": {},
   "source": [
    "### Train"
   ]
  },
  {
   "cell_type": "code",
   "execution_count": 22,
   "metadata": {},
   "outputs": [],
   "source": [
    "write_weight_to_file(\n",
    "    DATA_FILE = TRAIN_DATA_FILE,\n",
    "    OUTPUT_DATA_FILE = OUTPUT_TRAIN_DATA_FILE,\n",
    "    _classifier = classifier\n",
    ")"
   ]
  },
  {
   "cell_type": "markdown",
   "metadata": {},
   "source": [
    "### Val"
   ]
  },
  {
   "cell_type": "code",
   "execution_count": 27,
   "metadata": {},
   "outputs": [],
   "source": [
    "write_weight_to_file(\n",
    "    DATA_FILE = VAL_DATA_FILE,\n",
    "    OUTPUT_DATA_FILE = OUTPUT_VAL_DATA_FILE,\n",
    "    _classifier = classifier\n",
    ")"
   ]
  },
  {
   "cell_type": "code",
   "execution_count": null,
   "metadata": {},
   "outputs": [],
   "source": []
  }
 ],
 "metadata": {
  "kernelspec": {
   "display_name": "Python 3 (ipykernel)",
   "language": "python",
   "name": "python3"
  },
  "language_info": {
   "codemirror_mode": {
    "name": "ipython",
    "version": 3
   },
   "file_extension": ".py",
   "mimetype": "text/x-python",
   "name": "python",
   "nbconvert_exporter": "python",
   "pygments_lexer": "ipython3",
   "version": "3.8.9"
  }
 },
 "nbformat": 4,
 "nbformat_minor": 4
}
