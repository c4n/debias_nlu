{
 "cells": [
  {
   "cell_type": "markdown",
   "metadata": {},
   "source": [
    "## Causal Inference"
   ]
  },
  {
   "cell_type": "code",
   "execution_count": 1,
   "metadata": {},
   "outputs": [
    {
     "name": "stderr",
     "output_type": "stream",
     "text": [
      "2022-02-02 23:52:17.083020: I tensorflow/stream_executor/platform/default/dso_loader.cc:49] Successfully opened dynamic library libcudart.so.11.0\n"
     ]
    }
   ],
   "source": [
    "import os\n",
    "import json\n",
    "from typing import Dict, List, Union\n",
    "\n",
    "import pandas as pd\n",
    "import numpy as np\n",
    "from scipy.special import softmax\n",
    "from scipy.special import expit\n",
    "import torch\n",
    "\n",
    "from cma import report_CMA\n",
    "import fuse, causal_utils\n",
    "from kl_general import DEFAULT_CONFIG as ESTIMATE_C_DEFAULT_CONFIG\n",
    "from kl_general import TE_CONFIG as ESTIMATE_C_TE_CONFIG\n",
    "\n",
    "\n",
    "import sys\n",
    "sys.path.append(\"../\")\n",
    "from my_package.models.traditional.classifier import Classifier\n",
    "from my_package.utils.handcrafted_features.counter import count_negations\n",
    "from my_package.utils.handcrafted_features.overlap import get_lexical_overlap, get_entities_overlap"
   ]
  },
  {
   "cell_type": "markdown",
   "metadata": {},
   "source": [
    "## Configs"
   ]
  },
  {
   "cell_type": "code",
   "execution_count": 1,
   "metadata": {},
   "outputs": [],
   "source": [
    "DATASET = \"qqp\" # fever or qqp\n",
    "IS_CORRECTION = False\n",
    "\n",
    "IS_GENERATE_NEW_BIAS_PRED = False\n",
    "\n",
    "_MODEL_PATH = {\n",
    "#     \"fever\": \"../results/fever/baseline_lr2e5/outputs_fever_bert_base_1\", \n",
    "#     \"fever\": \"../results/fever/baseline_lr2e5/outputs_fever_weighted_bert_1\", \n",
    "#     \"fever\": \"../results/fever/baseline_lr2e5/outputs_fever_poe_bert_1\", \n",
    "#     \"fever\": \"../results/fever/baseline_lr2e5/outputs_fever_self_distill_bert_1\", \n",
    "    \n",
    "#     \"qqp\": \"/raid/can/nli_models/qqp_bias/baseline2e-5/qqp_bert_base_bias\"\n",
    "    \"qqp\": \"/raid/can/nli_models/qqp_bias/reweight2e-5/qqp_bert_base_reweight_bias\"    \n",
    "#     \"qqp\": \"/raid/can/nli_models/qqp_bias/poe2e-5/qqp_bert_base_poe_bias\"\n",
    "#     \"qqp\": \"/raid/can/nli_models/qqp_bias/self_distill2e-5/qqp_bert_base_self_distill_bias\"\n",
    "}\n",
    "\n",
    "# RESULT_PATH = \"../results/fever/baseline_lr2e5/\"\n",
    "# RESULT_PATH = \"../results/fever/reweight_lr2e5/\"\n",
    "# RESULT_PATH = \"../results/fever/poe_lr2e5/\"\n",
    "# RESULT_PATH = \"../results/fever/self_distill_lr2e5/\"\n",
    "\n",
    "\n",
    "# RESULT_PATH = \"/raid/can/nli_models/qqp_bias/baseline2e-5/\"\n",
    "RESULT_PATH = \"/raid/can/nli_models/qqp_bias/reweight2e-5/\"  \n",
    "# RESULT_PATH = \"/raid/can/nli_models/qqp_bias/poe2e-5/\" \n",
    "# RESULT_PATH = \"/raid/can/nli_models/qqp_bias/self_distill2e-5/\" "
   ]
  },
  {
   "cell_type": "code",
   "execution_count": 3,
   "metadata": {},
   "outputs": [],
   "source": [
    "_BIAS_CLASS = {\n",
    "    \"fever\": \"REFUTES\",\n",
    "    \"qqp\": \"1\"\n",
    "}\n",
    "_POSSIBLE_LABELS = {\n",
    "    \"fever\": (\"SUPPORTS\", \"NOT ENOUGH INFO\", \"REFUTES\"),\n",
    "    \"qqp\": (\"0\", \"1\")\n",
    "}\n",
    "\n",
    "\n",
    "_DATA_PATH = {\n",
    "    \"fever\": \"../data/fact_verification\", # \"../data/fact_verification\" \"/raid/can/debias_nlu/data/fact_verification\"\n",
    "    \"qqp\": \"/raid/can/debias_nlu/data/paraphrase_identification\" # \"../data/paraphrase_identification\"\n",
    "}\n",
    "\n",
    "\n",
    "_SENT1_KEYS = {\n",
    "    \"fever\": (\"claim\", \"claim\", \"claim\"),\n",
    "    \"qqp\": (\"sentence1\", \"sentence1\")\n",
    "}\n",
    "_SENT2_KEYS = {\n",
    "    \"fever\": (\"evidence\", \"evidence_sentence\", \"evidence\"),\n",
    "    \"qqp\": (\"sentence2\", \"sentence2\")\n",
    "}\n",
    "_LABEL_KEYS = {\n",
    "    \"fever\": (\"gold_label\", \"label\", \"label\"),\n",
    "    \"qqp\": (\"is_duplicate\", \"is_duplicate\")\n",
    "}\n",
    "_TEST_FILES = {\n",
    "    \"fever\": (\n",
    "        \"fever.dev.jsonl\",\n",
    "        \"fever_symmetric_v0.1.test.jsonl\",\n",
    "        \"fever_symmetric_v0.2.test.jsonl\",\n",
    "    ),\n",
    "    \"qqp\": (\n",
    "        \"qqp.dev.jsonl\",\n",
    "        \"paws.dev_and_test.jsonl\"\n",
    "    )\n",
    "}\n",
    "_TEST_SETS = {\n",
    "    \"fever\": (\n",
    "        \"fever_dev\",\n",
    "        \"fever_sym1\",\n",
    "        \"fever_sym2\",\n",
    "    ),\n",
    "    \"qqp\": (\n",
    "        \"qqp_dev\",\n",
    "        \"qqp_paws\"\n",
    "    )\n",
    "}\n",
    "\n",
    "_BIAS_MODEL_PATH = {\n",
    "    \"fever\": \"../results/fever/bias_model\",\n",
    "    \"qqp\": \"../results/qqp/bias_model\"\n",
    "}\n",
    "\n",
    "_BIAS_VAL_PRED_FILE = {\n",
    "    \"fever\": \"weighted_fever.val.jsonl\",\n",
    "    \"qqp\": \"qqp_val_overlap_only_bias_weighted.jsonl\" # \"weighted_qqp.val.jsonl\",\n",
    "}\n",
    "_MODEL_VAL_PRED_FILE = {\n",
    "    \"fever\": \"raw_fever.val.jsonl\",\n",
    "    \"qqp\": \"raw_qqp.val.jsonl\",\n",
    "}\n",
    "\n",
    "MODEL_PROB_KEY = \"probs\"\n",
    "BIAS_PROB_KEY = \"bias_prob\"\n",
    "\n",
    "# Fusion method\n",
    "FUSION = fuse.sum_fuse"
   ]
  },
  {
   "cell_type": "code",
   "execution_count": 4,
   "metadata": {},
   "outputs": [],
   "source": [
    "BIAS_CLASS = _BIAS_CLASS[DATASET]\n",
    "POSSIBLE_LABELS = _POSSIBLE_LABELS[DATASET]\n",
    "\n",
    "ESTIMATE_C_DEFAULT_CONFIG[\"N_LABELS\"] = len(POSSIBLE_LABELS)\n",
    "ESTIMATE_C_TE_CONFIG[\"N_LABELS\"] = len(POSSIBLE_LABELS)\n",
    "# ESTIMATE_C_DEFAULT_CONFIG[\"LEARNING_RATE\"] = 5e-4\n",
    "# ESTIMATE_C_TE_CONFIG[\"LEARNING_RATE\"] = 5e-4\n",
    "\n",
    "ROOT_DATA_PATH = \"../data\"\n",
    "DATA_PATH = _DATA_PATH[DATASET]\n",
    "TEST_FILES = _TEST_FILES[DATASET]\n",
    "TEST_SETS = _TEST_SETS[DATASET]\n",
    "SENT1_KEYS = _SENT1_KEYS[DATASET]\n",
    "SENT2_KEYS = _SENT2_KEYS[DATASET]\n",
    "LABEL_KEYS = _LABEL_KEYS[DATASET]\n",
    "WEIGHT_KEY = \"sample_weight\"\n",
    "\n",
    "BIAS_MODEL_PATH = _BIAS_MODEL_PATH[DATASET] \n",
    "MODEL_PATH = _MODEL_PATH[DATASET]\n",
    "\n",
    "\n",
    "BIAS_VAL_PRED_FILE = _BIAS_VAL_PRED_FILE[DATASET]\n",
    "MODEL_VAL_PRED_FILE = _MODEL_VAL_PRED_FILE[DATASET]"
   ]
  },
  {
   "cell_type": "markdown",
   "metadata": {},
   "source": [
    "## Compute average input for bias model"
   ]
  },
  {
   "cell_type": "code",
   "execution_count": 7,
   "metadata": {},
   "outputs": [],
   "source": [
    "def _read_jsonl(file_path: str) -> List[Dict[str, Union[str, int]]]:\n",
    "    output = []\n",
    "    f = open(file_path, 'r')\n",
    "    line = f.readline()\n",
    "    while line:\n",
    "        doc = json.loads(line)\n",
    "        output.append(doc)\n",
    "        line = f.readline()\n",
    "    f.close()\n",
    "    return output"
   ]
  },
  {
   "cell_type": "code",
   "execution_count": 8,
   "metadata": {},
   "outputs": [
    {
     "name": "stdout",
     "output_type": "stream",
     "text": [
      "5000\n"
     ]
    },
    {
     "data": {
      "text/plain": [
       "[('How can I be a political leader?', 'How do I become a leader?'),\n",
       " ('How do I check if I have knock knees or not?',\n",
       "  'How can I check knock knees?')]"
      ]
     },
     "execution_count": 8,
     "metadata": {},
     "output_type": "execute_result"
    }
   ],
   "source": [
    "val_data = _read_jsonl(os.path.join(DATA_PATH, \"%s.val.jsonl\"%DATASET))\n",
    "val_data = [\n",
    "    (x[SENT1_KEYS[0]], x[SENT2_KEYS[0]])\n",
    "    for x in val_data\n",
    "]\n",
    "print(len(val_data))\n",
    "val_data[:2]"
   ]
  },
  {
   "cell_type": "markdown",
   "metadata": {},
   "source": [
    "## Causal Mediation Analysis"
   ]
  },
  {
   "cell_type": "code",
   "execution_count": 15,
   "metadata": {},
   "outputs": [
    {
     "name": "stdout",
     "output_type": "stream",
     "text": [
      "['/raid/can/nli_models/qqp_bias/self_distill/qqp_bert_base_self_distill_bias_seed43370', '/raid/can/nli_models/qqp_bias/self_distill/qqp_bert_base_self_distill_bias_seed23370', '/raid/can/nli_models/qqp_bias/self_distill/qqp_bert_base_self_distill_bias_seed53370', '/raid/can/nli_models/qqp_bias/self_distill/qqp_bert_base_self_distill_bias_seed13370', '/raid/can/nli_models/qqp_bias/self_distill/qqp_bert_base_self_distill_bias_seed33370']\n"
     ]
    }
   ],
   "source": [
    "seed_paths = os.listdir(RESULT_PATH)\n",
    "seed_paths = list(map(lambda x: os.path.join(RESULT_PATH, x), seed_paths))\n",
    "\n",
    "print(seed_paths)"
   ]
  },
  {
   "cell_type": "code",
   "execution_count": 16,
   "metadata": {
    "scrolled": true
   },
   "outputs": [
    {
     "name": "stdout",
     "output_type": "stream",
     "text": [
      "========= TEST_SET: qqp_dev =========\n",
      "/raid/can/debias_nlu/data/paraphrase_identification/qqp_dev_overlap_only_bias_weighted.jsonl\n",
      "/raid/can/nli_models/qqp_bias/self_distill/qqp_bert_base_self_distill_bias_seed43370/raw_qqp.val.jsonl\n",
      "/raid/can/debias_nlu/data/paraphrase_identification/qqp/qqp_val_overlap_only_bias_weighted.jsonl\n"
     ]
    },
    {
     "name": "stderr",
     "output_type": "stream",
     "text": [
      "/ist/users/canu/debias_nlu/notebooks/kl_general.py:55: UserWarning: Creating a tensor from a list of numpy.ndarrays is extremely slow. Please consider converting the list to a single numpy.ndarray with numpy.array() before converting to a tensor. (Triggered internally at  ../torch/csrc/utils/tensor_new.cpp:201.)\n",
      "  self.target_probs = torch.tensor(target_probs)\n"
     ]
    },
    {
     "name": "stdout",
     "output_type": "stream",
     "text": [
      "c:  [0.40776461 0.40776461]\n",
      "softmax(c):  [0.5 0.5]\n",
      "/raid/can/debias_nlu/data/paraphrase_identification/qqp/qqp_val_overlap_only_bias_weighted.jsonl\n",
      "c:  [0.49881184 0.49881184]\n",
      "softmax(c):  [0.5 0.5]\n",
      "unique_labels:  [1, 0]\n",
      "/raid/can/nli_models/qqp_bias/self_distill/qqp_bert_base_self_distill_bias_seed23370/raw_qqp.val.jsonl\n",
      "/raid/can/debias_nlu/data/paraphrase_identification/qqp/qqp_val_overlap_only_bias_weighted.jsonl\n",
      "c:  [0.40762413 0.40762413]\n",
      "softmax(c):  [0.5 0.5]\n",
      "/raid/can/debias_nlu/data/paraphrase_identification/qqp/qqp_val_overlap_only_bias_weighted.jsonl\n",
      "c:  [0.49767417 0.49767417]\n",
      "softmax(c):  [0.5 0.5]\n",
      "unique_labels:  [1, 0]\n",
      "/raid/can/nli_models/qqp_bias/self_distill/qqp_bert_base_self_distill_bias_seed53370/raw_qqp.val.jsonl\n",
      "/raid/can/debias_nlu/data/paraphrase_identification/qqp/qqp_val_overlap_only_bias_weighted.jsonl\n",
      "c:  [0.40762514 0.40762514]\n",
      "softmax(c):  [0.5 0.5]\n",
      "/raid/can/debias_nlu/data/paraphrase_identification/qqp/qqp_val_overlap_only_bias_weighted.jsonl\n",
      "c:  [0.50114924 0.50114924]\n",
      "softmax(c):  [0.5 0.5]\n",
      "unique_labels:  [1, 0]\n",
      "/raid/can/nli_models/qqp_bias/self_distill/qqp_bert_base_self_distill_bias_seed13370/raw_qqp.val.jsonl\n",
      "/raid/can/debias_nlu/data/paraphrase_identification/qqp/qqp_val_overlap_only_bias_weighted.jsonl\n",
      "c:  [0.407727 0.407727]\n",
      "softmax(c):  [0.5 0.5]\n",
      "/raid/can/debias_nlu/data/paraphrase_identification/qqp/qqp_val_overlap_only_bias_weighted.jsonl\n",
      "c:  [0.50253892 0.50253892]\n",
      "softmax(c):  [0.5 0.5]\n",
      "unique_labels:  [1, 0]\n",
      "/raid/can/nli_models/qqp_bias/self_distill/qqp_bert_base_self_distill_bias_seed33370/raw_qqp.val.jsonl\n",
      "/raid/can/debias_nlu/data/paraphrase_identification/qqp/qqp_val_overlap_only_bias_weighted.jsonl\n",
      "c:  [0.4079529 0.4079529]\n",
      "softmax(c):  [0.5 0.5]\n",
      "/raid/can/debias_nlu/data/paraphrase_identification/qqp/qqp_val_overlap_only_bias_weighted.jsonl\n",
      "c:  [0.50097758 0.50097758]\n",
      "softmax(c):  [0.5 0.5]\n",
      "unique_labels:  [1, 0]\n",
      "factual score:\n",
      "[0.9404, 0.9392, 0.9404, 0.939, 0.941]\n",
      "0.9400000000000001 0.0007694153624668499\n",
      "TE:\n",
      "-0.048407539612696046 0.001089094286374759\n",
      "TIE:\n",
      "-0.037887363991393676 0.0010889411515991462\n",
      "TIE acc:\n",
      "[0.9396, 0.939, 0.939, 0.9378, 0.9404]\n",
      "0.93916 0.0008522910301065182\n",
      "The minimal epsilon for which Algorithm A is almost stochastically greater than algorithm B is  1.0\n",
      "since epsilon > 0.5 we will claim that A is not better than B with significance level alpha= 0.05\n",
      "None\n",
      "TIE F1: {1: [0.916204217536071, 0.9146375594738315, 0.9149232914923292, 0.9126649817467004, 0.9168526785714286], 0: [0.952782989368355, 0.9525439551890462, 0.9524551831644582, 0.9517005746233889, 0.9535536159600996], 'MAF1': array([0.9344936 , 0.93359076, 0.93368924, 0.93218278, 0.93520315])} {'1_mean_sd': [0.9150565457640722, 0.001446107065153867], '0_mean_sd': [0.9526072636610696, 0.0005959334944790761], 'MAF1_mean_sd': [0.9338319047125708, 0.0010115607453294183]}\n",
      "The minimal epsilon for which Algorithm A is almost stochastically greater than algorithm B is  1.0\n",
      "since epsilon > 0.5 we will claim that A is not better than B with significance level alpha= 0.05\n",
      "None\n",
      "NIE:\n",
      "-0.03355183330233717 0.0010613174176981423\n",
      "NIE acc:\n",
      "[0.9404, 0.9392, 0.9404, 0.939, 0.941]\n",
      "0.9400000000000001 0.0007694153624668499\n",
      "my query:\n",
      "[0.9276, 0.9264, 0.9278, 0.9252, 0.929]\n",
      "0.9272 0.0012961481396815732\n",
      "The minimal epsilon for which Algorithm A is almost stochastically greater than algorithm B is  1.0\n",
      "since epsilon > 0.5 we will claim that A is not better than B with significance level alpha= 0.05\n",
      "None\n",
      "my query F1: {1: [0.8973922902494331, 0.8949771689497716, 0.8971216870903391, 0.8923431203223949, 0.8988892053545999], 0: [0.9440667490729295, 0.9433497536945814, 0.9443845324295178, 0.942690775360098, 0.9452920326706734], 'MAF1': array([0.92072952, 0.91916346, 0.92075311, 0.91751695, 0.92209062])} {'1_mean_sd': [0.8961446943933078, 0.0022741341932642233], '0_mean_sd': [0.94395676864556, 0.0008887309734198148], 'MAF1_mean_sd': [0.9200507315194338, 0.0015698750045664302]}\n",
      "The minimal epsilon for which Algorithm A is almost stochastically greater than algorithm B is  1.0\n",
      "since epsilon > 0.5 we will claim that A is not better than B with significance level alpha= 0.05\n",
      "None\n",
      "========= END ======== \n",
      "\n",
      "\n",
      "\n",
      "========= TEST_SET: qqp_paws =========\n",
      "/raid/can/debias_nlu/data/paraphrase_identification/paws_dev_and_test_overlap_only_bias_weighted.jsonl\n",
      "/raid/can/nli_models/qqp_bias/self_distill/qqp_bert_base_self_distill_bias_seed43370/raw_qqp.val.jsonl\n",
      "/raid/can/debias_nlu/data/paraphrase_identification/qqp/qqp_val_overlap_only_bias_weighted.jsonl\n",
      "c:  [0.40801382 0.40801382]\n",
      "softmax(c):  [0.5 0.5]\n",
      "/raid/can/debias_nlu/data/paraphrase_identification/qqp/qqp_val_overlap_only_bias_weighted.jsonl\n",
      "c:  [0.49843282 0.49843282]\n",
      "softmax(c):  [0.5 0.5]\n",
      "unique_labels:  [0, 1]\n",
      "/raid/can/nli_models/qqp_bias/self_distill/qqp_bert_base_self_distill_bias_seed23370/raw_qqp.val.jsonl\n",
      "/raid/can/debias_nlu/data/paraphrase_identification/qqp/qqp_val_overlap_only_bias_weighted.jsonl\n",
      "c:  [0.40779257 0.40779257]\n",
      "softmax(c):  [0.5 0.5]\n",
      "/raid/can/debias_nlu/data/paraphrase_identification/qqp/qqp_val_overlap_only_bias_weighted.jsonl\n",
      "c:  [0.49709657 0.49709657]\n",
      "softmax(c):  [0.5 0.5]\n",
      "unique_labels:  [0, 1]\n",
      "/raid/can/nli_models/qqp_bias/self_distill/qqp_bert_base_self_distill_bias_seed53370/raw_qqp.val.jsonl\n",
      "/raid/can/debias_nlu/data/paraphrase_identification/qqp/qqp_val_overlap_only_bias_weighted.jsonl\n",
      "c:  [0.40783069 0.40783069]\n",
      "softmax(c):  [0.5 0.5]\n",
      "/raid/can/debias_nlu/data/paraphrase_identification/qqp/qqp_val_overlap_only_bias_weighted.jsonl\n",
      "c:  [0.50048357 0.50048357]\n",
      "softmax(c):  [0.5 0.5]\n",
      "unique_labels:  [0, 1]\n",
      "/raid/can/nli_models/qqp_bias/self_distill/qqp_bert_base_self_distill_bias_seed13370/raw_qqp.val.jsonl\n",
      "/raid/can/debias_nlu/data/paraphrase_identification/qqp/qqp_val_overlap_only_bias_weighted.jsonl\n",
      "c:  [0.4076896 0.4076896]\n",
      "softmax(c):  [0.5 0.5]\n",
      "/raid/can/debias_nlu/data/paraphrase_identification/qqp/qqp_val_overlap_only_bias_weighted.jsonl\n",
      "c:  [0.50341415 0.50341415]\n",
      "softmax(c):  [0.5 0.5]\n",
      "unique_labels:  [0, 1]\n",
      "/raid/can/nli_models/qqp_bias/self_distill/qqp_bert_base_self_distill_bias_seed33370/raw_qqp.val.jsonl\n",
      "/raid/can/debias_nlu/data/paraphrase_identification/qqp/qqp_val_overlap_only_bias_weighted.jsonl\n",
      "c:  [0.40780899 0.40780899]\n",
      "softmax(c):  [0.5 0.5]\n",
      "/raid/can/debias_nlu/data/paraphrase_identification/qqp/qqp_val_overlap_only_bias_weighted.jsonl\n",
      "c:  [0.50149918 0.50149918]\n",
      "softmax(c):  [0.5 0.5]\n",
      "unique_labels:  [0, 1]\n",
      "factual score:\n",
      "[0.3825701624815362, 0.3914327917282127, 0.36927621861152143, 0.397341211225997, 0.37813884785819796]\n",
      "0.38375184638109305 0.009860159094994754\n",
      "TE:\n",
      "0.12090264907551562 0.0018049311101091478\n",
      "TIE:\n",
      "0.03488964840487245 0.0018099868813190839\n",
      "TIE acc:\n",
      "[0.4032496307237814, 0.4076809453471196, 0.39438700147710487, 0.4224519940915805, 0.41654357459379615]\n",
      "0.4088626292466765 0.009860159094994766\n",
      "The minimal epsilon for which Algorithm A is almost stochastically greater than algorithm B is  0.0\n",
      "since epsilon = 0, algorithm A is stochatically dominant over B\n",
      "None\n",
      "TIE F1: {0: [0.3462783171521036, 0.37829457364341085, 0.3234323432343234, 0.4066767830045524, 0.3779527559055118], 1: [0.4510869565217392, 0.4344146685472497, 0.45187165775401067, 0.437410071942446, 0.45062586926286513], 'MAF1': array([0.39868264, 0.40635462, 0.387652  , 0.42204343, 0.41428931])} {'0_mean_sd': [0.3665269545879804, 0.02880342813483818], '1_mean_sd': [0.4450818448056622, 0.007557034894335337], 'MAF1_mean_sd': [0.40580439969682125, 0.011968555606007566]}\n",
      "The minimal epsilon for which Algorithm A is almost stochastically greater than algorithm B is  0.0\n",
      "since epsilon = 0, algorithm A is stochatically dominant over B\n",
      "None\n",
      "NIE:\n",
      "0.04535084601658616 0.0023650434272349625\n",
      "NIE acc:\n",
      "[0.3825701624815362, 0.3914327917282127, 0.36927621861152143, 0.397341211225997, 0.37813884785819796]\n",
      "0.38375184638109305 0.009860159094994754\n",
      "my query:\n",
      "[0.654357459379616, 0.6824224519940916, 0.6351550960118169, 0.6794682422451994, 0.6676514032496307]\n",
      "0.6638109305760709 0.01741731518225544\n",
      "The minimal epsilon for which Algorithm A is almost stochastically greater than algorithm B is  0.0\n",
      "since epsilon = 0, algorithm A is stochatically dominant over B\n",
      "None\n",
      "my query F1: {0: [0.7617107942973523, 0.7860696517412936, 0.7419017763845351, 0.7874632713026445, 0.7697031729785055], 1: [0.3709677419354839, 0.3839541547277937, 0.3778337531486146, 0.3483483483483483, 0.40318302387267907], 'MAF1': array([0.56633927, 0.5850119 , 0.55986776, 0.56790581, 0.5864431 ])} {'0_mean_sd': [0.7693697333408662, 0.016849466336797212], '1_mean_sd': [0.3768574044065839, 0.017842700264345684], 'MAF1_mean_sd': [0.573113568873725, 0.010655608383717865]}\n"
     ]
    },
    {
     "name": "stdout",
     "output_type": "stream",
     "text": [
      "The minimal epsilon for which Algorithm A is almost stochastically greater than algorithm B is  0.0\n",
      "since epsilon = 0, algorithm A is stochatically dominant over B\n",
      "None\n",
      "========= END ======== \n",
      "\n",
      "\n",
      "\n"
     ]
    }
   ],
   "source": [
    "for test_set, label_key in zip(TEST_SETS, LABEL_KEYS):\n",
    "    print(\"========= TEST_SET: %s =========\"%test_set)\n",
    "    report_CMA(\n",
    "        model_path = \"\",\n",
    "        task = DATASET,\n",
    "        seed_path = seed_paths,\n",
    "\n",
    "        data_path = DATA_PATH,\n",
    "        test_set = test_set, ################\n",
    "        fusion = fuse.sum_fuse,\n",
    "#         input_a0 = input_a0,\n",
    "        estimate_c_config = ESTIMATE_C_DEFAULT_CONFIG,\n",
    "        estimate_c_te_config = ESTIMATE_C_TE_CONFIG,\n",
    "        correction = IS_CORRECTION,\n",
    "        ground_truth_key = label_key,\n",
    "#         model_pred_method = model_pred,\n",
    "\n",
    "        bias_val_pred_file = BIAS_VAL_PRED_FILE,\n",
    "        model_val_pred_file = MODEL_VAL_PRED_FILE,\n",
    "\n",
    "        entropy_threshold = -9999,\n",
    "    )\n",
    "    print(\"========= END ======== \\n\\n\\n\")"
   ]
  },
  {
   "cell_type": "code",
   "execution_count": null,
   "metadata": {},
   "outputs": [],
   "source": []
  },
  {
   "cell_type": "code",
   "execution_count": null,
   "metadata": {},
   "outputs": [],
   "source": []
  },
  {
   "cell_type": "code",
   "execution_count": null,
   "metadata": {},
   "outputs": [],
   "source": []
  }
 ],
 "metadata": {
  "kernelspec": {
   "display_name": "Python 3",
   "language": "python",
   "name": "python3"
  },
  "language_info": {
   "codemirror_mode": {
    "name": "ipython",
    "version": 3
   },
   "file_extension": ".py",
   "mimetype": "text/x-python",
   "name": "python",
   "nbconvert_exporter": "python",
   "pygments_lexer": "ipython3",
   "version": "3.7.9"
  }
 },
 "nbformat": 4,
 "nbformat_minor": 5
}
